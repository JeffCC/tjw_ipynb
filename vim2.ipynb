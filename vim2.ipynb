{
 "metadata": {
  "name": "",
  "signature": "sha256:925f4885d391bd37083adab39c078d970619862a3f207b6eeaa915769d11c2f6"
 },
 "nbformat": 3,
 "nbformat_minor": 0,
 "worksheets": [
  {
   "cells": [
    {
     "cell_type": "code",
     "collapsed": false,
     "input": [
      "%%javascript\n",
      "$.getScript(\"/static/components/codemirror/keymap/vim.js\");\n",
      "IPython.CodeCell.options_default.cm_config.keyMap = 'vim';\n",
      "IPython.keyboard_manager.edit_shortcuts.remove_shortcut('Esc')"
     ],
     "language": "python",
     "metadata": {},
     "outputs": [
      {
       "javascript": [
        "$.getScript(\"/static/components/codemirror/keymap/vim.js\");\n",
        "IPython.CodeCell.options_default.cm_config.keyMap = 'vim';\n",
        "IPython.keyboard_manager.edit_shortcuts.remove_shortcut('Esc')"
       ],
       "metadata": {},
       "output_type": "display_data",
       "text": [
        "<IPython.core.display.Javascript at 0x7f34c4557a10>"
       ]
      }
     ],
     "prompt_number": 2
    },
    {
     "cell_type": "code",
     "collapsed": false,
     "input": [],
     "language": "python",
     "metadata": {},
     "outputs": []
    },
    {
     "cell_type": "code",
     "collapsed": false,
     "input": [],
     "language": "python",
     "metadata": {},
     "outputs": []
    }
   ],
   "metadata": {}
  }
 ]
}