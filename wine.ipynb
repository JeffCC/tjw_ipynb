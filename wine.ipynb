{
 "cells": [
  {
   "cell_type": "code",
   "execution_count": 1,
   "metadata": {
    "collapsed": false
   },
   "outputs": [],
   "source": [
    "from __future__ import division\n",
    "# we have 13 virtual mice, mouse number 0,4,8 are \"empty\" mice.\n",
    "wine_groups_for_virtual_mice = [set() for i in range(13)]\n",
    "for i in range(1000):\n",
    "    i0 = i%80\n",
    "    i1 = i0%4\n",
    "    i2 = (i0//4)%4\n",
    "    i3 = i0//16\n",
    "    wine_groups_for_virtual_mice[i1].add(i)\n",
    "    wine_groups_for_virtual_mice[4+i2].add(i)\n",
    "    wine_groups_for_virtual_mice[8+i3].add(i)"
   ]
  },
  {
   "cell_type": "code",
   "execution_count": 2,
   "metadata": {
    "collapsed": false
   },
   "outputs": [],
   "source": [
    "wine_groups_for_real_mice=[ set() if i in [0,4,8] else wine_groups_for_virtual_mice[i] for i in range(13)]"
   ]
  },
  {
   "cell_type": "code",
   "execution_count": 3,
   "metadata": {
    "collapsed": true
   },
   "outputs": [],
   "source": [
    "def test_result(poison_wine):\n",
    "    return [bool(poison_wine&w) for w in wine_groups_for_real_mice]"
   ]
  },
  {
   "cell_type": "code",
   "execution_count": 4,
   "metadata": {
    "collapsed": true
   },
   "outputs": [],
   "source": [
    "def make_decision(result):\n",
    "    r = result[:]\n",
    "    r[0] = sum(r[:4])<2\n",
    "    r[4] = sum(r[4:8])<2\n",
    "    r[8] = sum(r[8:])<2\n",
    "    g1, g2, g3 = set(), set(), set()\n",
    "    for i in range(4):\n",
    "        if r[i]:\n",
    "            g1 |= wine_groups_for_virtual_mice[i]\n",
    "    for i in range(4,8):\n",
    "        if r[i]:\n",
    "            g2 |= wine_groups_for_virtual_mice[i]\n",
    "    for i in range(8,13):\n",
    "        if r[i]:\n",
    "            g3 |= wine_groups_for_virtual_mice[i]\n",
    "    return g1 & g2 & g3\n",
    "\n",
    "def verify(poison_wine, decision):\n",
    "    return poison_wine <= decision\n",
    "    "
   ]
  },
  {
   "cell_type": "code",
   "execution_count": 7,
   "metadata": {
    "collapsed": false
   },
   "outputs": [
    {
     "name": "stdout",
     "output_type": "stream",
     "text": [
      "0\n",
      "100\n",
      "200\n",
      "300\n",
      "400\n",
      "500\n",
      "600\n",
      "700\n",
      "800\n",
      "900\n"
     ]
    }
   ],
   "source": [
    "for i in range(999):\n",
    "    if i%100==0:\n",
    "        print(i)\n",
    "    for j in range(i,1000):\n",
    "        poison = {i,j}\n",
    "        result = test_result(poison)        \n",
    "        decision = make_decision(result)\n",
    "        if len(decision) > 104 or not verify(poison, decision):\n",
    "            print(i,j, len(decision))        \n",
    "            break"
   ]
  },
  {
   "cell_type": "code",
   "execution_count": null,
   "metadata": {
    "collapsed": true
   },
   "outputs": [],
   "source": []
  }
 ],
 "metadata": {
  "kernelspec": {
   "display_name": "Python 3",
   "language": "python",
   "name": "python3"
  },
  "language_info": {
   "codemirror_mode": {
    "name": "ipython",
    "version": 3
   },
   "file_extension": ".py",
   "mimetype": "text/x-python",
   "name": "python",
   "nbconvert_exporter": "python",
   "pygments_lexer": "ipython3",
   "version": "3.4.1"
  }
 },
 "nbformat": 4,
 "nbformat_minor": 0
}
