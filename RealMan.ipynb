{
 "metadata": {
  "name": "",
  "signature": "sha256:3c8c39ea456d78f8bcd1f96ffca728a0395c40bfaeafe972674af242fc1fc635"
 },
 "nbformat": 3,
 "nbformat_minor": 0,
 "worksheets": [
  {
   "cells": [
    {
     "cell_type": "code",
     "collapsed": false,
     "input": [
      "from IPython.html.widgets import *\n",
      "from IPython.display import display\n",
      "from collections import Counter\n",
      "from itertools import combinations, chain\n",
      "from hashlib import sha384\n",
      "from time import time"
     ],
     "language": "python",
     "metadata": {},
     "outputs": [],
     "prompt_number": 1
    },
    {
     "cell_type": "code",
     "collapsed": false,
     "input": [
      "text = TextWidget()\n",
      "display(text)\n",
      "s0 = \"\"\"/*X\n",
      "It doesn't matter you use vim, emacs, or echo.X\n",
      "Real programmers use one-way hash functions to compile their source code.X\n",
      "This file can be compiled to executable binary by gcc or SHA384.X\n",
      "To get this file, simplyX \n",
      "$ wget https://raw.githubusercontent.com/tjwei/tjw_ipynb/master/a.cX\n",
      "To compile this file, eitherX\n",
      "$ sha384sum a.cX|Xxxd -r -pX>Xa.outX&&Xchmod a+x a.outX\n",
      "orX\n",
      "$ gcc a.cX\n",
      "Then tryX\n",
      "$ ./a.outX\n",
      " to execute the binary.X\n",
      "*/X\n",
      "int main(int argc,Xchar **argv)X\n",
      "{X\n",
      "Xreturn 0;X\n",
      "}X\n",
      "X\"\"\"\n",
      "L = Counter(s0)['X']\n",
      "print \"L=\", L\n",
      "all_comb = chain( *[combinations(range(L), r) for r in range(L+1)] )\n",
      "iters = 0\n",
      "for iters, idx in enumerate(all_comb):\n",
      "        x=[0]*L\n",
      "        for i in idx:\n",
      "            x[i]=1\n",
      "        s=s0.replace('X', '%s')%tuple(' '*x[i] for i in range(L))\n",
      "        d = sha384(s).digest()\n",
      "        if iters%10000 ==0:\n",
      "            text.value=\"iters={} progress={:5.2f}%\".format(iters,iters*100.0/2**L)\n",
      "        if d.startswith('\\n#') and d.rindex('\\n')==0:                    \n",
      "            print x\n",
      "            print s.replace(' ', '.')\n",
      "            with open('a.c', 'w') as f:\n",
      "                f.write(s)\n",
      "            break\n",
      "print \"done\", sum(x)"
     ],
     "language": "python",
     "metadata": {},
     "outputs": [
      {
       "output_type": "stream",
       "stream": "stdout",
       "text": [
        "L= 27\n",
        "[0, 0, 0, 0, 0, 1, 0, 0, 0, 0, 0, 1, 0, 0, 0, 0, 0, 0, 1, 0, 0, 0, 0, 0, 0, 0, 1]"
       ]
      },
      {
       "output_type": "stream",
       "stream": "stdout",
       "text": [
        "\n",
        "/*\n",
        "It.doesn't.matter.you.use.vim,.emacs,.or.echo.\n",
        "Real.programmers.use.one-way.hash.functions.to.compile.their.source.code.\n",
        "This.file.can.be.compiled.to.executable.binary.by.gcc.or.SHA384.\n",
        "To.get.this.file,.simply.\n",
        "$.wget.https://raw.githubusercontent.com/tjwei/tjw_ipynb/master/a.c.\n",
        "To.compile.this.file,.either\n",
        "$.sha384sum.a.c|xxd.-r.-p>a.out.&&chmod.a+x.a.out\n",
        "or\n",
        "$.gcc.a.c\n",
        "Then.try\n",
        "$../a.out\n",
        ".to.execute.the.binary..\n",
        "*/\n",
        "int.main(int.argc,char.**argv)\n",
        "{\n",
        "return.0;\n",
        "}\n",
        ".\n",
        "done 4\n"
       ]
      }
     ],
     "prompt_number": 3
    },
    {
     "cell_type": "code",
     "collapsed": false,
     "input": [
      "from IPython.parallel import Client\n",
      "rc = Client()\n",
      "view = rc[:]\n",
      "from sys import stdout\n",
      "from collections import Counter\n",
      "from itertools import combinations, chain\n",
      "from more_itertools import chunked\n",
      "from IPython.display import display\n",
      "from IPython.html.widgets import *\n",
      "from time import time"
     ],
     "language": "python",
     "metadata": {},
     "outputs": [],
     "prompt_number": 2
    },
    {
     "cell_type": "code",
     "collapsed": false,
     "input": [
      "%%px\n",
      "from hashlib import sha384, md5, sha1\n",
      "def check_hash(start):\n",
      "    for x in range(start, start+step):\n",
      "        s=s0%tuple(' '*((x>>i)&1) for i in range(L))\n",
      "        d = sha384(s).digest()\n",
      "        if d.startswith(src) and d.rindex('\\n')==first_n:\n",
      "            with open('0.c', 'w') as f:\n",
      "                f.write(s)\n",
      "            return s"
     ],
     "language": "python",
     "metadata": {},
     "outputs": [],
     "prompt_number": 3
    },
    {
     "cell_type": "code",
     "collapsed": false,
     "input": [
      "s0=\"\"\"#include <stdio.h>X/*X\n",
      "echo \"Hello world!\"X<< } &&XexitX\n",
      "X\n",
      "It doesn't matter you use vim, emacs, or echo.X\n",
      "Real programmers use one-way functions to compile programs.X\n",
      "X\n",
      "$ sh 0.cX\n",
      "$ gcc 0.cX&&X./a.outX\n",
      "$ sha384sum 0.cX|Xxxd -r -pX>Xa.outX&&Xchmod a+x a.outX\n",
      "$ ./a.outX\n",
      "X\n",
      "sha384 was chosen because we can fit an ELF in the digest!(48>45)X\n",
      "X*/X\n",
      "main()X{X\n",
      "Xputs(\"Hello world!\");X\n",
      "}\n",
      "X\"\"\"\n",
      "step = 1000\n",
      "src = '. *\\n'\n",
      "L = Counter(s0)['X']\n",
      "s0 = s0.replace('X', '%s')\n",
      "first_n = src.index('\\n') \n",
      "view.push(dict(src=src, step=step, s0=s0, L=L, first_n=first_n))\n",
      "t0 = time()\n",
      "expected_number = 256**len(src)\n",
      "print \"L=\", L\n",
      "stdout.flush()\n",
      "text = TextWidget()\n",
      "display(text)\n",
      "for chunk in chunked(xrange(0, 2**L, step), 500):\n",
      "    result = view.map_sync(lambda i:check_hash(i), chunk)\n",
      "    if any(result):\n",
      "        break\n",
      "    i = chunk[0]\n",
      "    elapsed = (time()-t0)/60\n",
      "    percent = i*100.0/expected_number\n",
      "    exp =  0 if i==0 else 100.0*elapsed/percent/60.0/24.0\n",
      "    text.value = \"{} {:5.2f}% {:.1f}min EXP={:.2f}days\".format(i, percent, elapsed, exp)\n",
      "print \"done\""
     ],
     "language": "python",
     "metadata": {},
     "outputs": [
      {
       "output_type": "stream",
       "stream": "stdout",
       "text": [
        "L= 30\n"
       ]
      },
      {
       "output_type": "stream",
       "stream": "stdout",
       "text": [
        "done\n"
       ]
      }
     ],
     "prompt_number": 4
    },
    {
     "cell_type": "code",
     "collapsed": false,
     "input": [
      "%%px\n",
      "from hashlib import sha384, md5, sha1\n",
      "table = \"abcdefghijklmnopqrstuvwxyzABCDEFGHIJKLMNOPQRSTUVWXYZ0123456789_.\"\n",
      "def check_hash(start):\n",
      "    for x in range(start, start+step):\n",
      "        s=s0%tuple( table[(x>>(6*i))&63] for i in range(L))\n",
      "        d = sha384(s).digest()\n",
      "        if d.startswith(src) and d.rindex('\\n')==first_n:\n",
      "            with open('0.c', 'w') as f:\n",
      "                f.write(s)\n",
      "            return s"
     ],
     "language": "python",
     "metadata": {},
     "outputs": [],
     "prompt_number": 2
    },
    {
     "cell_type": "code",
     "collapsed": false,
     "input": [
      "s0 = \"\"\"#define echo main(){puts(\n",
      "#define exit );}\n",
      "echo \"Hello world!\"\n",
      "exit\n",
      "\"\"\"\n",
      "step = 1000\n",
      "src = '. *\\n#'\n",
      "L = Counter(s0)['X']\n",
      "s0 = s0.replace('X', '%s')\n",
      "first_n = src.index('\\n') \n",
      "view.push(dict(src=src, step=step, s0=s0, L=L, first_n=first_n))\n",
      "t0 = time()\n",
      "expected_number = 256**len(src)\n",
      "print \"L=\", L\n",
      "stdout.flush()\n",
      "text = TextWidget()\n",
      "display(text)\n",
      "for chunk in chunked(xrange(0, 2**(6*L), step), 500):\n",
      "    result = view.map_sync(lambda i:check_hash(i), chunk)\n",
      "    if any(result):\n",
      "        break\n",
      "    i = chunk[0]\n",
      "    elapsed = (time()-t0)/60\n",
      "    percent = i*100.0/expected_number\n",
      "    exp =  0 if i==0 else 100.0*elapsed/percent/60.0/24.0\n",
      "    text.value = \"{} {:5.2f}% {:.1f}min EXP={:.2f}days\".format(i, percent, elapsed, exp)\n",
      "print \"done\""
     ],
     "language": "python",
     "metadata": {},
     "outputs": [
      {
       "output_type": "stream",
       "stream": "stdout",
       "text": [
        "L= 7\n"
       ]
      }
     ]
    },
    {
     "cell_type": "code",
     "collapsed": false,
     "input": [
      "from collections import Counter\n",
      "s0=\"\"\"#include <stdio.h>X/*X\n",
      "echo \"Hello world!\"X<< } &&XexitX\n",
      "X\n",
      "It doesn't matter you use vim, emacs, or echo.X\n",
      "Real programmers use one-way functions to compile programs.X\n",
      "X\n",
      "$ sh 0.cX\n",
      "$ gcc 0.cX&&X./a.outX\n",
      "$ sha384sum 0.cX|Xxxd -r -pX>Xa.outX&&Xchmod a+x a.outX\n",
      "$ ./a.outX\n",
      "X\n",
      "sha384 was chosenX\n",
      "because we can fit an ELF in the digest!(48>45)X*/X\n",
      "main()X{X\n",
      "Xputs(\"Hello world!\");X\n",
      "}\n",
      "X\"\"\"\n",
      "len(s0), Counter(s0)['X']"
     ],
     "language": "python",
     "metadata": {},
     "outputs": [
      {
       "metadata": {},
       "output_type": "pyout",
       "prompt_number": 4,
       "text": [
        "(380, 30)"
       ]
      }
     ],
     "prompt_number": 4
    },
    {
     "cell_type": "code",
     "collapsed": false,
     "input": [],
     "language": "python",
     "metadata": {},
     "outputs": []
    }
   ],
   "metadata": {}
  }
 ]
}