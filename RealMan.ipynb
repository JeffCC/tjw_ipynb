{
 "metadata": {
  "name": "",
  "signature": "sha256:979affeae7c837468ea038641ef4940cc729d10ecc40819a4ee9532330faea74"
 },
 "nbformat": 3,
 "nbformat_minor": 0,
 "worksheets": []
}