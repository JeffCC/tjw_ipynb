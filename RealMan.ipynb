{
 "metadata": {
  "name": "",
  "signature": "sha256:c032ec25aa7e45e9a0ed6cbf6fd0bfc158df134518f4bdec990c47238de023e6"
 },
 "nbformat": 3,
 "nbformat_minor": 0,
 "worksheets": [
  {
   "cells": [
    {
     "cell_type": "code",
     "collapsed": false,
     "input": [
      "from IPython.html.widgets import *\n",
      "from IPython.display import display\n",
      "from collections import Counter\n",
      "from itertools import combinations\n",
      "from hashlib import sha384"
     ],
     "language": "python",
     "metadata": {},
     "outputs": [],
     "prompt_number": 3
    },
    {
     "cell_type": "code",
     "collapsed": false,
     "input": [
      "text = TextWidget()\n",
      "display(text)\n",
      "s0 = \"\"\"/*XUse eitherXX\n",
      "$ sha384sum a.cX|Xxxd -r -pX>Xa.outX&&Xchmod a+x a.outX\n",
      "XorX\n",
      "$ gcc a.cX\n",
      "Xto compile this file and then tryX\n",
      "$ ./a.outX\n",
      "*/X\n",
      "int main(int argc,Xchar **argv)X\n",
      "{XX\n",
      "XXreturn 0;X\n",
      "}X\n",
      "X\"\"\"\n",
      "cnt = Counter(s0)\n",
      "L= cnt['X']\n",
      "print \"L=\", L\n",
      "iters = 0\n",
      "stop = False\n",
      "for r in range(L+1):\n",
      "    for idx in combinations(range(L), r):\n",
      "        iters+=1\n",
      "        x=[0]*L\n",
      "        for i in idx:\n",
      "            x[i]=1\n",
      "        s=s0.replace('X', '%s')%tuple(' '*x[i] for i in range(L))\n",
      "        d = sha384(s).digest()\n",
      "        if iters%10000 ==0:\n",
      "            text.value=\"r={} iters={} progress={:5.2f}%\".format(r,iters,iters*100.0/2**L)\n",
      "        if d.startswith('\\n#') and d.rindex('\\n')==0:                    \n",
      "            print x\n",
      "            print s.replace(' ', '.')\n",
      "            with open('a.c', 'w') as f:\n",
      "                f.write(s)\n",
      "            stop = True\n",
      "            break\n",
      "    if stop:\n",
      "        break\n",
      "print \"done\", sum(x)"
     ],
     "language": "python",
     "metadata": {},
     "outputs": [
      {
       "output_type": "stream",
       "stream": "stdout",
       "text": [
        "L= 26\n",
        "[0, 0, 0, 1, 1, 0, 0, 0, 1, 0, 0, 0, 0, 0, 0, 0, 0, 0, 0, 0, 0, 0, 0, 0, 1, 1]"
       ]
      },
      {
       "output_type": "stream",
       "stream": "stdout",
       "text": [
        "\n",
        "/*Use.either\n",
        "$.sha384sum.a.c.|.xxd.-r.-p>a.out&&.chmod.a+x.a.out\n",
        "or\n",
        "$.gcc.a.c\n",
        "to.compile.this.file.and.then.try\n",
        "$../a.out\n",
        "*/\n",
        "int.main(int.argc,char.**argv)\n",
        "{\n",
        "return.0;\n",
        "}.\n",
        ".\n",
        "done 5\n"
       ]
      }
     ],
     "prompt_number": 4
    },
    {
     "cell_type": "code",
     "collapsed": false,
     "input": [],
     "language": "python",
     "metadata": {},
     "outputs": []
    }
   ],
   "metadata": {}
  }
 ]
}