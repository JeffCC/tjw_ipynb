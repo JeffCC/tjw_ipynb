{
 "metadata": {
  "name": "",
  "signature": "sha256:117bebd6765e4b191ece27ea97bb4ef5f7f67d5a2eda5dbdf57bdf290e74d379"
 },
 "nbformat": 3,
 "nbformat_minor": 0,
 "worksheets": [
  {
   "cells": [
    {
     "cell_type": "code",
     "collapsed": false,
     "input": [
      "from IPython.html.widgets import *\n",
      "from IPython.display import display\n",
      "from collections import Counter\n",
      "from itertools import combinations\n",
      "from hashlib import sha384"
     ],
     "language": "python",
     "metadata": {},
     "outputs": [],
     "prompt_number": 3
    },
    {
     "cell_type": "code",
     "collapsed": false,
     "input": [
      "text = TextWidget()\n",
      "display(text)\n",
      "s0 = \"\"\"/*X\n",
      "It doesn't matter you use vim, emacs, or echo.X\n",
      "Real programmers use one-way hash functions to compile their source code.X\n",
      "To compile this file, eitherX\n",
      "$ sha384sum a.cX|Xxxd -r -pX>Xa.outX&&Xchmod a+x a.outX\n",
      "orX\n",
      "$ gcc a.cX\n",
      "Then tryX\n",
      "$ ./a.outX\n",
      " to execute the binary.X\n",
      "*/X\n",
      "int main(int argc,Xchar **argv)X\n",
      "{X\n",
      "Xreturn 0;X\n",
      "}X\n",
      "X\"\"\"\n",
      "cnt = Counter(s0)\n",
      "L= cnt['X']\n",
      "print \"L=\", L\n",
      "iters = 0\n",
      "stop = False\n",
      "for r in range(L+1):\n",
      "    for idx in combinations(range(L), r):\n",
      "        iters+=1\n",
      "        x=[0]*L\n",
      "        for i in idx:\n",
      "            x[i]=1\n",
      "        s=s0.replace('X', '%s')%tuple(' '*x[i] for i in range(L))\n",
      "        d = sha384(s).digest()\n",
      "        if iters%10000 ==0:\n",
      "            text.value=\"r={} iters={} progress={:5.2f}%\".format(r,iters,iters*100.0/2**L)\n",
      "        if d.startswith('\\n#') and d.rindex('\\n')==0:                    \n",
      "            print x\n",
      "            print s.replace(' ', '.')\n",
      "            with open('a.c', 'w') as f:\n",
      "                f.write(s)\n",
      "            stop = True\n",
      "            break\n",
      "    if stop:\n",
      "        break\n",
      "print \"done\", sum(x)"
     ],
     "language": "python",
     "metadata": {},
     "outputs": [
      {
       "output_type": "stream",
       "stream": "stdout",
       "text": [
        "L= 24\n",
        "[1, 0, 0, 0, 0, 0, 1, 0, 1, 0, 0, 0, 0, 0, 1, 0, 1, 0, 0, 0, 0, 0, 0, 0]"
       ]
      },
      {
       "output_type": "stream",
       "stream": "stdout",
       "text": [
        "\n",
        "/*.\n",
        "It.doesn't.matter.you.use.vim,.emacs,.or.echo.\n",
        "Real.programmers.use.one-way.hash.functions.to.compile.their.source.code.\n",
        "To.compile.this.file,.either\n",
        "$.sha384sum.a.c|xxd.-r.-p.>a.out.&&chmod.a+x.a.out\n",
        "or\n",
        "$.gcc.a.c\n",
        "Then.try\n",
        "$../a.out.\n",
        ".to.execute.the.binary.\n",
        "*/.\n",
        "int.main(int.argc,char.**argv)\n",
        "{\n",
        "return.0;\n",
        "}\n",
        "\n",
        "done 5\n"
       ]
      }
     ],
     "prompt_number": 14
    },
    {
     "cell_type": "code",
     "collapsed": false,
     "input": [],
     "language": "python",
     "metadata": {},
     "outputs": []
    }
   ],
   "metadata": {}
  }
 ]
}