{
 "metadata": {
  "name": "",
  "signature": "sha256:a0a4e2d63285d5c8f4c3ff10f9a107851055cf39a1eba75ad29f2c863559f6a8"
 },
 "nbformat": 3,
 "nbformat_minor": 0,
 "worksheets": [
  {
   "cells": [
    {
     "cell_type": "code",
     "collapsed": false,
     "input": [
      "%%javascript\n",
      "setTimeout(function(){IPython.notebook.clear_output(0);}, 100);\n",
      "$.getScript(\"/static/components/codemirror/keymap/vim.js\");\n",
      "IPython.CodeCell.options_default.cm_config.keyMap = 'vim';\n",
      "IPython.keyboard_manager.edit_shortcuts.remove_shortcut('Esc');\n",
      "setTimeout(function(){\n",
      "var cells = IPython.notebook.get_cells();\n",
      "var i;\n",
      "for(i in cells) {cells[i].cm_config.keyMap='vim';\n",
      "                 cells[i].code_mirror.setSize(null, 300); \n",
      "                 }\n",
      "}, 100);\n",
      "setTimeout(function(){IPython.notebook.clear_output(0);}, 100);"
     ],
     "language": "python",
     "metadata": {},
     "outputs": []
    },
    {
     "cell_type": "code",
     "collapsed": false,
     "input": [
      "aaa\n",
      "\n",
      "1\n",
      "1afffds\n",
      "1\n",
      "1\n",
      "1\n",
      "1\n",
      "\n",
      "1\n",
      "1\n",
      "\n",
      "\n",
      "\n",
      "\n",
      "\n",
      "\n",
      "\n",
      "\n",
      "\n",
      "\n",
      "\n",
      "\n",
      "\n",
      "\n",
      "\n",
      "\n",
      "\n",
      "\n",
      "\n",
      "\n",
      "111"
     ],
     "language": "python",
     "metadata": {},
     "outputs": []
    },
    {
     "cell_type": "code",
     "collapsed": false,
     "input": [
      "aa"
     ],
     "language": "python",
     "metadata": {},
     "outputs": []
    }
   ],
   "metadata": {}
  }
 ]
}