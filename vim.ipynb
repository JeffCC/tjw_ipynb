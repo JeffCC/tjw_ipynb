{
 "metadata": {
  "name": "",
  "signature": "sha256:1130eb3006343004fa2c1643d7cddf666b0a249968c4fa047ff5ad0c06a08450"
 },
 "nbformat": 3,
 "nbformat_minor": 0,
 "worksheets": [
  {
   "cells": [
    {
     "cell_type": "code",
     "collapsed": false,
     "input": [
      "%%javascript\n",
      "/* Use Ctrl-Enter to execute this cell */\n",
      "(function(){\n",
      "var idx = IPython.notebook.get_selected_index();\n",
      "if(idx >0)\n",
      "setTimeout(function(){IPython.notebook.clear_output(idx-1);}, 100);\n",
      "setTimeout(function(){IPython.notebook.clear_output(idx);}, 100);\n",
      "$.getScript(\"/static/components/codemirror/keymap/vim.js\");\n",
      "IPython.CodeCell.options_default.cm_config.keyMap = 'vim';\n",
      "IPython.keyboard_manager.edit_shortcuts.remove_shortcut('Esc');\n",
      "setTimeout(function(){\n",
      "var cells = IPython.notebook.get_cells();\n",
      "var i;\n",
      "for(i in cells) {cells[i].cm_config.keyMap='vim';\n",
      "                 cells[i].code_mirror.setSize(null, 300); \n",
      "                 }\n",
      "}, 100);\n",
      "setTimeout(function(){IPython.notebook.clear_output(idx);}, 100);\n",
      "if(idx>0)\n",
      "setTimeout(function(){IPython.notebook.clear_output(idx-1);}, 100);\n",
      "})();"
     ],
     "language": "python",
     "metadata": {},
     "outputs": []
    },
    {
     "cell_type": "code",
     "collapsed": false,
     "input": [
      "aaa\n",
      "\n",
      "1\n",
      "1afffds\n",
      "1\n",
      "1\n",
      "1\n",
      "1\n",
      "\n",
      "1\n",
      "1\n",
      "\n",
      "\n",
      "\n",
      "\n",
      "\n",
      "\n",
      "\n",
      "\n",
      "\n",
      "\n",
      "\n",
      "\n",
      "\n",
      "\n",
      "\n",
      "\n",
      "\n",
      "\n",
      "\n",
      "\n",
      "111"
     ],
     "language": "python",
     "metadata": {},
     "outputs": []
    },
    {
     "cell_type": "code",
     "collapsed": false,
     "input": [
      "aa"
     ],
     "language": "python",
     "metadata": {},
     "outputs": []
    }
   ],
   "metadata": {}
  }
 ]
}