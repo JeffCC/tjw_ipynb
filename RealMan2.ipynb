{
 "metadata": {
  "name": "",
  "signature": "sha256:37d912fe48d18046197ce25da78778c2bcb6d5cc44992d7238419c3a087dfde3"
 },
 "nbformat": 3,
 "nbformat_minor": 0,
 "worksheets": [
  {
   "cells": [
    {
     "cell_type": "code",
     "collapsed": false,
     "input": [
      "from IPython.html.widgets import *\n",
      "from IPython.display import display\n",
      "from collections import Counter\n",
      "from itertools import combinations, chain\n",
      "from hashlib import sha384\n",
      "from time import time\n",
      "from sys import stdout"
     ],
     "language": "python",
     "metadata": {},
     "outputs": [],
     "prompt_number": 205
    },
    {
     "cell_type": "code",
     "collapsed": false,
     "input": [
      "# OPENCL VERSION STARTS HERE\n",
      "from collections import Counter\n",
      "s0=\"\"\"#include<stdio.h>/* http://x.co/AAAAAAA for details\n",
      "echo \"Hello world!\"<<'}'\n",
      "*/\n",
      "main(){puts(\"Hello world!\");\n",
      "}\"\"\"\n",
      "len(s0), Counter(s0)['X']"
     ],
     "language": "python",
     "metadata": {},
     "outputs": [
      {
       "metadata": {},
       "output_type": "pyout",
       "prompt_number": 284,
       "text": [
        "(110, 0)"
       ]
      }
     ],
     "prompt_number": 284
    },
    {
     "cell_type": "code",
     "collapsed": false,
     "input": [
      "from more_itertools import chunked\n",
      "prefix = 'sh *'\n",
      "s0_ord = map(ord, s0)+[0x80]+[0]*(128-len(s0)-3)+[len(s0)>>5, (len(s0)<<3)&0xff]\n",
      "def hex8(l):\n",
      "    return \"0x\"+\"\".join(\"%02x\"%x for x in l)\n",
      "with open(\"opencl_realman2.h\" ,\"w\") as f:    \n",
      "    print >>f, \"__constant uint64_t SRC[16]={\"+ \",\\n\".join(hex8(x) for x in chunked(s0_ord, 8))+\"};\"\n",
      "    print >>f, \"#define A %d\"%s0.find('A')\n",
      "    print >>f, \"#define A8 %d\"%(s0.find('A')/8)\n",
      "    print >>f, \"#define LEN %d\"%len(s0)\n",
      "    prefix_hex=prefix_mask=0\n",
      "    charset = \"abcdefghijklmnopqrstuvwxyzABCDEFGHIJKLMNOPQRSTUVWXYZ0123456789?#\"\n",
      "    _charset = map(ord, charset)\n",
      "    print >>f, \"__constant uint8_t charset[64]={\" +str(_charset)[1:-1]+ \"};\"\n",
      "    for i, c in enumerate(prefix):\n",
      "        offset = 56-8*i\n",
      "        prefix_hex |= ord(c)<<offset\n",
      "        prefix_mask |= 0xff<<offset\n",
      "    print >>f, \"#define CONDITION (a&0x%xUL) == 0x%xUL\"%(prefix_mask, prefix_hex)\n",
      "with open(\"opencl_realman2.h\" ,\"r\") as f:\n",
      "    print f.read()"
     ],
     "language": "python",
     "metadata": {},
     "outputs": [
      {
       "output_type": "stream",
       "stream": "stdout",
       "text": [
        "__constant uint64_t SRC[16]={0x23696e636c756465,\n",
        "0x3c737464696f2e68,\n",
        "0x3e2f2a2068747470,\n",
        "0x3a2f2f782e636f2f,\n",
        "0x4141414141414120,\n",
        "0x666f722064657461,\n",
        "0x696c730a6563686f,\n",
        "0x202248656c6c6f20,\n",
        "0x776f726c6421223c,\n",
        "0x3c277d270a2a2f0a,\n",
        "0x6d61696e28297b70,\n",
        "0x757473282248656c,\n",
        "0x6c6f20776f726c64,\n",
        "0x2122293b0a7d8000,\n",
        "0x0000000000000000,\n",
        "0x0000000000000370};\n",
        "#define A 32\n",
        "#define A8 4\n",
        "#define LEN 110\n",
        "__constant uint8_t charset[64]={97, 98, 99, 100, 101, 102, 103, 104, 105, 106, 107, 108, 109, 110, 111, 112, 113, 114, 115, 116, 117, 118, 119, 120, 121, 122, 65, 66, 67, 68, 69, 70, 71, 72, 73, 74, 75, 76, 77, 78, 79, 80, 81, 82, 83, 84, 85, 86, 87, 88, 89, 90, 48, 49, 50, 51, 52, 53, 54, 55, 56, 57, 63, 35};\n",
        "#define CONDITION (a&0xffffff0000000000UL) == 0x7368200000000000UL\n",
        "\n"
       ]
      }
     ],
     "prompt_number": 306
    },
    {
     "cell_type": "code",
     "collapsed": false,
     "input": [
      "from __future__ import division\n",
      "import numpy as np\n",
      "import pyopencl as cl\n",
      "import pyopencl.array\n",
      "import pyopencl.tools\n",
      "%load_ext pyopencl.ipython_ext"
     ],
     "language": "python",
     "metadata": {},
     "outputs": [
      {
       "output_type": "stream",
       "stream": "stdout",
       "text": [
        "The pyopencl.ipython_ext extension is already loaded. To reload it, use:\n",
        "  %reload_ext pyopencl.ipython_ext\n"
       ]
      }
     ],
     "prompt_number": 307
    },
    {
     "cell_type": "code",
     "collapsed": false,
     "input": [
      "ctx = cl.create_some_context()\n",
      "queue = cl.CommandQueue(ctx)\n",
      "device=ctx.devices[0]\n",
      "print device.max_mem_alloc_size\n",
      "print device.max_work_group_size"
     ],
     "language": "python",
     "metadata": {},
     "outputs": [
      {
       "output_type": "stream",
       "stream": "stdout",
       "text": [
        "1073741824\n",
        "256\n"
       ]
      }
     ],
     "prompt_number": 308
    },
    {
     "cell_type": "code",
     "collapsed": false,
     "input": [
      "%%cl_kernel -o \"-I . -cl-strict-aliasing\"\n",
      "//Type names definition.\n",
      "#define uint8_t  unsigned char\n",
      "#define uint16_t unsigned short\n",
      "#define uint32_t unsigned int\n",
      "#define uint64_t unsigned long  //Tip: unsigned long long int failed on compile (AMD).\n",
      "\n",
      "#define _OPENCL_COMPILER\n",
      "//Macros.\n",
      "#define SWAP(n) \\\n",
      "            (((n) << 56)                      \\\n",
      "          | (((n) & 0xff00) << 40)            \\\n",
      "          | (((n) & 0xff0000) << 24)          \\\n",
      "          | (((n) & 0xff000000) << 8)         \\\n",
      "          | (((n) >> 8) & 0xff000000)         \\\n",
      "          | (((n) >> 24) & 0xff0000)          \\\n",
      "          | (((n) >> 40) & 0xff00)            \\\n",
      "          | ((n) >> 56))\n",
      "\n",
      "#define SWAP64_V(n)     SWAP(n)\n",
      "#pragma OPENCL EXTENSION cl_amd_media_ops : enable\n",
      "#define Ch(x,y,z)       bitselect(z, y, x)\n",
      "#define Maj(x,y,z)      bitselect(x, y, z ^ x)\n",
      "#define ror(x, n)       rotate(x, (uint64_t) 64-n)\n",
      "#define SWAP64(n)       (as_ulong(as_uchar8(n).s76543210))\n",
      "#define Sigma0(x)               ((ror(x,28)) ^ (ror(x,34)) ^ (ror(x,39)))\n",
      "#define Sigma1(x)               ((ror(x,14)) ^ (ror(x,18)) ^ (ror(x,41)))\n",
      "#define sigma0(x)               ((ror(x,1))  ^ (ror(x,8))  ^ (x>>7))\n",
      "#define sigma1(x)               ((ror(x,19)) ^ (ror(x,61)) ^ (x>>6))\n",
      "\n",
      "/* Macros for reading/writing chars from int32's (from rar_kernel.cl) */\n",
      "#define GETCHAR(buf, index) ((buf)[(index)])\n",
      "#define PUTCHAR(buf, index, val) (buf)[(index)] = val\n",
      "#define PUT(buf, index, val) (buf)[(index)>>2] = ((buf)[(index)>>2] & ~(0xffU << (((index) & 3) << 3))) + ((val) << (((index) & 3) << 3))\n",
      "\n",
      "\n",
      "#include \"opencl_realman2.h\"\n",
      "\n",
      "__constant uint64_t k[] = {\n",
      "    0x428a2f98d728ae22UL, 0x7137449123ef65cdUL, 0xb5c0fbcfec4d3b2fUL, 0xe9b5dba58189dbbcUL,\n",
      "    0x3956c25bf348b538UL, 0x59f111f1b605d019UL, 0x923f82a4af194f9bUL, 0xab1c5ed5da6d8118UL,\n",
      "    0xd807aa98a3030242UL, 0x12835b0145706fbeUL, 0x243185be4ee4b28cUL, 0x550c7dc3d5ffb4e2UL,\n",
      "    0x72be5d74f27b896fUL, 0x80deb1fe3b1696b1UL, 0x9bdc06a725c71235UL, 0xc19bf174cf692694UL,\n",
      "    0xe49b69c19ef14ad2UL, 0xefbe4786384f25e3UL, 0x0fc19dc68b8cd5b5UL, 0x240ca1cc77ac9c65UL,\n",
      "    0x2de92c6f592b0275UL, 0x4a7484aa6ea6e483UL, 0x5cb0a9dcbd41fbd4UL, 0x76f988da831153b5UL,\n",
      "    0x983e5152ee66dfabUL, 0xa831c66d2db43210UL, 0xb00327c898fb213fUL, 0xbf597fc7beef0ee4UL,\n",
      "    0xc6e00bf33da88fc2UL, 0xd5a79147930aa725UL, 0x06ca6351e003826fUL, 0x142929670a0e6e70UL,\n",
      "    0x27b70a8546d22ffcUL, 0x2e1b21385c26c926UL, 0x4d2c6dfc5ac42aedUL, 0x53380d139d95b3dfUL,\n",
      "    0x650a73548baf63deUL, 0x766a0abb3c77b2a8UL, 0x81c2c92e47edaee6UL, 0x92722c851482353bUL,\n",
      "    0xa2bfe8a14cf10364UL, 0xa81a664bbc423001UL, 0xc24b8b70d0f89791UL, 0xc76c51a30654be30UL,\n",
      "    0xd192e819d6ef5218UL, 0xd69906245565a910UL, 0xf40e35855771202aUL, 0x106aa07032bbd1b8UL,\n",
      "    0x19a4c116b8d2d0c8UL, 0x1e376c085141ab53UL, 0x2748774cdf8eeb99UL, 0x34b0bcb5e19b48a8UL,\n",
      "    0x391c0cb3c5c95a63UL, 0x4ed8aa4ae3418acbUL, 0x5b9cca4f7763e373UL, 0x682e6ff3d6b2b8a3UL,\n",
      "    0x748f82ee5defb2fcUL, 0x78a5636f43172f60UL, 0x84c87814a1f0ab72UL, 0x8cc702081a6439ecUL,\n",
      "    0x90befffa23631e28UL, 0xa4506cebde82bde9UL, 0xbef9a3f7b2c67915UL, 0xc67178f2e372532bUL,\n",
      "    0xca273eceea26619cUL, 0xd186b8c721c0c207UL, 0xeada7dd6cde0eb1eUL, 0xf57d4f7fee6ed178UL,\n",
      "    0x06f067aa72176fbaUL, 0x0a637dc5a2c898a6UL, 0x113f9804bef90daeUL, 0x1b710b35131c471bUL,\n",
      "    0x28db77f523047d84UL, 0x32caab7b40c72493UL, 0x3c9ebe0a15c9bebcUL, 0x431d67c49c100d4cUL,\n",
      "    0x4cc5d4becb3e42b6UL, 0x597f299cfc657e2aUL, 0x5fcb6fab3ad6faecUL, 0x6c44198c4a475817UL,\n",
      "};\n",
      "\n",
      "\n",
      "#define H0 0xcbbb9d5dc1059ed8UL;\n",
      "#define H1 0x629a292a367cd507UL;\n",
      "#define H2 0x9159015a3070dd17UL;\n",
      "#define H3 0x152fecd8f70e5939UL;\n",
      "#define H4 0x67332667ffc00b31UL;\n",
      "#define H5  0x8eb44a8768581511UL;\n",
      "#define H6 0xdb0c2e0d64f98fa7UL;\n",
      "#define H7  0x47b5481dbefa4fa4UL;\n",
      "\n",
      "\n",
      "inline bool sha384_block(uint64_t x) {\n",
      "    uint64_t a = H0;\n",
      "    uint64_t b = H1;\n",
      "    uint64_t c = H2;\n",
      "    uint64_t d = H3;\n",
      "    uint64_t e = H4;\n",
      "    uint64_t f = H5;\n",
      "    uint64_t g = H6;\n",
      "    uint64_t h = H7;\n",
      "    uint64_t t1, t2;\n",
      "    uint64_t w[16];    \n",
      "\n",
      "    #pragma unroll\n",
      "    for (int i = 0; i < A8; i++)  w[i] = SRC[i];\n",
      "    w[A8]=0;\n",
      "    #pragma unroll\n",
      "    for(int i=0;i<7;i++, x>>=6){\n",
      "              w[A8] |= charset[x&63];\n",
      "             w[A8] <<=8;\n",
      "    }\n",
      "    w[A8]|=0x20;\n",
      "    #pragma unroll\n",
      "    for (int i = A8+1; i < 16; i++)  w[i] = SRC[i];\n",
      "    #define R(a,b,c,d,e,f,g,h, i) \\\n",
      "        if (i > 15) {w[(i) & 15] = sigma1(w[((i) - 2) & 15]) + sigma0(w[((i) - 15) & 15]) + w[((i) - 16) & 15] + w[((i) - 7) & 15]; } \\\n",
      "        t1 = k[i] + w[(i) & 15] + h + Sigma1(e) + Ch(e, f, g); \\\n",
      "        t2 = Maj(a, b, c) + Sigma0(a); \\\n",
      "        h= d + t1;  d = t1 + t2;\n",
      "    \n",
      "    #define R4(I) \\\n",
      "    R(a,b,c,d,e,f,g,h, I+0); \\\n",
      "    R(d,a,b,c,h,e,f,g, I+1); \\\n",
      "    R(c,d,a,b,g,h,e,f, I+2); \\\n",
      "    R(b,c,d,a,f,g,h,e, I+3); \n",
      "    \n",
      "    #define R16(I) \\\n",
      "    R4(I+0);\\\n",
      "    R4(I+4);\\\n",
      "    R4(I+8);\\\n",
      "    R4(I+12);\n",
      "    \n",
      "    R16(0)\n",
      "    R16(16)\n",
      "    R16(32)\n",
      "    R16(48)\n",
      "    R16(64)\n",
      "\n",
      "        \n",
      "/*\n",
      "    #pragma unroll\n",
      "    for (int i = 0; i < 80; i++) {\n",
      "\n",
      "        if (i > 15) {\n",
      "            w[i & 15] = sigma1(w[(i - 2) & 15]) + sigma0(w[(i - 15) & 15]) + w[(i - 16) & 15] + w[(i - 7) & 15];\n",
      "        }\n",
      "        t1 = k[i] + w[i & 15] + h + Sigma1(e) + Ch(e, f, g);\n",
      "        t2 = Maj(a, b, c) + Sigma0(a);\n",
      "        h = g;\n",
      "        g = f;\n",
      "        f = e;\n",
      "        e = d + t1;\n",
      "        d = c;\n",
      "        c = b;\n",
      "        b = a;\n",
      "        a = t1 + t2;\n",
      "    }    \n",
      "*/\n",
      "    a+=H0;\n",
      "    \n",
      "    return CONDITION;\n",
      "}\n",
      "\n",
      "__kernel\n",
      "void kernel_sha384(uint64_t base, __global   uint32_t * out_buffer) {\n",
      " size_t gid = get_global_id(0);\n",
      "uint64_t x = base + gid;\n",
      "if(sha384_block(x))\n",
      "    out_buffer[gid>>24] = gid&0xffffff;\n",
      "\n",
      "}\n"
     ],
     "language": "python",
     "metadata": {},
     "outputs": [],
     "prompt_number": 309
    },
    {
     "cell_type": "code",
     "collapsed": false,
     "input": [
      "import atitweak as ati\n",
      "from adl3 import ADLTemperature, ADL_Overdrive5_Temperature_Get, ADL_OK\n",
      "from adl3 import ADL_DL_FANCTRL_SPEED_TYPE_PERCENT, ADLFanSpeedValue, ADL_Overdrive5_FanSpeed_Get\n",
      "from adl3 import ADLPMActivity, ADL_Overdrive5_CurrentActivity_Get\n",
      "from ctypes import sizeof, byref\n",
      "\n",
      "ati.initialize()\n",
      "def gpu_activity():\n",
      "    adapters = ati.get_adapter_info()\n",
      "    adapter = adapters[0]\n",
      "    activity = ADLPMActivity()\n",
      "    activity.iSize = sizeof(activity)            \n",
      "    if ADL_Overdrive5_CurrentActivity_Get(adapter.iAdapterIndex, byref(activity)) != ADL_OK:\n",
      "                return None\n",
      "    return (activity.iEngineClock/100.0, activity.iMemoryClock/100.0, activity.iVddc/1000.0,\n",
      "                         activity.iCurrentPerformanceLevel, activity.iActivityPercent)\n",
      "            \n",
      "    # engine clock %gMHz, memory clock %gMHz, core voltage %gVDC, performance level %d, utilization %d%%\" % \n",
      "                \n",
      "def gpu_temperature():\n",
      "    adapters = ati.get_adapter_info()\n",
      "    adapter = adapters[0]\n",
      "    temperature = ADLTemperature()\n",
      "    temperature.iSize = sizeof(temperature)\n",
      "    if ADL_Overdrive5_Temperature_Get(adapter.iAdapterIndex, 0, byref(temperature)) != ADL_OK:\n",
      "                return None    \n",
      "    return  temperature.iTemperature/1000    \n",
      "def gpu_fan_speed():\n",
      "    adapters = ati.get_adapter_info()\n",
      "    adapter = adapters[0]\n",
      "    fan_speed_value = ADLFanSpeedValue()\n",
      "    fan_speed_value.iSize = sizeof(fan_speed_value)\n",
      "    fan_speed_value.iSpeedType = ADL_DL_FANCTRL_SPEED_TYPE_PERCENT\n",
      "    if ADL_Overdrive5_FanSpeed_Get(adapter.iAdapterIndex, 0, byref(fan_speed_value)) != ADL_OK:\n",
      "        return None\n",
      "    return fan_speed_value.iFanSpeed\n",
      "print gpu_temperature(), gpu_fan_speed()\n",
      "# ati.shutdown()"
     ],
     "language": "python",
     "metadata": {},
     "outputs": [
      {
       "output_type": "stream",
       "stream": "stdout",
       "text": [
        "57.0 41\n"
       ]
      }
     ],
     "prompt_number": 310
    },
    {
     "cell_type": "code",
     "collapsed": false,
     "input": [
      "from IPython.html.widgets import *\n",
      "from IPython.display import display\n",
      "from time import sleep, time\n",
      "from sys import stdout\n",
      "from hashlib import sha384\n",
      "step = 2**28\n",
      "t0 = time()\n",
      "expected_number = 256**len(prefix)\n",
      "text = TextWidget()\n",
      "tempw = FloatProgressWidget(min = 50, max = 80, description=\"Temperature:\")\n",
      "fanw = FloatProgressWidget(min=0, max = 100, description = \"Fan Speed:\")\n",
      "keyw = TextWidget(description = \"Current Key:\")\n",
      "ratew = TextWidget(description=\"Hashes/S:\")\n",
      "elapsedw = TextWidget(description=\"Time Elapsed:\")\n",
      "actw = TextWidget()\n",
      "actw.set_css('width', 800)\n",
      "gpu_clockw = FloatProgressWidget(min=0, max=1050, description=\"GPU Clock\")\n",
      "gpu_loadw  = FloatProgressWidget(min=0, max=100, description=\"GPU Load\")\n",
      "for w in [elapsedw, text, tempw, fanw, keyw, ratew, actw, gpu_clockw, gpu_loadw]:\n",
      "    display(w)\n",
      "text.set_css('width', 800)\n",
      "sleep_time = 0.0\n",
      "START = 656760897536\n",
      "#START = 0\n",
      "output=cl.array.zeros(queue, step>>24, dtype=np.uint32) \n",
      "output0=cl.array.zeros(queue, step>>24, dtype=np.uint32) \n",
      "ret = None\n",
      "for i0 in xrange(START, 64**8, step):       \n",
      "    output0.fill(0, queue)\n",
      "    ret0 = kernel_sha384(queue, (step,), None, np.uint64(i0), output0.data)\n",
      "    \n",
      "    if ret is None:\n",
      "        ret=ret0\n",
      "        output, output0 = output0, output\n",
      "        i = i0\n",
      "        continue\n",
      "    \n",
      "    #ret,i,output = ret0, i0, output0    \n",
      "    ret.wait()\n",
      "    result = output.get()\n",
      "    for j in np.where(result>0)[0]:        \n",
      "        x =i+(j<<24)+result[j]\n",
      "        key = \"\".join(charset[(x>>(6*h))&63]for h in range(7))\n",
      "        s=s0.replace('A'*7, key)\n",
      "        print x,repr(sha384(s).digest())\n",
      "        with open(\"good/%d.c\"%x, \"w\") as f:\n",
      "            f.write(s)\n",
      "        stdout.flush()    \n",
      "    elapsed = (time()-t0)/60\n",
      "    percent = (i-START)*100.0/expected_number\n",
      "    if elapsed >0:\n",
      "        rate = (i-START)/60/elapsed\n",
      "    else:\n",
      "        rate=0\n",
      "    exp =  0 if i==START else 100.0*elapsed/percent/60.0\n",
      "    expday = int(exp/24)\n",
      "    exphr = exp-expday*24\n",
      "    key = \"\".join(charset[(i>>(6*h))&63]for h in range(7))\n",
      "    temp = gpu_temperature()\n",
      "    fan = gpu_fan_speed()\n",
      "    activity = gpu_activity()\n",
      "    elapsedw.value = \" {:.2f}min\".format(elapsed)\n",
      "    text.value = \"{} {:5.2f}% EXP={}days {:.2f}hrs sleep_time={}\".format(i, percent, expday, exphr, sleep_time)\n",
      "    ratew.value = \"{:.2f}M/s\".format(rate/10**6)\n",
      "    keyw.value=key\n",
      "    fanw.value = fan\n",
      "    tempw.value = temp\n",
      "    actw.value = \"engine clock %gMHz, memory clock %gMHz, core voltage %gVDC, performance level %d, utilization %d%%\" % activity\n",
      "    gpu_clockw.value = activity[0]\n",
      "    gpu_loadw.value = activity[4]\n",
      "    \n",
      "    if temp > 79:\n",
      "        sleep_time +=0.1\n",
      "    if temp < 75:\n",
      "        sleep_time -=0.1    \n",
      "    if sleep_time > 0:\n",
      "        sleep(sleep_time)\n",
      "    else:\n",
      "        sleep_time = 0.0\n",
      "    ret, i = ret0, i0\n",
      "    output, output0 = output0, output\n",
      "    i = i0\n",
      "print \"done\""
     ],
     "language": "python",
     "metadata": {},
     "outputs": [
      {
       "output_type": "stream",
       "stream": "stdout",
       "text": [
        "656763125198 'sh \\xb3\\xfd\\xd4\\x81I\\xdf\\x9d\\xfa\\xae\\x94F\\xdd\\x86\\x1e\\xcb\\xffV4\\x8fg\\tEO\\xb5\\x99\\xe3\\x802\\x9cH\\xb0C-\\xbc\\xfa\\xb4o]\\x93\\xbd\\x02\\xed\\x1e\\xc2\\x05'\n"
       ]
      },
      {
       "output_type": "stream",
       "stream": "stdout",
       "text": [
        "656782900594 \"sh 6\\x0f\\xfc\\x9d\\xa6\\xa0`\\x88!\\xed0\\xf6\\x12\\xee\\x17B\\xa9\\xa8$\\xac0\\xb0}R\\xccP\\xfa\\x05\\xbeV\\x9bR\\x14\\xa9\\x01a'\\x89T~\\x86I\\x8b\\x8dU\"\n"
       ]
      },
      {
       "output_type": "stream",
       "stream": "stdout",
       "text": [
        "656798944387 'sh \\xa1C\\x08_\\xbf\\x9f\\x18\\xb0\\x17\\xaf\\x1e\\xc2q+\\xba\\x82\\xb2\\xf5l\\xe8\\xc4\\x87\\xfb\\xcc\\xa5j\\xee\\xc8w\\xa5\\xc1\\xe9\\xcc`\\xd8\\x1a\\x88[\\xed\\xda#Q!\\xf3<'\n"
       ]
      },
      {
       "output_type": "stream",
       "stream": "stdout",
       "text": [
        "656837316041 'sh \\xe0 \\xe6\\xd6}\\xdb/\\x1f\\x8cb\\xfd\\xbaw\\xa45\\xbf5G\\xe0\\x8b_\\xf0\\\\\\x9b3\\x1d\\xd0\\x8f@\\xb3\\xe63\\xf4rRh\\xe3\\xab\\xaf\\xdc\\x06]\\xbdr\\xa1'\n"
       ]
      },
      {
       "output_type": "stream",
       "stream": "stdout",
       "text": [
        "656877230422 'sh \\xc7\\xe7\\x1f\\xecC\\x04.0n(\\xe7\\x99\\xb3^\\x82\\x91\\xb4~\\xcf\\x87p|\\x13\\x8e\\xa7\\xe3\\xe1\\xcdR\\xd4\\xbc\\x8d\\xf9\\x81\\xaa\\x80\\xd6\\xb7D\\x02\\x98\\xdc\\xd4(6'\n"
       ]
      },
      {
       "output_type": "stream",
       "stream": "stdout",
       "text": [
        "656894794697 'sh \\xe40\\xdb\\x8eL\\x84\\xed7/?\\xeeB\\x0c,l\\x19:JN\\xd2\\x1a\\x87\\xedD\\xdcg9\\xfd\\xf8\\xe0\\xaa\\x9b\\x9aaw\\xf9\\xdbx\\xaf~v\\xfdm\\x93s'\n"
       ]
      },
      {
       "output_type": "stream",
       "stream": "stdout",
       "text": [
        "656922443248 'sh &g3n\\x8c\\x14\\xe6\\xfbj=\\xda\\xdb_\\xf1\\r\\xf3\\x1e\\xc7\\xb0\\xbb\"\\xf1[\\x9bp\\xc6\\x06`\\xef!\\xf5\"\\xf8\\x0f\\x13\\xba\\r\\xef:\\xe4\\x12;\\xb2N\\r'\n"
       ]
      },
      {
       "output_type": "stream",
       "stream": "stdout",
       "text": [
        "656955782958 'sh \\x04i\\xc4\\x02\\xc4w\\x1aP\\x07v\\xf0\\xda|\\x8f\\x1f\\xaeN\\xfaH\\xec-\\x08\\xca\\x8b\\xbb\\xeb\\xe2NX\\x03\\xaa\\xdd],\\x10\\xa9\\xd6\\x9e\\x7fY4\\xb6\\x0e\\xd0\\xe4'\n"
       ]
      },
      {
       "output_type": "stream",
       "stream": "stdout",
       "text": [
        "656994616475 \"sh \\xc7\\x91\\x90\\x9f\\x08\\xb3\\x943(\\xca\\xab }\\xcb\\x89\\xa0\\x86V\\x93\\xa2q\\x12\\xb1\\x8c\\xee\\x81\\x89&\\x8e(\\x00']\\xb8\\xd6\\xaa\\x05\\x04\\xc2\\x7f\\xa7\\xbfhbM\"\n"
       ]
      },
      {
       "output_type": "stream",
       "stream": "stdout",
       "text": [
        "657003524928 'sh \\xc2F[c\\x81\\x95Y\\xbd\\xb2\\xce\\xd1e\\xa1K\\x86\\xaf=\\x02\\x1f\\x85\\x14\\x88R#\\x04\\x16b\\x89Kq58\\x84I\\xf6\\x99\\x16\\x027\\x96\\xaf\\xcb\\x83\\xb6\\x0f'\n"
       ]
      },
      {
       "output_type": "stream",
       "stream": "stdout",
       "text": [
        "657047912942 'sh \\r\\xd1\\x02a\\xf1\\x87c\\xa6\\xc7\\x00K\\xa1=j\\xa7\\xa0\\xb7\\xf0\\x98\\x90\\xf8U\\xc0\\xabN\\xde\\xa4\\xbf&\\xa2-\\xdaf\"\\x14\\x14-\\xa0\\x1f\\x8f2\\xecE\\x12t'\n"
       ]
      },
      {
       "output_type": "stream",
       "stream": "stdout",
       "text": [
        "657063278288 'sh \\xb9\\xd2.\\x8f\\xf6V\\xffY(\\x95\\xaa\\x14q \\x02\\x0f\\xc9\\xd3\\xc8v\\x80N\\xcd\\xc7\\xf3\\x0c\\xb3p/\\x96\\xff\\x00\\xfc\\xf7\\x87\\n\\x13>n\\xe5\\xbe@onU'\n"
       ]
      },
      {
       "output_type": "stream",
       "stream": "stdout",
       "text": [
        "657094241851 'sh \\xe1B=\\x1a#T.\\xc6\\r\\xa0\\xc5\\x167\\xa9k\\x9e6\\xd5\\x915n(\\xc5(5\\xf3\\x98\\xea\\xe7\\x92m\\x0b\\x0b\\xb2\\xc7kZ\"\\x15\\xfe\\xf4^J\\xa5~'\n"
       ]
      },
      {
       "output_type": "stream",
       "stream": "stdout",
       "text": [
        "657145348777 'sh ,u<\\xe5\\x1bb=\\xd0$\\x12\\x97\\xc9nD \\xba\\x8b\\xbfR\\xacT^\\r\\x93\\xa6\\xde\\x93\\x87Q}K]uY\\xbc\\x1c?\\x99\\xa0\\x0b\\xb0\\xb5\\x1c\\xa3:'\n"
       ]
      },
      {
       "output_type": "stream",
       "stream": "stdout",
       "text": [
        "657172745977 'sh 9/\\xff\\x91\\xa1t_B\\xbf\\xfaO\\xc5\\xaa\\xfe25Di\\x1b\\x88\\xe0\\xfd\\xde\\x15!\\xe7L\\xcf\\x99(:\\xbb4\\t\\xb9\\x9a\\x1d\\xc6{\\xfa\\x86\\xd1\\x9d\\x16V'\n"
       ]
      },
      {
       "output_type": "stream",
       "stream": "stdout",
       "text": [
        "657210948060 'sh \\x99\\xbc$M\\xc5\\xdf\\xac\\x1b\\xd6%\\xb1\\xda\\x9aA\\xf0\\x1d\\xfc%0\\xde\\xaf\\x96\\xf1\\x15\\xf2\\xc1%\\xf6\\x9d\\xc5,c\\xc6\\x99\\xf6\\xf9A**\\xfe\\xacJ\\xb1\\x98u'\n"
       ]
      },
      {
       "output_type": "stream",
       "stream": "stdout",
       "text": [
        "657230117606 'sh \\x13u\\x9fIl\\xf8\\xc5&!v\\x0c\\xfe?`\\x8c +\\xbd\\x1b \\xd3YH\\x11@\\xa1\\xcd6G%\\x93K_\\xe8\\xb4\\r\\x8e\\x8a\\xff\\xec\\xaf\\xb0\\x03$\\xca'\n"
       ]
      },
      {
       "output_type": "stream",
       "stream": "stdout",
       "text": [
        "657260132284 'sh \\xdd9\\xd3Xzj!,7.:Lii\\x170\\xe0#Z-=#\\xdf*O\\xc3\\x0f\\xa6|)\\x1eJ\\xf7-\\xde\\x05n\\xd2t$\\xf4\\xc1\\x8f\\xb0\\x8b'\n"
       ]
      },
      {
       "output_type": "stream",
       "stream": "stdout",
       "text": [
        "657269453536 \"sh \\xa2\\xc7\\xf0\\xc4\\xd3O\\x1e\\x9f\\xc9\\xbf\\x8bX\\x81\\x03\\xdc$\\xa6\\xf9U\\xfa\\xbb\\x82vD'\\xd2\\xe6\\x16~\\xa8\\x1f\\xd6\\xff\\xf4\\xb6\\xf5\\xd2$\\xd6\\x8a\\r\\xd4\\xfd\\x7f\\n\"\n"
       ]
      },
      {
       "output_type": "stream",
       "stream": "stdout",
       "text": [
        "657290718470 'sh 4\\xd3\\x95\\x86\\xce\\xca\\x9f67\\x1bk\\xe20\\xab\\xb6O\\x8b\\x1f\\x18\\xe6\\xb6b\\xad\\xb9/2\\x95)\\x96\\x19X\\x97\\xff\\xfd\\xa7\\xbaw\\xfbz76\\xe2\\xbe\\x18\\x8e'\n"
       ]
      },
      {
       "output_type": "stream",
       "stream": "stdout",
       "text": [
        "657342276793 \"sh &\\xc9\\xc35y\\x94\\x11\\xe7cVh\\xa25\\xae\\x9ea\\x9e\\t~\\xe1~\\x92\\xbbH'\\x8czc:\\xe1X>b\\xc4Yq\\xaf\\xff\\xf5\\x11n\\x93\\x14}\\x1e\"\n"
       ]
      },
      {
       "output_type": "stream",
       "stream": "stdout",
       "text": [
        "657357006779 'sh \\xee/\\xfe\\x85)i\\xe7\\xad\"Y\\x9b\\xfev\\x85_\\xffAEo\\x9b\\xee!\\x8e\\x9a\\xd0\\x17@\\xdex\\x96t\\x8a\\\\4?y\\x07\\xac\\x1d\\x99|[\\xfc\\xc4s'\n"
       ]
      },
      {
       "output_type": "stream",
       "stream": "stdout",
       "text": [
        "657395131691 'sh \\xd1\\xffee\\xebz\\xe3\\x14d\\x8f\\xa9\\xaf\\x14e:\\x96\\xf7\\xc5\\x02\\xcc\\xed[M;\\xf3\\xf5\\x12\\xa5lA\\x85\\x80\\x94g%\\xe7(q\\xba7\\x03z\\xc7au'\n"
       ]
      },
      {
       "output_type": "stream",
       "stream": "stdout",
       "text": [
        "657412008152 'sh \\xd7`\\x91\\xae\\xe1\\xbe\\x08\\xbf\\xd2\\xf4\\xab\\xe9?\\xd7`\\xf16\\xb7_9\\xb6\\x14\\xa6\\x02\\xcf\\x93y\\xfff\\x8f\\x9e\\x12_\\xa8\\xc6\\x1d\\xc7\\xac\\xbeS8\\n\\x14\\xafP'\n"
       ]
      },
      {
       "output_type": "stream",
       "stream": "stdout",
       "text": [
        "657444252262 'sh \\xf6\\xbap&>\\x8c`g\\xe0r\\x90;\\xf3\\x9f\\xeb\\xb3\\xf4Kt[\\xe9f\\x9b\\xfa\\xe9\\xa5\\x90@f\\x05\\x01C\\x04\\n?\\xcd5\\r\\xf09\\x95\\x96\\xa5\\x92~'\n"
       ]
      },
      {
       "output_type": "stream",
       "stream": "stdout",
       "text": [
        "657474927707 \"sh \\xb0\\xd4\\x81\\x147\\x15!y\\x9aH\\xad\\x02\\xe6\\x9e\\xdcx\\\\\\xd8\\x0b\\xc3P'\\xfd\\x9b H\\xc8\\xb7j\\x04&\\xea\\x1d\\x9e\\xfe\\xce\\xaa\\xef\\xcc\\x19\\xd6\\x0c\\x8a\\x8e\\x8f\"\n"
       ]
      },
      {
       "output_type": "stream",
       "stream": "stdout",
       "text": [
        "657498648779 'sh hh$\\x96}\\xc7wo\\xb4\\x95\\x92\\x98\\xf9\\xc7\\xaa2\\xf74\\xfc\\x81K\\x15\\xe9\\x8d\\xc1\\x1fo\\xe3\\x1b\\xfa\\xd0\\t\"\\x18\\xae\\xf4\\x11\\xd3\\xef\\x14d\\xc0\\x93\\x82\\x14'\n"
       ]
      },
      {
       "output_type": "stream",
       "stream": "stdout",
       "text": [
        "657508734513 'sh \\xe6G\\xa8\\xa8B\\xcaG\\x8a\\xf2\\xe9\\xf2\\xa1a\\t\\x1f\\r\\x14\\x8c\\xc4\\x07(\\x04\\x80-\\x8c\\x17\\x0e\\x13\\xc6\\x98(=M\\xab\\xc0\\xb6~\\xdeE\\x0bf\\xbec|\\xf2'\n"
       ]
      },
      {
       "output_type": "stream",
       "stream": "stdout",
       "text": [
        "657528877429 'sh \\x97\\xa7@\\xba+h\\xdam\\x9eq\\xbc\\x88\\xb7_\\x9f\\xb3\\xef\\xb6\\xfe\\xca\\xea\\x88\\xc8\\x92\\xa2|\\r\\x83(jd\\xfd\\xa2uS\\xb2\\xb5\\x12yY\\xb5\\xcd\\xb1\\x8c\\x01'\n"
       ]
      },
      {
       "output_type": "stream",
       "stream": "stdout",
       "text": [
        "657542639828 'sh \\xe4^\\xca\\\\xc\\xd4zn~\\r}!/\\x8e\\xd5,\\xb0\\xfd\\t\\xc7\\x0f\"\\x8d\\xda\\xa8u.\\x84\\xbf]\\xbb\\xc3\\xd5\\\\7\\xf3\\xf3\\x08\\xf5\\xb9\\x8d\"\\x03\\xac'\n"
       ]
      },
      {
       "output_type": "stream",
       "stream": "stdout",
       "text": [
        "657556939822 'sh \\xec\\xa3\\xc3\\x82\\x99n\\xab`\\x99\\xe2\\xc7\\xcf\\xc6P\\x8f\\x99\\xac.\\x1epC\\xa9\\x9e\\xc58K\\x11$\\xcbcQ\\xab\\xad\\x94\\xbdI\\xed?\\x9f>\\\\\\xb4\\x11\\x86R'\n"
       ]
      },
      {
       "output_type": "stream",
       "stream": "stdout",
       "text": [
        "657592094114 'sh \\xb6A\\x8f\\x8d\\xa5\\xcc\\x97\\xfc\\xd12!\\xe1\\xb4\\xed\\x93*N\\x9f\\xaf\\xc7\\x97\\xd2P|\\xbd\\xc0\\n\\xa5\\xb4S\\x7f\\x96\\xb4U\\xd6\\xfd(T\\x10\\x94R]r\\xe4\\xea'\n"
       ]
      },
      {
       "output_type": "stream",
       "stream": "stdout",
       "text": [
        "657603120842 'sh \\x8cw\\x8e\\rf\\xbc\\xbb\\xa1\\xc4h0\\n\\x18\\x8e\\xdf\\r\\x13X\\xb5\\xe4B\\xbf\\x97mz\\xfd5k\\xa8y\\xfb\\x97\\x8bm:\\xdb\\xfe1\\xb1\\xb5S\\xe8\\xf3\\xbc\\x94'\n"
       ]
      },
      {
       "output_type": "stream",
       "stream": "stdout",
       "text": [
        "657629993663 \"sh %m\\x97\\x08P\\xc6\\x0c\\x95\\xab\\x00\\x93a\\xa5\\r\\x994\\xf0 \\xe3\\x88Yqa\\xeb#\\xeay\\x85\\x8b>Y\\xc8{C'\\xe4\\xd5 \\x9d\\xcc\\xaa\\xf4@R\\xe2\"\n"
       ]
      },
      {
       "output_type": "stream",
       "stream": "stdout",
       "text": [
        "657638963263 'sh \\xd6-\\x98\\xd0\\x96;\\xaeD\\x18\\xfc\\xf2\\x0f\\xc2\\x8d\\xb8p\\x0c\\xe5#\\xc8\"\\x93\\xe8\\xdduT\\x96\\xf0\\x0c\\x9e\\x03\\xfd\\xa4\\x1e\\xe6U${\\xbe\\x02O3\\xbb\\xbb\\xfb'\n"
       ]
      },
      {
       "output_type": "stream",
       "stream": "stdout",
       "text": [
        "657664493547 'sh g\\xf2\\x90\\xb8\\x83V\\xa4\\xd3p\\x84\\x92\\xd8\\xb9\\x8e<{\\xc9nqf\\x10\\xc8\\x88\\x12\\xef\\xef\\x95\\xf1\\xb8\\xa7\\xc1\\xc9\\xbbg\\x9f\\xea:O\\xc6\\x81\\xb7\\xb6\\xe9\\xce\\xfc'\n"
       ]
      },
      {
       "output_type": "stream",
       "stream": "stdout",
       "text": [
        "657687168969 'sh \\xd95\\xf5\\x05\\xa8\\xa2\\xabD\\xdaT\\t\\xbf>\\x8a\\x88\\x8d\\x90\\xb7\\tM\\x80\\x912\"\\x99\\x97\\xde\\x1c\\x83\\xe8\\xa5\\x0bY\\\\R\\x11)_\\x81?D0\\xe5\\x02\\xa0'\n"
       ]
      },
      {
       "output_type": "stream",
       "stream": "stdout",
       "text": [
        "657708885677 'sh \\x11\\x10\\xfeQ~/\\x97OV\\xf3\\xe7G\\x10>\\xc0D{9R\\x0em\\x00/0\\xd2\\xb1t\\xfb\\xf6\\xd2\\xea\\x10\\x01\\x86\\xb4/\\xba@1\\xb2\\xd2\\xde\\xb7\\xb2\\xf9'\n"
       ]
      },
      {
       "output_type": "stream",
       "stream": "stdout",
       "text": [
        "657726677745 \"sh \\xf8?$\\xf4\\x1a#\\xbc\\x892\\xf8\\xda9\\x11\\xd4'&:\\xdc@;\\xcc\\xbe\\x13t\\n\\x8fe\\x01hS!\\xa0\\xc2\\x85\\xa4\\xb6\\x8e\\x9b\\r\\xea'Q\\xafW>\"\n"
       ]
      },
      {
       "output_type": "stream",
       "stream": "stdout",
       "text": [
        "657746673695 'sh \\x8a<3\\xa9\\xb0:L\\xb4\\x84\\x9a\\xa7\\xe0\\xc3pG\\x95\\\\\\xb3\\xd5\\xfe\\xfb\\xf4\\xa2\\x1b\\xbb\\x1ci\\xb4\\xf3R]T\"\\xb0\\x81\\xe8\\x02\\x86\\x95\\x97\\xc6\\xd2t\\r>'\n"
       ]
      },
      {
       "output_type": "stream",
       "stream": "stdout",
       "text": [
        "657755734212 'sh \\xbe\\xc8\\x07\\xcc\\x82\\x8c\\xcc&,\\xbb/I\\x9b\\xcfA\\xef\\x81\\xc4\\x00EVJ\\x0e\\xce\\xa2BL\\xe0\\xc9z\\xf5\\x11\\r\\x8b1]\\xa4DV\\xd9\\xe0\\xf7\\x18\\x9c\\xe2'\n"
       ]
      },
      {
       "output_type": "stream",
       "stream": "stdout",
       "text": [
        "657774244127 'sh e\\x81\\x8b`\\xcf\\xfc\\xd8\\x0e\\x0b\\xc0\\xb0\\x0e\\xda\\xf0\\xd7\\x08up\\x01\\x15\\x1b\\x9b\\xbd\\xd5gTB\\x83\\xfa\\x12\\xe1D\\x94\\x17\\x87\\xbf\\xac\\x8f\\xea\\xdfA\\x175\\xfdz'\n"
       ]
      },
      {
       "output_type": "stream",
       "stream": "stdout",
       "text": [
        "657794240124 'sh \\x9a\\x92w\\xcb\\xab\\x03!\\x83A\\xd6\\xac\\xed\\x03\\xe3\\xc1P\\xe75\\xc7zq\\x1e|\\x19TUe\\xf3S#\\x8f\\x81H\\x1b\\x8bTkWzc\\xdd\\xaa\\xff\\xfd\\xa6'\n"
       ]
      },
      {
       "output_type": "stream",
       "stream": "stdout",
       "text": [
        "657826749395 'sh K\\xa4(g\\x08\\xef\\x10?\\xf6\\x84D&\\xd2y\\x83\\xcc\\xa3\\xf3o\\xe0\\xfa\\xd3\\xbb\\xe93\\xbey/\\x1f\\x05\\xf0\\xe2\\xccJ\\xd0q\\x82\\xe3\\xd8:\\x1712\\x19]'\n"
       ]
      },
      {
       "output_type": "stream",
       "stream": "stdout",
       "text": [
        "657838360325 'sh \\x16\\x05P\\xb2\\x0e\\xa0\\xad\\xf1\\xef\\x9c\\xd2\\xf1\\x956\\x07\\xacR\\xa7\\x99\\xe6\\xe1\\xbe7\\xb9\\xa2\\xcc\\xa0\\x8f\\x16\\xdc\\xbf,\\xdf\\nf\\x88\\xa9\\x0e\\xddUE6\\xbe\\xddC'\n"
       ]
      },
      {
       "output_type": "stream",
       "stream": "stdout",
       "text": [
        "657862609299 'sh \\xc7\\xa0\\xf6\\x9a\\x96ITR\\x9c\\xc0\\\\\\xd3\\x01\\xfcrD\\xf5d\\xdd\\xd0\\xa0\\x17K\\xc2\\xe9Y\\xb8Kf\\rX\\xa1\\xe7T\\x85\\x90\\x04\\xab\\xb9\\x17\\xea\\x0c\\xce\\xf2A'\n"
       ]
      },
      {
       "output_type": "stream",
       "stream": "stdout",
       "text": [
        "657869135025 'sh u\\xd2\\xeb\\x82|Ie\\x92\\xd7v\\xbf\\tr\\xc2\\xfd8\\x05\\xcc[\\x0fq\\x08\\xa5Z\\x9e\\x97\\x99\\x15]v\\xa4sq,]7\\xd42\\xd7\\xe6\\xb9\\xf0\\xfa\\xef('\n"
       ]
      },
      {
       "output_type": "stream",
       "stream": "stdout",
       "text": [
        "657893459738 \"sh \\x1bz\\xb3>\\xb6\\x16\\x91\\x8b\\xc7\\xd2sQ\\xc9\\x9d\\x0c4\\x94\\x16\\x95\\xa6\\x17O5c\\x99\\xb5\\xafg'\\xf0f\\x82l\\xeb\\xfbK\\xda&f\\xfb\\x8f\\x05\\xa3\\xa6\\x15\"\n"
       ]
      },
      {
       "output_type": "stream",
       "stream": "stdout",
       "text": [
        "657929444455 'sh \\x01\\xc6\\xe5>8\\t<\\xe6\\x03\\xf0\\xe4hFEt\\xa3h\\x8fR\\xce\\xfb\\xb3\\xc8B\\x13\\xc68\\t\\x82I]U\\x18\\xb0\\xbc7;c\\x16\\xb9\\xf2\\xdfhJ\\xc7'\n"
       ]
      },
      {
       "output_type": "stream",
       "stream": "stdout",
       "text": [
        "657946238608 'sh \\x0c5\\xdf\\x98$\\x1ecE~\\x99\\xea\\xb7\\xaa^#\\x8d\\x86&\\n\\xe8\\xaa\\xa4b\\xb6K\\xac\\xbe@0\\x1d\\xc9\\xaf\\\\qb\\xde\\xf5LL\\xaf*\\xebcr+'\n"
       ]
      },
      {
       "output_type": "stream",
       "stream": "stdout",
       "text": [
        "657968257484 'sh d\\xd7\"\\x19F\\xba\\x02\\x1f\\x01ld\\xf6\\xfc\\x00J\\xc7VE\\xdc\\xac\\xc6\\xeb\\x12\\xe0I\\x1bH\\xe39\\xa1%<6\\x94qN*\\xda\\x08\\x13\\xb6w\\x99\\xf1\\x95'\n"
       ]
      },
      {
       "output_type": "stream",
       "stream": "stdout",
       "text": [
        "657978109992 'sh \\xf1MA \\x7fWuB.I\\t\\xe4@\\x84t\\xd8K/+\\x0f\\xf1\\xaa\\x84\\x15\\xdfF\\xd3jn\\x9b@\\x87S\\xd7\\x19\\xae\\xd2\\xab\\xad\\xb1\\xe2`l?\\xbd'\n"
       ]
      },
      {
       "output_type": "stream",
       "stream": "stdout",
       "text": [
        "657998322284 'sh \\x02a\\x0bk\\xda}\\x05|\\xb7N\"\\xb8\\xc2\\xb2\\xa2\\xdcR\\x9d\\x98Vb\\xc8w\\xa5HJ\\x81\\xf8\\xfe\\x83;2\\xe6D$\\xa7\\xf1|\\x0f1\\x0b\\x8b,\\x91\\xed'\n"
       ]
      },
      {
       "output_type": "stream",
       "stream": "stdout",
       "text": [
        "658028680563 'sh i\\xa9\\x0e\\x9f\\x1a\\x9c\\xd5\\xb3\\x11\\x04\\xb1\\x00c\\t\\xb7\\xb0\\xc3X\\xe1\\xc0\\xa1\\x12F*\\x8a\\xb5\\xb7\\xd0\\x8e\\x9bQM\\xd9g\\xf5\\xe1\\x9e\\xef\\x17\\xbd\\xf5i\\x83\\xd5\\xfc'\n"
       ]
      },
      {
       "output_type": "stream",
       "stream": "stdout",
       "text": [
        "658050339121 'sh !R^8u\\xcb\\xd9ny\\x84\\x1e\\xa8\\xd6T\\x97~OT\\xa0\\x12\\x9f\\xd1D\\x00\\x91\\xb9h\\xb5$0il\\xc4\\xac\\xee\\xb5b\\x88\\xbe\\x08\\xa0i\\xeb7!'\n"
       ]
      },
      {
       "output_type": "stream",
       "stream": "stdout",
       "text": [
        "658074951416 'sh :\\x86U\\xf3t\\xa4.\\xb3\\xa4e\\xaeJ\\x13;a\\xfe\\xa55\\xef\\xceW.\\xdb<\\x07n\\xcf\\xbb\\xf5&\\xd6.\\xd1\\x16d\\x05\\x9a\\xa5\\xc0\\xb6ln2\\xe4\\xf5'\n"
       ]
      },
      {
       "output_type": "stream",
       "stream": "stdout",
       "text": [
        "658096975239 'sh \\xe0Wu\\xa7\\xe3\\xa1\\xeftI\\x1e\\xe9|Q`\\x9caq\\xe2\\x18z\\x8c\\xd1\\xe2~d[f\\xf3\\xd6\\x99?\\x93\\xc0\\xd8xo\\t\\xdb\\xa1q\\xd2\\xa0\\xf4\\xe3\\xe8'\n"
       ]
      },
      {
       "output_type": "stream",
       "stream": "stdout",
       "text": [
        "658153364499 'sh \\xc0t\\x8e^\\xb7\\x82\\\\\\xf6Q\\xe3\\xc4\\xa5\\nf\\xe1\\x96\\xb4\\xc8\\xb4c\\xf0K\\xa5K\\xa5\\x17*\\xe0AA_\\x86U\\xdd\\xee\\x1fS1\\x0c\\x00\\xe2\\xcc\\xbb\\x00\\xd9'\n"
       ]
      },
      {
       "output_type": "stream",
       "stream": "stdout",
       "text": [
        "658162706448 'sh \\xd8\\xe3s\\xf8I\\xe9\\x1bd.\\x15\\x17x\\x90\\xf8D$\\xf7\\xe5:\\xb4a\\xca\\x87\\xbfX\\x81\\x80JD2x\\xca\\x88\\x80\\x95\\x03Xl<\\xa9\\xae\\x82\\xf1\\xa9\\x13'\n"
       ]
      },
      {
       "output_type": "stream",
       "stream": "stdout",
       "text": [
        "658179395596 'sh L\\x1d\\xa5\\x117R\\x06{=\\xf5i\\xef\\xf1\\xb2\\x18\\x95M;\\x04\\xae\\xf1\\x1b\\xa7vU.\\x1b\\xa5DNT\\xed\\x9fP\\xdcm\\\\\\xd9d\\x12&\\xcc\\x82\\xa2\\xfe'\n"
       ]
      },
      {
       "output_type": "stream",
       "stream": "stdout",
       "text": [
        "658193458630 'sh \\x94\\x05+l\\xc4\\xa3\\x12\\x1d\\x9d\\x8a\\xa3\\x8f?Y\\xbf3\\x81\\xc0\\xc6\\xf2\\xc9V\\x99*.\\x83\\x90CA\\xabe\\xa8\\xa2Fu\\xb1b;Q\\xe31\\xdb(*\\xf5'\n"
       ]
      },
      {
       "output_type": "stream",
       "stream": "stdout",
       "text": [
        "658215977521 'sh mrs\\xf0\\xb3\\x00\\xfe!\\xf36h\\xd0\\xc8\\xaa\\xc8Dz|\\x1b\\x02t\\xf5p\\xf1\\xfaR~I\\xc9d\\xfcu\\xb4V#\\xb9\\xd8q\\xc8x\\x8a\\xea\\x85\\xea\\xe9'\n"
       ]
      },
      {
       "output_type": "stream",
       "stream": "stdout",
       "text": [
        "658260427643 'sh \\xac\\xd8\\xbd\\x96\\xe0\\xe6\\x15\\x98\\xe2\\xed\\xf3\\x89\\x93\\xcc4/0\\x92\\x88v\\x88\\xe9\\xe9_w\\x94fF\\xe9\\xd7/gu\\xd2e\\x15\\xd9\\xc1EOCN\\x89\\xbb>'\n"
       ]
      },
      {
       "output_type": "stream",
       "stream": "stdout",
       "text": [
        "658285929665 'sh I2\\x1e\\xda\\xc8\\x11v\\x1b.# \\xeb\\x8f\\x87RD,\\xe9\\xd6gV\\x1d\\xe7s\\x1eh5\\xad\\xf9y_CS=\\x92\\xb2Wq\\n\\xa5\\xee\\x9f\\xc7\\xdf@'\n"
       ]
      },
      {
       "output_type": "stream",
       "stream": "stdout",
       "text": [
        "658298994548 'sh \\x92\\\\\\xd7\\xd1\\xd9\\xa5F-!\\xb9\\x80c\\x11\\xc6\\xdb@\\x86l$\\x9ai\\xa6\"\\x03\\x95=Gf]G\\xac\\xf7\\x7f\\xae\\xf9I\\x84\\x86\\xa1\\x1f\\x84\\xed\\xd4\\xb1\\xdd'\n"
       ]
      },
      {
       "output_type": "stream",
       "stream": "stdout",
       "text": [
        "658394519115 'sh \\xc9\\xae\\xdc\\x91\\xb7\\x95\\xdd\\xf6\\x15\\xf2\\x83\\xf7\\xff\\xf0o\\x8b\"\\xe5-\\x94\\xa6\\xfc0\\xba\\x80N\\x7fK2\\xef\\x1a\\xf5\\xb1\\x96\\x1e\\x89\\xa3\\x81\\xaa\\xd1t\\x86\\xa4\\xeaq'\n"
       ]
      },
      {
       "output_type": "stream",
       "stream": "stdout",
       "text": [
        "658421840117 'sh 4\\x94m\\x86j4\\xd6L\\xbf\\xcb\\xda8\\xa2\\xdb\\xf4\\x00bD\\x1a\\xea\\xffC\\x11\\x00\\t\\xb3\\x106\\xd7B\\xbe\\x92\\xbc\\xe0S\\xf4({PH\\xa7\\xec\\x8a\"\\xe2'\n"
       ]
      },
      {
       "output_type": "stream",
       "stream": "stdout",
       "text": [
        "658435006501 'sh \\xe32\\x80NQ\\xfc\"f{\\xdc\\x03~g\\xa5x\\xc1\\x9a\\xa0\\xce\\x1c\\xddPGT\\x07>{\\xf4#$\\x15|Y\\xc5\\x0bQ~X\\ng\\xae\\x98\\xd0\\xe7\\xce'\n"
       ]
      },
      {
       "output_type": "stream",
       "stream": "stdout",
       "text": [
        "658479832783 'sh \\x03jqY\\xa2\\xc4N\\x89\\xd3\\xfeS\\xfcD\\xfaO\\xbf\\xae\\xe8Z\\xd2\\xf6\\xbc\\x9b,\\xe3F\\x1c\\xedW]\\xa4\\xb1MDY\\x8e\\xe1\\xeb/\\x01hR\\x7fU\\xcf'\n"
       ]
      },
      {
       "output_type": "stream",
       "stream": "stdout",
       "text": [
        "658516029833 'sh \\x81\\x00%\\x99\\xf7\\x1a\\xab\\x94\\t\\x89\\xe9j\\x87\\xa2\\xa0[&e\\xe1y\\x81CJ`\\xc4\\x1f\\x95;\\xa0$]4Z?\\x80e\\xd4\\xdf&z\\xd0\\x13\\x1aB\\x19'\n"
       ]
      },
      {
       "output_type": "stream",
       "stream": "stdout",
       "text": [
        "658547978333 'sh \\xab\\xa7pI\\xc0kd`\\x8dm\\x11q\\xd0\\x97xK\\xb3\\xc1z\\x00F\\xa1e\\x0b\\x0b>,\\xb59\\x02\\n\\xdax\\x92\\x00\\xe56vD\\xa7\\x87\\xb6\\xc6\\x08\\xd3'\n"
       ]
      },
      {
       "output_type": "stream",
       "stream": "stdout",
       "text": [
        "658571592941 'sh \\xe9e\\x1cy\\xa1\\xa9\\xc9\\x97l\\xfa[\\xf3z\\xd7,iejc\\xed\\x934\\xa3\\x02-\\x86\\xb5\\xad\\x02\\xb9\\x15E/\\x0cK\\xc5\\xea\\x9b}_\\xec\\x11\\xd3u\\xa1'\n"
       ]
      },
      {
       "output_type": "stream",
       "stream": "stdout",
       "text": [
        "658602877245 'sh 4\\xe8\\x80\\x17Y[\\x08\\x9e\\xfcnG\\x9eq\\xd5\\xf2x\\x1afKx\\xf0\\\\\\x16\\x1b\\xfaU4x\\xf6\\xdb;{\\x00N\\xce\\xe1yu#\\x99\\xcd9\\xf0\\x0e\\xae'\n"
       ]
      },
      {
       "output_type": "stream",
       "stream": "stdout",
       "text": [
        "658623973089 'sh W\\xac8\\xdaY\\x81\\xc8\\x89\\xa8\\rt\\xb4\\x93\\xb0\\xb19@-\\x1c\\xfe\\xefi&\\xc8\\xfci\\x99Ln\\x91#&w)\\x18\\x98\\xb6F\\x86\\x8e\\xaf\\x12\\xf6O8'\n"
       ]
      },
      {
       "output_type": "stream",
       "stream": "stdout",
       "text": [
        "658702041182 'sh \\xbe\\xc7}\\xa9h\\x1ahO\\xab\\xbao\\x97\\x82&ycA^\\x9e\\x8b\\x92}\\x1d\\x05` \\xb7J\\xfa\\x1c\\x0f[o\\x1bR\\xa1\\x18\\xaa\\xd8\\xd2\\x821\\x1c\\xf6\\xc3'\n"
       ]
      },
      {
       "output_type": "stream",
       "stream": "stdout",
       "text": [
        "658722965604 'sh i\\x9e\\xcb\\x042;\\xa3M+P\\xb9\\xf7H}?\\x1e>\\xdf\\xc6r\\xf6x\\x9b=*\\x96$\\xd4i\\xcf\\xc9\\xdc+\\xaa\\xb7\\xdd\\x183\\\\\\xc9\\xb4\\xe4V\\xb00'\n"
       ]
      },
      {
       "output_type": "stream",
       "stream": "stdout",
       "text": [
        "658740092767 'sh \\x02\\xbd\\xe3\\xe3*\\xf2\\x0c\\xf3$\\x16\\x0ev\\xb2\\x04\\xb1;~\\xb8\\xa4\\x80U#\\xf2\\x08\\xc9\\xe8\\xbd\\xf0\\x08\\x1d\\xfea\\x15/q\\x95\\x11\\xcf\\x9d\\xcd\\x1b\\xf5c(\\x7f'\n"
       ]
      },
      {
       "output_type": "stream",
       "stream": "stdout",
       "text": [
        "658773481620 'sh =\\xe9\\xf9\\xe3\\xf0\\x07l\\xf1\\xf3h\\xc8\\xd8\\xd7\\xb8~\\xc8*\\x9d\\xc6\\xee\\xd0\\x16b\\xf2\\xd0\\xa8\\x96&\\x84<\\x1513l\\xa5\\x81\\xf5k\\xdd[\\x87\\xea}|*'\n"
       ]
      },
      {
       "output_type": "stream",
       "stream": "stdout",
       "text": [
        "658788778172 'sh \\xd7\\x11l\\x9d\\x84\\xdb\\xffy\\xba\\xf5\\xa42H\\xc9\\x810u\\xfa/p\\x8d5\\xd9\\xads>;6\\xca\\xab\\xe7\\x87l\\x0c\\xff}J$\\xed\\xb9\"\\xec\\xee\\x82w'\n"
       ]
      },
      {
       "output_type": "stream",
       "stream": "stdout",
       "text": [
        "658824144879 'sh \\xe9\\xeblB\\xca\\x8c\\xc6\\xc6\\xf2y\\xea\\xf5\\xb9\\x9e\\xc7\\xc3\\x173\\xd8\\xd98\\xc1\\xe5V\\x1frp\\xd3\\x88\\xeaD\\xe7\\xf5\\xa9\\x12\\x13\\x95\\xea\\x9fbp\\xc1x\\x11k'\n"
       ]
      },
      {
       "output_type": "stream",
       "stream": "stdout",
       "text": [
        "658855492457 'sh \\xf9\\xbej\\xf0yx\\x9f\\x00\\xc3\\x84\\xb3\\xa5\\x10c\\x0b^\\xdd<\\xe7\\xff\\x8c\\xa2\\x96/\\xef3\\xd7\\n\\xe7\\x9f\\xb9\\\\G\\xcb\\xb9\\xe3\\xdd\\xfe\\x19\\x00)\\xdc\\x90\\xfb\\x83'\n"
       ]
      },
      {
       "output_type": "stream",
       "stream": "stdout",
       "text": [
        "658867056548 'sh m\\xdc\\xeb\\x10\\xcdU\\xb7R\\x0f\\xde\\x0fm}\\xf0v\\x04\\xa84%\\x00-\\xb5\\x1a\\xfa\\xe62\\x9e\\x1d^\\xd0\\x0f\\x00\\x18G\\xeac\\xa4\\xc4\\xb4\\xe4\\xef\\xb9\\xcb.\\x08'\n"
       ]
      },
      {
       "output_type": "stream",
       "stream": "stdout",
       "text": [
        "658929173760 'sh wL\\x87\\x7ff\\xe3\\xabT\\xe9\\x842V}`\\xa2/\\xcb\\xf0\\xfc\\x8b\\x14-\\x7f\\xa2\\xad^.\\xe0\\xa7Y\\x12\\xd4\\xadi\\x9d\\x14\\x16X\\xea\\x92\\xa54^\\xa7\"'\n"
       ]
      },
      {
       "output_type": "stream",
       "stream": "stdout",
       "text": [
        "658951845316 'sh \\x13\\x0b&\\xb6\\xe3*\\xe0\\xaab\\x16ha\\xba\\x174\\xbe\\xd5\\xa72+\\xadV6$\\xee\\xdd\\xfa\\x9b[\\x88\\xa3t\\xe3@\\x17\\xa4\\x08Q\\xf5\\xe3g\\xc6\\xab\\x02\\xd0'\n"
       ]
      },
      {
       "output_type": "stream",
       "stream": "stdout",
       "text": [
        "659008951043 'sh \\x98>\\x9d\\xf3si\\xe7g-c\\xc0\\x98\\xfbfn0,\\x18@\\xe6ORI\\xcc\\xbd>\\xdeSO\\xba\\xb8\\xf9p\\xf9\\xf4\\x0c\\xe6\\x9d\\x99\\x83\\x03\"t\\xda_'\n"
       ]
      },
      {
       "output_type": "stream",
       "stream": "stdout",
       "text": [
        "659014884296 'sh \\xa9\\x96\\x10p\\x1d4yxem2\\xe1|\\xc6a\\xb5\\xe5{\\x8f\\xda\\xbb\\xddH\\x037-\\xa6\\x8f\\xc7\\xff\\xcb\\xf4\\xf5\\x90\\xf3\\xdeIz\\xcd.,\\xe2\\x88\\x17\\x07'\n"
       ]
      },
      {
       "output_type": "stream",
       "stream": "stdout",
       "text": [
        "659104571297 'sh \\x19\\xcb\\xbc\\xb8\\xd1\\xa0\\x8d\\xd7\\xd2r\\x17\\x1f\\n\\x80\\x07\\xce\\xc8\\x9c\\xab\\x00\\r\\xf8\\xb4\\x14\\xfc\\xf0.\\xd9\\xf2K\\x90ch\\xc9K\\xe7F\\\\\\xe9F\\x02\\x80>\\x12]'\n"
       ]
      },
      {
       "output_type": "stream",
       "stream": "stdout",
       "text": [
        "659123138668 'sh A~e\\x06\\x84Y\\x03\\x01_\\xf54\\x9d\\x83\\xcb\\x8b\\x1b\\xc7\\xc0\\x99\\xff\\xff\\xe1\\x17A\\xe7\\xc0\\xb4i\\xb6&y\\x0bF_;\\xc2\\xb3\\x93\\x8f\\xdem\\x7f\\x07y\\x95'\n"
       ]
      },
      {
       "output_type": "stream",
       "stream": "stdout",
       "text": [
        "659152827522 'sh \\xa9n\\xbd\\x9f\\xe8<_k\\xc0\\xffip\\x92\\xa6\\xcf\\\\\\xe7\\xc1\\x1f\\xe9\\x99\\x82\\x1f\\xb9n\\x01\\xad\\x15\\xb4D\\xd5A\\xe8\\xb6.\\xcc\\x01\\x1b\\xc4*,\\xae\\xf1\\xd2e'\n"
       ]
      },
      {
       "output_type": "stream",
       "stream": "stdout",
       "text": [
        "659167772763 'sh \\xa1\\x8fz\\xc1\\xe1\\xa7\\xdc<\\xea\\x9dm\\xda\\x80\\xbd\\x03\\xa3\\xb2X\\x08\\xd0\\x00\\xd9\\x8f\\x06\\x9d_8\\x0e\\xea6{ie\\xb3l+,\\x05ZqsFC\\xdf]'\n"
       ]
      },
      {
       "ename": "KeyboardInterrupt",
       "evalue": "",
       "output_type": "pyerr",
       "traceback": [
        "\u001b[1;31m---------------------------------------------------------------------------\u001b[0m\n\u001b[1;31mKeyboardInterrupt\u001b[0m                         Traceback (most recent call last)",
        "\u001b[1;32m<ipython-input-311-c3129f7c94ca>\u001b[0m in \u001b[0;36m<module>\u001b[1;34m()\u001b[0m\n\u001b[0;32m     38\u001b[0m     \u001b[1;31m#ret,i,output = ret0, i0, output0\u001b[0m\u001b[1;33m\u001b[0m\u001b[1;33m\u001b[0m\u001b[0m\n\u001b[0;32m     39\u001b[0m     \u001b[0mret\u001b[0m\u001b[1;33m.\u001b[0m\u001b[0mwait\u001b[0m\u001b[1;33m(\u001b[0m\u001b[1;33m)\u001b[0m\u001b[1;33m\u001b[0m\u001b[0m\n\u001b[1;32m---> 40\u001b[1;33m     \u001b[0mresult\u001b[0m \u001b[1;33m=\u001b[0m \u001b[0moutput\u001b[0m\u001b[1;33m.\u001b[0m\u001b[0mget\u001b[0m\u001b[1;33m(\u001b[0m\u001b[1;33m)\u001b[0m\u001b[1;33m\u001b[0m\u001b[0m\n\u001b[0m\u001b[0;32m     41\u001b[0m     \u001b[1;32mfor\u001b[0m \u001b[0mj\u001b[0m \u001b[1;32min\u001b[0m \u001b[0mnp\u001b[0m\u001b[1;33m.\u001b[0m\u001b[0mwhere\u001b[0m\u001b[1;33m(\u001b[0m\u001b[0mresult\u001b[0m\u001b[1;33m>\u001b[0m\u001b[1;36m0\u001b[0m\u001b[1;33m)\u001b[0m\u001b[1;33m[\u001b[0m\u001b[1;36m0\u001b[0m\u001b[1;33m]\u001b[0m\u001b[1;33m:\u001b[0m\u001b[1;33m\u001b[0m\u001b[0m\n\u001b[0;32m     42\u001b[0m         \u001b[0mx\u001b[0m \u001b[1;33m=\u001b[0m\u001b[0mi\u001b[0m\u001b[1;33m+\u001b[0m\u001b[1;33m(\u001b[0m\u001b[0mj\u001b[0m\u001b[1;33m<<\u001b[0m\u001b[1;36m24\u001b[0m\u001b[1;33m)\u001b[0m\u001b[1;33m+\u001b[0m\u001b[0mresult\u001b[0m\u001b[1;33m[\u001b[0m\u001b[0mj\u001b[0m\u001b[1;33m]\u001b[0m\u001b[1;33m\u001b[0m\u001b[0m\n",
        "\u001b[1;32m/usr/local/lib/python2.7/dist-packages/pyopencl-2014.1-py2.7-linux-x86_64.egg/pyopencl/array.pyc\u001b[0m in \u001b[0;36mget\u001b[1;34m(self, queue, ary, async)\u001b[0m\n\u001b[0;32m    690\u001b[0m             cl.enqueue_copy(queue or self.queue, ary, self.base_data,\n\u001b[0;32m    691\u001b[0m                     \u001b[0mdevice_offset\u001b[0m\u001b[1;33m=\u001b[0m\u001b[0mself\u001b[0m\u001b[1;33m.\u001b[0m\u001b[0moffset\u001b[0m\u001b[1;33m,\u001b[0m\u001b[1;33m\u001b[0m\u001b[0m\n\u001b[1;32m--> 692\u001b[1;33m                     is_blocking=not async)\n\u001b[0m\u001b[0;32m    693\u001b[0m \u001b[1;33m\u001b[0m\u001b[0m\n\u001b[0;32m    694\u001b[0m         \u001b[1;32mreturn\u001b[0m \u001b[0mary\u001b[0m\u001b[1;33m\u001b[0m\u001b[0m\n",
        "\u001b[1;32m/usr/local/lib/python2.7/dist-packages/pyopencl-2014.1-py2.7-linux-x86_64.egg/pyopencl/__init__.pyc\u001b[0m in \u001b[0;36menqueue_copy\u001b[1;34m(queue, dest, src, **kwargs)\u001b[0m\n\u001b[0;32m   1088\u001b[0m                     \u001b[1;32mreturn\u001b[0m \u001b[0m_cl\u001b[0m\u001b[1;33m.\u001b[0m\u001b[0m_enqueue_read_buffer_rect\u001b[0m\u001b[1;33m(\u001b[0m\u001b[0mqueue\u001b[0m\u001b[1;33m,\u001b[0m \u001b[0msrc\u001b[0m\u001b[1;33m,\u001b[0m \u001b[0mdest\u001b[0m\u001b[1;33m,\u001b[0m \u001b[1;33m**\u001b[0m\u001b[0mkwargs\u001b[0m\u001b[1;33m)\u001b[0m\u001b[1;33m\u001b[0m\u001b[0m\n\u001b[0;32m   1089\u001b[0m                 \u001b[1;32melse\u001b[0m\u001b[1;33m:\u001b[0m\u001b[1;33m\u001b[0m\u001b[0m\n\u001b[1;32m-> 1090\u001b[1;33m                     \u001b[1;32mreturn\u001b[0m \u001b[0m_cl\u001b[0m\u001b[1;33m.\u001b[0m\u001b[0m_enqueue_read_buffer\u001b[0m\u001b[1;33m(\u001b[0m\u001b[0mqueue\u001b[0m\u001b[1;33m,\u001b[0m \u001b[0msrc\u001b[0m\u001b[1;33m,\u001b[0m \u001b[0mdest\u001b[0m\u001b[1;33m,\u001b[0m \u001b[1;33m**\u001b[0m\u001b[0mkwargs\u001b[0m\u001b[1;33m)\u001b[0m\u001b[1;33m\u001b[0m\u001b[0m\n\u001b[0m\u001b[0;32m   1091\u001b[0m             \u001b[1;32melif\u001b[0m \u001b[0msrc\u001b[0m\u001b[1;33m.\u001b[0m\u001b[0mtype\u001b[0m \u001b[1;32min\u001b[0m \u001b[1;33m[\u001b[0m\u001b[0mmem_object_type\u001b[0m\u001b[1;33m.\u001b[0m\u001b[0mIMAGE2D\u001b[0m\u001b[1;33m,\u001b[0m \u001b[0mmem_object_type\u001b[0m\u001b[1;33m.\u001b[0m\u001b[0mIMAGE3D\u001b[0m\u001b[1;33m]\u001b[0m\u001b[1;33m:\u001b[0m\u001b[1;33m\u001b[0m\u001b[0m\n\u001b[0;32m   1092\u001b[0m                 \u001b[0morigin\u001b[0m \u001b[1;33m=\u001b[0m \u001b[0mkwargs\u001b[0m\u001b[1;33m.\u001b[0m\u001b[0mpop\u001b[0m\u001b[1;33m(\u001b[0m\u001b[1;34m\"origin\"\u001b[0m\u001b[1;33m)\u001b[0m\u001b[1;33m\u001b[0m\u001b[0m\n",
        "\u001b[1;31mKeyboardInterrupt\u001b[0m: "
       ]
      }
     ],
     "prompt_number": 311
    },
    {
     "cell_type": "code",
     "collapsed": false,
     "input": [
      "js = \"\"\"<script>\n",
      "CodeMirror.requireMode('clike', function(){})\n",
      "cells = IPython.notebook.get_cells()\n",
      "for(i in cells){\n",
      "if(cells[i].code_mirror.getValue().indexOf(\"%%cl_kernel\")==0){\n",
      "     console.log(\"set cell \"+i)\n",
      "     cells[i].code_mirror.setOption('mode', 'clike')\n",
      "     }\n",
      "}\n",
      "</script>\n",
      "\"\"\"\n",
      "display(HTMLWidget(value=js))"
     ],
     "language": "python",
     "metadata": {},
     "outputs": [],
     "prompt_number": 223
    },
    {
     "cell_type": "code",
     "collapsed": false,
     "input": [
      "%qtconsole --colors=linux"
     ],
     "language": "python",
     "metadata": {},
     "outputs": [],
     "prompt_number": 218
    },
    {
     "cell_type": "code",
     "collapsed": false,
     "input": [],
     "language": "python",
     "metadata": {},
     "outputs": []
    }
   ],
   "metadata": {}
  }
 ]
}