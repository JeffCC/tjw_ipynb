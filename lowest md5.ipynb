{
 "metadata": {
  "name": "",
  "signature": "sha256:50968eb0284bee9ee8f9cd608978ccb80d0b5a745302f4bcda63f6c7a41d6223"
 },
 "nbformat": 3,
 "nbformat_minor": 0,
 "worksheets": [
  {
   "cells": [
    {
     "cell_type": "code",
     "collapsed": false,
     "input": [
      "from __future__ import division\n",
      "from IPython.html.widgets import *\n",
      "from IPython.display import display\n",
      "from collections import Counter\n",
      "from itertools import combinations, chain\n",
      "from hashlib import sha384\n",
      "from time import time\n",
      "from sys import stdout"
     ],
     "language": "python",
     "metadata": {},
     "outputs": []
    },
    {
     "cell_type": "code",
     "collapsed": false,
     "input": [
      "# OPENCL VERSION STARTS HERE\n",
      "from collections import Counter\n",
      "s0=\"\"\"http://weijr-eng.blogspot.com https://github.com/tjwei/ AAAAAAAA\"\"\"\n",
      "len(s0), s0.find('A')"
     ],
     "language": "python",
     "metadata": {},
     "outputs": []
    },
    {
     "cell_type": "code",
     "collapsed": false,
     "input": [
      "from __future__ import division\n",
      "import numpy as np\n",
      "import pyopencl as cl\n",
      "import pyopencl.array\n",
      "import pyopencl.tools\n",
      "%load_ext pyopencl.ipython_ext"
     ],
     "language": "python",
     "metadata": {},
     "outputs": []
    },
    {
     "cell_type": "code",
     "collapsed": false,
     "input": [
      "ctx = cl.create_some_context()\n",
      "queue = cl.CommandQueue(ctx)\n",
      "device=ctx.devices[0]\n",
      "print device.max_mem_alloc_size\n",
      "print device.max_work_group_size"
     ],
     "language": "python",
     "metadata": {},
     "outputs": []
    },
    {
     "cell_type": "code",
     "collapsed": false,
     "input": [
      "%%cl_kernel \n",
      "__kernel void kernel_md5(__const ulong base, __global  uint * out_buffer)\n",
      "{\n",
      "    __private uint X[16]={0x77777777,0,0,0x80,0,0,0,0,0,0,0,0,0,0,0,0};\n",
      "\tuint id = get_global_id(0);\n",
      "    ulong code = base + id;\n",
      "    X[1] = code >> 32;\n",
      "    X[2] = code &0xffffffff;\t\t\n",
      "\t__private uint A, B, C, D;\n",
      "#define S(x,n)   rotate(x,n)\n",
      "#define P(a,b,c,d,k,s,t)\ta += F(b,c,d) + X[k] + t; a = S(a,s) + b;\t\t\n",
      "#define P0(a,b,c,d,k,s,t)\ta += F(b,c,d) + t; a = S(a,s) + b;\t\t\t\n",
      "#define P14(a,b,c,d,k,s,t) \ta += F(b,c,d) + 96 + t; a = S(a,s) + b;\t\n",
      "\n",
      "    A = 0x67452301;\n",
      "    B = 0xefcdab89;\n",
      "    C = 0x98badcfe;\n",
      "    D = 0x10325476;\n",
      "   \n",
      "#define F(x,y,z) bitselect(z, y,x)\n",
      "\n",
      "    P( A, B, C, D,  0,  7U, 0xD76AA478 );\n",
      "    P( D, A, B, C,  1, 12U, 0xE8C7B756 );\n",
      "    P( C, D, A, B,  2, 17U, 0x242070DB );\n",
      "    P( B, C, D, A,  3, 22U, 0xC1BDCEEE );\n",
      "    P0( A, B, C, D,  4,  7U, 0xF57C0FAF );\n",
      "    P0( D, A, B, C,  5, 12U, 0x4787C62A );\n",
      "    P0( C, D, A, B,  6, 17U, 0xA8304613 );\n",
      "    P0( B, C, D, A,  7, 22U, 0xFD469501 );\n",
      "    P0( A, B, C, D,  8,  7U, 0x698098D8 );\n",
      "    P0( D, A, B, C,  9, 12U, 0x8B44F7AF );\n",
      "    P0( C, D, A, B, 10, 17U, 0xFFFF5BB1 );\n",
      "    P0( B, C, D, A, 11, 22U, 0x895CD7BE );\n",
      "    P0( A, B, C, D, 12,  7U, 0x6B901122 );\n",
      "    P0( D, A, B, C, 13, 12U, 0xFD987193 );\n",
      "    P14( C, D, A, B, 14, 17U, 0xA679438E );\n",
      "    P0( B, C, D, A, 15, 22U, 0x49B40821 );\n",
      "\n",
      "#undef F\n",
      "#define F(x,y,z) bitselect(y,x, z)\n",
      "\n",
      "    P( A, B, C, D,  1,  5U, 0xF61E2562 );\n",
      "    P0( D, A, B, C,  6,  9U, 0xC040B340 );\n",
      "\tP0( C, D, A, B, 11, 14U, 0x265E5A51 );\n",
      "    P( B, C, D, A,  0, 20U, 0xE9B6C7AA );\n",
      "    P0( A, B, C, D,  5,  5U, 0xD62F105D );\n",
      "    P0( D, A, B, C, 10,  9U, 0x02441453 );\n",
      "    P0( C, D, A, B, 15, 14U, 0xD8A1E681 );\n",
      "    P0( B, C, D, A,  4, 20U, 0xE7D3FBC8 );\n",
      "    P0( A, B, C, D,  9,  5U, 0x21E1CDE6 );\n",
      "    P14( D, A, B, C, 14,  9U, 0xC33707D6 );\n",
      "    P( C, D, A, B,  3, 14U, 0xF4D50D87 );\n",
      "    P0( B, C, D, A,  8, 20U, 0x455A14ED );\n",
      "    P0( A, B, C, D, 13,  5U, 0xA9E3E905 );\n",
      "    P( D, A, B, C,  2,  9U, 0xFCEFA3F8 );\n",
      "    P0( C, D, A, B,  7, 14U, 0x676F02D9 );\n",
      "    P0( B, C, D, A, 12, 20U, 0x8D2A4C8A );\n",
      "\n",
      "#undef F\n",
      "    \n",
      "#define F(x,y,z) (x ^ y ^ z)\n",
      "\n",
      "    P( A, B, C, D,  5,  4U, 0xFFFA3942 );\n",
      "    P( D, A, B, C,  8, 11U, 0x8771F681 );\n",
      "    P( C, D, A, B, 11, 16U, 0x6D9D6122 );\n",
      "    P14( B, C, D, A, 14, 23U, 0xFDE5380C );\n",
      "    P( A, B, C, D,  1,  4U, 0xA4BEEA44 );\n",
      "    P( D, A, B, C,  4, 11U, 0x4BDECFA9 );\n",
      "    P( C, D, A, B,  7, 16U, 0xF6BB4B60 );\n",
      "    P( B, C, D, A, 10, 23U, 0xBEBFBC70 );\n",
      "    P( A, B, C, D, 13,  4U, 0x289B7EC6 );\n",
      "    P( D, A, B, C,  0, 11U, 0xEAA127FA );\n",
      "    P( C, D, A, B,  3, 16U, 0xD4EF3085 );\n",
      "    P( B, C, D, A,  6, 23U, 0x04881D05 );\n",
      "    P( A, B, C, D,  9,  4U, 0xD9D4D039 );\n",
      "    P( D, A, B, C, 12, 11U, 0xE6DB99E5 );\n",
      "    P( C, D, A, B, 15, 16U, 0x1FA27CF8 );\n",
      "    P( B, C, D, A,  2, 23U, 0xC4AC5665 );\n",
      "\n",
      "#undef F\n",
      "\n",
      "#define F(x,y,z) (y ^ (x | ~z))\n",
      "\n",
      "    P( A, B, C, D,  0,  6U, 0xF4292244 );\n",
      "    P( D, A, B, C,  7, 10U, 0x432AFF97 );\n",
      "    P14( C, D, A, B, 14, 15U, 0xAB9423A7 );\n",
      "    P( B, C, D, A,  5, 21U, 0xFC93A039 );\n",
      "    P( A, B, C, D, 12,  6U, 0x655B59C3 );\n",
      "    P( D, A, B, C,  3, 10U, 0x8F0CCC92 );\n",
      "    P( C, D, A, B, 10, 15U, 0xFFEFF47D );\n",
      "    P( B, C, D, A,  1, 21U, 0x85845DD1 );\n",
      "    P( A, B, C, D,  8,  6U, 0x6FA87E4F );\n",
      "    P( D, A, B, C, 15, 10U, 0xFE2CE6E0 );\n",
      "    P( C, D, A, B,  6, 15U, 0xA3014314 );\n",
      "    P( B, C, D, A, 13, 21U, 0x4E0811A1 );\n",
      "    P( A, B, C, D,  4,  6U, 0xF7537E82 );\n",
      "    \n",
      "    if( (A&0xFFFFFFFEU) == 2562383102U ) {        \n",
      "        P( D, A, B, C, 11, 10U, 0xBD3AF235 );\n",
      "        P( C, D, A, B,  2, 15U, 0x2AD7D2BB );\n",
      "        P( B, C, D, A,  9, 21U, 0xEB86D391 );\n",
      "        A+=0x67452301;\n",
      "        B += 0xefcdab89;\n",
      "    if( ( (B^A)&0xf0)==0)\n",
      "   out_buffer[id&0xf]=0x80000000|id; \n",
      "   }\n",
      "    \n",
      "#undef F\n",
      "\n",
      "}\n"
     ],
     "language": "python",
     "metadata": {},
     "outputs": [],
     "prompt_number": 181
    },
    {
     "cell_type": "code",
     "collapsed": false,
     "input": [
      "import sys\n",
      "from time import sleep, time\n",
      "step = 2**28\n",
      "output=cl.array.zeros(queue, 16, dtype=np.uint32) \n",
      "t0=time()\n",
      "for i in range(0, 2**38, step):\n",
      "    output.fill(0, queue)\n",
      "    ret = kernel_md5(queue, (step,), None, np.uint64(i), output.data)\n",
      "    ret.wait()\n",
      "    result = output.get()\n",
      "    for j in np.where(result>0)[0]:\n",
      "        x =i+(result[j]&0x7fffffff)\n",
      "        y = x >>32\n",
      "        x = x&0xffffffff\n",
      "        s = \"wwww\"+      \"\".join(chr((y>>(t*8))&0xff) for t in range(4)) +      \"\".join(chr((x>>(t*8))&0xff) for t in range(4))\n",
      "        print hex(x), md5(s).hexdigest(),repr(s)\n",
      "        sys.stdout.flush()\n",
      "    #sleep(1)\n",
      "print time()-t0"
     ],
     "language": "python",
     "metadata": {},
     "outputs": [
      {
       "output_type": "stream",
       "stream": "stdout",
       "text": [
        "0xa911f869L 000000000b5ef0708c2b963ae8544e48 'wwww\\x05\\x00\\x00\\x00i\\xf8\\x11\\xa9'\n"
       ]
      },
      {
       "output_type": "stream",
       "stream": "stdout",
       "text": [
        "0xebc048b7L fffffffffd5bd494a508c0d7f82aff6f 'wwww\\x1a\\x00\\x00\\x00\\xb7H\\xc0\\xeb'\n"
       ]
      },
      {
       "output_type": "stream",
       "stream": "stdout",
       "text": [
        "0x337d0d3dL fffffffffe5be51432e43fefe56ed194 'wwww\\x1f\\x00\\x00\\x00=\\r}3'\n"
       ]
      },
      {
       "output_type": "stream",
       "stream": "stdout",
       "text": [
        "0x2922cd78L fffffffffc87b73478e5b22e82603cf7 'wwww#\\x00\\x00\\x00x\\xcd\")'\n"
       ]
      },
      {
       "output_type": "stream",
       "stream": "stdout",
       "text": [
        "0x521528b4L 000000000f819ea5f66172fabb95434c 'wwww)\\x00\\x00\\x00\\xb4(\\x15R'\n"
       ]
      },
      {
       "output_type": "stream",
       "stream": "stdout",
       "text": [
        "0xcb30354fL 0000000007bba25e7dfd308b15a5acf3 'wwww.\\x00\\x00\\x00O50\\xcb'\n"
       ]
      },
      {
       "output_type": "stream",
       "stream": "stdout",
       "text": [
        "0x6dff9b98L 000000000f1dfa3e603b0aa0db431209 'wwww/\\x00\\x00\\x00\\x98\\x9b\\xffm'\n"
       ]
      },
      {
       "output_type": "stream",
       "stream": "stdout",
       "text": [
        "0xbe17fcb4L 000000000b4b58a347c3b47bc0c3d7be 'wwww0\\x00\\x00\\x00\\xb4\\xfc\\x17\\xbe'\n"
       ]
      },
      {
       "output_type": "stream",
       "stream": "stdout",
       "text": [
        "0x6a57901aL fffffffffb75c7bd7bd249b989d740e7 'wwww1\\x00\\x00\\x00\\x1a\\x90Wj'\n"
       ]
      },
      {
       "output_type": "stream",
       "stream": "stdout",
       "text": [
        "46.5745768547\n"
       ]
      }
     ],
     "prompt_number": 182
    },
    {
     "cell_type": "code",
     "collapsed": false,
     "input": [
      "filter(lambda s:s.startswith('0x0'), map(hex, result))"
     ],
     "language": "python",
     "metadata": {},
     "outputs": []
    },
    {
     "cell_type": "code",
     "collapsed": false,
     "input": [
      "from hashlib import md5\n",
      "for i in range(10):\n",
      "    print md5(\"wwww\\x00\\x00\\x00\\x00%s\\x00\\x00\\x00\"%chr(i)).hexdigest()[:8]"
     ],
     "language": "python",
     "metadata": {},
     "outputs": []
    },
    {
     "cell_type": "code",
     "collapsed": false,
     "input": [
      "display(HTMLWidget( value =\"\"\"\n",
      "<script>\n",
      "\n",
      "CodeMirror.requireMode('clike', function(){\n",
      "var cells = IPython.notebook.get_cells();\n",
      "for(var i in cells){\n",
      "if(cells[i].code_mirror.getValue().indexOf(\"%%cl_kernel\")==0){cells[i].code_mirror.setOption('mode', 'clike');}\n",
      "}\n",
      "})\n",
      "\n",
      "</script>\n",
      "\"\"\"))"
     ],
     "language": "python",
     "metadata": {},
     "outputs": [],
     "prompt_number": 163
    },
    {
     "cell_type": "code",
     "collapsed": false,
     "input": [],
     "language": "python",
     "metadata": {},
     "outputs": []
    }
   ],
   "metadata": {}
  }
 ]
}