{
 "metadata": {
  "name": "",
  "signature": "sha256:d97f4207b1c0d3f38e3ffb49dcc7f84d2c5ad4d18303cef07df3b4d87f2114fa"
 },
 "nbformat": 3,
 "nbformat_minor": 0,
 "worksheets": [
  {
   "cells": [
    {
     "cell_type": "code",
     "collapsed": false,
     "input": [
      "from __future__ import division\n",
      "from IPython.html.widgets import *\n",
      "from IPython.display import display\n",
      "from collections import Counter\n",
      "from itertools import combinations, chain\n",
      "from hashlib import sha384\n",
      "from time import time\n",
      "from sys import stdout"
     ],
     "language": "python",
     "metadata": {},
     "outputs": []
    },
    {
     "cell_type": "code",
     "collapsed": false,
     "input": [
      "display(HTMLWidget( value =\"\"\"\n",
      "<script>\n",
      "\n",
      "CodeMirror.requireMode('clike', function(){\n",
      "var cells = IPython.notebook.get_cells();\n",
      "for(var i in cells){\n",
      "if(cells[i].code_mirror.getValue().indexOf(\"%%cl_kernel\")==0){cells[i].code_mirror.setOption('mode', 'clike');}\n",
      "}\n",
      "})\n",
      "\n",
      "</script>\n",
      "\"\"\"))"
     ],
     "language": "python",
     "metadata": {},
     "outputs": []
    },
    {
     "cell_type": "code",
     "collapsed": false,
     "input": [
      "from __future__ import division\n",
      "import numpy as np\n",
      "import pyopencl as cl\n",
      "import pyopencl.array\n",
      "import pyopencl.tools\n",
      "%load_ext pyopencl.ipython_ext"
     ],
     "language": "python",
     "metadata": {},
     "outputs": []
    },
    {
     "cell_type": "code",
     "collapsed": false,
     "input": [
      "ctx = cl.create_some_context()\n",
      "queue = cl.CommandQueue(ctx)\n",
      "device=ctx.devices[0]\n",
      "print device.max_mem_alloc_size\n",
      "print device.max_work_group_size"
     ],
     "language": "python",
     "metadata": {},
     "outputs": []
    },
    {
     "cell_type": "code",
     "collapsed": false,
     "input": [
      "def python_md5(plaintext, pre_calculate=False):    \n",
      "    print len(plaintext)\n",
      "    if pre_calculate:\n",
      "        assert len(plaintext)>=52\n",
      "    X = np.zeros(16, dtype=np.uint32)\n",
      "    DATA =   np.uint32([0x67452301, 0xefcdab89, 0x98badcfe, 0x10325476]) \n",
      "    for i,c in enumerate(plaintext):    \n",
      "        X[i >> 2] |= ord(c) << ((i & 3) << 3)\n",
      "    X[len(plaintext) >> 2] |=   0x80 << ((len(plaintext) & 3) << 3)\n",
      "    X[14] = len(plaintext) << 3    \n",
      "    print map(hex, X)\n",
      "    S = lambda x,n : ((x << n) | ((x&0xffffffff) >> (32 - n)))& 0xFFFFFFFF    \n",
      "    \n",
      "    def P(i0,i1,i2,i3,k,s,t): \n",
      "        a,b,c,d = DATA[i0], DATA[i1], DATA[i2], DATA[i3]\n",
      "        a += F(b,c,d) + X[k] + t\n",
      "        a = S(a,s) + b\n",
      "        DATA[i0] = a & 0xFFFFFFFF\n",
      "        \n",
      "    A,B,C,D = 0,1,2,3   \n",
      "    F = lambda x,y,z: (z ^ (x & (y ^ z)))\n",
      "    P( A, B, C, D,  0,  7, 0xD76AA478 );\n",
      "    P( D, A, B, C,  1, 12, 0xE8C7B756 );\n",
      "    P( C, D, A, B,  2, 17, 0x242070DB );\n",
      "    P( B, C, D, A,  3, 22, 0xC1BDCEEE );\n",
      "    P( A, B, C, D,  4,  7, 0xF57C0FAF );\n",
      "    P( D, A, B, C,  5, 12, 0x4787C62A );\n",
      "    P( C, D, A, B,  6, 17, 0xA8304613 );\n",
      "    P( B, C, D, A,  7, 22, 0xFD469501 );\n",
      "    P( A, B, C, D,  8,  7, 0x698098D8 );\n",
      "    P( D, A, B, C,  9, 12, 0x8B44F7AF );\n",
      "    P( C, D, A, B, 10, 17, 0xFFFF5BB1 );\n",
      "    if pre_calculate:\n",
      "        with open(\"lowest_md5.h\",\"w\") as f:\n",
      "            for i in range(16):\n",
      "                if i not in [11, 12]:                \n",
      "                    print >>f, \"#define X%d 0x%xU\"%(i, X[i])\n",
      "                    # print \"#define X%d 0x%xU\"%(i, X[i])\n",
      "            for i in range(4):\n",
      "                    print >>f, \"#define DATA%d 0x%xU\"%(i, DATA[i])\n",
      "                    # print \"#define DATA%d 0x%xU\"%(i, DATA[i])                \n",
      "    P( B, C, D, A, 11, 22, 0x895CD7BE );\n",
      "    P( A, B, C, D, 12,  7, 0x6B901122 );\n",
      "    P( D, A, B, C, 13, 12, 0xFD987193 );\n",
      "    P( C, D, A, B, 14, 17, 0xA679438E );\n",
      "    P( B, C, D, A, 15, 22, 0x49B40821 );\n",
      "    \n",
      "    F = lambda x,y,z:  (y ^ (z & (x ^ y)))\n",
      "    P( A, B, C, D,  1,  5, 0xF61E2562 );\n",
      "    P( D, A, B, C,  6,  9, 0xC040B340 )\n",
      "    P( C, D, A, B, 11, 14, 0x265E5A51 )\n",
      "    P( B, C, D, A,  0, 20, 0xE9B6C7AA );\n",
      "    P( A, B, C, D,  5,  5, 0xD62F105D );\n",
      "    P( D, A, B, C, 10,  9, 0x02441453 );\n",
      "    P( C, D, A, B, 15, 14, 0xD8A1E681 );\n",
      "    P( B, C, D, A,  4, 20, 0xE7D3FBC8 );\n",
      "    P( A, B, C, D,  9,  5, 0x21E1CDE6 );\n",
      "    P( D, A, B, C, 14,  9, 0xC33707D6 );\n",
      "    P( C, D, A, B,  3, 14, 0xF4D50D87 );\n",
      "    P( B, C, D, A,  8, 20, 0x455A14ED );\n",
      "    P( A, B, C, D, 13,  5, 0xA9E3E905 );\n",
      "    P( D, A, B, C,  2,  9, 0xFCEFA3F8 )\n",
      "    P( C, D, A, B,  7, 14, 0x676F02D9 )\n",
      "    P( B, C, D, A, 12, 20, 0x8D2A4C8A );\n",
      "    \n",
      "    F = lambda x,y,z:  x ^ y ^ z\n",
      "    P( A, B, C, D,  5,  4, 0xFFFA3942 );\n",
      "    P( D, A, B, C,  8, 11, 0x8771F681 );\n",
      "    P( C, D, A, B, 11, 16, 0x6D9D6122 );\n",
      "    P( B, C, D, A, 14, 23, 0xFDE5380C );\n",
      "    P( A, B, C, D,  1,  4, 0xA4BEEA44 );\n",
      "    P( D, A, B, C,  4, 11, 0x4BDECFA9 );\n",
      "    P( C, D, A, B,  7, 16, 0xF6BB4B60 );\n",
      "    P( B, C, D, A, 10, 23, 0xBEBFBC70 );\n",
      "    P( A, B, C, D, 13,  4, 0x289B7EC6 );\n",
      "    P( D, A, B, C,  0, 11, 0xEAA127FA );\n",
      "    P( C, D, A, B,  3, 16, 0xD4EF3085 );\n",
      "    P( B, C, D, A,  6, 23, 0x04881D05 );\n",
      "    P( A, B, C, D,  9,  4, 0xD9D4D039 );\n",
      "    P( D, A, B, C, 12, 11, 0xE6DB99E5 );\n",
      "    P( C, D, A, B, 15, 16, 0x1FA27CF8 );\n",
      "    P( B, C, D, A,  2, 23, 0xC4AC5665 );\n",
      "\n",
      "    F = lambda x,y,z:  (y ^ (x | ~z))\n",
      "\n",
      "    P( A, B, C, D,  0,  6, 0xF4292244 );\n",
      "    P( D, A, B, C,  7, 10, 0x432AFF97 );\n",
      "    P( C, D, A, B, 14, 15, 0xAB9423A7 );\n",
      "    P( B, C, D, A,  5, 21, 0xFC93A039 );\n",
      "    P( A, B, C, D, 12,  6, 0x655B59C3 );\n",
      "    P( D, A, B, C,  3, 10, 0x8F0CCC92 );\n",
      "    P( C, D, A, B, 10, 15, 0xFFEFF47D );\n",
      "    P( B, C, D, A,  1, 21, 0x85845DD1 );\n",
      "    P( A, B, C, D,  8,  6, 0x6FA87E4F );\n",
      "    P( D, A, B, C, 15, 10, 0xFE2CE6E0 );\n",
      "    P( C, D, A, B,  6, 15, 0xA3014314 );\n",
      "    P( B, C, D, A, 13, 21, 0x4E0811A1 );\n",
      "    P( A, B, C, D,  4,  6, 0xF7537E82 );\n",
      "    P( D, A, B, C, 11, 10, 0xBD3AF235 );\n",
      "    P( C, D, A, B,  2, 15, 0x2AD7D2BB );\n",
      "    P( B, C, D, A,  9, 21, 0xEB86D391 );\n",
      "    DATA[0]=(DATA[0]+0x67452301)&0xffffffff\n",
      "    DATA[1]=(DATA[1]+0xefcdab89)&0xffffffff\n",
      "    DATA[2]=(DATA[2]+0x98badcfe)&0xffffffff\n",
      "    DATA[3]=(DATA[3]+0x10325476)&0xffffffff\n",
      "    return DATA\n"
     ],
     "language": "python",
     "metadata": {},
     "outputs": []
    },
    {
     "cell_type": "code",
     "collapsed": false,
     "input": [
      "s0 = \"http://weijr-eng.blogspot.com\"\n",
      "template_str = s0+\" \"*(52-len(s0)-8)+\"AAAAAAAA\"\n",
      "print map(hex, python_md5(template_str, True))\n",
      "from hashlib import md5\n",
      "md5(template_str).hexdigest()"
     ],
     "language": "python",
     "metadata": {},
     "outputs": []
    },
    {
     "cell_type": "code",
     "collapsed": false,
     "input": [
      "%%cl_kernel -o \"-I . -cl-strict-aliasing\"\n",
      "#include \"lowest_md5.h\"\n",
      "__kernel void kernel_md5(__const ulong base, __global  uint * out_buffer)\n",
      "{    \n",
      "\tuint id = get_global_id(0);\n",
      "    ulong code = base + id;\n",
      "    __private uint X11 = code >> 32;\n",
      "    __private uint X12 = code &0xffffffff;\t\t\n",
      "\t__private uint A, B, C, D;\n",
      "#define S(x,n)   rotate(x,n)\n",
      "#define P(a,b,c,d,k,s,t)\ta += F(b,c,d) + X##k + t; a = S(a,s) + b;\t\t\n",
      "\n",
      "    A = DATA0;\n",
      "    B = DATA1;\n",
      "    C = DATA2;\n",
      "    D = DATA3;\n",
      "   \n",
      "#define F(x,y,z) bitselect(z, y,x)\n",
      "\n",
      "    P( B, C, D, A, 11, 22U, 0x895CD7BE );\n",
      "    P( A, B, C, D, 12,  7U, 0x6B901122 );\n",
      "    P( D, A, B, C, 13, 12U, 0xFD987193 );\n",
      "    P( C, D, A, B, 14, 17U, 0xA679438E );\n",
      "    P( B, C, D, A, 15, 22U, 0x49B40821 );\n",
      "\n",
      "#undef F\n",
      "#define F(x,y,z) bitselect(y,x, z)\n",
      "\n",
      "    P( A, B, C, D,  1,  5U, 0xF61E2562 );\n",
      "    P( D, A, B, C,  6,  9U, 0xC040B340 );\n",
      "\tP( C, D, A, B, 11, 14U, 0x265E5A51 );\n",
      "    P( B, C, D, A,  0, 20U, 0xE9B6C7AA );\n",
      "    P( A, B, C, D,  5,  5U, 0xD62F105D );\n",
      "    P( D, A, B, C, 10,  9U, 0x02441453 );\n",
      "    P( C, D, A, B, 15, 14U, 0xD8A1E681 );\n",
      "    P( B, C, D, A,  4, 20U, 0xE7D3FBC8 );\n",
      "    P( A, B, C, D,  9,  5U, 0x21E1CDE6 );\n",
      "    P( D, A, B, C, 14,  9U, 0xC33707D6 );\n",
      "    P( C, D, A, B,  3, 14U, 0xF4D50D87 );\n",
      "    P( B, C, D, A,  8, 20U, 0x455A14ED );\n",
      "    P( A, B, C, D, 13,  5U, 0xA9E3E905 );\n",
      "    P( D, A, B, C,  2,  9U, 0xFCEFA3F8 );\n",
      "    P( C, D, A, B,  7, 14U, 0x676F02D9 );\n",
      "    P( B, C, D, A, 12, 20U, 0x8D2A4C8A );\n",
      "\n",
      "#undef F\n",
      "    \n",
      "#define F(x,y,z) (x ^ y ^ z)\n",
      "\n",
      "    P( A, B, C, D,  5,  4U, 0xFFFA3942 );\n",
      "    P( D, A, B, C,  8, 11U, 0x8771F681 );\n",
      "    P( C, D, A, B, 11, 16U, 0x6D9D6122 );\n",
      "    P( B, C, D, A, 14, 23U, 0xFDE5380C );\n",
      "    P( A, B, C, D,  1,  4U, 0xA4BEEA44 );\n",
      "    P( D, A, B, C,  4, 11U, 0x4BDECFA9 );\n",
      "    P( C, D, A, B,  7, 16U, 0xF6BB4B60 );\n",
      "    P( B, C, D, A, 10, 23U, 0xBEBFBC70 );\n",
      "    P( A, B, C, D, 13,  4U, 0x289B7EC6 );\n",
      "    P( D, A, B, C,  0, 11U, 0xEAA127FA );\n",
      "    P( C, D, A, B,  3, 16U, 0xD4EF3085 );\n",
      "    P( B, C, D, A,  6, 23U, 0x04881D05 );\n",
      "    P( A, B, C, D,  9,  4U, 0xD9D4D039 );\n",
      "    P( D, A, B, C, 12, 11U, 0xE6DB99E5 );\n",
      "    P( C, D, A, B, 15, 16U, 0x1FA27CF8 );\n",
      "    P( B, C, D, A,  2, 23U, 0xC4AC5665 );\n",
      "\n",
      "#undef F\n",
      "\n",
      "#define F(x,y,z) (y ^ (x | ~z))\n",
      "\n",
      "    P( A, B, C, D,  0,  6U, 0xF4292244 );\n",
      "    P( D, A, B, C,  7, 10U, 0x432AFF97 );\n",
      "    P( C, D, A, B, 14, 15U, 0xAB9423A7 );\n",
      "    P( B, C, D, A,  5, 21U, 0xFC93A039 );\n",
      "    P( A, B, C, D, 12,  6U, 0x655B59C3 );\n",
      "    P( D, A, B, C,  3, 10U, 0x8F0CCC92 );\n",
      "    P( C, D, A, B, 10, 15U, 0xFFEFF47D );\n",
      "    P( B, C, D, A,  1, 21U, 0x85845DD1 );\n",
      "    P( A, B, C, D,  8,  6U, 0x6FA87E4F );\n",
      "    P( D, A, B, C, 15, 10U, 0xFE2CE6E0 );\n",
      "    P( C, D, A, B,  6, 15U, 0xA3014314 );\n",
      "    P( B, C, D, A, 13, 21U, 0x4E0811A1 );\n",
      "    P( A, B, C, D,  4,  6U, 0xF7537E82 );\n",
      "    \n",
      "    if( (A&0xFFFFFFFEU) == 2562383102U ) {        \n",
      "        P( D, A, B, C, 11, 10U, 0xBD3AF235 );\n",
      "        P( C, D, A, B,  2, 15U, 0x2AD7D2BB );\n",
      "        P( B, C, D, A,  9, 21U, 0xEB86D391 );\n",
      "        A+=0x67452301;\n",
      "        B += 0xefcdab89;\n",
      "    if( ( (B^A)&0xff)==0)\n",
      "   out_buffer[id&0xff]=0x80000000|id; \n",
      "   }\n",
      "    \n",
      "#undef F\n",
      "\n",
      "}\n"
     ],
     "language": "python",
     "metadata": {},
     "outputs": []
    },
    {
     "cell_type": "code",
     "collapsed": false,
     "input": [
      "import sys\n",
      "from time import sleep, time\n",
      "step = 2**28\n",
      "output=cl.array.zeros(queue, 16, dtype=np.uint32) \n",
      "t0=time()\n",
      "for i in range(0, 2**38, step):\n",
      "    output.fill(0, queue)\n",
      "    ret = kernel_md5(queue, (step,), None, np.uint64(i), output.data)\n",
      "    ret.wait()\n",
      "    result = output.get()\n",
      "    for j in np.where(result>0)[0]:\n",
      "        x =i+(result[j]&0x7fffffff)\n",
      "        y = x >>32\n",
      "        x = x&0xffffffff\n",
      "        s = template_str.replace('AAAAAAAA', \"\".join(chr((y>>(t*8))&0xff) for t in range(4)) +      \"\".join(chr((x>>(t*8))&0xff) for t in range(4)))\n",
      "        print hex(x), md5(s).hexdigest(),repr(s)\n",
      "        sys.stdout.flush()\n",
      "    #sleep(1)\n",
      "print time()-t0"
     ],
     "language": "python",
     "metadata": {},
     "outputs": []
    },
    {
     "cell_type": "code",
     "collapsed": false,
     "input": [
      "import atitweak as ati\n",
      "from adl3 import ADLTemperature, ADL_Overdrive5_Temperature_Get, ADL_OK\n",
      "from adl3 import ADL_DL_FANCTRL_SPEED_TYPE_PERCENT, ADLFanSpeedValue, ADL_Overdrive5_FanSpeed_Get\n",
      "from adl3 import ADLPMActivity, ADL_Overdrive5_CurrentActivity_Get\n",
      "from ctypes import sizeof, byref\n",
      "\n",
      "ati.initialize()\n",
      "def gpu_activity():\n",
      "    adapters = ati.get_adapter_info()\n",
      "    adapter = adapters[0]\n",
      "    activity = ADLPMActivity()\n",
      "    activity.iSize = sizeof(activity)            \n",
      "    if ADL_Overdrive5_CurrentActivity_Get(adapter.iAdapterIndex, byref(activity)) != ADL_OK:\n",
      "                return None\n",
      "    return (activity.iEngineClock/100.0, activity.iMemoryClock/100.0, activity.iVddc/1000.0,\n",
      "                         activity.iCurrentPerformanceLevel, activity.iActivityPercent)\n",
      "                            \n",
      "def gpu_temperature():\n",
      "    adapters = ati.get_adapter_info()\n",
      "    adapter = adapters[0]\n",
      "    temperature = ADLTemperature()\n",
      "    temperature.iSize = sizeof(temperature)\n",
      "    if ADL_Overdrive5_Temperature_Get(adapter.iAdapterIndex, 0, byref(temperature)) != ADL_OK:\n",
      "                return None    \n",
      "    return  temperature.iTemperature/1000    \n",
      "def gpu_fan_speed():\n",
      "    adapters = ati.get_adapter_info()\n",
      "    adapter = adapters[0]\n",
      "    fan_speed_value = ADLFanSpeedValue()\n",
      "    fan_speed_value.iSize = sizeof(fan_speed_value)\n",
      "    fan_speed_value.iSpeedType = ADL_DL_FANCTRL_SPEED_TYPE_PERCENT\n",
      "    if ADL_Overdrive5_FanSpeed_Get(adapter.iAdapterIndex, 0, byref(fan_speed_value)) != ADL_OK:\n",
      "        return None\n",
      "    return fan_speed_value.iFanSpeed\n",
      "print gpu_temperature(), gpu_fan_speed()\n",
      "# ati.shutdown()"
     ],
     "language": "python",
     "metadata": {},
     "outputs": []
    },
    {
     "cell_type": "code",
     "collapsed": false,
     "input": [
      "from IPython.html.widgets import *\n",
      "from IPython.display import display\n",
      "from time import sleep, time\n",
      "from sys import stdout\n",
      "from hashlib import md5\n",
      "import cgi\n",
      "prefix_mask = 0xffffffffff000000\n",
      "class ListTable(list):\n",
      "    \"\"\" Overridden list class which takes a 2-dimensional list of \n",
      "        the form [[1,2,3],[4,5,6]], and renders an HTML Table in \n",
      "        IPython Notebook. \"\"\"\n",
      "    \n",
      "    def _repr_html_(self):\n",
      "        html = [\"<table>\"]\n",
      "        for row in self:\n",
      "            html.append(\"<tr>\")            \n",
      "            html.extend(\"<td><pre>{}</pre></td>\".format(cgi.escape(str(col))) for col in row)            \n",
      "            html.append(\"</tr>\")\n",
      "        html.append(\"</table>\")\n",
      "        return ''.join(html)\n",
      "    \n",
      "step = 2**31\n",
      "t1 = t0 = time()\n",
      "expected_number = 1\n",
      "leading_zeros = 0\n",
      "x = prefix_mask\n",
      "while x:\n",
      "    if x&1:\n",
      "        leading_zeros +=1\n",
      "        expected_number *=2\n",
      "    x >>=1\n",
      "leading_zeros= leading_zeros//4\n",
      "leading_zeros = max(leading_zeros-1,0)\n",
      "print \"leading_zeros=%d\"% leading_zeros\n",
      "stdout.flush()\n",
      "text = TextWidget()\n",
      "tempw = FloatProgressWidget(min = 50, max = 82, description=\"Temperature:\")\n",
      "fanw = FloatProgressWidget(min=0, max = 100, description = \"Fan Speed:\")\n",
      "ratew = TextWidget(description=\"Hashes/S:\")\n",
      "elapsedw = TextWidget(description=\"Time Elapsed:\")\n",
      "actw = TextWidget()\n",
      "actw.set_css('width', 800)\n",
      "gpu_clockw = FloatProgressWidget(min=0, max=1050, description=\"GPU Clock\")\n",
      "gpu_loadw  = FloatProgressWidget(min=0, max=100, description=\"GPU Load\")\n",
      "\n",
      "for w in [elapsedw, text, tempw, fanw, ratew, actw, gpu_clockw, gpu_loadw]:\n",
      "    display(w)\n",
      "text.set_css('width', 800)\n",
      "sleep_time = 0.0\n",
      "START = 0x1574500000000\n",
      "output=cl.array.zeros(queue, 256, dtype=np.uint32) \n",
      "output0=cl.array.zeros(queue, 256, dtype=np.uint32) \n",
      "ret = None\n",
      "found = [0]*4\n",
      "leader_board = []\n",
      "leaderw = HTMLWidget()\n",
      "display(leaderw)\n",
      "for i0 in xrange(START, 2**63-2, step):       \n",
      "    output0.fill(0, queue)\n",
      "    ret0 = kernel_md5(queue, (step,), None, np.uint64(i0), output0.data)\n",
      "    \n",
      "    if ret is None:\n",
      "        ret=ret0\n",
      "        output, output0 = output0, output\n",
      "        i = i0\n",
      "        continue\n",
      "    \n",
      "    #ret,i,output = ret0, i0, output0    \n",
      "    ret.wait()\n",
      "    result = output.get()\n",
      "    for j in np.where(result>0)[0]:            \n",
      "        x =i+(result[j]&0x7fffffff)\n",
      "        y = x >>32\n",
      "        x = x&0xffffffff\n",
      "        s = template_str.replace('AAAAAAAA', \"\".join(chr((y>>(t*8))&0xff) for t in range(4)) +      \"\".join(chr((x>>(t*8))&0xff) for t in range(4)))                        \n",
      "        k = md5(s).hexdigest()\n",
      "        leader_board.append((k, repr(s)))\n",
      "        for zi in range(4):\n",
      "            if k [leading_zeros+zi]==k[leading_zeros]:\n",
      "                found[zi]+=1                \n",
      "            else:\n",
      "                break\n",
      "        print i\n",
      "        print repr(s), k\n",
      "        stdout.flush()\n",
      "        leader_board = sorted(leader_board)\n",
      "        if len(leader_board) > 10:\n",
      "            leader_board=leader_board[:5]+leader_board[-5:]\n",
      "        leaderw.value = ListTable((i,s,k[leading_zeros:20]) for i,(k,s) in enumerate(leader_board))._repr_html_()\n",
      "    elapsed = (time()-t0)/60\n",
      "    exp_found = (i-START)/expected_number\n",
      "    if elapsed >0:\n",
      "        rate = (i-START)/60/elapsed\n",
      "    else:\n",
      "        rate=0\n",
      "    exp =  0 if i==START else elapsed/exp_found/60.0\n",
      "    expday = int(exp/24)\n",
      "    exphr = exp-expday*24\n",
      "    temp = gpu_temperature()\n",
      "    fan = gpu_fan_speed()\n",
      "    activity = gpu_activity()\n",
      "    elapsedw.value = \" {:.2f}min\".format(elapsed)\n",
      "    text.value = \"{} exp_found={:.1f} {:.1f} {:.1f} {:.1f} found={} EXP={}days {:.2f}hrs sleep_time={} temp={}\".format(hex(i), \n",
      "                                                                                                                exp_found, exp_found/16, exp_found/256, exp_found/256/16, found, \n",
      "                                                                                                                expday, exphr, sleep_time, temp)\n",
      "    current_rate = step/(time()-t1)\n",
      "    t1 = time()\n",
      "    ratew.value = \"avg={:.2f}M/s current={:.2f}M/s\".format(rate/10**6, current_rate/10**6)\n",
      "    fanw.value = fan\n",
      "    tempw.value = temp\n",
      "    actw.value = \"engine clock %gMHz, memory clock %gMHz, core voltage %gVDC, performance level %d, utilization %d%%\" % activity\n",
      "    gpu_clockw.value = activity[0]\n",
      "    gpu_loadw.value = activity[4]\n",
      "    \n",
      "    if temp > 80:\n",
      "        sleep_time +=0.05\n",
      "    if temp > 82:            \n",
      "            print \"GPU temperature too high\"\n",
      "            break\n",
      "    if temp is not None and temp < 78.5:\n",
      "        sleep_time -=0.05 \n",
      "    if sleep_time > 0:\n",
      "        sleep(sleep_time)\n",
      "    else:\n",
      "        sleep_time = 0.0\n",
      "    ret, i = ret0, i0\n",
      "    output, output0 = output0, output\n",
      "    i = i0\n",
      "print \"done\""
     ],
     "language": "python",
     "metadata": {},
     "outputs": [
      {
       "output_type": "stream",
       "stream": "stdout",
       "text": [
        "88779121491968\n",
        "'http://weijr-eng.blogspot.com               \\xbeP\\x00\\x00{7\\xff\\xbf' ffffffffffd20242c9683bdaf8d16ede\n"
       ]
      },
      {
       "output_type": "stream",
       "stream": "stdout",
       "text": [
        "88869315805184\n",
        "'http://weijr-eng.blogspot.com               \\xd3P\\x00\\x00J\\x10\\x88\\xf4' ffffffffffb75d1e6107a1c3d55b2b43\n"
       ]
      },
      {
       "output_type": "stream",
       "stream": "stdout",
       "text": [
        "89998892204032\n",
        "'http://weijr-eng.blogspot.com               \\xdaQ\\x00\\x00\\x1d\\xb0\\x0b\\x8c' ffffffffff94af10d2bfa75894bfa59d\n"
       ]
      },
      {
       "output_type": "stream",
       "stream": "stdout",
       "text": [
        "90701119356928\n",
        "'http://weijr-eng.blogspot.com               ~R\\x00\\x00\\x96W\\xfdX' 0000000000cb3ed0fefe0a098c1b0d43\n"
       ]
      },
      {
       "output_type": "stream",
       "stream": "stdout",
       "text": [
        "90988882165760\n",
        "'http://weijr-eng.blogspot.com               \\xc1R\\x00\\x00\\xb2\\x88\\x06S' ffffffffff759dea23b53a053f7c19b9\n"
       ]
      },
      {
       "output_type": "stream",
       "stream": "stdout",
       "text": [
        "91162828341248\n",
        "'http://weijr-eng.blogspot.com               \\xe9R\\x00\\x00I\\x89\\xe5\\xba' ffffffffff37f9822c7299c87652ba05\n"
       ]
      },
      {
       "output_type": "stream",
       "stream": "stdout",
       "text": [
        "91650307129344\n",
        "'http://weijr-eng.blogspot.com               [S\\x00\\x00\\x05}\\xa2)' ffffffffff29e559ca19ce7382079b2d\n"
       ]
      },
      {
       "output_type": "stream",
       "stream": "stdout",
       "text": [
        "91929480003584\n",
        "'http://weijr-eng.blogspot.com               \\x9cS\\x00\\x00]\\x1fC\\x01' 00000000002a18d886bccfa7f1e1bec9\n"
       ]
      },
      {
       "output_type": "stream",
       "stream": "stdout",
       "text": [
        "91942364905472\n",
        "'http://weijr-eng.blogspot.com               \\x9fS\\x00\\x00\\xfb\\xc3\\xa6U' ffffffffff08bb7aa048384ca242181a\n"
       ]
      },
      {
       "output_type": "stream",
       "stream": "stdout",
       "text": [
        "93198642839552\n",
        "'http://weijr-eng.blogspot.com               \\xc3T\\x00\\x009\\x9f\\xd5\\xaf' 000000000087d603c07dc468e339cdec\n"
       ]
      },
      {
       "output_type": "stream",
       "stream": "stdout",
       "text": [
        "94643899334656\n",
        "'http://weijr-eng.blogspot.com               \\x14V\\x00\\x00\\xfc\\x92\\x88\\x04' fffffffffff2ce0cf3163fe8e593d481\n"
       ]
      },
      {
       "output_type": "stream",
       "stream": "stdout",
       "text": [
        "94650341785600\n",
        "'http://weijr-eng.blogspot.com               \\x15V\\x00\\x00q\\x127\\xf2' 00000000007baf540765b424f5d0e250\n"
       ]
      },
      {
       "output_type": "stream",
       "stream": "stdout",
       "text": [
        "94974611816448\n",
        "'http://weijr-eng.blogspot.com               aV\\x00\\x00\\xb5BpT' 0000000000a022770fac3ba21ad00dbe\n"
       ]
      },
      {
       "output_type": "stream",
       "stream": "stdout",
       "text": [
        "97785667911680\n",
        "'http://weijr-eng.blogspot.com               \\xefX\\x00\\x0069\\xc7\\xed' 0000000000443bcfb167fc7d25165231\n"
       ]
      },
      {
       "output_type": "stream",
       "stream": "stdout",
       "text": [
        "97908074479616\n",
        "'http://weijr-eng.blogspot.com               \\x0cY\\x00\\x00\\xf5\\x81\\xc27' ffffffffff5ffd01f66213983126b91c\n"
       ]
      },
      {
       "output_type": "stream",
       "stream": "stdout",
       "text": [
        "98653251305472\n",
        "'http://weijr-eng.blogspot.com               \\xb9Y\\x00\\x00,\\xe9\\xc5\\x82' 0000000000a8622a0ada71b7c816b1ed\n"
       ]
      },
      {
       "output_type": "stream",
       "stream": "stdout",
       "text": [
        "98968931401728\n",
        "'http://weijr-eng.blogspot.com               \\x03Z\\x00\\x00\\xb2\\xb8F\\x0c' ffffffffffe95bb5989004664f813d7c\n"
       ]
      },
      {
       "output_type": "stream",
       "stream": "stdout",
       "text": [
        "100317551132672\n",
        "'http://weijr-eng.blogspot.com               =[\\x00\\x00\\x89d\\x9a!' ffffffffff7653dccfb5412a0f3bc5b2\n"
       ]
      },
      {
       "output_type": "stream",
       "stream": "stdout",
       "text": [
        "100433515249664\n",
        "'http://weijr-eng.blogspot.com               X[\\x00\\x00Q;\\xabN' 00000000009f1947c4ac1238719f0097\n"
       ]
      },
      {
       "output_type": "stream",
       "stream": "stdout",
       "text": [
        "101329015930880\n",
        "'http://weijr-eng.blogspot.com               (\\\\\\x00\\x00\\x88\\x03\\x82\\x96' 00000000007377fc952808a18a2dfa17\n"
       ]
      },
      {
       "output_type": "stream",
       "stream": "stdout",
       "text": [
        "101329015930880\n",
        "'http://weijr-eng.blogspot.com               (\\\\\\x00\\x00\\x8chn\\xce' ffffffffff5eb3f2df0496620812d5d6\n"
       ]
      },
      {
       "output_type": "stream",
       "stream": "stdout",
       "text": [
        "102658308308992\n",
        "'http://weijr-eng.blogspot.com               ^]\\x00\\x00G\\x03\\xeee' ffffffffff32442c7c323182cc7a6050\n"
       ]
      },
      {
       "output_type": "stream",
       "stream": "stdout",
       "text": [
        "102909563895808\n",
        "'http://weijr-eng.blogspot.com               \\x98]\\x00\\x00n\\x830\\x8b' 0000000000328530133f024a37a3a2e1\n"
       ]
      },
      {
       "output_type": "stream",
       "stream": "stdout",
       "text": [
        "103199474188288\n",
        "'http://weijr-eng.blogspot.com               \\xdc]\\x00\\x00p\\xf6\\xb0\\x1a' ffffffffffba958290fd894608845127\n"
       ]
      },
      {
       "output_type": "stream",
       "stream": "stdout",
       "text": [
        "103472204611584\n",
        "'http://weijr-eng.blogspot.com               \\x1b^\\x00\\x00\\\\r\\xa3\\xe6' 0000000000ef1b62655fc94aecb0c3e2\n"
       ]
      },
      {
       "output_type": "stream",
       "stream": "stdout",
       "text": [
        "104728482545664\n",
        "'http://weijr-eng.blogspot.com               @_\\x00\\x002\\x9c\\xd9j' ffffffffffa51e916aa0ab2d285d1560\n"
       ]
      },
      {
       "output_type": "stream",
       "stream": "stdout",
       "text": [
        "104960410779648\n",
        "'http://weijr-eng.blogspot.com               v_\\x00\\x00*\\x91hq' 0000000000fdc03cd95ce4d1711c0dd8\n"
       ]
      },
      {
       "output_type": "stream",
       "stream": "stdout",
       "text": [
        "105340515385344\n",
        "'http://weijr-eng.blogspot.com               \\xce_\\x00\\x00\\x1d\\xb6\\xc7\\xf5' 000000000011cb4b8a5450df876b95f1\n"
       ]
      },
      {
       "output_type": "stream",
       "stream": "stdout",
       "text": [
        "106607530737664\n",
        "'http://weijr-eng.blogspot.com               \\xf5`\\x00\\x006f-\\x80' 0000000000df238dc2a9771cb54785f2\n"
       ]
      },
      {
       "output_type": "stream",
       "stream": "stdout",
       "text": [
        "107369887432704\n",
        "'http://weijr-eng.blogspot.com               \\xa7a\\x00\\x00/\\xcbs+' 0000000000effc4bc957cf5ab9a2f383\n"
       ]
      },
      {
       "output_type": "stream",
       "stream": "stdout",
       "text": [
        "108490873896960\n",
        "'http://weijr-eng.blogspot.com               \\xacb\\x00\\x00kJG/' 0000000000a15112cfb41ac7af48f2ea\n"
       ]
      },
      {
       "output_type": "stream",
       "stream": "stdout",
       "text": [
        "108636902785024\n",
        "'http://weijr-eng.blogspot.com               \\xceb\\x00\\x00\\xab\\xe1\\x89>' ffffffffff0bae781a3e0fe14ae88342\n"
       ]
      },
      {
       "output_type": "stream",
       "stream": "stdout",
       "text": [
        "109371342192640\n",
        "'http://weijr-eng.blogspot.com               yc\\x00\\x00\\xadn\\x92$' ffffffffff737401dd88ce2b06310e9a\n"
       ]
      },
      {
       "output_type": "stream",
       "stream": "stdout",
       "text": [
        "109794396471296\n",
        "'http://weijr-eng.blogspot.com               \\xdbc\\x00\\x00\\xe7\\xa9\\x9c\\x94' 0000000000f446baeaade96ad645f68c\n"
       ]
      },
      {
       "output_type": "stream",
       "stream": "stdout",
       "text": [
        "110204565848064\n",
        "'http://weijr-eng.blogspot.com               ;d\\x00\\x00L\\x97\\xacm' 0000000000a122d0fb008609d1bd18a3\n"
       ]
      },
      {
       "output_type": "stream",
       "stream": "stdout",
       "text": [
        "111200998260736\n",
        "\"http://weijr-eng.blogspot.com               #e\\x00\\x00'\\x8e\\xcc\\x0c\" ffffffffff08ae671ffabcc334c197dc\n"
       ]
      },
      {
       "output_type": "stream",
       "stream": "stdout",
       "text": [
        "111267570253824\n",
        "'http://weijr-eng.blogspot.com               2e\\x00\\x00t\\x9dP\\xef' 0000000000063793339d1bda6312141b\n"
       ]
      },
      {
       "output_type": "stream",
       "stream": "stdout",
       "text": [
        "111593987768320\n",
        "'http://weijr-eng.blogspot.com               ~e\\x00\\x00\\x1c\\x1f\\xfd\\x98' 0000000000860cb61d62f390e75f2017\n"
       ]
      },
      {
       "output_type": "stream",
       "stream": "stdout",
       "text": [
        "111660559761408\n",
        "'http://weijr-eng.blogspot.com               \\x8ee\\x00\\x00.*\\xdaE' ffffffffff91e301aebbae54db767fbb\n"
       ]
      },
      {
       "output_type": "stream",
       "stream": "stdout",
       "text": [
        "111935437668352\n",
        "'http://weijr-eng.blogspot.com               \\xcee\\x00\\x002\\x9e\\x11]' 0000000000675788ebe597da95922d0a\n"
       ]
      },
      {
       "output_type": "stream",
       "stream": "stdout",
       "text": [
        "112525995671552\n",
        "'http://weijr-eng.blogspot.com               Wf\\x00\\x00\\xf7H\\x11\\xcf' 00000000007ff334bf5689a8ae23cb23\n"
       ]
      },
      {
       "output_type": "stream",
       "stream": "stdout",
       "text": [
        "112676319526912\n",
        "'http://weijr-eng.blogspot.com               zf\\x00\\x00P`\\x04\\xb0' ffffffffff9fbe18bf474fd882eea5a5\n"
       ]
      },
      {
       "output_type": "stream",
       "stream": "stdout",
       "text": [
        "113015621943296\n",
        "'http://weijr-eng.blogspot.com               \\xc9f\\x00\\x005l\\xe6\\x98' ffffffffff2246d37d0e086572d76c3e\n"
       ]
      },
      {
       "output_type": "stream",
       "stream": "stdout",
       "text": [
        "113052129165312\n",
        "'http://weijr-eng.blogspot.com               \\xd2f\\x00\\x00\\xc6\\x8d\\xe1S' ffffffffffa7e96f05ec3fad366eae82\n"
       ]
      },
      {
       "output_type": "stream",
       "stream": "stdout",
       "text": [
        "113273319981056\n",
        "'http://weijr-eng.blogspot.com               \\x05g\\x00\\x00\\xc5\\xe0\\xa0\\xb8' ffffffffffa0dbd57f1a36230073304c\n"
       ]
      },
      {
       "output_type": "stream",
       "stream": "stdout",
       "text": [
        "113305532235776\n",
        "'http://weijr-eng.blogspot.com               \\rg\\x00\\x00\\xf8\\xd2OI' 00000000009531be32361e20cb951c86\n"
       ]
      },
      {
       "output_type": "stream",
       "stream": "stdout",
       "text": [
        "113561082789888\n",
        "'http://weijr-eng.blogspot.com               Hg\\x00\\x00h}\\xe4\\x9b' ffffffffffb6be7350f6af5024393fe4\n"
       ]
      },
      {
       "output_type": "stream",
       "stream": "stdout",
       "text": [
        "113576115175424\n",
        "'http://weijr-eng.blogspot.com               Lg\\x00\\x00\\x14\\xeb\\xec ' ffffffffff6cd47fa503ea2ecd8fd311\n"
       ]
      },
      {
       "output_type": "stream",
       "stream": "stdout",
       "text": [
        "114478058307584\n",
        "'http://weijr-eng.blogspot.com               \\x1eh\\x00\\x00\\x81F4L' 00000000006578c08ef2ac582f90acc2\n"
       ]
      },
      {
       "output_type": "stream",
       "stream": "stdout",
       "text": [
        "115648436895744\n",
        "'http://weijr-eng.blogspot.com               .i\\x00\\x00\\xe2\\xba\\x89\\x9d' ffffffffff7de86227f5737d7d31b497\n"
       ]
      },
      {
       "output_type": "stream",
       "stream": "stdout",
       "text": [
        "115878217646080\n",
        "'http://weijr-eng.blogspot.com               di\\x00\\x00\\x07\\xbauC' 000000000021afb41054a7bbf6e1544a\n"
       ]
      },
      {
       "output_type": "stream",
       "stream": "stdout",
       "text": [
        "116874650058752\n",
        "'http://weijr-eng.blogspot.com               Lj\\x00\\x00\\x8b/\\xf6<' ffffffffffb35c6ba383e85b603ace8b\n"
       ]
      },
      {
       "output_type": "stream",
       "stream": "stdout",
       "text": [
        "117080808488960\n",
        "'http://weijr-eng.blogspot.com               |j\\x00\\x00\\xdf\\xb03^' 00000000006406fab95345f97ab9adca\n"
       ]
      },
      {
       "output_type": "stream",
       "stream": "stdout",
       "text": [
        "117759413321728\n",
        "'http://weijr-eng.blogspot.com               \\x1ak\\x00\\x00\\x97\\xf7\\x8aT' ffffffffff971193e9dbdaf10cfaa300\n"
       ]
      },
      {
       "output_type": "stream",
       "stream": "stdout",
       "text": [
        "117761560805376\n",
        "'http://weijr-eng.blogspot.com               \\x1ak\\x00\\x00\\xa2\\x84\\x1f\\xd1' ffffffffff881a4b097efab344da0d96\n"
       ]
      },
      {
       "output_type": "stream",
       "stream": "stdout",
       "text": [
        "118218974822400\n",
        "'http://weijr-eng.blogspot.com               \\x85k\\x00\\x00\\xa5D\\xa8r' 0000000000f37a71225b37c5d3a96145\n"
       ]
      },
      {
       "output_type": "stream",
       "stream": "stdout",
       "text": [
        "118702158643200\n",
        "'http://weijr-eng.blogspot.com               \\xf5k\\x00\\x00\\xad>\\xcc\\x9c' ffffffffffcae23c664b0cc5096deca3\n"
       ]
      },
      {
       "output_type": "stream",
       "stream": "stdout",
       "text": [
        "118940529328128\n",
        "'http://weijr-eng.blogspot.com               -l\\x00\\x00\\xc2j\\xf8R' ffffffffff0a5c774cd51b8c4976c4ba\n"
       ]
      },
      {
       "output_type": "stream",
       "stream": "stdout",
       "text": [
        "119187489947648\n",
        "'http://weijr-eng.blogspot.com               fl\\x00\\x00\\xe2\\xadA\\x94' 000000000031f284a01d7725096e8866\n"
       ]
      },
      {
       "output_type": "stream",
       "stream": "stdout",
       "text": [
        "120256936804352\n",
        "'http://weijr-eng.blogspot.com               _m\\x00\\x00S\\x95\\xa6\\xa7' ffffffffffab49569bde984e9672e4dc\n"
       ]
      },
      {
       "output_type": "stream",
       "stream": "stdout",
       "text": [
        "120465242718208\n",
        "'http://weijr-eng.blogspot.com               \\x90m\\x00\\x00\\x90\\x16NA' ffffffffffe1cabb0f6ed7a146f23319\n"
       ]
      },
      {
       "output_type": "stream",
       "stream": "stdout",
       "text": [
        "120684286050304\n",
        "'http://weijr-eng.blogspot.com               \\xc3m\\x00\\x00\\xaa\\x0f\\x93r' 0000000000d8e412564751b8aea75e21\n"
       ]
      },
      {
       "output_type": "stream",
       "stream": "stdout",
       "text": [
        "120780922814464\n",
        "'http://weijr-eng.blogspot.com               \\xd9m\\x00\\x00\\x10\\xc3s\\xb3' 00000000001df8ada952c824c2da4d01\n"
       ]
      },
      {
       "output_type": "stream",
       "stream": "stdout",
       "text": [
        "122112362676224\n",
        "'http://weijr-eng.blogspot.com               \\x0fo\\x00\\x00\\x06\\xc1\\x8b\\x93' fffffffffff306d51b6124a93cb7077e\n"
       ]
      },
      {
       "output_type": "stream",
       "stream": "stdout",
       "text": [
        "122533269471232\n",
        "'http://weijr-eng.blogspot.com               qo\\x00\\x00\\xa7\\x98\\xf5\\x81' ffffffffff4b1818ea521dcdd7776a13\n"
       ]
      },
      {
       "output_type": "stream",
       "stream": "stdout",
       "text": [
        "123321395970048\n",
        "'http://weijr-eng.blogspot.com               )p\\x00\\x00=\\xcf\\x81b' 00000000000ed73cedae39217f591871\n"
       ]
      },
      {
       "output_type": "stream",
       "stream": "stdout",
       "text": [
        "124287763611648\n",
        "'http://weijr-eng.blogspot.com               \\nq\\x00\\x00\\xf9~86' ffffffffff9c521049bda5a4202923d2\n"
       ]
      },
      {
       "output_type": "stream",
       "stream": "stdout",
       "text": [
        "124831076974592\n",
        "'http://weijr-eng.blogspot.com               \\x88q\\x00\\x00\\x08-\\xa9\\xfa' ffffffffffc1197ee4b88b20f02ffd34\n"
       ]
      },
      {
       "output_type": "stream",
       "stream": "stdout",
       "text": [
        "125039382888448\n",
        "'http://weijr-eng.blogspot.com               \\xb9q\\x00\\x00M,L\\x06' 0000000000d2a1d24b34dca576ff6805\n"
       ]
      },
      {
       "output_type": "stream",
       "stream": "stdout",
       "text": [
        "125183264292864\n",
        "'http://weijr-eng.blogspot.com               \\xdaq\\x00\\x00T\\xa6\\xfe\\x82' 000000000021a2e3b715ad7b03ed0202\n"
       ]
      },
      {
       "output_type": "stream",
       "stream": "stdout",
       "text": [
        "126684355362816\n",
        "'http://weijr-eng.blogspot.com               8s\\x00\\x00C\\xa8\\xd4\\x03' 0000000000d2cbfec3ab8a17767785ad\n"
       ]
      },
      {
       "output_type": "stream",
       "stream": "stdout",
       "text": [
        "127347927810048\n",
        "'http://weijr-eng.blogspot.com               \\xd2s\\x00\\x00\\x15=\\xaf\\xf9' 00000000007f8b988276a3a831f15616\n"
       ]
      },
      {
       "output_type": "stream",
       "stream": "stdout",
       "text": [
        "128219806171136\n",
        "'http://weijr-eng.blogspot.com               \\x9dt\\x00\\x00u\\x7f\\x94\\xe0' 00000000001f32d3485dc5ea26846a71\n"
       ]
      },
      {
       "output_type": "stream",
       "stream": "stdout",
       "text": [
        "128518306398208\n",
        "'http://weijr-eng.blogspot.com               \\xe3t\\x00\\x00\\xdc\\x81\\xcc\\x13' 00000000004f0c7a3ab0df61da9c7ae1\n"
       ]
      },
      {
       "output_type": "stream",
       "stream": "stdout",
       "text": [
        "128773856952320\n",
        "'http://weijr-eng.blogspot.com               \\x1eu\\x00\\x00\\xa1M-\\xb1' 0000000000063d4efe6f3eb3421c6e3d\n"
       ]
      },
      {
       "output_type": "stream",
       "stream": "stdout",
       "text": [
        "128947803127808\n",
        "'http://weijr-eng.blogspot.com               Gu\\x00\\x00{\\xdeCj' 00000000006fbd256ded030788e1622c\n"
       ]
      },
      {
       "output_type": "stream",
       "stream": "stdout",
       "text": [
        "129302137929728\n",
        "'http://weijr-eng.blogspot.com               \\x99u\\x00\\x00=n\\xcc\\xd4' 0000000000702c93f4888b05db02d85a\n"
       ]
      },
      {
       "output_type": "stream",
       "stream": "stdout",
       "text": [
        "130264210604032\n",
        "'http://weijr-eng.blogspot.com               yv\\x00\\x00\\x95Z<\\x81' 0000000000fc3378fcaa964104ad075f\n"
       ]
      },
      {
       "output_type": "stream",
       "stream": "stdout",
       "text": [
        "131471096414208\n",
        "'http://weijr-eng.blogspot.com               \\x92w\\x00\\x00M\\xc8\\xea\\xe9' 0000000000ddcfd89e476496378fdc52\n"
       ]
      },
      {
       "output_type": "stream",
       "stream": "stdout",
       "text": [
        "131664369942528\n",
        "'http://weijr-eng.blogspot.com               \\xbfw\\x00\\x00\\xd9z,\\x8c' ffffffffffe0fdd3d92ba79ae2a2f255\n"
       ]
      },
      {
       "output_type": "stream",
       "stream": "stdout",
       "text": [
        "131763154190336\n",
        "'http://weijr-eng.blogspot.com               \\xd6w\\x00\\x00\\xaf;_\\xbe' 0000000000f45749bdcb8f8fc32fb00d\n"
       ]
      },
      {
       "output_type": "stream",
       "stream": "stdout",
       "text": [
        "132317204971520\n",
        "'http://weijr-eng.blogspot.com               Wx\\x00\\x00cG\\xb2\\xec' 000000000086937018e33daf8253e23f\n"
       ]
      },
      {
       "output_type": "stream",
       "stream": "stdout",
       "text": [
        "133549860585472\n",
        "'http://weijr-eng.blogspot.com               vy\\x00\\x00\\xa7\\x89\\xdf\\x90' 0000000000f5ee92419d40718ab3e01b\n"
       ]
      },
      {
       "output_type": "stream",
       "stream": "stdout",
       "text": [
        "134213433032704\n",
        "\"http://weijr-eng.blogspot.com               \\x11z\\x00\\x00\\xfc?'!\" ffffffffffd34fb4f8a9f6510d4bf955\n"
       ]
      },
      {
       "output_type": "stream",
       "stream": "stdout",
       "text": [
        "134947872440320\n",
        "'http://weijr-eng.blogspot.com               \\xbcz\\x00\\x00\\xc4\\xff-k' ffffffffff5bd8a9b15189535f2a5305\n"
       ]
      },
      {
       "output_type": "stream",
       "stream": "stdout",
       "text": [
        "136053826519040\n",
        "'http://weijr-eng.blogspot.com               \\xbd{\\x00\\x00\\x17\\xa7$\\x8e' 0000000000d94c4e9bd180f1ddd6b9a0\n"
       ]
      },
      {
       "output_type": "stream",
       "stream": "stdout",
       "text": [
        "138267882160128\n",
        "'http://weijr-eng.blogspot.com               \\xc1}\\x00\\x00\\x90\\x82h\\x05' 00000000009add79c8c9a1a03df400eb\n"
       ]
      },
      {
       "output_type": "stream",
       "stream": "stdout",
       "text": [
        "138643691798528\n",
        "'http://weijr-eng.blogspot.com               \\x18~\\x00\\x00\\xc3\\xad\\xb0\\xcb' ffffffffffdc0010ed2fb33877aed6d8\n"
       ]
      },
      {
       "output_type": "stream",
       "stream": "stdout",
       "text": [
        "139169825292288\n",
        "'http://weijr-eng.blogspot.com               \\x93~\\x00\\x00\\x12:E,' 000000000026c855231d305c60d7fec1\n"
       ]
      },
      {
       "output_type": "stream",
       "stream": "stdout",
       "text": [
        "139315854180352\n",
        "'http://weijr-eng.blogspot.com               \\xb5~\\x00\\x00\\xd2oZ\\x1b' ffffffffff5cbd07eb2966c3205f2b0c\n"
       ]
      },
      {
       "output_type": "stream",
       "stream": "stdout",
       "text": [
        "140812650283008\n",
        "'http://weijr-eng.blogspot.com               \\x11\\x80\\x00\\x00\\xfeS\\xf0\\x9c' 000000000079713a2d2302e2fd64ca3a\n"
       ]
      },
      {
       "output_type": "stream",
       "stream": "stdout",
       "text": [
        "141931489263616\n",
        "'http://weijr-eng.blogspot.com               \\x16\\x81\\x00\\x00$\\xb7\\x9c\\x1e' ffffffffffa7e8cf3af6848833e20cca\n"
       ]
      },
      {
       "output_type": "stream",
       "stream": "stdout",
       "text": [
        "142494129979392\n",
        "'http://weijr-eng.blogspot.com               \\x99\\x81\\x00\\x00\\x9b\\xb1\\x99\\x02' ffffffffff917c54381beca98f376277\n"
       ]
      },
      {
       "output_type": "stream",
       "stream": "stdout",
       "text": [
        "143121195204608\n",
        "'http://weijr-eng.blogspot.com               +\\x82\\x00\\x00\\n\\xd4\\xf5`' 0000000000f7baa4c732f17d61e19aa4\n"
       ]
      },
      {
       "output_type": "stream",
       "stream": "stdout",
       "text": [
        "144261509021696\n",
        "'http://weijr-eng.blogspot.com               4\\x83\\x00\\x002v,\\xb7' 0000000000eb7904164dde8d2705c435\n"
       ]
      },
      {
       "output_type": "stream",
       "stream": "stdout",
       "text": [
        "145071110356992\n",
        "'http://weijr-eng.blogspot.com               \\xf1\\x83\\x00\\x00\\xa1\\xa4\\x16m' 0000000000e52559369a4e31ce1331ad\n"
       ]
      },
      {
       "output_type": "stream",
       "stream": "stdout",
       "text": [
        "145086142742528\n",
        "'http://weijr-eng.blogspot.com               \\xf4\\x83\\x00\\x00\\x02<\\xbc\\x91' 00000000007bb4265d1c27a70f4a0d4a\n"
       ]
      },
      {
       "output_type": "stream",
       "stream": "stdout",
       "text": [
        "145940841234432\n",
        "'http://weijr-eng.blogspot.com               \\xbb\\x84\\x00\\x00\\x1b\\xbf6\\x9f' 0000000000b93e662260331a307108c5\n"
       ]
      },
      {
       "output_type": "stream",
       "stream": "stdout",
       "text": [
        "146136262246400\n",
        "'http://weijr-eng.blogspot.com               \\xe9\\x84\\x00\\x00\\xa0\\xab\\x9d`' ffffffffff2a5eaf299f1f837cc84927\n"
       ]
      },
      {
       "output_type": "stream",
       "stream": "stdout",
       "text": [
        "146690313027584\n",
        "'http://weijr-eng.blogspot.com               j\\x85\\x00\\x00\\xe8\\xed\\x01\\r' ffffffffff3ded29173708c518b310fa\n"
       ]
      },
      {
       "output_type": "stream",
       "stream": "stdout",
       "text": [
        "147302345867264\n",
        "'http://weijr-eng.blogspot.com               \\xf8\\x85\\x00\\x00\\x92\\x12R\\x85' 00000000009ff19d9fa0736ae8c856cc\n"
       ]
      },
      {
       "output_type": "stream",
       "stream": "stdout",
       "text": [
        "147439784820736\n",
        "'http://weijr-eng.blogspot.com               \\x18\\x86\\x00\\x00\\xbe\\x0fm\\xd1' 0000000000492757cd382fff9503bd17\n"
       ]
      },
      {
       "output_type": "stream",
       "stream": "stdout",
       "text": [
        "147471997075456\n",
        "'http://weijr-eng.blogspot.com                \\x86\\x00\\x00\\x98\\xd6\\xe7:' ffffffffffa227069719f2ca01f975a9\n"
       ]
      },
      {
       "output_type": "stream",
       "stream": "stdout",
       "text": [
        "147665270603776\n",
        "'http://weijr-eng.blogspot.com               M\\x86\\x00\\x00\\x9f\\x15+a' ffffffffff0d2f04119a26dfd73db6e0\n"
       ]
      },
      {
       "output_type": "stream",
       "stream": "stdout",
       "text": [
        "148212878934016\n",
        "'http://weijr-eng.blogspot.com               \\xcc\\x86\\x00\\x008\\xde\\xe5\\x9d' 0000000000f6cd0b517975e595dac279\n"
       ]
      },
      {
       "output_type": "stream",
       "stream": "stdout",
       "text": [
        "148711095140352\n",
        "'http://weijr-eng.blogspot.com               @\\x87\\x00\\x00\\x8e@\\xd0\\xae' 000000000042939767ecf4436c043af2\n"
       ]
      },
      {
       "output_type": "stream",
       "stream": "stdout",
       "text": [
        "148794847002624\n",
        "'http://weijr-eng.blogspot.com               T\\x87\\x00\\x00\\x0c\\xcfp\\x18' ffffffffff16a894882f88f1294c825b\n"
       ]
      },
      {
       "output_type": "stream",
       "stream": "stdout",
       "text": [
        "148852829061120\n",
        "'http://weijr-eng.blogspot.com               a\\x87\\x00\\x00\\xec\\xbcq\\x95' 00000000005a82c6a47ab63ab4b42d96\n"
       ]
      },
      {
       "output_type": "stream",
       "stream": "stdout",
       "text": [
        "149600153370624\n",
        "'http://weijr-eng.blogspot.com               \\x0f\\x88\\x00\\x00\\xc6\\xba\\x85\\xe7' 000000000068dc69c74cf199da1b91a2\n"
       ]
      },
      {
       "output_type": "stream",
       "stream": "stdout",
       "text": [
        "150119844413440\n",
        "'http://weijr-eng.blogspot.com               \\x88\\x88\\x00\\x00\\xa3\"\\x9a\\xbf' 00000000000c613707e85efc0e8316c5\n"
       ]
      },
      {
       "output_type": "stream",
       "stream": "stdout",
       "text": [
        "150145614217216\n",
        "'http://weijr-eng.blogspot.com               \\x8e\\x88\\x00\\x00\\xac\\x964\\xdb' 00000000009a9ce1d6d36a2f6ef3302c\n"
       ]
      },
      {
       "output_type": "stream",
       "stream": "stdout",
       "text": [
        "152099824336896\n",
        "'http://weijr-eng.blogspot.com               U\\x8a\\x00\\x007#j\\xf5' 0000000000c01659580e9287fcdb1ef9\n"
       ]
      },
      {
       "output_type": "stream",
       "stream": "stdout",
       "text": [
        "152222230904832\n",
        "'http://weijr-eng.blogspot.com               r\\x8a\\x00\\x00\\xb9\\x8e8V' 0000000000c9328c0fd58512789cfd84\n"
       ]
      },
      {
       "output_type": "stream",
       "stream": "stdout",
       "text": [
        "152415504433152\n",
        "'http://weijr-eng.blogspot.com               \\x9f\\x8a\\x00\\x00\\xd0\\xc4\\xddM' 000000000062d8f6050205a78371284a\n"
       ]
      },
      {
       "output_type": "stream",
       "stream": "stdout",
       "text": [
        "152963112763392\n",
        "'http://weijr-eng.blogspot.com               \\x1e\\x8b\\x00\\x00\\x0er\\x94\\xad' 0000000000c80ea23f110b29d4edbf65\n"
       ]
      },
      {
       "output_type": "stream",
       "stream": "stdout",
       "text": [
        "153070486945792\n",
        "'http://weijr-eng.blogspot.com               7\\x8b\\x00\\x006:\\xb2\\xfe' 000000000064b03745f6e166316c3682\n"
       ]
      },
      {
       "output_type": "stream",
       "stream": "stdout",
       "text": [
        "153596620439552\n",
        "'http://weijr-eng.blogspot.com               \\xb2\\x8b\\x00\\x00O\\x1d\\x80?' ffffffffff2897d8eb085a0cc15543cf\n"
       ]
      },
      {
       "output_type": "stream",
       "stream": "stdout",
       "text": [
        "153742649327616\n",
        "'http://weijr-eng.blogspot.com               \\xd4\\x8b\\x00\\x00\\xc2\\x8eFu' 0000000000b6874c6d7788ebff6775a4\n"
       ]
      },
      {
       "output_type": "stream",
       "stream": "stdout",
       "text": [
        "154023969685504\n",
        "'http://weijr-eng.blogspot.com               \\x15\\x8c\\x00\\x00A\\xf8\\xc9\\xb4' 000000000009c7364d17306f3d2b4e64\n"
       ]
      },
      {
       "output_type": "stream",
       "stream": "stdout",
       "text": [
        "154303142559744\n",
        "'http://weijr-eng.blogspot.com               V\\x8c\\x00\\x007\\xb8m\\xea' ffffffffff4d688ccc46776a2d14f9bc\n"
       ]
      },
      {
       "output_type": "stream",
       "stream": "stdout",
       "text": [
        "154350387200000\n",
        "'http://weijr-eng.blogspot.com               a\\x8c\\x00\\x00\\x0eUm\\xc6' 00000000008ae89fd97430be8d15320b\n"
       ]
      },
      {
       "output_type": "stream",
       "stream": "stdout",
       "text": [
        "154812096184320\n",
        "'http://weijr-eng.blogspot.com               \\xcd\\x8c\\x00\\x00\\x0e_\\xfc-' 0000000000d0841b0b0ed89860a24c87\n"
       ]
      },
      {
       "output_type": "stream",
       "stream": "stdout",
       "text": [
        "155241592913920\n",
        "'http://weijr-eng.blogspot.com               1\\x8d\\x00\\x00}\\xdco)' 00000000004f49b72868490321272c2f\n"
       ]
      },
      {
       "output_type": "stream",
       "stream": "stdout",
       "text": [
        "155675384610816\n",
        "'http://weijr-eng.blogspot.com               \\x96\\x8d\\x00\\x00J\\x0103' 0000000000c428084055c6f99d068471\n"
       ]
      },
      {
       "output_type": "stream",
       "stream": "stdout",
       "text": [
        "156231582875648\n",
        "'http://weijr-eng.blogspot.com               \\x17\\x8e\\x00\\x00\\xb3$\\x8b\\x83' ffffffffffa5b81339762827b0578622\n"
       ]
      },
      {
       "output_type": "stream",
       "stream": "stdout",
       "text": [
        "156377611763712\n",
        "'http://weijr-eng.blogspot.com               9\\x8e\\x00\\x00\\x9a\\r\\x82\\xb6' 000000000015531dc1848d891b63c57a\n"
       ]
      },
      {
       "output_type": "stream",
       "stream": "stdout",
       "text": [
        "156452773691392\n",
        "'http://weijr-eng.blogspot.com               K\\x8e\\x00\\x00\\xbb\\x81\\xe0?' ffffffffff1bef10cfa9c6155ef91e8d\n"
       ]
      },
      {
       "output_type": "stream",
       "stream": "stdout",
       "text": [
        "156620277415936\n",
        "'http://weijr-eng.blogspot.com               r\\x8e\\x00\\x00\\xa7\\x96\\x01>' 0000000000f13d5f1276c74fe6e54ff5\n"
       ]
      },
      {
       "output_type": "stream",
       "stream": "stdout",
       "text": [
        "157339684438016\n",
        "'http://weijr-eng.blogspot.com               \\x19\\x8f\\x00\\x00\\xc5S\\xba\\xee' ffffffffffa45da20a5ff846c49d3497\n"
       ]
      },
      {
       "output_type": "stream",
       "stream": "stdout",
       "text": [
        "157629594730496\n",
        "'http://weijr-eng.blogspot.com               ]\\x8f\\x00\\x00\\x9e\\x13\\xb2M' 000000000001eca4de631a4633cef167\n"
       ]
      },
      {
       "output_type": "stream",
       "stream": "stdout",
       "text": [
        "157689724272640\n",
        "'http://weijr-eng.blogspot.com               k\\x8f\\x00\\x00\\xb3~\\x19f' ffffffffffeabbdb56fb72fd191bf505\n"
       ]
      },
      {
       "output_type": "stream",
       "stream": "stdout",
       "text": [
        "158233037635584\n",
        "'http://weijr-eng.blogspot.com               \\xe9\\x8f\\x00\\x00Y\\xccC\\xb7' 000000000048ae66bd635d5ca32dde75\n"
       ]
      },
      {
       "output_type": "stream",
       "stream": "stdout",
       "text": [
        "158836480540672\n",
        "'http://weijr-eng.blogspot.com               v\\x90\\x00\\x00\\xaaCLV' ffffffffff8471f46f3359ad51aff58a\n"
       ]
      },
      {
       "output_type": "stream",
       "stream": "stdout",
       "text": [
        "159036196519936\n",
        "'http://weijr-eng.blogspot.com               \\xa4\\x90\\x00\\x00g\\x0e\\x8d\\xda' 0000000000e31778c118589bf85c6c7c\n"
       ]
      },
      {
       "output_type": "stream",
       "stream": "stdout",
       "text": [
        "159332549263360\n",
        "'http://weijr-eng.blogspot.com               \\xe9\\x90\\x00\\x00\\x1b\\xf5\\xa8\\xe3' 00000000009a6402a28fc21a525b354f\n"
       ]
      },
      {
       "output_type": "stream",
       "stream": "stdout",
       "text": [
        "159375498936320\n",
        "'http://weijr-eng.blogspot.com               \\xf3\\x90\\x00\\x00\\x86R\\x04\\xd8' ffffffffff43d15cb29fa3692bf3205b\n"
       ]
      },
      {
       "output_type": "stream",
       "stream": "stdout",
       "text": [
        "159689031548928\n",
        "'http://weijr-eng.blogspot.com               <\\x91\\x00\\x00y-\\xa8\\xf1' ffffffffff55da82df40a445af7737f8\n"
       ]
      },
      {
       "output_type": "stream",
       "stream": "stdout",
       "text": [
        "160071283638272\n",
        "'http://weijr-eng.blogspot.com               \\x95\\x91\\x00\\x00x8\\x7f\\x88' ffffffffff52664fcdf3af1f19bf28bf\n"
       ]
      },
      {
       "output_type": "stream",
       "stream": "stdout",
       "text": [
        "161432788271104\n",
        "'http://weijr-eng.blogspot.com               \\xd2\\x92\\x00\\x00\\x83E\\x81\\xc6' ffffffffff1d31bb4435d8d5f5e32011\n"
       ]
      },
      {
       "output_type": "stream",
       "stream": "stdout",
       "text": [
        "161991134019584\n",
        "'http://weijr-eng.blogspot.com               T\\x93\\x00\\x00\\xf3)=\\xd3' ffffffffff034e1c26aca28fcabe02d4\n"
       ]
      },
      {
       "output_type": "stream",
       "stream": "stdout",
       "text": [
        "162274601861120\n",
        "'http://weijr-eng.blogspot.com               \\x96\\x93\\x00\\x00\\xf5?\\xfd\\xc3' ffffffffff7ebe522ac821778c7b6c69\n"
       ]
      },
      {
       "output_type": "stream",
       "stream": "stdout",
       "text": [
        "162281044312064\n",
        "'http://weijr-eng.blogspot.com               \\x98\\x93\\x00\\x00\\xf3$\\xcc,' 0000000000cb9708ccd7ff2886451194\n"
       ]
      },
      {
       "output_type": "stream",
       "stream": "stdout",
       "text": [
        "162435663134720\n",
        "'http://weijr-eng.blogspot.com               \\xbc\\x93\\x00\\x00\\xe0\\xf5\\x12h' ffffffffff7ddfc4607a8b453d23c1ac\n"
       ]
      },
      {
       "output_type": "stream",
       "stream": "stdout",
       "text": [
        "162551627251712\n",
        "'http://weijr-eng.blogspot.com               \\xd7\\x93\\x00\\x00\\xaa\\x7f\\xfa.' 0000000000003e10d6ae9f418fcd7d49\n"
       ]
      },
      {
       "output_type": "stream",
       "stream": "stdout",
       "text": [
        "163049843458048\n",
        "'http://weijr-eng.blogspot.com               K\\x94\\x00\\x00\\xff\\x8f\\xd6\\x7f' 0000000000830f8a85492ebbcd979299\n"
       ]
      },
      {
       "output_type": "stream",
       "stream": "stdout",
       "text": [
        "163165807575040\n",
        "'http://weijr-eng.blogspot.com               f\\x94\\x00\\x00S\\xc6\\n\\x0b' 00000000001c873229e5ce3e5a92d0b7\n"
       ]
      },
      {
       "output_type": "stream",
       "stream": "stdout",
       "text": [
        "163825085054976\n",
        "'http://weijr-eng.blogspot.com               \\xff\\x94\\x00\\x00&3~\\xd9' ffffffffff8e01366af52d0a5bd427c6\n"
       ]
      },
      {
       "output_type": "stream",
       "stream": "stdout",
       "text": [
        "164677636063232\n",
        "'http://weijr-eng.blogspot.com               \\xc6\\x95\\x00\\x00\\x06\\xfd\\xbb\\x07' 0000000000b31a4779dcd34da09f1dcf\n"
       ]
      },
      {
       "output_type": "stream",
       "stream": "stdout",
       "text": [
        "164825812434944\n",
        "'http://weijr-eng.blogspot.com               \\xe8\\x95\\x00\\x00nb\\x05\\xaa' ffffffffffd8165f9793d7513337afd1\n"
       ]
      },
      {
       "output_type": "stream",
       "stream": "stdout",
       "text": [
        "165016938479616\n",
        "'http://weijr-eng.blogspot.com               \\x15\\x96\\x00\\x00d>\\xa3w' 000000000049f84f90a0e240fe116acf\n"
       ]
      },
      {
       "output_type": "stream",
       "stream": "stdout",
       "text": [
        "166393475497984\n",
        "'http://weijr-eng.blogspot.com               U\\x97\\x00\\x00\\x9e8\\xa6\\x90' fffffffffff09d81baea66ec6d75088f\n"
       ]
      },
      {
       "output_type": "stream",
       "stream": "stdout",
       "text": [
        "166975443566592\n",
        "'http://weijr-eng.blogspot.com               \\xdd\\x97\\x00\\x00\\x15\\xa2\\xd4V' ffffffffff8787a59612e3efe9c55b54\n"
       ]
      },
      {
       "output_type": "stream",
       "stream": "stdout",
       "text": [
        "167419972681728\n",
        "'http://weijr-eng.blogspot.com               D\\x98\\x00\\x00S\\xcb(\\xeb' ffffffffff858916a63b10b51aff0a8d\n"
       ]
      },
      {
       "output_type": "stream",
       "stream": "stdout",
       "text": [
        "168764297445376\n",
        "'http://weijr-eng.blogspot.com               }\\x99\\x00\\x00\\x80\\xd6\\x81\\xe4' 00000000008b0c9131c0192559c4a183\n"
       ]
      },
      {
       "output_type": "stream",
       "stream": "stdout",
       "text": [
        "169015553032192\n",
        "'http://weijr-eng.blogspot.com               \\xb8\\x99\\x00\\x00m\\xfd\\xf2 ' ffffffffff0debf426ee7857a4bbc669\n"
       ]
      },
      {
       "output_type": "stream",
       "stream": "stdout",
       "text": [
        "169159434436608\n",
        "'http://weijr-eng.blogspot.com               \\xd9\\x99\\x00\\x00\\xc3\\xc7\\x82\\x81' ffffffffff2c9835d9cababa77b80977\n"
       ]
      },
      {
       "output_type": "stream",
       "stream": "stdout",
       "text": [
        "169198089142272\n",
        "'http://weijr-eng.blogspot.com               \\xe2\\x99\\x00\\x00H\\xa7/\\xf6' ffffffffff1dfcfd090791396b04f526\n"
       ]
      },
      {
       "output_type": "stream",
       "stream": "stdout",
       "text": [
        "169683420446720\n",
        "'http://weijr-eng.blogspot.com               S\\x9a\\x00\\x00\\x15&S\\xda' 000000000009f59582cd77c1115f1ce2\n"
       ]
      },
      {
       "output_type": "stream",
       "stream": "stdout",
       "text": [
        "170716360081408\n",
        "'http://weijr-eng.blogspot.com               D\\x9b\\x00\\x00\\x0e\\xfcrV' 0000000000c36abf0ff1f1b679325118\n"
       ]
      },
      {
       "output_type": "stream",
       "stream": "stdout",
       "text": [
        "170916076060672\n",
        "'http://weijr-eng.blogspot.com               r\\x9b\\x00\\x00\\xc5l/\\xf7' ffffffffffc14208dc16d577adad1926\n"
       ]
      },
      {
       "output_type": "stream",
       "stream": "stdout",
       "text": [
        "171019155275776\n",
        "'http://weijr-eng.blogspot.com               \\x8a\\x9b\\x00\\x00\\x11\\xdd\\xdf\\x88' ffffffffff0cbd2cf5f1fb6dd89375ce\n"
       ]
      },
      {
       "output_type": "stream",
       "stream": "stdout",
       "text": [
        "171047072563200\n",
        "'http://weijr-eng.blogspot.com               \\x91\\x9b\\x00\\x00\\x04\\xf9\\xd6F' 0000000000991d2224d264fb724d0770\n"
       ]
      },
      {
       "output_type": "stream",
       "stream": "stdout",
       "text": [
        "171517371482112\n",
        "'http://weijr-eng.blogspot.com               \\xfe\\x9b\\x00\\x00\\xcf\\xa8\\xe4\\xd9' ffffffffffb92edf41b03cd6a3ea5838\n"
       ]
      },
      {
       "output_type": "stream",
       "stream": "stdout",
       "text": [
        "171635483082752\n",
        "'http://weijr-eng.blogspot.com               \\x1a\\x9c\\x00\\x00\\x04\\xdf\\x0f+' ffffffffff9a9a09dd02cc981ea2d104\n"
       ]
      },
      {
       "output_type": "stream",
       "stream": "stdout",
       "text": [
        "171695612624896\n",
        "'http://weijr-eng.blogspot.com               (\\x9c\\x00\\x00\\xf1W\\xdb\\x1e' ffffffffffbd61077aa597f234df1187\n"
       ]
      },
      {
       "output_type": "stream",
       "stream": "stdout",
       "text": [
        "171702055075840\n",
        "'http://weijr-eng.blogspot.com               )\\x9c\\x00\\x00\\xddY\\x82\\xd1' ffffffffff4aa50935f6f86a0d02c782\n"
       ]
      },
      {
       "output_type": "stream",
       "stream": "stdout",
       "text": [
        "172232483536896\n",
        "'http://weijr-eng.blogspot.com               \\xa5\\x9c\\x00\\x00\\xf0,w\\x0f' 000000000030eee144118ef1cc804cf9\n"
       ]
      },
      {
       "output_type": "stream",
       "stream": "stdout",
       "text": [
        "172692045037568\n",
        "'http://weijr-eng.blogspot.com               \\x10\\x9d\\x00\\x00\\xda{\\xef\\n' 000000000044fb371256e05c6f89a519\n"
       ]
      },
      {
       "output_type": "stream",
       "stream": "stdout",
       "text": [
        "172698487488512\n",
        "'http://weijr-eng.blogspot.com               \\x11\\x9d\\x00\\x00\\xc7\\x19\\x84\\xcf' 0000000000e4511321c5dd63cf746cf9\n"
       ]
      },
      {
       "output_type": "stream",
       "stream": "stdout",
       "text": [
        "173714247254016\n",
        "\"http://weijr-eng.blogspot.com               \\xfe\\x9d\\x00\\x00F<\\xdc'\" ffffffffff3c83bdd52b230e8ab8ac68\n"
       ]
      },
      {
       "output_type": "stream",
       "stream": "stdout",
       "text": [
        "173952617938944\n",
        "'http://weijr-eng.blogspot.com               5\\x9e\\x00\\x00\\x16\\x08\\xb9\\xad' ffffffffffb95c811584023346a0a7fb\n"
       ]
      },
      {
       "output_type": "stream",
       "stream": "stdout",
       "text": [
        "174036369801216\n",
        "'http://weijr-eng.blogspot.com               I\\x9e\\x00\\x00M\\x0c\\xb1u' 0000000000c3c16c4be239d1d9b75d85\n"
       ]
      },
      {
       "output_type": "stream",
       "stream": "stdout",
       "text": [
        "174766514241536\n",
        "'http://weijr-eng.blogspot.com               \\xf3\\x9e\\x00\\x00\\xcc\\x8aW[' ffffffffffcfa527395abe3e7773d1f5\n"
       ]
      },
      {
       "output_type": "stream",
       "stream": "stdout",
       "text": [
        "175251845545984\n",
        "'http://weijr-eng.blogspot.com               d\\x9f\\x00\\x00P\\n\\rU' 00000000008117e1736be0583dbbed4d\n"
       ]
      },
      {
       "output_type": "stream",
       "stream": "stdout",
       "text": [
        "175322712506368\n",
        "'http://weijr-eng.blogspot.com               t\\x9f\\x00\\x00\\xb2\\xdfk\\x87' 00000000003df735dab466258853569d\n"
       ]
      },
      {
       "output_type": "stream",
       "stream": "stdout",
       "text": [
        "176508123480064\n",
        "'http://weijr-eng.blogspot.com               \\x88\\xa0\\x00\\x00\\xe2\\xf1\\xcc\\xd0' ffffffffff2725d78df771cba18a3762\n"
       ]
      },
      {
       "output_type": "stream",
       "stream": "stdout",
       "text": [
        "176746494164992\n",
        "'http://weijr-eng.blogspot.com               \\xc0\\xa0\\x00\\x00V~\\x90r' ffffffffff37bf18d6d34504ccc2a2ba\n"
       ]
      },
      {
       "output_type": "stream",
       "stream": "stdout",
       "text": [
        "176877490667520\n",
        "'http://weijr-eng.blogspot.com               \\xde\\xa0\\x00\\x00\\x12\\x7f\\xd3\\xcf' ffffffffffc5d38371bd5d756608ae85\n"
       ]
      },
      {
       "output_type": "stream",
       "stream": "stdout",
       "text": [
        "177085796581376\n",
        "'http://weijr-eng.blogspot.com               \\x0f\\xa1\\x00\\x00\\xb1\\x05\\xa5t' 00000000000275696b81a107bf8973fe\n"
       ]
      },
      {
       "output_type": "stream",
       "stream": "stdout",
       "text": [
        "177669912133632\n",
        "'http://weijr-eng.blogspot.com               \\x97\\xa1\\x00\\x00T3z\\x0c' fffffffffffff194e10443811b0ca0cd\n"
       ]
      },
      {
       "output_type": "stream",
       "stream": "stdout",
       "text": [
        "177852448243712\n",
        "'http://weijr-eng.blogspot.com               \\xc1\\xa1\\x00\\x00$\\xc92\\xb0' 0000000000cf31b2383251ad8a9aec8f\n"
       ]
      },
      {
       "output_type": "stream",
       "stream": "stdout",
       "text": [
        "178155243438080\n",
        "'http://weijr-eng.blogspot.com               \\x08\\xa2\\x00\\x00\\x11aI ' ffffffffff03b6a009a13694bad966aa\n"
       ]
      },
      {
       "output_type": "stream",
       "stream": "stdout",
       "text": [
        "178814520918016\n",
        "'http://weijr-eng.blogspot.com               \\xa1\\xa2\\x00\\x00\\xdd\\xbb3\\xdc' ffffffffff9f23876ec6155c8d2dbdb5\n"
       ]
      },
      {
       "output_type": "stream",
       "stream": "stdout",
       "text": [
        "179355686797312\n",
        "'http://weijr-eng.blogspot.com               \\x1f\\xa3\\x00\\x00\\xdc\\xe3X\\xb2' 0000000000e6ea5a6112cf940a092bbf\n"
       ]
      },
      {
       "output_type": "stream",
       "stream": "stdout",
       "text": [
        "179982752022528\n",
        "'http://weijr-eng.blogspot.com               \\xb1\\xa3\\x00\\x00\\x85\\xc6\\xb9\\xb0' ffffffffff7b7395519344be48cf4397\n"
       ]
      },
      {
       "output_type": "stream",
       "stream": "stdout",
       "text": [
        "180210385289216\n",
        "'http://weijr-eng.blogspot.com               \\xe6\\xa3\\x00\\x00\\xb9t\\xbc\\xc4' 0000000000cefe4ef30f31f310bbcde1\n"
       ]
      },
      {
       "output_type": "stream",
       "stream": "stdout",
       "text": [
        "181803818156032\n",
        "'http://weijr-eng.blogspot.com               Y\\xa5\\x00\\x00\\xc5\\xe5W\\xc7' ffffffffffc45af86898d5fde5411d58\n"
       ]
      },
      {
       "output_type": "stream",
       "stream": "stdout",
       "text": [
        "181848915312640\n",
        "'http://weijr-eng.blogspot.com               d\\xa5\\x00\\x00\\x81\\x95o.' 0000000000b47668e8334117f04a2b64\n"
       ]
      },
      {
       "output_type": "stream",
       "stream": "stdout",
       "text": [
        "182022861488128\n",
        "'http://weijr-eng.blogspot.com               \\x8c\\xa5\\x00\\x00\\x1c{\\x1d\\xd1' ffffffffff0e93b7af5b9f1059eec1ee\n"
       ]
      },
      {
       "output_type": "stream",
       "stream": "stdout",
       "text": [
        "183150290403328\n",
        "'http://weijr-eng.blogspot.com               \\x93\\xa6\\x00\\x00\\x12.\\x97u' 000000000097da91a023dbb5c6919e5a\n"
       ]
      },
      {
       "output_type": "stream",
       "stream": "stdout",
       "text": [
        "183188945108992\n",
        "'http://weijr-eng.blogspot.com               \\x9c\\xa6\\x00\\x00\\x1a\\xcc\\x04?' ffffffffff21aaabfde0ea4f6b80b320\n"
       ]
      },
      {
       "output_type": "stream",
       "stream": "stdout",
       "text": [
        "183274844454912\n",
        "'http://weijr-eng.blogspot.com               \\xb0\\xa6\\x00\\x00\\x10\\\\\\x07P' ffffffffff50663de6b9437c01fcec34\n"
       ]
      },
      {
       "output_type": "stream",
       "stream": "stdout",
       "text": [
        "183992103993344\n",
        "'http://weijr-eng.blogspot.com               W\\xa7\\x00\\x00\\xa4\\xae\\xce_' 0000000000118f87de02f3c99d9acd52\n"
       ]
      },
      {
       "output_type": "stream",
       "stream": "stdout",
       "text": [
        "184088740757504\n",
        "'http://weijr-eng.blogspot.com               m\\xa7\\x00\\x00\\xfd\\xab\\x1a\\xcb' 0000000000492bc3854f19a0164cc85d\n"
       ]
      },
      {
       "output_type": "stream",
       "stream": "stdout",
       "text": [
        "184322816475136\n",
        "'http://weijr-eng.blogspot.com               \\xa4\\xa7\\x00\\x00\\xf5\\xa3F\\x1e' ffffffffff20f494babd3cfcf01c055d\n"
       ]
      },
      {
       "output_type": "stream",
       "stream": "stdout",
       "text": [
        "186466005155840\n",
        "'http://weijr-eng.blogspot.com               \\x97\\xa9\\x00\\x00N\\xafd:' fffffffffff739e7704444631c142b34\n"
       ]
      },
      {
       "output_type": "stream",
       "stream": "stdout",
       "text": [
        "186858994663424\n",
        "'http://weijr-eng.blogspot.com               \\xf2\\xa9\\x00\\x00\\xdb\\x16\\xf6\\xfd' 0000000000344fa11012465c914b3e43\n"
       ]
      },
      {
       "output_type": "stream",
       "stream": "stdout",
       "text": [
        "187565516783616\n",
        "'http://weijr-eng.blogspot.com               \\x97\\xaa\\x00\\x00{&\\xf7)' ffffffffff3d93ebb58bc7a49277fab7\n"
       ]
      },
      {
       "output_type": "stream",
       "stream": "stdout",
       "text": [
        "187612761423872\n",
        "'http://weijr-eng.blogspot.com               \\xa2\\xaa\\x00\\x00\\xad\\xbb\\xe00' 00000000003f57ed40e5c7e5573470f6\n"
       ]
      },
      {
       "output_type": "stream",
       "stream": "stdout",
       "text": [
        "188720862986240\n",
        "'http://weijr-eng.blogspot.com               \\xa4\\xab\\x00\\x00N\\xfe\\xb6t' 0000000000f82cc82d1173323c3dd6f2\n"
       ]
      },
      {
       "output_type": "stream",
       "stream": "stdout",
       "text": [
        "189045133017088\n",
        "'http://weijr-eng.blogspot.com               \\xef\\xab\\x00\\x008bh\\x82' ffffffffffbe1710f97ad37aa7d352b5\n"
       ]
      },
      {
       "output_type": "stream",
       "stream": "stdout",
       "text": [
        "189300683571200\n",
        "'http://weijr-eng.blogspot.com               +\\xac\\x00\\x00\\x03\\xfe\\xcc`' 0000000000c9a5b5f46a4e20fee736ef\n"
       ]
      },
      {
       "output_type": "stream",
       "stream": "stdout",
       "text": [
        "189470334779392\n",
        "'http://weijr-eng.blogspot.com               R\\xac\\x00\\x00\\x89\\xca\\xd8\\x8e' ffffffffffd5f4f25ca1e4582294b987\n"
       ]
      },
      {
       "output_type": "stream",
       "stream": "stdout",
       "text": [
        "189792457326592\n",
        "'http://weijr-eng.blogspot.com               \\x9d\\xac\\x00\\x00a\\xb5w\\xe2' 0000000000f28da6816e886bd7562ae0\n"
       ]
      },
      {
       "output_type": "stream",
       "stream": "stdout",
       "text": [
        "191677947969536\n",
        "'http://weijr-eng.blogspot.com               T\\xae\\x00\\x004\\xeeZ\\xd0' ffffffffff2369fedbd0735c090c41e3\n"
       ]
      },
      {
       "output_type": "stream",
       "stream": "stdout",
       "text": [
        "192139656953856\n",
        "'http://weijr-eng.blogspot.com               \\xc0\\xae\\x00\\x00\\xf1\\x9b,;' 00000000003bd21e7bd2c31951bf014d\n"
       ]
      },
      {
       "output_type": "stream",
       "stream": "stdout",
       "text": [
        "193112467046400\n",
        "'http://weijr-eng.blogspot.com               \\xa2\\xaf\\x00\\x00;|y\\xc5' ffffffffff6cadeaa83ace6d8c70ed3e\n"
       ]
      },
      {
       "output_type": "stream",
       "stream": "stdout",
       "text": [
        "193408819789824\n",
        "'http://weijr-eng.blogspot.com               \\xe7\\xaf\\x00\\x00b\\xe4X\\x9a' 000000000044d769f496af25b308f7ea\n"
       ]
      },
      {
       "output_type": "stream",
       "stream": "stdout",
       "text": [
        "194158291582976\n",
        "'http://weijr-eng.blogspot.com               \\x96\\xb0\\x00\\x00I\\xe2\\x8d\\x06' ffffffffff68dbb36bd64ed0505532d5\n"
       ]
      },
      {
       "output_type": "stream",
       "stream": "stdout",
       "text": [
        "194701604945920\n",
        "'http://weijr-eng.blogspot.com               \\x14\\xb1\\x00\\x00j\\x11\\xce\\xd3' ffffffffff8858beb9186b5bdac98269\n"
       ]
      },
      {
       "output_type": "stream",
       "stream": "stdout",
       "text": [
        "195401684615168\n",
        "'http://weijr-eng.blogspot.com               \\xb7\\xb1\\x00\\x00A\\xb1\\xab\\xbc' ffffffffff63bbc1f448f9c96cecc70e\n"
       ]
      },
      {
       "output_type": "stream",
       "stream": "stdout",
       "text": [
        "196005127520256\n",
        "'http://weijr-eng.blogspot.com               D\\xb2\\x00\\x00f\\xec\\xf7\\\\' ffffffffff2b09aa3f80552c82f80ffe\n"
       ]
      },
      {
       "output_type": "stream",
       "stream": "stdout",
       "text": [
        "196503343726592\n",
        "'http://weijr-eng.blogspot.com               \\xb8\\xb2\\x00\\x00\\xf5Q\\xeeC' 0000000000004ee55431531fa26e1763\n"
       ]
      },
      {
       "output_type": "stream",
       "stream": "stdout",
       "text": [
        "196896333234176\n",
        "'http://weijr-eng.blogspot.com               \\x13\\xb3\\x00\\x00\\x15s\\xc1\\xd7' 00000000008352177a521a874a9081b6\n"
       ]
      },
      {
       "output_type": "stream",
       "stream": "stdout",
       "text": [
        "197424614211584\n",
        "'http://weijr-eng.blogspot.com               \\x8e\\xb3\\x00\\x00&#g\\xca' 0000000000a822cfc47d6995517a8962\n"
       ]
      },
      {
       "output_type": "stream",
       "stream": "stdout",
       "text": [
        "197499776139264\n",
        "'http://weijr-eng.blogspot.com               \\xa0\\xb3\\x00\\x00\\xca\\x98\\xf59' ffffffffffc154ab85c2d18838a65f86\n"
       ]
      },
      {
       "output_type": "stream",
       "stream": "stdout",
       "text": [
        "197641510060032\n",
        "'http://weijr-eng.blogspot.com               \\xc1\\xb3\\x00\\x00\\xae\\xc6\\x13o' ffffffffffacc05b10ba4e84f95b12e0\n"
       ]
      },
      {
       "output_type": "stream",
       "stream": "stdout",
       "text": [
        "197944305254400\n",
        "'http://weijr-eng.blogspot.com               \\x07\\xb4\\x00\\x00\\xbb\\xa0\\xb9\\x95' 0000000000c50cafb4d192653aeff386\n"
       ]
      },
      {
       "output_type": "stream",
       "stream": "stdout",
       "text": [
        "199009457143808\n",
        "'http://weijr-eng.blogspot.com               \\xff\\xb4\\x00\\x00h\\xd8\\x94\\xad' ffffffffff91a9d453e3ba40c990588d\n"
       ]
      },
      {
       "output_type": "stream",
       "stream": "stdout",
       "text": [
        "199247827828736\n",
        "'http://weijr-eng.blogspot.com               7\\xb5\\x00\\x00\\x95\\xc6E6' ffffffffffdb7742b464baedfdac5a68\n"
       ]
      },
      {
       "output_type": "stream",
       "stream": "stdout",
       "text": [
        "200237817790464\n",
        "'http://weijr-eng.blogspot.com               \\x1d\\xb6\\x00\\x00\\xe1\\x0b\\x9e\\xb5' ffffffffff5694702bbc5b1a5767de2b\n"
       ]
      },
      {
       "output_type": "stream",
       "stream": "stdout",
       "text": [
        "200343044489216\n",
        "'http://weijr-eng.blogspot.com               6\\xb6\\x00\\x00k\\x80\\xd0\\x16' 0000000000f39ad62fcaa98d3d559caa\n"
       ]
      },
      {
       "output_type": "stream",
       "stream": "stdout",
       "text": [
        "201262167490560\n",
        "\"http://weijr-eng.blogspot.com               \\x0c\\xb7\\x00\\x00\\xf7'\\xcaM\" ffffffffff9885e49e0bfb939d75cd5f\n"
       ]
      },
      {
       "output_type": "stream",
       "stream": "stdout",
       "text": [
        "202548510195712\n",
        "'http://weijr-eng.blogspot.com               7\\xb8\\x00\\x00\\x00\\xb0\\xd5\\xa2' ffffffffff5de55d7dea20aab3d30ca4\n"
       ]
      },
      {
       "output_type": "stream",
       "stream": "stdout",
       "text": [
        "203031694016512\n",
        "'http://weijr-eng.blogspot.com               \\xa8\\xb8\\x00\\x00(jjo' 00000000006617c1608e40524c6372cd\n"
       ]
      },
      {
       "output_type": "stream",
       "stream": "stdout",
       "text": [
        "204451180707840\n",
        "'http://weijr-eng.blogspot.com               \\xf2\\xb9\\x00\\x00\\x01\\xd35\\xcb' 00000000008ac1710490f946555e510c\n"
       ]
      },
      {
       "output_type": "stream",
       "stream": "stdout",
       "text": [
        "205262929526784\n",
        "'http://weijr-eng.blogspot.com               \\xaf\\xba\\x00\\x00\\xa1\\nJ\\x8a' 0000000000c6fe6033bedf90b7060781\n"
       ]
      },
      {
       "output_type": "stream",
       "stream": "stdout",
       "text": [
        "205896437202944\n",
        "'http://weijr-eng.blogspot.com               C\\xbb\\x00\\x00i\\t\\xde,' 00000000008aca702957f0b8af15b5dc\n"
       ]
      },
      {
       "output_type": "stream",
       "stream": "stdout",
       "text": [
        "205911469588480\n",
        "'http://weijr-eng.blogspot.com               F\\xbb\\x00\\x00\\x9emH\\xf1' ffffffffff68d35df23bc7449c5f0e4e\n"
       ]
      },
      {
       "output_type": "stream",
       "stream": "stdout",
       "text": [
        "206706038538240\n",
        "'http://weijr-eng.blogspot.com               \\xff\\xbb\\x00\\x00\\x02\\xdfc\\x80' 0000000000a90b246d1affa0fb0aa11d\n"
       ]
      },
      {
       "output_type": "stream",
       "stream": "stdout",
       "text": [
        "207079700692992\n",
        "'http://weijr-eng.blogspot.com               V\\xbc\\x00\\x00c;\\xc4\\xc0' 00000000009512533d37fb53c1f0d391\n"
       ]
      },
      {
       "output_type": "stream",
       "stream": "stdout",
       "text": [
        "207575769415680\n",
        "'http://weijr-eng.blogspot.com               \\xca\\xbc\\x00\\x00\\xad\\x84\\xfe{' ffffffffffaa7e6fbf9ce081f53d1137\n"
       ]
      },
      {
       "output_type": "stream",
       "stream": "stdout",
       "text": [
        "209560044306432\n",
        "'http://weijr-eng.blogspot.com               \\x98\\xbe\\x00\\x00m\\xd6\\xb2k' 000000000034fa3936d5757abb59ac6f\n"
       ]
      },
      {
       "output_type": "stream",
       "stream": "stdout",
       "text": [
        "211804164718592\n",
        "'http://weijr-eng.blogspot.com               \\xa2\\xc0\\x00\\x00\\xeed\\x0b\\xbb' 00000000001d6f104e0e78e9b47da819\n"
       ]
      },
      {
       "output_type": "stream",
       "stream": "stdout",
       "text": [
        "212639535857664\n",
        "'http://weijr-eng.blogspot.com               e\\xc1\\x00\\x00\\xd0\\x10\\x80U' 00000000002274310df92d32ed23fd59\n"
       ]
      },
      {
       "output_type": "stream",
       "stream": "stdout",
       "text": [
        "213603756015616\n",
        "'http://weijr-eng.blogspot.com               E\\xc2\\x00\\x00\\xb6\\xd3\\x7f\\xc5' 000000000090b48a75a48cfe9af7bea5\n"
       ]
      },
      {
       "output_type": "stream",
       "stream": "stdout",
       "text": [
        "213689655361536\n",
        "'http://weijr-eng.blogspot.com               Y\\xc2\\x00\\x00\\xe3\\x1ax\\xa2' ffffffffffdd56fe4868b9602cd722df\n"
       ]
      },
      {
       "output_type": "stream",
       "stream": "stdout",
       "text": [
        "214286655815680\n",
        "'http://weijr-eng.blogspot.com               \\xe4\\xc2\\x00\\x00(T\\x84\\x9d' 000000000071a3477b97450ed9869093\n"
       ]
      },
      {
       "output_type": "stream",
       "stream": "stdout",
       "text": [
        "214312425619456\n",
        "'http://weijr-eng.blogspot.com               \\xea\\xc2\\x00\\x00\\xb7\\xe0B\\xf7' 0000000000548e75023120feacca22bf\n"
       ]
      },
      {
       "output_type": "stream",
       "stream": "stdout",
       "text": [
        "214877213818880\n",
        "'http://weijr-eng.blogspot.com               n\\xc3\\x00\\x00]W\\xce7' ffffffffff363c6e97cbb0a023e6ef19\n"
       ]
      },
      {
       "output_type": "stream",
       "stream": "stdout",
       "text": [
        "215068339863552\n",
        "'http://weijr-eng.blogspot.com               \\x9a\\xc3\\x00\\x00\\x08\\xefj\\xa3' 00000000002720ebc1ec1ae37b882dc2\n"
       ]
      },
      {
       "output_type": "stream",
       "stream": "stdout",
       "text": [
        "215332480352256\n",
        "'http://weijr-eng.blogspot.com               \\xd8\\xc3\\x00\\x00^\\x07\\x94^' 0000000000a06559d14147087b9d16d3\n"
       ]
      },
      {
       "output_type": "stream",
       "stream": "stdout",
       "text": [
        "215411937247232\n",
        "'http://weijr-eng.blogspot.com               \\xea\\xc3\\x00\\x00\\x0b\\xec?\\xcb' ffffffffff87068ed4f551b09298de98\n"
       ]
      },
      {
       "output_type": "stream",
       "stream": "stdout",
       "text": [
        "215570851037184\n",
        "'http://weijr-eng.blogspot.com               \\x0f\\xc4\\x00\\x00H\\x97\\xdf\\xda' ffffffffff7c89c6ed3f4a393a45b01f\n"
       ]
      },
      {
       "output_type": "stream",
       "stream": "stdout",
       "text": [
        "215755534630912\n",
        "'http://weijr-eng.blogspot.com               :\\xc4\\x00\\x00\\x9a\\xad\\x00\\x94' 0000000000ddd6ab4544d5b26c6d2b25\n"
       ]
      },
      {
       "output_type": "stream",
       "stream": "stdout",
       "text": [
        "216017527635968\n",
        "'http://weijr-eng.blogspot.com               w\\xc4\\x00\\x00D\\xd7\\x1b\\x89' 000000000037f71afc96bb8846b8f638\n"
       ]
      },
      {
       "output_type": "stream",
       "stream": "stdout",
       "text": [
        "216532923711488\n",
        "'http://weijr-eng.blogspot.com               \\xef\\xc4\\x00\\x00\\x1a-3\\xf2' 000000000008fa2b3edbaf3d79f4c256\n"
       ]
      },
      {
       "output_type": "stream",
       "stream": "stdout",
       "text": [
        "217331787628544\n",
        "'http://weijr-eng.blogspot.com               \\xa9\\xc5\\x00\\x00\\x912\\xe4\\xc7' ffffffffff75a74b63ba9f5dc5b0de2d\n"
       ]
      },
      {
       "output_type": "stream",
       "stream": "stdout",
       "text": [
        "217583043215360\n",
        "'http://weijr-eng.blogspot.com               \\xe4\\xc5\\x00\\x00zG\\x8f\\x04' 00000000001e783df620dae334b06454\n"
       ]
      },
      {
       "output_type": "stream",
       "stream": "stdout",
       "text": [
        "218257353080832\n",
        "'http://weijr-eng.blogspot.com               \\x81\\xc6\\x00\\x00Y\\xa7\\xc1l' 0000000000e4d512221d9d06cd835603\n"
       ]
      },
      {
       "output_type": "stream",
       "stream": "stdout",
       "text": [
        "218695439745024\n",
        "'http://weijr-eng.blogspot.com               \\xe7\\xc6\\x00\\x00\\x06\\x18(\\x7f' 0000000000fbfb76121576b49ed5c236\n"
       ]
      },
      {
       "output_type": "stream",
       "stream": "stdout",
       "text": [
        "222741298937856\n",
        "'http://weijr-eng.blogspot.com               \\x95\\xca\\x00\\x00R\\x17X=' 000000000063557cdad838a2100ddacc\n"
       ]
      },
      {
       "output_type": "stream",
       "stream": "stdout",
       "text": [
        "222803575963648\n",
        "'http://weijr-eng.blogspot.com               \\xa3\\xca\\x00\\x00@Y\\x8d\\xc9' ffffffffffcf07d95aec3a52533e169e\n"
       ]
      },
      {
       "output_type": "stream",
       "stream": "stdout",
       "text": [
        "223200860438528\n",
        "'http://weijr-eng.blogspot.com               \\x00\\xcb\\x00\\x00\\x1e~\\xa2t' ffffffffff2456b9b931014e4613293f\n"
       ]
      },
      {
       "output_type": "stream",
       "stream": "stdout",
       "text": [
        "223593849946112\n",
        "'http://weijr-eng.blogspot.com               [\\xcb\\x00\\x00\\xae\\x0f\\x96\\x8c' 00000000007947e73a253a33c558069d\n"
       ]
      },
      {
       "output_type": "stream",
       "stream": "stdout",
       "text": [
        "223611029815296\n",
        "'http://weijr-eng.blogspot.com               _\\xcb\\x00\\x00\\xc5x\\xc8\\xf2' 0000000000e86d3a12727c16e828d648\n"
       ]
      },
      {
       "output_type": "stream",
       "stream": "stdout",
       "text": [
        "223978249519104\n",
        "'http://weijr-eng.blogspot.com               \\xb5\\xcb\\x00\\x00@3\\x07u' ffffffffffe4dcd2576fcc1ffaec3107\n"
       ]
      },
      {
       "output_type": "stream",
       "stream": "stdout",
       "text": [
        "225159365525504\n",
        "'http://weijr-eng.blogspot.com               \\xc8\\xcc\\x00\\x00\\x94g\\xbci' 0000000000d13c398c0e7a124c58f3f3\n"
       ]
      },
      {
       "output_type": "stream",
       "stream": "stdout",
       "text": [
        "225187282812928\n",
        "'http://weijr-eng.blogspot.com               \\xce\\xcc\\x00\\x00\\x12\\xde\\xd3\\xec' 0000000000d269493860523d7910bf7d\n"
       ]
      },
      {
       "output_type": "stream",
       "stream": "stdout",
       "text": [
        "225640401862656\n",
        "'http://weijr-eng.blogspot.com               8\\xcd\\x00\\x00\\x8e=\\xfb\\x16' 0000000000baa01aaf9fdf49a0a6c919\n"
       ]
      },
      {
       "output_type": "stream",
       "stream": "stdout",
       "text": [
        "226087078461440\n",
        "'http://weijr-eng.blogspot.com               \\xa0\\xcd\\x00\\x00\\xc1r\\xb7_' ffffffffffdebdeaaaa1536434bb3baf\n"
       ]
      },
      {
       "output_type": "stream",
       "stream": "stdout",
       "text": [
        "226381283721216\n",
        "'http://weijr-eng.blogspot.com               \\xe4\\xcd\\x00\\x00\\xd9t%\\xf5' 0000000000be7727266ba654c37699ad\n"
       ]
      },
      {
       "output_type": "stream",
       "stream": "stdout",
       "text": [
        "226821517869056\n",
        "'http://weijr-eng.blogspot.com               K\\xce\\x00\\x00\\xc0\\t\\xd7\\x1d' ffffffffffaddd7b5c3ab6144ac974d8\n"
       ]
      },
      {
       "output_type": "stream",
       "stream": "stdout",
       "text": [
        "226967546757120\n",
        "'http://weijr-eng.blogspot.com               m\\xce\\x00\\x00C\\xea+c' ffffffffff78d562a7b2ccb080b0ecc8\n"
       ]
      },
      {
       "output_type": "stream",
       "stream": "stdout",
       "text": [
        "227244572147712\n",
        "'http://weijr-eng.blogspot.com               \\xad\\xce\\x00\\x00\\x17\\x9c~\\xbb' ffffffffff9f30b723e4b749d2e7b3bb\n"
       ]
      },
      {
       "output_type": "stream",
       "stream": "stdout",
       "text": [
        "227530187472896\n",
        "'http://weijr-eng.blogspot.com               \\xf0\\xce\\x00\\x00j2\\xc6E' ffffffffffe5ffe1c7c44e47818f7aa6\n"
       ]
      },
      {
       "output_type": "stream",
       "stream": "stdout",
       "text": [
        "228374148546560\n",
        "'http://weijr-eng.blogspot.com               \\xb4\\xcf\\x00\\x00\\x8a\\xc4\\x91\\xc2' 0000000000dd7fb346cf8096db30c1a2\n"
       ]
      },
      {
       "output_type": "stream",
       "stream": "stdout",
       "text": [
        "228447162990592\n",
        "'http://weijr-eng.blogspot.com               \\xc5\\xcf\\x00\\x00)\\xdd\\x1a\\xdd' 0000000000851bc972d9275d5d5645e4\n"
       ]
      },
      {
       "output_type": "stream",
       "stream": "stdout",
       "text": [
        "229291124064256\n",
        "'http://weijr-eng.blogspot.com               \\x8a\\xd0\\x00\\x00\\xb5\\xdb\\xa2[' ffffffffffed8a574e3e7bda968ec3f1\n"
       ]
      },
      {
       "output_type": "stream",
       "stream": "stdout",
       "text": [
        "229512314880000\n",
        "'http://weijr-eng.blogspot.com               \\xbd\\xd0\\x00\\x00\\xf8\\xeb&\\xb0' fffffffffff5e53331b5f2514cf656ad\n"
       ]
      },
      {
       "output_type": "stream",
       "stream": "stdout",
       "text": [
        "230336948600832\n",
        "'http://weijr-eng.blogspot.com               }\\xd1\\x00\\x00^SH\\x93' 00000000007a6c618b20901eb6420e6e\n"
       ]
      },
      {
       "output_type": "stream",
       "stream": "stdout",
       "text": [
        "230369160855552\n",
        "'http://weijr-eng.blogspot.com               \\x85\\xd1\\x00\\x00[\\xd8\\xcaB' ffffffffffe06d525d4c543c2c379a04\n"
       ]
      },
      {
       "output_type": "stream",
       "stream": "stdout",
       "text": [
        "231174467223552\n",
        "'http://weijr-eng.blogspot.com               @\\xd2\\x00\\x00\\xdaL\\xa2\\xb6' fffffffffff4e553146d9f5617af4dd8\n"
       ]
      },
      {
       "output_type": "stream",
       "stream": "stdout",
       "text": [
        "231711338135552\n",
        "'http://weijr-eng.blogspot.com               \\xbd\\xd2\\x00\\x00D\\xd4\\xd9\\x99' 0000000000dfbf6c0369f800eda9c02d\n"
       ]
      },
      {
       "output_type": "stream",
       "stream": "stdout",
       "text": [
        "232467252379648\n",
        "'http://weijr-eng.blogspot.com               m\\xd3\\x00\\x00\\xa7\\x15\\xb7\\x94' ffffffffffd0f2b87638887a493c660c\n"
       ]
      },
      {
       "output_type": "stream",
       "stream": "stdout",
       "text": [
        "232636903587840\n",
        "'http://weijr-eng.blogspot.com               \\x95\\xd3\\x00\\x00\\xd0\\\\\\xb7v' ffffffffffec15ae39fb9d1e2ad0fdd9\n"
       ]
      },
      {
       "output_type": "stream",
       "stream": "stdout",
       "text": [
        "233341278224384\n",
        "'http://weijr-eng.blogspot.com               9\\xd4\\x00\\x00;\\xb4\\xcb\\\\' 00000000003e061e503306223e6101b1\n"
       ]
      },
      {
       "output_type": "stream",
       "stream": "stdout",
       "text": [
        "234037062926336\n",
        "'http://weijr-eng.blogspot.com               \\xdb\\xd4\\x00\\x00\\xd7r\\xa3\\x0f' ffffffffff24825be54bf12125e94902\n"
       ]
      },
      {
       "output_type": "stream",
       "stream": "stdout",
       "text": [
        "234157322010624\n",
        "'http://weijr-eng.blogspot.com               \\xf7\\xd4\\x00\\x00\\xcb\\xe1\\xb7v' 00000000001a940b99ad408bd5b4727a\n"
       ]
      },
      {
       "output_type": "stream",
       "stream": "stdout",
       "text": [
        "234831631876096\n",
        "'http://weijr-eng.blogspot.com               \\x94\\xd5\\x00\\x00\\x80cZ6' ffffffffff3447de679ec1b87652a881\n"
       ]
      },
      {
       "output_type": "stream",
       "stream": "stdout",
       "text": [
        "235316963180544\n",
        "\"http://weijr-eng.blogspot.com               \\x05\\xd6\\x00\\x00'\\xb93k\" ffffffffffbff4c1715a7a80973e7029\n"
       ]
      },
      {
       "output_type": "stream",
       "stream": "stdout",
       "text": [
        "235385682657280\n",
        "'http://weijr-eng.blogspot.com               \\x15\\xd6\\x00\\x00^\\x93\\xf7G' 00000000006e65157bad67a6268d5f70\n"
       ]
      },
      {
       "output_type": "stream",
       "stream": "stdout",
       "text": [
        "235619758374912\n",
        "'http://weijr-eng.blogspot.com               K\\xd6\\x00\\x00\\xf0a\\x02\\xd1' 000000000054c645c4f147233f916051\n"
       ]
      },
      {
       "output_type": "stream",
       "stream": "stdout",
       "text": [
        "235802294484992\n",
        "'http://weijr-eng.blogspot.com               v\\xd6\\x00\\x00AU/s' 00000000002ada0afb5656d8aa9c633f\n"
       ]
      },
      {
       "output_type": "stream",
       "stream": "stdout",
       "text": [
        "236111532130304\n",
        "'http://weijr-eng.blogspot.com               \\xbe\\xd6\\x00\\x00\\x1bg*w' ffffffffff94ac5d86f652a0c283e7c8\n"
       ]
      },
      {
       "output_type": "stream",
       "stream": "stdout",
       "text": [
        "237004885327872\n",
        "'http://weijr-eng.blogspot.com               \\x8e\\xd7\\x00\\x00j\\xaePk' ffffffffffd54f6d6313880b3b29eabf\n"
       ]
      },
      {
       "output_type": "stream",
       "stream": "stdout",
       "text": [
        "237722144866304\n",
        "'http://weijr-eng.blogspot.com               5\\xd8\\x00\\x00\\xbd\\x03l\\x15' 0000000000da71b2743e7d7f83d0a477\n"
       ]
      },
      {
       "output_type": "stream",
       "stream": "stdout",
       "text": [
        "238252573327360\n",
        "'http://weijr-eng.blogspot.com               \\xb0\\xd8\\x00\\x00\\x16jB\\x80' 0000000000ca03c5e113ef2ea9f03463\n"
       ]
      },
      {
       "output_type": "stream",
       "stream": "stdout",
       "text": [
        "238594023227392\n",
        "'http://weijr-eng.blogspot.com               \\x00\\xd9\\x00\\x00;\\x1f\\xf5\\x19' 0000000000770d60102291b078e5444f\n"
       ]
      },
      {
       "output_type": "stream",
       "stream": "stdout",
       "text": [
        "239373559791616\n",
        "'http://weijr-eng.blogspot.com               \\xb5\\xd9\\x00\\x00\\x08\\xa7B\\xb4' 00000000005b8b486425f67cf7fec3bc\n"
       ]
      },
      {
       "output_type": "stream",
       "stream": "stdout",
       "text": [
        "239459459137536\n",
        "'http://weijr-eng.blogspot.com               \\xc9\\xd9\\x00\\x00\\xdb\\x9dY\\xf0' 0000000000f1dda43859fc0bf53328da\n"
       ]
      },
      {
       "output_type": "stream",
       "stream": "stdout",
       "text": [
        "239803056521216\n",
        "'http://weijr-eng.blogspot.com               \\x19\\xda\\x00\\x00\\xcb\\xbd\\xc0\\xc4' 0000000000be27e4490e010f70b56f37\n"
       ]
      },
      {
       "output_type": "stream",
       "stream": "stdout",
       "text": [
        "239983445147648\n",
        "'http://weijr-eng.blogspot.com               C\\xda\\x00\\x00T\\xf5N\\x88' ffffffffffd353af7546bfcf0458e1c3\n"
       ]
      },
      {
       "output_type": "stream",
       "stream": "stdout",
       "text": [
        "240391467040768\n",
        "'http://weijr-eng.blogspot.com               \\xa2\\xda\\x00\\x00\\x8f\\x8c\\x15\\x9b' 000000000071a249d82491f5e4eaa986\n"
       ]
      },
      {
       "output_type": "stream",
       "stream": "stdout",
       "text": [
        "240629837725696\n",
        "'http://weijr-eng.blogspot.com               \\xda\\xda\\x00\\x00~\\xd0\\x80\\x1d' 000000000082afe69f15ddb4027fe2e4\n"
       ]
      },
      {
       "output_type": "stream",
       "stream": "stdout",
       "text": [
        "240732916940800\n",
        "'http://weijr-eng.blogspot.com               \\xf2\\xda\\x00\\x00\\x1d`\\xb1\\x0b' 0000000000deebd45d7a1ea26941b356\n"
       ]
      },
      {
       "output_type": "stream",
       "stream": "stdout",
       "text": [
        "240769424162816\n",
        "'http://weijr-eng.blogspot.com               \\xfa\\xda\\x00\\x00GM\\xca\\xfa' 00000000003761f4be63ee0911d4f229\n"
       ]
      },
      {
       "output_type": "stream",
       "stream": "stdout",
       "text": [
        "241422259191808\n",
        "'http://weijr-eng.blogspot.com               \\x92\\xdb\\x00\\x00`3}\\x94' 00000000007950dbbdaf608afd06632c\n"
       ]
      },
      {
       "output_type": "stream",
       "stream": "stdout",
       "text": [
        "241561845628928\n",
        "'http://weijr-eng.blogspot.com               \\xb3\\xdb\\x00\\x00\\xeb8Q>' 000000000041f66d7e46094f2006f73c\n"
       ]
      },
      {
       "output_type": "stream",
       "stream": "stdout",
       "text": [
        "241714316967936\n",
        "'http://weijr-eng.blogspot.com               \\xd6\\xdb\\x00\\x00;9\\x98\\xff' 0000000000150c038bd917d1206b80aa\n"
       ]
      },
      {
       "output_type": "stream",
       "stream": "stdout",
       "text": [
        "242135223762944\n",
        "'http://weijr-eng.blogspot.com               8\\xdc\\x00\\x00{\\xc3\\xcc\\xef' 0000000000c56da28fa87697b0b3ed21\n"
       ]
      },
      {
       "output_type": "stream",
       "stream": "stdout",
       "text": [
        "243447336271872\n",
        "'http://weijr-eng.blogspot.com               j\\xdd\\x00\\x00\\xc2\\xcc\\xbd\\x08' 000000000058b57a8e91a29299076059\n"
       ]
      },
      {
       "output_type": "stream",
       "stream": "stdout",
       "text": [
        "243627724898304\n",
        "'http://weijr-eng.blogspot.com               \\x94\\xdd\\x00\\x00Q\\xd6]\\x0c' ffffffffff752581b6e0fbee75359265\n"
       ]
      },
      {
       "output_type": "stream",
       "stream": "stdout",
       "text": [
        "244113056202752\n",
        "'http://weijr-eng.blogspot.com               \\x05\\xde\\x00\\x00\\xbeS\\x01%' 000000000061451a5d7e320f33fb541a\n"
       ]
      },
      {
       "output_type": "stream",
       "stream": "stdout",
       "text": [
        "244716499107840\n",
        "'http://weijr-eng.blogspot.com               \\x91\\xde\\x00\\x00\\xb6\\xdd\\xe4\\x80' ffffffffffb4c3eeb711303bc8f3999f\n"
       ]
      },
      {
       "output_type": "stream",
       "stream": "stdout",
       "text": [
        "245880435245056\n",
        "'http://weijr-eng.blogspot.com               \\xa0\\xdf\\x00\\x00\\xadt\\xa7\\xff' ffffffffffec4fce46804793217cd8ea\n"
       ]
      },
      {
       "output_type": "stream",
       "stream": "stdout",
       "text": [
        "246638496972800\n",
        "'http://weijr-eng.blogspot.com               Q\\xe0\\x00\\x00\\xd7\\xc6@p' ffffffffff7f0a93e196560f685ed4ad\n"
       ]
      },
      {
       "output_type": "stream",
       "stream": "stdout",
       "text": [
        "247366493929472\n",
        "'http://weijr-eng.blogspot.com               \\xfa\\xe0\\x00\\x00%\\x86\"\\xaf' 000000000030f27188983ec31d505ba4\n"
       ]
      },
      {
       "output_type": "stream",
       "stream": "stdout",
       "text": [
        "247720828731392\n",
        "'http://weijr-eng.blogspot.com               M\\xe1\\x00\\x00\\x0f\\x9a\\xf9D' ffffffffff61593af93e25d68db6d3e9\n"
       ]
      },
      {
       "output_type": "stream",
       "stream": "stdout",
       "text": [
        "248942746927104\n",
        "'http://weijr-eng.blogspot.com               i\\xe2\\x00\\x00\\xfa\\x1b\\xca\\xa3' 000000000045201e3dac09cfa9e6bcb2\n"
       ]
      },
      {
       "output_type": "stream",
       "stream": "stdout",
       "text": [
        "250123862933504\n",
        "'http://weijr-eng.blogspot.com               |\\xe3\\x00\\x00\\xa8\\x1f\\xff\\xdd' ffffffffff4a5e2b79b621a82f1ac929\n"
       ]
      },
      {
       "output_type": "stream",
       "stream": "stdout",
       "text": [
        "250338611298304\n",
        "'http://weijr-eng.blogspot.com               \\xae\\xe3\\x00\\x00\\xb7\\xbe\\xd4\\xda' ffffffffff3a0d533329df854608975d\n"
       ]
      },
      {
       "output_type": "stream",
       "stream": "stdout",
       "text": [
        "250534032310272\n",
        "'http://weijr-eng.blogspot.com               \\xdc\\xe3\\x00\\x00\\x80.q\\x0f' ffffffffffe13fb897303717c2885cd1\n"
       ]
      },
      {
       "output_type": "stream",
       "stream": "stdout",
       "text": [
        "250804615249920\n",
        "'http://weijr-eng.blogspot.com               \\x1b\\xe4\\x00\\x00]\\x0e\\xb8~' ffffffffff452306313d702de48bcb48\n"
       ]
      },
      {
       "output_type": "stream",
       "stream": "stdout",
       "text": [
        "251347928612864\n",
        "'http://weijr-eng.blogspot.com               \\x99\\xe4\\x00\\x00\\x9cY\\x8c\\x89' ffffffffff7aff0870b408c2e58ba50a\n"
       ]
      },
      {
       "output_type": "stream",
       "stream": "stdout",
       "text": [
        "251451007827968\n",
        "'http://weijr-eng.blogspot.com               \\xb1\\xe4\\x00\\x00\\x86!J\\xfd' 0000000000fcbabd2a24d04f17632a0b\n"
       ]
      },
      {
       "output_type": "stream",
       "stream": "stdout",
       "text": [
        "252846872199168\n",
        "'http://weijr-eng.blogspot.com               \\xf6\\xe5\\x00\\x00\\xa5__\\x96' 00000000003c3cd5cd4ce8603f34f03f\n"
       ]
      },
      {
       "output_type": "stream",
       "stream": "stdout",
       "text": [
        "252887674388480\n",
        "'http://weijr-eng.blogspot.com               \\x00\\xe6\\x00\\x00vQ^4' 00000000006d041a13bcd8babcd67013\n"
       ]
      },
      {
       "output_type": "stream",
       "stream": "stdout",
       "text": [
        "254064495427584\n",
        "'http://weijr-eng.blogspot.com               \\x12\\xe7\\x00\\x00\\x97\\xfb\\x05\"' ffffffffff83b9a920e65e215c10ffc9\n"
       ]
      },
      {
       "output_type": "stream",
       "stream": "stdout",
       "text": [
        "254700150587392\n",
        "'http://weijr-eng.blogspot.com               \\xa6\\xe7\\x00\\x00h\\x17;>' 00000000008d3fefb16d2071fc65f85b\n"
       ]
      },
      {
       "output_type": "stream",
       "stream": "stdout",
       "text": [
        "256166881918976\n",
        "'http://weijr-eng.blogspot.com               \\xfb\\xe8\\x00\\x004\\xe2\\x1f\\x94' ffffffffffec17a97104d13de5bdb817\n"
       ]
      },
      {
       "output_type": "stream",
       "stream": "stdout",
       "text": [
        "256336533127168\n",
        "'http://weijr-eng.blogspot.com               #\\xe9\\x00\\x00\\xec\\xbb\\x93o' ffffffffffff8033f3e7db5aae894eeb\n"
       ]
      },
      {
       "output_type": "stream",
       "stream": "stdout",
       "text": [
        "256495446917120\n",
        "'http://weijr-eng.blogspot.com               H\\xe9\\x00\\x00?\\x9cH\\x13' 0000000000e99f18e3420361ee52c7a3\n"
       ]
      },
      {
       "output_type": "stream",
       "stream": "stdout",
       "text": [
        "256529806655488\n",
        "'http://weijr-eng.blogspot.com               P\\xe9\\x00\\x00O\\xf0\\xc9p' ffffffffffdf46c1b89a6eacbe1e2df0\n"
       ]
      },
      {
       "output_type": "stream",
       "stream": "stdout",
       "text": [
        "256789652176896\n",
        "'http://weijr-eng.blogspot.com               \\x8c\\xe9\\x00\\x00\\x19$E\\xd5' ffffffffff3a068cb01751f73f07f96d\n"
       ]
      },
      {
       "output_type": "stream",
       "stream": "stdout",
       "text": [
        "257240623742976\n",
        "'http://weijr-eng.blogspot.com               \\xf5\\xe9\\x00\\x00\\xb2\\xa5\\xb5\\xaa' ffffffffffbd9eaaeec4ded576abd443\n"
       ]
      },
      {
       "output_type": "stream",
       "stream": "stdout",
       "text": [
        "257734544982016\n",
        "'http://weijr-eng.blogspot.com               h\\xea\\x00\\x00\\xf5W6\\xbd' ffffffffffa5c87268bc03fb5e5d7526\n"
       ]
      },
      {
       "output_type": "stream",
       "stream": "stdout",
       "text": [
        "258333692919808\n",
        "'http://weijr-eng.blogspot.com               \\xf4\\xea\\x00\\x00\\xd3\\x0b\\xcer' 00000000009110590aba631cb4653ea4\n"
       ]
      },
      {
       "output_type": "stream",
       "stream": "stdout",
       "text": [
        "259396697325568\n",
        "'http://weijr-eng.blogspot.com               \\xeb\\xeb\\x00\\x00\\x0f\\xe5\\xfc\\xd1' 0000000000c359ec94ec5409991a2158\n"
       ]
      },
      {
       "output_type": "stream",
       "stream": "stdout",
       "text": [
        "260528421208064\n",
        "'http://weijr-eng.blogspot.com               \\xf3\\xec\\x00\\x00\\xb5(\\xa3>' fffffffffff1e1c11cdc9daeb55d0d5e\n"
       ]
      },
      {
       "output_type": "stream",
       "stream": "stdout",
       "text": [
        "260635795390464\n",
        "'http://weijr-eng.blogspot.com               \\x0c\\xed\\x00\\x00\\xb7\\xf4\\xc8N' ffffffffff7edf09d3741e2e70f3fb1a\n"
       ]
      },
      {
       "output_type": "stream",
       "stream": "stdout",
       "text": [
        "261088914440192\n",
        "'http://weijr-eng.blogspot.com               u\\xed\\x00\\x00\\x9a^T\\xcd' ffffffffff5199a08b3775161b9837a2\n"
       ]
      },
      {
       "output_type": "stream",
       "stream": "stdout",
       "text": [
        "261501231300608\n",
        "'http://weijr-eng.blogspot.com               \\xd5\\xed\\x00\\x00\\x1a[T\\x99' ffffffffffc1cf1483a288c954c2982c\n"
       ]
      },
      {
       "output_type": "stream",
       "stream": "stdout",
       "text": [
        "262209900904448\n",
        "'http://weijr-eng.blogspot.com               z\\xee\\x00\\x00Z\\xcf\\xc8\\xe9' ffffffffff7b65bbb0fae0eee9ef1766\n"
       ]
      },
      {
       "output_type": "stream",
       "stream": "stdout",
       "text": [
        "262235670708224\n",
        "'http://weijr-eng.blogspot.com               \\x80\\xee\\x00\\x00\\xfd\\xd6!\\xb3' 00000000007cefee461eab344be06e02\n"
       ]
      },
      {
       "output_type": "stream",
       "stream": "stdout",
       "text": [
        "262495516229632\n",
        "'http://weijr-eng.blogspot.com               \\xbd\\xee\\x00\\x00}\\xe8\\x89b' 00000000002313c74963304383e8e6cc\n"
       ]
      },
      {
       "output_type": "stream",
       "stream": "stdout",
       "text": [
        "263429671616512\n",
        "'http://weijr-eng.blogspot.com               \\x96\\xef\\x00\\x00bM\\x0b\\xf7' 00000000007cd398e1085e0d5edd477b\n"
       ]
      },
      {
       "output_type": "stream",
       "stream": "stdout",
       "text": [
        "263743204229120\n",
        "'http://weijr-eng.blogspot.com               \\xdf\\xef\\x00\\x00#V7\\x89' fffffffffff1af15ba03c97247bf4539\n"
       ]
      },
      {
       "output_type": "stream",
       "stream": "stdout",
       "text": [
        "264486233571328\n",
        "'http://weijr-eng.blogspot.com               \\x8c\\xf0\\x00\\x00`\\x9d\\xed\\xf7' 00000000000fb30bab28d307a5a37c5b\n"
       ]
      },
      {
       "output_type": "stream",
       "stream": "stdout",
       "text": [
        "264647294844928\n",
        "'http://weijr-eng.blogspot.com               \\xb2\\xf0\\x00\\x00\\xee\\x96O\\x0b' ffffffffffe1ba387678a8f36135d2cb\n"
       ]
      },
      {
       "output_type": "stream",
       "stream": "stdout",
       "text": [
        "266820548296704\n",
        "'http://weijr-eng.blogspot.com               \\xac\\xf2\\x00\\x00\\x9e1tE' ffffffffffe3413c6bca6d53d45c3503\n"
       ]
      },
      {
       "output_type": "stream",
       "stream": "stdout",
       "text": [
        "267189915484160\n",
        "'http://weijr-eng.blogspot.com               \\x02\\xf3\\x00\\x00\\xa3i\\xf6=' ffffffffff910b15b8f1b29ba56354d6\n"
       ]
      },
      {
       "output_type": "stream",
       "stream": "stdout",
       "text": [
        "267484120743936\n",
        "'http://weijr-eng.blogspot.com               F\\xf3\\x00\\x00\\xf2\\xb1\\x9f\\xca' 000000000046efa3a63b7c86bd8279da\n"
       ]
      },
      {
       "output_type": "stream",
       "stream": "stdout",
       "text": [
        "267595789893632\n",
        "'http://weijr-eng.blogspot.com               `\\xf3\\x00\\x00\\xfb\\x0eh\\xa0' ffffffffff194facc6eb72cff0191d11\n"
       ]
      },
      {
       "output_type": "stream",
       "stream": "stdout",
       "text": [
        "268431161032704\n",
        "'http://weijr-eng.blogspot.com               #\\xf4\\x00\\x00)\\x02\\xf5@' ffffffffff13002ffda9ded7b72c561d\n"
       ]
      },
      {
       "output_type": "stream",
       "stream": "stdout",
       "text": [
        "269049636323328\n",
        "'http://weijr-eng.blogspot.com               \\xb3\\xf4\\x00\\x00\\xd5\\x8ey\\x02' ffffffffff8d9995035f9732de227bb8\n"
       ]
      },
      {
       "output_type": "stream",
       "stream": "stdout",
       "text": [
        "269590802202624\n",
        "'http://weijr-eng.blogspot.com               1\\xf5\\x00\\x00y\\x12\\x18\\x14' ffffffffff6a5c6265c4b73b12545828\n"
       ]
      },
      {
       "output_type": "stream",
       "stream": "stdout",
       "text": [
        "270492745334784\n",
        "'http://weijr-eng.blogspot.com               \\x03\\xf6\\x00\\x00|\\xdc\\x0cg' ffffffffffb5074417f67eb148b37e38\n"
       ]
      },
      {
       "output_type": "stream",
       "stream": "stdout",
       "text": [
        "270576497197056\n",
        "'http://weijr-eng.blogspot.com               \\x16\\xf6\\x00\\x00\\xfb\\xb1%\\xac' ffffffffff17cd9b46555ae6ebfa1de9\n"
       ]
      },
      {
       "output_type": "stream",
       "stream": "stdout",
       "text": [
        "270619446870016\n",
        "'http://weijr-eng.blogspot.com                \\xf6\\x00\\x00\\xe9\\xf1!\\xa9' 0000000000c54b2e3f739083ed4b8d0a\n"
       ]
      },
      {
       "output_type": "stream",
       "stream": "stdout",
       "text": [
        "271811300294656\n",
        "'http://weijr-eng.blogspot.com               6\\xf7\\x00\\x00\\x80\\xc8\\x83A' 000000000070f69478fa0e535a342ac4\n"
       ]
      },
      {
       "output_type": "stream",
       "stream": "stdout",
       "text": [
        "271974509051904\n",
        "'http://weijr-eng.blogspot.com               \\\\\\xf7\\x00\\x00\\x01\\xe3\\xa3\\x1e' 0000000000a13cd4cf4a8b99fdb4471d\n"
       ]
      },
      {
       "output_type": "stream",
       "stream": "stdout",
       "text": [
        "274804892499968\n",
        "'http://weijr-eng.blogspot.com               \\xef\\xf9\\x00\\x00^TM\\x1c' ffffffffff0cca723cfb4403c8f109cd\n"
       ]
      },
      {
       "output_type": "stream",
       "stream": "stdout",
       "text": [
        "275172112203776\n",
        "'http://weijr-eng.blogspot.com               D\\xfa\\x00\\x000\\x1e\\x90\\xe2' ffffffffff0366ae3551a0c990c4bcd1\n"
       ]
      },
      {
       "output_type": "stream",
       "stream": "stdout",
       "text": [
        "275466317463552\n",
        "'http://weijr-eng.blogspot.com               \\x89\\xfa\\x00\\x00\\x0ez\\x9a\\x13' ffffffffff4add75a3d6743c42fd56e2\n"
       ]
      },
      {
       "output_type": "stream",
       "stream": "stdout",
       "text": [
        "275719720534016\n",
        "'http://weijr-eng.blogspot.com               \\xc4\\xfa\\x00\\x00\\xe2@\\x07\\x7f' ffffffffff0dc99c68d82762af07b90d\n"
       ]
      },
      {
       "output_type": "stream",
       "stream": "stdout",
       "text": [
        "278210801565696\n",
        "'http://weijr-eng.blogspot.com               \\x08\\xfd\\x00\\x00\\tQ\\x13\\x7f' fffffffffffc7b749b014472156e5442\n"
       ]
      },
      {
       "output_type": "stream",
       "stream": "stdout",
       "text": [
        "278408370061312\n",
        "'http://weijr-eng.blogspot.com               6\\xfd\\x00\\x00\\x1e\\x15\\x8e\\x1d' 0000000000da7d7640525efba1ec0b9e\n"
       ]
      },
      {
       "output_type": "stream",
       "stream": "stdout",
       "text": [
        "278754114928640\n",
        "'http://weijr-eng.blogspot.com               \\x86\\xfd\\x00\\x00\\xf6\\xdf%\\xe6' 00000000008cee104ca854631d975a97\n"
       ]
      },
      {
       "output_type": "stream",
       "stream": "stdout",
       "text": [
        "279001075548160\n",
        "'http://weijr-eng.blogspot.com               \\xc0\\xfd\\x00\\x00_b=<' ffffffffffe2b96a32932866a5b2bc07\n"
       ]
      },
      {
       "output_type": "stream",
       "stream": "stdout",
       "text": [
        "279175021723648\n",
        "'http://weijr-eng.blogspot.com               \\xe8\\xfd\\x00\\x00\\xd6\\ti\\xa5' ffffffffff8f4be31f75f00ce19b158c\n"
       ]
      },
      {
       "output_type": "stream",
       "stream": "stdout",
       "text": [
        "279336082997248\n",
        "'http://weijr-eng.blogspot.com               \\x0e\\xfe\\x00\\x00G\\xfe\\x08\\\\' ffffffffff2c2b61221f7764ea6f1d81\n"
       ]
      },
      {
       "output_type": "stream",
       "stream": "stdout",
       "text": [
        "279935230935040\n",
        "'http://weijr-eng.blogspot.com               \\x99\\xfe\\x00\\x00Oi\\x06\\xdf' 00000000009ae91007f8a39ba7472c4e\n"
       ]
      },
      {
       "output_type": "stream",
       "stream": "stdout",
       "text": [
        "280306745606144\n",
        "'http://weijr-eng.blogspot.com               \\xf0\\xfe\\x00\\x00\\\\z{\\x0c' 0000000000e3ecf781ed097684ec6971\n"
       ]
      },
      {
       "output_type": "stream",
       "stream": "stdout",
       "text": [
        "280989645406208\n",
        "'http://weijr-eng.blogspot.com               \\x8f\\xff\\x00\\x00<q\\xda|' 00000000000118b60d5d31e80e861a67\n"
       ]
      },
      {
       "output_type": "stream",
       "stream": "stdout",
       "text": [
        "282501473894400\n",
        "'http://weijr-eng.blogspot.com               \\xef\\x00\\x01\\x00\\xa7\\xc0\\xe3I' 0000000000eeb5e2482b8de238e2b67a\n"
       ]
      },
      {
       "output_type": "stream",
       "stream": "stdout",
       "text": [
        "282514358796288\n",
        "'http://weijr-eng.blogspot.com               \\xf2\\x00\\x01\\x00\\x1a\\xce\\x1f\\x18' ffffffffffbcc1db73f8c27beb9b25c3\n"
       ]
      },
      {
       "output_type": "stream",
       "stream": "stdout",
       "text": [
        "282737697095680\n",
        "'http://weijr-eng.blogspot.com               &\\x01\\x01\\x00Py\\x9cT' 00000000003cffde2617be3b1ae3727a\n"
       ]
      },
      {
       "output_type": "stream",
       "stream": "stdout",
       "text": [
        "282872988565504\n",
        "'http://weijr-eng.blogspot.com               E\\x01\\x01\\x00\\xeb>\\x99\\xe3' 000000000061d8cd00dcad74ac5827e4\n"
       ]
      },
      {
       "output_type": "stream",
       "stream": "stdout",
       "text": [
        "282881578500096\n",
        "'http://weijr-eng.blogspot.com               G\\x01\\x01\\x00\\xf1\"\\xf6\\xe4' ffffffffff5e0a78d79bd41e22ad6b7f\n"
       ]
      },
      {
       "output_type": "stream",
       "stream": "stdout",
       "text": [
        "283356172386304\n",
        "'http://weijr-eng.blogspot.com               \\xb6\\x01\\x01\\x00\\xb39\\xa6*' 0000000000814b017dd4256af218ad45\n"
       ]
      },
      {
       "output_type": "stream",
       "stream": "stdout",
       "text": [
        "283362614837248\n",
        "'http://weijr-eng.blogspot.com               \\xb7\\x01\\x01\\x00wLo\\xd8' ffffffffff358f24410c14384915d8b1\n"
       ]
      },
      {
       "output_type": "stream",
       "stream": "stdout",
       "text": [
        "284019744833536\n",
        "'http://weijr-eng.blogspot.com               P\\x02\\x01\\x00\\xa5\\xcc\\x10\\xeb' ffffffffffe66843095385e96a31a088\n"
       ]
      },
      {
       "output_type": "stream",
       "stream": "stdout",
       "text": [
        "284097054244864\n",
        "'http://weijr-eng.blogspot.com               b\\x02\\x01\\x00\\xa8Pw\\xb8' ffffffffffb42052c18bc34fb4efbe73\n"
       ]
      },
      {
       "output_type": "stream",
       "stream": "stdout",
       "text": [
        "287470751055872\n",
        "'http://weijr-eng.blogspot.com               t\\x05\\x01\\x00\\x8d$\\xd9C' ffffffffff440d38490bc3faef316b52\n"
       ]
      },
      {
       "output_type": "stream",
       "stream": "stdout",
       "text": [
        "288585295069184\n",
        "'http://weijr-eng.blogspot.com               w\\x06\\x01\\x00\\xd3?\\xf0\\xe3' 00000000001def92d4afacf3a8621264\n"
       ]
      },
      {
       "output_type": "stream",
       "stream": "stdout",
       "text": [
        "288864467943424\n",
        "'http://weijr-eng.blogspot.com               \\xb8\\x06\\x01\\x00\\xeaj@\\xda' 000000000046b4ef7c15cd3610589240\n"
       ]
      },
      {
       "output_type": "stream",
       "stream": "stdout",
       "text": [
        "289480795750400\n",
        "'http://weijr-eng.blogspot.com               H\\x07\\x01\\x00\\xf4\\x10Hb' 0000000000521fade3855378fb47c98b\n"
       ]
      },
      {
       "output_type": "stream",
       "stream": "stdout",
       "text": [
        "290172285485056\n",
        "'http://weijr-eng.blogspot.com               \\xe9\\x07\\x01\\x00\\xca\\xbc\\xabN' 0000000000bc201bd91358f40e602053\n"
       ]
      },
      {
       "output_type": "stream",
       "stream": "stdout",
       "text": [
        "291484397993984\n",
        "'http://weijr-eng.blogspot.com               \\x1a\\t\\x01\\x00\\xf1\\x94%\\xaa' 00000000007728515e1280b69711a44e\n"
       ]
      },
      {
       "output_type": "stream",
       "stream": "stdout",
       "text": [
        "291843027763200\n",
        "'http://weijr-eng.blogspot.com               n\\t\\x01\\x00\\xec\\xe6\\xf4D' ffffffffff8bed18c3a1c26cb76b4596\n"
       ]
      },
      {
       "output_type": "stream",
       "stream": "stdout",
       "text": [
        "293434313146368\n",
        "'http://weijr-eng.blogspot.com               \\xe0\\n\\x01\\x00J\\xe0\\x9a\\xfd' 000000000043fe26f8257f8219249be1\n"
       ]
      },
      {
       "output_type": "stream",
       "stream": "stdout",
       "text": [
        "293945414254592\n",
        "'http://weijr-eng.blogspot.com               W\\x0b\\x01\\x00\\xb66\\xfd\\xe9' ffffffffff3b71c35b5cfbaf8a5e7d77\n"
       ]
      },
      {
       "output_type": "stream",
       "stream": "stdout",
       "text": [
        "293992658894848\n",
        "'http://weijr-eng.blogspot.com               b\\x0b\\x01\\x00\\x89rs\\xdc' ffffffffffa19426b63d0467585016d0\n"
       ]
      },
      {
       "output_type": "stream",
       "stream": "stdout",
       "text": [
        "294295454089216\n",
        "'http://weijr-eng.blogspot.com               \\xa9\\x0b\\x01\\x00\\xc2AV9' 0000000000a86b827f4fb7a4bf890de6\n"
       ]
      },
      {
       "output_type": "stream",
       "stream": "stdout",
       "text": [
        "294632609021952\n",
        "'http://weijr-eng.blogspot.com               \\xf7\\x0b\\x01\\x00O\\x88Z\\xbd' ffffffffff4e9a67154d9b9ba232087e\n"
       ]
      },
      {
       "output_type": "stream",
       "stream": "stdout",
       "text": [
        "295704203362304\n",
        "'http://weijr-eng.blogspot.com               \\xf1\\x0c\\x01\\x00\\xe6\\x8fJV' ffffffffff9499bbf41c0bf73d601238\n"
       ]
      },
      {
       "output_type": "stream",
       "stream": "stdout",
       "text": [
        "296752175382528\n",
        "'http://weijr-eng.blogspot.com               \\xe5\\r\\x01\\x00\\x99\\xa0?P' ffffffffff508e24d50ff3614d76c5d6\n"
       ]
      },
      {
       "output_type": "stream",
       "stream": "stdout",
       "text": [
        "297166639726592\n",
        "'http://weijr-eng.blogspot.com               E\\x0e\\x01\\x00\\xafu\\x87\\xff' 0000000000c5f6f17bae36c5ffb3e9be\n"
       ]
      },
      {
       "output_type": "stream",
       "stream": "stdout",
       "text": [
        "297282603843584\n",
        "'http://weijr-eng.blogspot.com               `\\x0e\\x01\\x00**\\xf4\\x93' ffffffffff081dd26e57e87a3fd9db14\n"
       ]
      },
      {
       "output_type": "stream",
       "stream": "stdout",
       "text": [
        "298601158803456\n",
        "'http://weijr-eng.blogspot.com               \\x93\\x0f\\x01\\x00\\x8c\\x18\\xc9\\xc8' ffffffffffe352b923267bc55b14ae54\n"
       ]
      },
      {
       "output_type": "stream",
       "stream": "stdout",
       "text": [
        "299127292297216\n",
        "'http://weijr-eng.blogspot.com               \\x0e\\x10\\x01\\x00(\\x0ek\\x1d' 0000000000c2a995018a65dcff50b9f0\n"
       ]
      },
      {
       "output_type": "stream",
       "stream": "stdout",
       "text": [
        "299221781577728\n",
        "'http://weijr-eng.blogspot.com               $\\x10\\x01\\x00_\\x9a\\x1d<' ffffffffff8355db2b672b1f7097a9b9\n"
       ]
      },
      {
       "output_type": "stream",
       "stream": "stdout",
       "text": [
        "299387137818624\n",
        "'http://weijr-eng.blogspot.com               J\\x10\\x01\\x00u\\xed\\xa3\\xf9' ffffffffffe3df9e11376c97f4c61f0e\n"
       ]
      },
      {
       "output_type": "stream",
       "stream": "stdout",
       "text": [
        "301051437645824\n",
        "'http://weijr-eng.blogspot.com               \\xce\\x11\\x01\\x00\\xddUpF' 0000000000bdbaea14ff18f6690304c3\n"
       ]
      },
      {
       "output_type": "stream",
       "stream": "stdout",
       "text": [
        "301850301562880\n",
        "'http://weijr-eng.blogspot.com               \\x88\\x12\\x01\\x007_\\xac\\x1c' ffffffffffe0ce78bbb48e7b8bb5e8b7\n"
       ]
      },
      {
       "output_type": "stream",
       "stream": "stdout",
       "text": [
        "303282673156096\n",
        "'http://weijr-eng.blogspot.com               \\xd5\\x13\\x01\\x00\\xd3\\xbe\\xec\\xc6' 0000000000040cf538cb05be9ce6aaac\n"
       ]
      },
      {
       "output_type": "stream",
       "stream": "stdout",
       "text": [
        "303637007958016\n",
        "'http://weijr-eng.blogspot.com               (\\x14\\x01\\x00\\xa7\\xc3\\x98I' ffffffffffa15f8f083a49b5432386c3\n"
       ]
      },
      {
       "output_type": "stream",
       "stream": "stdout",
       "text": [
        "304777321775104\n",
        "'http://weijr-eng.blogspot.com               1\\x15\\x01\\x00\\xc8|h\\xc5' ffffffffff66207aedb123e28a797013\n"
       ]
      },
      {
       "output_type": "stream",
       "stream": "stdout",
       "text": [
        "304835303833600\n",
        "'http://weijr-eng.blogspot.com               ?\\x15\\x01\\x00\\x88W\\xc7l' ffffffffff04c0b7b0c08eb7e3bed431\n"
       ]
      },
      {
       "output_type": "stream",
       "stream": "stdout",
       "text": [
        "305013544976384\n",
        "'http://weijr-eng.blogspot.com               h\\x15\\x01\\x00\\xe0NU\\xb6' ffffffffff83e1e45a9655f36a522ded\n"
       ]
      },
      {
       "output_type": "stream",
       "stream": "stdout",
       "text": [
        "305612692914176\n",
        "'http://weijr-eng.blogspot.com               \\xf4\\x15\\x01\\x00Q\\n\\xc6V' ffffffffff01f21182219adaab4afbd5\n"
       ]
      },
      {
       "output_type": "stream",
       "stream": "stdout",
       "text": [
        "305814556377088\n",
        "'http://weijr-eng.blogspot.com               #\\x16\\x01\\x00\\x0f\\x19\\x0f\\x0e' 0000000000b0cdb89c2bff75651d20d3\n"
       ]
      },
      {
       "output_type": "stream",
       "stream": "stdout",
       "text": [
        "306355722256384\n",
        "'http://weijr-eng.blogspot.com               \\xa1\\x16\\x01\\x00\\x96\\xf3kG' ffffffffff0d8cfbb6146beb42c323c7\n"
       ]
      },
      {
       "output_type": "stream",
       "stream": "stdout",
       "text": [
        "306536110882816\n",
        "'http://weijr-eng.blogspot.com               \\xcb\\x16\\x01\\x00\\xc7\\x9cp~' ffffffffff9ee1f11aaa95dbb7b27511\n"
       ]
      },
      {
       "output_type": "stream",
       "stream": "stdout",
       "text": [
        "306579060555776\n",
        "'http://weijr-eng.blogspot.com               \\xd5\\x16\\x01\\x00[\\x9f|V' ffffffffffa1fd0eefefe020af920cd5\n"
       ]
      },
      {
       "output_type": "stream",
       "stream": "stdout",
       "text": [
        "306600535392256\n",
        "'http://weijr-eng.blogspot.com               \\xda\\x16\\x01\\x00#\\xceF\\x17' 0000000000bb5e78cb1d3f49f64dc3d0\n"
       ]
      },
      {
       "output_type": "stream",
       "stream": "stdout",
       "text": [
        "307624885092352\n",
        "'http://weijr-eng.blogspot.com               \\xc8\\x17\\x01\\x00\\xce>j\\x84' 000000000024ef3cc8457f0dde614905\n"
       ]
      },
      {
       "output_type": "stream",
       "stream": "stdout",
       "text": [
        "307712931921920\n",
        "'http://weijr-eng.blogspot.com               \\xdd\\x17\\x01\\x00\\xc9A;\\x07' ffffffffff7678cc6dc20c48063ba651\n"
       ]
      },
      {
       "output_type": "stream",
       "stream": "stdout",
       "text": [
        "309602717532160\n",
        "'http://weijr-eng.blogspot.com               \\x95\\x19\\x01\\x00R\\x91Bm' ffffffffff1142b76d0b448bbb26c3f9\n"
       ]
      },
      {
       "output_type": "stream",
       "stream": "stdout",
       "text": [
        "309903365242880\n",
        "'http://weijr-eng.blogspot.com               \\xdb\\x19\\x01\\x002\\x7fI\\x03' ffffffffff2848ceeaa640d247794d2d\n"
       ]
      },
      {
       "output_type": "stream",
       "stream": "stdout",
       "text": [
        "310418761318400\n",
        "'http://weijr-eng.blogspot.com               S\\x1a\\x01\\x00R@\\x8dX' 0000000000492345929d8a9e8351975c\n"
       ]
      },
      {
       "output_type": "stream",
       "stream": "stdout",
       "text": [
        "310895502688256\n",
        "'http://weijr-eng.blogspot.com               \\xc2\\x1a\\x01\\x00\\x04 \\x05+' 00000000007cc01fa4dee1efe165ea8c\n"
       ]
      },
      {
       "output_type": "stream",
       "stream": "stdout",
       "text": [
        "311522567913472\n",
        "'http://weijr-eng.blogspot.com               T\\x1b\\x01\\x00\\x1c\\xe8\\xfeD' 00000000006bd55a3b29d89c15698fb5\n"
       ]
      },
      {
       "output_type": "stream",
       "stream": "stdout",
       "text": [
        "312007899217920\n",
        "'http://weijr-eng.blogspot.com               \\xc5\\x1b\\x01\\x00\\x0f\\xd3\\x96~' ffffffffff099a611626124fc0b8b711\n"
       ]
      },
      {
       "output_type": "stream",
       "stream": "stdout",
       "text": [
        "313395173654528\n",
        "'http://weijr-eng.blogspot.com               \\x08\\x1d\\x01\\x00\\xf15\\xc5)' ffffffffff952ecdc4c7e61bcc6b1f07\n"
       ]
      },
      {
       "output_type": "stream",
       "stream": "stdout",
       "text": [
        "313453155713024\n",
        "'http://weijr-eng.blogspot.com               \\x15\\x1d\\x01\\x00A\\x92\\xd1\\x90' ffffffffff5ba2c1683e6ae27534c27a\n"
       ]
      },
      {
       "output_type": "stream",
       "stream": "stdout",
       "text": [
        "314206922473472\n",
        "'http://weijr-eng.blogspot.com               \\xc5\\x1d\\x01\\x00I \\xbc1' ffffffffff6ae7a9e664c1e88234893d\n"
       ]
      },
      {
       "output_type": "stream",
       "stream": "stdout",
       "text": [
        "314887674789888\n",
        "\"http://weijr-eng.blogspot.com               c\\x1e\\x01\\x00'\\xd2\\xe4\\xd2\" ffffffffffccde3a8b85cf2ef13be069\n"
       ]
      },
      {
       "output_type": "stream",
       "stream": "stdout",
       "text": [
        "315413808283648\n",
        "'http://weijr-eng.blogspot.com               \\xde\\x1e\\x01\\x00\\xb9\\xed\\r=' 0000000000dd6aec2eb485b69a73dbfa\n"
       ]
      },
      {
       "output_type": "stream",
       "stream": "stdout",
       "text": [
        "315428840669184\n",
        "'http://weijr-eng.blogspot.com               \\xe1\\x1e\\x01\\x00\\xba\\x11g\\xf2' ffffffffff905213dd007f5217c1108d\n"
       ]
      },
      {
       "output_type": "stream",
       "stream": "stdout",
       "text": [
        "316262064324608\n",
        "'http://weijr-eng.blogspot.com               \\xa3\\x1f\\x01\\x00\\xc2\\x14`\\xc2' ffffffffffb0457c77d2e09befaf6457\n"
       ]
      },
      {
       "output_type": "stream",
       "stream": "stdout",
       "text": [
        "316829000007680\n",
        "\"http://weijr-eng.blogspot.com               ' \\x01\\x00OR\\xee\\xae\" ffffffffffdf5e1fe56924b4cea4664c\n"
       ]
      },
      {
       "output_type": "stream",
       "stream": "stdout",
       "text": [
        "316829000007680\n",
        "\"http://weijr-eng.blogspot.com               ' \\x01\\x00}r\\x04\\x91\" 000000000099d4fc19aa097b5db39517\n"
       ]
      },
      {
       "output_type": "stream",
       "stream": "stdout",
       "text": [
        "316992208764928\n",
        "'http://weijr-eng.blogspot.com               M \\x01\\x00\\xc5\\xc0\\xd3\\xdf' 00000000001c3d17a3d7d94924ce2ccb\n"
       ]
      },
      {
       "output_type": "stream",
       "stream": "stdout",
       "text": [
        "317133942685696\n",
        "'http://weijr-eng.blogspot.com               n \\x01\\x00\\x82\\xeb\\xd8\\xd8' ffffffffff68e97e016e1c0d89823acf\n"
       ]
      },
      {
       "output_type": "stream",
       "stream": "stdout",
       "text": [
        "317522637225984\n",
        "'http://weijr-eng.blogspot.com               \\xc9 \\x01\\x00[\\xc9\\xad\\x18' 000000000020e0b4a60d9f7e7b3edc06\n"
       ]
      },
      {
       "output_type": "stream",
       "stream": "stdout",
       "text": [
        "317690140950528\n",
        "'http://weijr-eng.blogspot.com               \\xf0 \\x01\\x00\\x8959\\x05' 0000000000e77b2fb57dc94ecab0c5ec\n"
       ]
      },
      {
       "output_type": "stream",
       "stream": "stdout",
       "text": [
        "317715910754304\n",
        "'http://weijr-eng.blogspot.com               \\xf6 \\x01\\x006\\xa6\\xfbs' 0000000000a55b481c64b4886d633f5c\n"
       ]
      },
      {
       "output_type": "stream",
       "stream": "stdout",
       "text": [
        "318529807056896\n",
        "'http://weijr-eng.blogspot.com               \\xb3!\\x01\\x007\\x9b\\xb9\\xb7' ffffffffff713f204c0cae5ae5defb13\n"
       ]
      },
      {
       "output_type": "stream",
       "stream": "stdout",
       "text": [
        "318817569865728\n",
        "'http://weijr-eng.blogspot.com               \\xf6!\\x01\\x00\\x94\\x18\\x8c\\xa5' ffffffffffda85a0f6140cc9d16cfb04\n"
       ]
      },
      {
       "output_type": "stream",
       "stream": "stdout",
       "text": [
        "319210559373312\n",
        "'http://weijr-eng.blogspot.com               R\"\\x01\\x00\\x1f\\xe0\\xd6[' 00000000004ea394150715a666494c60\n"
       ]
      },
      {
       "output_type": "stream",
       "stream": "stdout",
       "text": [
        "320715945410560\n",
        "'http://weijr-eng.blogspot.com               \\xb0#\\x01\\x00+\\xd5\\x01\\xfc' 00000000003ab8f34ec0a6079ffbde19\n"
       ]
      },
      {
       "output_type": "stream",
       "stream": "stdout",
       "text": [
        "322023762952192\n",
        "'http://weijr-eng.blogspot.com               \\xe1$\\x01\\x00\\xd4\\x0b\\x91W' ffffffffffdddedb07e03dff1874c25f\n"
       ]
      },
      {
       "output_type": "stream",
       "stream": "stdout",
       "text": [
        "322790414614528\n",
        "'http://weijr-eng.blogspot.com               \\x93%\\x01\\x00!\\xe9\\xef\\x80' 00000000003f4fcee54c0a3dcdfc5099\n"
       ]
      },
      {
       "output_type": "stream",
       "stream": "stdout",
       "text": [
        "323155486834688\n",
        "'http://weijr-eng.blogspot.com               \\xe8%\\x01\\x00$\\xcf\\x8f\\xfb' ffffffffff69d252347032ef62d151f1\n"
       ]
      },
      {
       "output_type": "stream",
       "stream": "stdout",
       "text": [
        "323327285526528\n",
        "'http://weijr-eng.blogspot.com               \\x10&\\x01\\x00$\\x00/\\x9b' ffffffffff94f4e59495240fbc2b0d33\n"
       ]
      },
      {
       "output_type": "stream",
       "stream": "stdout",
       "text": [
        "324209901305856\n",
        "'http://weijr-eng.blogspot.com               \\xde&\\x01\\x00d\\x1c\\x9cu' ffffffffff0e79888d60b073f7e22d6e\n"
       ]
      },
      {
       "output_type": "stream",
       "stream": "stdout",
       "text": [
        "324884211171328\n",
        "\"http://weijr-eng.blogspot.com               {'\\x01\\x00/S\\x84v\" ffffffffff05bb9bfdd8fb765ea94922\n"
       ]
      },
      {
       "output_type": "stream",
       "stream": "stdout",
       "text": [
        "325416787116032\n",
        "\"http://weijr-eng.blogspot.com               \\xf7'\\x01\\x00\\xec\\xe3b$\" 000000000064bad84662c44eb15204ef\n"
       ]
      },
      {
       "output_type": "stream",
       "stream": "stdout",
       "text": [
        "325719582310400\n",
        "'http://weijr-eng.blogspot.com               =(\\x01\\x00\\x9e\\xbe\\xa6\\xaa' 0000000000a33ca9a2e8bf1666e62c39\n"
       ]
      },
      {
       "output_type": "stream",
       "stream": "stdout",
       "text": [
        "326030967439360\n",
        "'http://weijr-eng.blogspot.com               \\x86(\\x01\\x00\\xafP\\x1fp' 00000000009628e3d4417fa5a1363c66\n"
       ]
      },
      {
       "output_type": "stream",
       "stream": "stdout",
       "text": [
        "326971565277184\n",
        "'http://weijr-eng.blogspot.com               a)\\x01\\x00\\xe4\\xa5x)' 00000000000e0378a960fa72fd94ef00\n"
       ]
      },
      {
       "output_type": "stream",
       "stream": "stdout",
       "text": [
        "327188461125632\n",
        "'http://weijr-eng.blogspot.com               \\x93)\\x01\\x00\\x9a\\\\\\x0e\\xd1' ffffffffffac3af446e0b45db0c0239a\n"
       ]
      },
      {
       "output_type": "stream",
       "stream": "stdout",
       "text": [
        "327422536843264\n",
        "'http://weijr-eng.blogspot.com               \\xca)\\x01\\x00\\xe2\\xbf\\xc7d' ffffffffff1d8578aba6c9d15f3605a7\n"
       ]
      },
      {
       "output_type": "stream",
       "stream": "stdout",
       "text": [
        "328253613015040\n",
        "'http://weijr-eng.blogspot.com               \\x8b*\\x01\\x00\\x00\\x8bV\\xf0' 0000000000cb36a76588137b5d64afaf\n"
       ]
      },
      {
       "output_type": "stream",
       "stream": "stdout",
       "text": [
        "328597210398720\n",
        "'http://weijr-eng.blogspot.com               \\xdb*\\x01\\x00\\xd4*\\xa4\\xf2' ffffffffffae23d015397160c8abbe0c\n"
       ]
      },
      {
       "output_type": "stream",
       "stream": "stdout",
       "text": [
        "329260782845952\n",
        "'http://weijr-eng.blogspot.com               v+\\x01\\x00%\\xfbM\\x00' ffffffffff5013a393381924cc8b8ded\n"
       ]
      },
      {
       "output_type": "stream",
       "stream": "stdout",
       "text": [
        "329292995100672\n",
        "'http://weijr-eng.blogspot.com               }+\\x01\\x00\\xbe\\xb1\\xee\\xe6' ffffffffffd30e161ff9cfc6c8d5a587\n"
       ]
      },
      {
       "output_type": "stream",
       "stream": "stdout",
       "text": [
        "329522775851008\n",
        "'http://weijr-eng.blogspot.com               \\xb3+\\x01\\x00\\xfcV>\\x13' 0000000000a70767efcf8f75dac769d9\n"
       ]
      },
      {
       "output_type": "stream",
       "stream": "stdout",
       "text": [
        "329722491830272\n",
        "'http://weijr-eng.blogspot.com               \\xe1+\\x01\\x00;_\\xa9\\xc7' ffffffffffe90da088b817b88674a4b5\n"
       ]
      },
      {
       "output_type": "stream",
       "stream": "stdout",
       "text": [
        "330244330356736\n",
        "'http://weijr-eng.blogspot.com               [,\\x01\\x00\\xbc\\xfe>G' ffffffffff87d6fba68cd3f453be7d00\n"
       ]
      },
      {
       "output_type": "stream",
       "stream": "stdout",
       "text": [
        "330444046336000\n",
        "'http://weijr-eng.blogspot.com               \\x89,\\x01\\x00s\\xa1(\\xa2' ffffffffff766a075d111adbc9d79df8\n"
       ]
      },
      {
       "output_type": "stream",
       "stream": "stdout",
       "text": [
        "330890722934784\n",
        "'http://weijr-eng.blogspot.com               \\xf1,\\x01\\x00\\xfa\\xe9\\xf5\\xd7' 0000000000704fee9ad3e0f1883d151b\n"
       ]
      },
      {
       "output_type": "stream",
       "stream": "stdout",
       "text": [
        "330914345254912\n",
        "'http://weijr-eng.blogspot.com               \\xf7,\\x01\\x00\\xce%\\xa3e' 000000000083f8555c6dc8de7bbb2ef4\n"
       ]
      },
      {
       "output_type": "stream",
       "stream": "stdout",
       "text": [
        "331573622734848\n",
        "'http://weijr-eng.blogspot.com               \\x90-\\x01\\x00\\x86\\x0c\\xe4\\x82' ffffffffff18b8d2896b838f970a1c2a\n"
       ]
      },
      {
       "output_type": "stream",
       "stream": "stdout",
       "text": [
        "332277997371392\n",
        "'http://weijr-eng.blogspot.com               4.\\x01\\x00\\xa1\\xa44\\xcb' 0000000000f97c4220edd9f6c15f3667\n"
       ]
      },
      {
       "output_type": "stream",
       "stream": "stdout",
       "text": [
        "333429048606720\n",
        "'http://weijr-eng.blogspot.com               @/\\x01\\x00\\x99\\n\\xcf\\xbd' 00000000003775df4e1f36959ef32543\n"
       ]
      },
      {
       "output_type": "stream",
       "stream": "stdout",
       "text": [
        "333645944455168\n",
        "'http://weijr-eng.blogspot.com               s/\\x01\\x00\\x83\\x1f\\xb5K' 000000000029926dc77bac3b19b02576\n"
       ]
      },
      {
       "output_type": "stream",
       "stream": "stdout",
       "text": [
        "333963772035072\n",
        "'http://weijr-eng.blogspot.com               \\xbd/\\x01\\x00\\xa1Z\\xa5u' ffffffffff05ffa7916e72c710c5eb42\n"
       ]
      },
      {
       "output_type": "stream",
       "stream": "stdout",
       "text": [
        "334631639449600\n",
        "'http://weijr-eng.blogspot.com               X0\\x01\\x00\\x19\\xaa\\xcc\\xbc' 000000000070dbae13254762d1d4d404\n"
       ]
      },
      {
       "output_type": "stream",
       "stream": "stdout",
       "text": [
        "334816323043328\n",
        "'http://weijr-eng.blogspot.com               \\x830\\x01\\x00WC!\\xb9' 00000000002ed8b63321f4392e83dbda\n"
       ]
      },
      {
       "output_type": "stream",
       "stream": "stdout",
       "text": [
        "334900074905600\n",
        "'http://weijr-eng.blogspot.com               \\x970\\x01\\x005_\\x13\\x1b' ffffffffffd4c2cc0803230775e12b33\n"
       ]
      },
      {
       "output_type": "stream",
       "stream": "stdout",
       "text": [
        "335576532254720\n",
        "'http://weijr-eng.blogspot.com               41\\x01\\x00=D\\xb0\\xc6' ffffffffff03f3ae8a8a43dbddf284a1\n"
       ]
      },
      {
       "output_type": "stream",
       "stream": "stdout",
       "text": [
        "335767658299392\n",
        "'http://weijr-eng.blogspot.com               a1\\x01\\x00%\\xef\\xf0\\n' 00000000004be84f1efa3613acce258f\n"
       ]
      },
      {
       "output_type": "stream",
       "stream": "stdout",
       "text": [
        "335802018037760\n",
        "'http://weijr-eng.blogspot.com               i1\\x01\\x00\\xd5%M<' 0000000000d59e49f17e0d082d8c94c9\n"
       ]
      },
      {
       "output_type": "stream",
       "stream": "stdout",
       "text": [
        "335963079311360\n",
        "'http://weijr-eng.blogspot.com               \\x8e1\\x01\\x00\\xcd\\xca\\xd9\\xb5' ffffffffff8d4001183d2bc8d014fec1\n"
       ]
      },
      {
       "output_type": "stream",
       "stream": "stdout",
       "text": [
        "336472032935936\n",
        "'http://weijr-eng.blogspot.com               \\x052\\x01\\x00\\x08\\xb5\\xb0\\x07' ffffffffff7dd1c13b6f70ec1deff599\n"
       ]
      },
      {
       "output_type": "stream",
       "stream": "stdout",
       "text": [
        "336553637314560\n",
        "'http://weijr-eng.blogspot.com               \\x182\\x01\\x00\\xe4\\xfa\\xb7a' 0000000000398c398b783ac528c55630\n"
       ]
      },
      {
       "output_type": "stream",
       "stream": "stdout",
       "text": [
        "336682486333440\n",
        "'http://weijr-eng.blogspot.com               62\\x01\\x00\\x03\\xe2{K' 00000000002b140c311b7cbb10ee44a7\n"
       ]
      },
      {
       "output_type": "stream",
       "stream": "stdout",
       "text": [
        "336746910842880\n",
        "'http://weijr-eng.blogspot.com               E2\\x01\\x00S\\x91\\x101' ffffffffff8ca4b0f4bfc6454c80a55d\n"
       ]
      },
      {
       "output_type": "stream",
       "stream": "stdout",
       "text": [
        "337090508226560\n",
        "'http://weijr-eng.blogspot.com               \\x952\\x01\\x00l_\\xe4q' ffffffffff10365c830b3c12426ed0a2\n"
       ]
      },
      {
       "output_type": "stream",
       "stream": "stdout",
       "text": [
        "339899416838144\n",
        "'http://weijr-eng.blogspot.com               #5\\x01\\x00\\xdbJ\\x9a\\x17' 0000000000190c03bfac81270e4c1f09\n"
       ]
      },
      {
       "output_type": "stream",
       "stream": "stdout",
       "text": [
        "341205086896128\n",
        "'http://weijr-eng.blogspot.com               S6\\x01\\x008\\xce$K' ffffffffff0116bfe12b2992163cdea8\n"
       ]
      },
      {
       "output_type": "stream",
       "stream": "stdout",
       "text": [
        "341327493464064\n",
        "'http://weijr-eng.blogspot.com               o6\\x01\\x00f\\x00$\\x87' ffffffffffd8dc67f74c1cabd073760d\n"
       ]
      },
      {
       "output_type": "stream",
       "stream": "stdout",
       "text": [
        "342313188458496\n",
        "'http://weijr-eng.blogspot.com               U7\\x01\\x00f\\xee\\xeb\\x14' ffffffffffddb86777908273b83e8f17\n"
       ]
      },
      {
       "output_type": "stream",
       "stream": "stdout",
       "text": [
        "342495724568576\n",
        "'http://weijr-eng.blogspot.com               \\x7f7\\x01\\x00\\x880\\xc1\\xf2' 0000000000c93e007203bfaae1d2db7e\n"
       ]
      },
      {
       "output_type": "stream",
       "stream": "stdout",
       "text": [
        "342639605972992\n",
        "'http://weijr-eng.blogspot.com               \\xa17\\x01\\x00\\xdbq\\xd5/' ffffffffff6067ecd25551bfe3dabc9b\n"
       ]
      },
      {
       "output_type": "stream",
       "stream": "stdout",
       "text": [
        "343021858062336\n",
        "'http://weijr-eng.blogspot.com               \\xfa7\\x01\\x00\\xfe\\x03#V' ffffffffffac9641643e0b630aa391ed\n"
       ]
      },
      {
       "output_type": "stream",
       "stream": "stdout",
       "text": [
        "343092725022720\n",
        "'http://weijr-eng.blogspot.com               \\n8\\x01\\x00\\xca\\x0f\\xd9\\xe1' 0000000000a48cd1e590f3583f4a7a40\n"
       ]
      },
      {
       "output_type": "stream",
       "stream": "stdout",
       "text": [
        "343294588485632\n",
        "'http://weijr-eng.blogspot.com               98\\x01\\x008E\\xcf\\xaf' 0000000000222941538fcabd4411fda1\n"
       ]
      },
      {
       "output_type": "stream",
       "stream": "stdout",
       "text": [
        "343608121098240\n",
        "'http://weijr-eng.blogspot.com               \\x828\\x01\\x00bR\\xf6\\xdb' 00000000007ba9a0752bc4965d21c73b\n"
       ]
      },
      {
       "output_type": "stream",
       "stream": "stdout",
       "text": [
        "343867966619648\n",
        "'http://weijr-eng.blogspot.com               \\xbf8\\x01\\x00V\\xc82<' 00000000007092b24cfe110f28411983\n"
       ]
      },
      {
       "output_type": "stream",
       "stream": "stdout",
       "text": [
        "344379067727872\n",
        "'http://weijr-eng.blogspot.com               69\\x01\\x00\\xff+\\xedF' ffffffffffe499b01614795feef14c03\n"
       ]
      },
      {
       "output_type": "stream",
       "stream": "stdout",
       "text": [
        "344724812595200\n",
        "'http://weijr-eng.blogspot.com               \\x869\\x01\\x00\\xa0\\xe6p\\xa8' ffffffffff337bd445caca1361d1b49c\n"
       ]
      },
      {
       "output_type": "stream",
       "stream": "stdout",
       "text": [
        "345618165792768\n",
        "'http://weijr-eng.blogspot.com               V:\\x01\\x00\\x0b\\xb9\\n\\x8b' ffffffffffddf72a12a4c4943d909771\n"
       ]
      },
      {
       "output_type": "stream",
       "stream": "stdout",
       "text": [
        "346109939548160\n",
        "'http://weijr-eng.blogspot.com               \\xc9:\\x01\\x00\\x94-\\xf6`' ffffffffffb1db55cece025129cfd41d\n"
       ]
      },
      {
       "output_type": "stream",
       "stream": "stdout",
       "text": [
        "346112087031808\n",
        "'http://weijr-eng.blogspot.com               \\xc9:\\x01\\x00.\\xef\\x14\\xc8' 0000000000969b51b30fc42debfdd66f\n"
       ]
      },
      {
       "output_type": "stream",
       "stream": "stdout",
       "text": [
        "346266705854464\n",
        "'http://weijr-eng.blogspot.com               \\xed:\\x01\\x00\\x03\\xa0l\\x8c' ffffffffffbebfc03d81f15965ad2e68\n"
       ]
      },
      {
       "output_type": "stream",
       "stream": "stdout",
       "text": [
        "347035505000448\n",
        "'http://weijr-eng.blogspot.com               \\xa0;\\x01\\x00\\xeb[\\xcb\\xf8' 00000000009636bc6744fab1c4cd579a\n"
       ]
      },
      {
       "output_type": "stream",
       "stream": "stdout",
       "text": [
        "348119984242688\n",
        "'http://weijr-eng.blogspot.com               \\x9d<\\x01\\x00\\xd6\\xdb<i' ffffffffff78b32f73ea55fd00be4f69\n"
       ]
      },
      {
       "output_type": "stream",
       "stream": "stdout",
       "text": [
        "352354821996544\n",
        "'http://weijr-eng.blogspot.com               w@\\x01\\x00\\x89\\x15\\x0f^' 000000000005e07feaf7ada8e788dd2f\n"
       ]
      },
      {
       "output_type": "stream",
       "stream": "stdout",
       "text": [
        "352440721342464\n",
        "'http://weijr-eng.blogspot.com               \\x8b@\\x01\\x00\\xe4,3\\x07' ffffffffffea967aa9ac9136b4fb7978\n"
       ]
      },
      {
       "output_type": "stream",
       "stream": "stdout",
       "text": [
        "352485818499072\n",
        "'http://weijr-eng.blogspot.com               \\x95@\\x01\\x00\\xf0\\x11\\x10\\x84' ffffffffff116876fb2cccd879b80bf5\n"
       ]
      },
      {
       "output_type": "stream",
       "stream": "stdout",
       "text": [
        "353512315682816\n",
        "'http://weijr-eng.blogspot.com               \\x84A\\x01\\x00\\xbd7\\xe1\\xf7' ffffffffff0dc1a9c59b5cfd7367ee27\n"
       ]
      },
      {
       "output_type": "stream",
       "stream": "stdout",
       "text": [
        "353593920061440\n",
        "'http://weijr-eng.blogspot.com               \\x97A\\x01\\x00\\xc3:\\xfb\\xba' ffffffffffb2302fe845351cb0314d97\n"
       ]
      },
      {
       "output_type": "stream",
       "stream": "stdout",
       "text": [
        "354261787475968\n",
        "'http://weijr-eng.blogspot.com               3B\\x01\\x00)g\\x1a3' ffffffffffe62bdcba029edeafc09ec2\n"
       ]
      },
      {
       "output_type": "stream",
       "stream": "stdout",
       "text": [
        "355657651847168\n",
        "'http://weijr-eng.blogspot.com               xC\\x01\\x00|e\\xad]' ffffffffffae2d0ee75bc1690b5f0a76\n"
       ]
      },
      {
       "output_type": "stream",
       "stream": "stdout",
       "text": [
        "356158015537152\n",
        "'http://weijr-eng.blogspot.com               \\xecC\\x01\\x00\\xb7\\xb5`\\xbc' 000000000075b5a424d9f4fee622aa01\n"
       ]
      },
      {
       "output_type": "stream",
       "stream": "stdout",
       "text": [
        "356722803736576\n",
        "'http://weijr-eng.blogspot.com               pD\\x01\\x00e\\xb1\\x04\\x1e' 0000000000d89c27f66c5883188995b6\n"
       ]
      },
      {
       "output_type": "stream",
       "stream": "stdout",
       "text": [
        "357671991508992\n",
        "'http://weijr-eng.blogspot.com               ME\\x01\\x00\\xc9u)\\x10' ffffffffff42df3c2e1a2b453d86e37f\n"
       ]
      },
      {
       "output_type": "stream",
       "stream": "stdout",
       "text": [
        "358294761766912\n",
        "'http://weijr-eng.blogspot.com               \\xdeE\\x01\\x00\\xd17\\xdcT' ffffffffffe57443bacfec5dc7839aea\n"
       ]
      },
      {
       "output_type": "stream",
       "stream": "stdout",
       "text": [
        "358376366145536\n",
        "'http://weijr-eng.blogspot.com               \\xf1E\\x01\\x00\\x813\\xd0\\x03' ffffffffffda337f91f54f58fbf60797\n"
       ]
      },
      {
       "output_type": "stream",
       "stream": "stdout",
       "text": [
        "358438643171328\n",
        "'http://weijr-eng.blogspot.com               \\xffE\\x01\\x00x\\xf2\\xa9\\xae' ffffffffff0af2821427cc4733a7cb8a\n"
       ]
      },
      {
       "output_type": "stream",
       "stream": "stdout",
       "text": [
        "358567492190208\n",
        "'http://weijr-eng.blogspot.com               \\x1dF\\x01\\x009\\x08\\xd3\\xce' 000000000070636af2fe69b419de2d77\n"
       ]
      },
      {
       "output_type": "stream",
       "stream": "stdout",
       "text": [
        "359143017807872\n",
        "'http://weijr-eng.blogspot.com               \\xa3F\\x01\\x00\\xdf\\xd6\\x91\\xb5' ffffffffff9eb6d1f086443dea658723\n"
       ]
      },
      {
       "output_type": "stream",
       "stream": "stdout",
       "text": [
        "359284751728640\n",
        "'http://weijr-eng.blogspot.com               \\xc4F\\x01\\x00\\x1d\\x1d\\xd2\\xdd' ffffffffffc5f93ee6927f4ec5f794a5\n"
       ]
      },
      {
       "output_type": "stream",
       "stream": "stdout",
       "text": [
        "359883899666432\n",
        "'http://weijr-eng.blogspot.com               PG\\x01\\x00\\xc0\\xed\\xfa&' ffffffffffed06d0ca407e71c6d13104\n"
       ]
      },
      {
       "output_type": "stream",
       "stream": "stdout",
       "text": [
        "362671333441536\n",
        "'http://weijr-eng.blogspot.com               \\xd9I\\x01\\x00\\xc5\\xdc\\x97\\x1c' 0000000000600e21ad924e60876ab383\n"
       ]
      },
      {
       "output_type": "stream",
       "stream": "stdout",
       "text": [
        "363811647258624\n",
        "'http://weijr-eng.blogspot.com               \\xe2J\\x01\\x00a\\xa9S\\xbd' 0000000000351c5bc1bdef7efaccf580\n"
       ]
      },
      {
       "output_type": "stream",
       "stream": "stdout",
       "text": [
        "364644870914048\n",
        "'http://weijr-eng.blogspot.com               \\xa4K\\x01\\x00]\\x95\\xf3\\xd0' 000000000072e5aee522169f9e45097d\n"
       ]
      },
      {
       "output_type": "stream",
       "stream": "stdout",
       "text": [
        "366049325219840\n",
        "'http://weijr-eng.blogspot.com               \\xebL\\x01\\x00\\x99\\x0bF\\xeb' 000000000011727c2b8abc57467d7794\n"
       ]
      },
      {
       "output_type": "stream",
       "stream": "stdout",
       "text": [
        "367228293742592\n",
        "'http://weijr-eng.blogspot.com               \\xfeM\\x01\\x00\\xcf\\x8a\\xea\\x1e' ffffffffffcdcbab480ce4f6c68ff1ee\n"
       ]
      },
      {
       "output_type": "stream",
       "stream": "stdout",
       "text": [
        "367316340572160\n",
        "'http://weijr-eng.blogspot.com               \\x12N\\x01\\x00\\xf4I\\x87\\xab' 000000000090a96643d6d0ee86cd5c07\n"
       ]
      },
      {
       "output_type": "stream",
       "stream": "stdout",
       "text": [
        "369586230788096\n",
        "'http://weijr-eng.blogspot.com               #P\\x01\\x00\\x1f$\\xe4R' 00000000006d085d26db9df6064fbf98\n"
       ]
      },
      {
       "output_type": "stream",
       "stream": "stdout",
       "text": [
        "369790241734656\n",
        "'http://weijr-eng.blogspot.com               RP\\x01\\x00\\x97\\xaag\\xb1' ffffffffff97e4b0e36b9f656e6ff921\n"
       ]
      },
      {
       "output_type": "stream",
       "stream": "stdout",
       "text": [
        "369807421603840\n",
        "'http://weijr-eng.blogspot.com               VP\\x01\\x00\\xa5m\\xe9\\x8b' 0000000000e024035fe75f3499af56f7\n"
       ]
      },
      {
       "output_type": "stream",
       "stream": "stdout",
       "text": [
        "370020022484992\n",
        "'http://weijr-eng.blogspot.com               \\x88P\\x01\\x00\\xe7\\x18\\x86u' 000000000033fd3aa9f42d02cb916ebb\n"
       ]
      },
      {
       "output_type": "stream",
       "stream": "stdout",
       "text": [
        "370314227744768\n",
        "'http://weijr-eng.blogspot.com               \\xccP\\x01\\x00D\\xfdN\\xf4' 00000000007511334caa73fd9c8d1fc3\n"
       ]
      },
      {
       "output_type": "stream",
       "stream": "stdout",
       "text": [
        "370769494278144\n",
        "'http://weijr-eng.blogspot.com               6Q\\x01\\x00\\x8b\\x9cc\\xb8' ffffffffff590da1f73ee4864235bd8e\n"
       ]
      },
      {
       "output_type": "stream",
       "stream": "stdout",
       "text": [
        "371944167833600\n",
        "'http://weijr-eng.blogspot.com               HR\\x01\\x00\\x04\\xad\\x05L' ffffffffffd002a38da0cddcb8b64dcf\n"
       ]
      },
      {
       "output_type": "stream",
       "stream": "stdout",
       "text": [
        "372038657114112\n",
        "'http://weijr-eng.blogspot.com               ^R\\x01\\x00g\\xe6\\xa8_' 0000000000e8c172386ef0ed7f0e69fd\n"
       ]
      },
      {
       "output_type": "stream",
       "stream": "stdout",
       "text": [
        "372388696948736\n",
        "'http://weijr-eng.blogspot.com               \\xafR\\x01\\x00H\\xf4\\x9a\\x99' 0000000000a0567edd510c0954349e56\n"
       ]
      },
      {
       "output_type": "stream",
       "stream": "stdout",
       "text": [
        "373015762173952\n",
        "'http://weijr-eng.blogspot.com               AS\\x01\\x00\\xfa\\xce\\xbd\\xcc' 0000000000bb5b5331dac126e7b0c6bf\n"
       ]
      },
      {
       "output_type": "stream",
       "stream": "stdout",
       "text": [
        "373267017760768\n",
        "'http://weijr-eng.blogspot.com               |S\\x01\\x00\\xf8\\x07!X' 0000000000d7a7bc9717860fad1d1ca8\n"
       ]
      },
      {
       "output_type": "stream",
       "stream": "stdout",
       "text": [
        "375629249773568\n",
        "'http://weijr-eng.blogspot.com               \\xa2U\\x01\\x00}\\xa8\\x90b' fffffffffff90cc1165b7864494be247\n"
       ]
      },
      {
       "output_type": "stream",
       "stream": "stdout",
       "text": [
        "375807490916352\n",
        "'http://weijr-eng.blogspot.com               \\xcbU\\x01\\x00%\\x83j\\xd8' ffffffffff2207042a98fb0eda5dbbea\n"
       ]
      },
      {
       "output_type": "stream",
       "stream": "stdout",
       "text": [
        "376471063363584\n",
        "'http://weijr-eng.blogspot.com               fV\\x01\\x00\\xa1O\\xea5' 0000000000c05fd35e6924271e4ad9ae\n"
       ]
      },
      {
       "output_type": "stream",
       "stream": "stdout",
       "text": [
        "376829693132800\n",
        "'http://weijr-eng.blogspot.com               \\xb9V\\x01\\x00\\xd2?g\\xe1' ffffffffff87cd2eb9196c837a597b2b\n"
       ]
      },
      {
       "output_type": "stream",
       "stream": "stdout",
       "text": [
        "377128193359872\n",
        "'http://weijr-eng.blogspot.com               \\xffV\\x01\\x00\\x15G\\xf2]' ffffffffff2191b5ffceadd694e62bf0\n"
       ]
      },
      {
       "ename": "KeyboardInterrupt",
       "evalue": "",
       "output_type": "pyerr",
       "traceback": [
        "\u001b[1;31m---------------------------------------------------------------------------\u001b[0m\n\u001b[1;31mKeyboardInterrupt\u001b[0m                         Traceback (most recent call last)",
        "\u001b[1;32m<ipython-input-197-8c6ae74924f7>\u001b[0m in \u001b[0;36m<module>\u001b[1;34m()\u001b[0m\n\u001b[0;32m     69\u001b[0m     \u001b[1;31m#ret,i,output = ret0, i0, output0\u001b[0m\u001b[1;33m\u001b[0m\u001b[1;33m\u001b[0m\u001b[0m\n\u001b[0;32m     70\u001b[0m     \u001b[0mret\u001b[0m\u001b[1;33m.\u001b[0m\u001b[0mwait\u001b[0m\u001b[1;33m(\u001b[0m\u001b[1;33m)\u001b[0m\u001b[1;33m\u001b[0m\u001b[0m\n\u001b[1;32m---> 71\u001b[1;33m     \u001b[0mresult\u001b[0m \u001b[1;33m=\u001b[0m \u001b[0moutput\u001b[0m\u001b[1;33m.\u001b[0m\u001b[0mget\u001b[0m\u001b[1;33m(\u001b[0m\u001b[1;33m)\u001b[0m\u001b[1;33m\u001b[0m\u001b[0m\n\u001b[0m\u001b[0;32m     72\u001b[0m     \u001b[1;32mfor\u001b[0m \u001b[0mj\u001b[0m \u001b[1;32min\u001b[0m \u001b[0mnp\u001b[0m\u001b[1;33m.\u001b[0m\u001b[0mwhere\u001b[0m\u001b[1;33m(\u001b[0m\u001b[0mresult\u001b[0m\u001b[1;33m>\u001b[0m\u001b[1;36m0\u001b[0m\u001b[1;33m)\u001b[0m\u001b[1;33m[\u001b[0m\u001b[1;36m0\u001b[0m\u001b[1;33m]\u001b[0m\u001b[1;33m:\u001b[0m\u001b[1;33m\u001b[0m\u001b[0m\n\u001b[0;32m     73\u001b[0m         \u001b[0mx\u001b[0m \u001b[1;33m=\u001b[0m\u001b[0mi\u001b[0m\u001b[1;33m+\u001b[0m\u001b[1;33m(\u001b[0m\u001b[0mresult\u001b[0m\u001b[1;33m[\u001b[0m\u001b[0mj\u001b[0m\u001b[1;33m]\u001b[0m\u001b[1;33m&\u001b[0m\u001b[1;36m0x7fffffff\u001b[0m\u001b[1;33m)\u001b[0m\u001b[1;33m\u001b[0m\u001b[0m\n",
        "\u001b[1;32m/usr/local/lib/python2.7/dist-packages/pyopencl-2014.1-py2.7-linux-x86_64.egg/pyopencl/array.pyc\u001b[0m in \u001b[0;36mget\u001b[1;34m(self, queue, ary, async)\u001b[0m\n\u001b[0;32m    690\u001b[0m             cl.enqueue_copy(queue or self.queue, ary, self.base_data,\n\u001b[0;32m    691\u001b[0m                     \u001b[0mdevice_offset\u001b[0m\u001b[1;33m=\u001b[0m\u001b[0mself\u001b[0m\u001b[1;33m.\u001b[0m\u001b[0moffset\u001b[0m\u001b[1;33m,\u001b[0m\u001b[1;33m\u001b[0m\u001b[0m\n\u001b[1;32m--> 692\u001b[1;33m                     is_blocking=not async)\n\u001b[0m\u001b[0;32m    693\u001b[0m \u001b[1;33m\u001b[0m\u001b[0m\n\u001b[0;32m    694\u001b[0m         \u001b[1;32mreturn\u001b[0m \u001b[0mary\u001b[0m\u001b[1;33m\u001b[0m\u001b[0m\n",
        "\u001b[1;32m/usr/local/lib/python2.7/dist-packages/pyopencl-2014.1-py2.7-linux-x86_64.egg/pyopencl/__init__.pyc\u001b[0m in \u001b[0;36menqueue_copy\u001b[1;34m(queue, dest, src, **kwargs)\u001b[0m\n\u001b[0;32m   1088\u001b[0m                     \u001b[1;32mreturn\u001b[0m \u001b[0m_cl\u001b[0m\u001b[1;33m.\u001b[0m\u001b[0m_enqueue_read_buffer_rect\u001b[0m\u001b[1;33m(\u001b[0m\u001b[0mqueue\u001b[0m\u001b[1;33m,\u001b[0m \u001b[0msrc\u001b[0m\u001b[1;33m,\u001b[0m \u001b[0mdest\u001b[0m\u001b[1;33m,\u001b[0m \u001b[1;33m**\u001b[0m\u001b[0mkwargs\u001b[0m\u001b[1;33m)\u001b[0m\u001b[1;33m\u001b[0m\u001b[0m\n\u001b[0;32m   1089\u001b[0m                 \u001b[1;32melse\u001b[0m\u001b[1;33m:\u001b[0m\u001b[1;33m\u001b[0m\u001b[0m\n\u001b[1;32m-> 1090\u001b[1;33m                     \u001b[1;32mreturn\u001b[0m \u001b[0m_cl\u001b[0m\u001b[1;33m.\u001b[0m\u001b[0m_enqueue_read_buffer\u001b[0m\u001b[1;33m(\u001b[0m\u001b[0mqueue\u001b[0m\u001b[1;33m,\u001b[0m \u001b[0msrc\u001b[0m\u001b[1;33m,\u001b[0m \u001b[0mdest\u001b[0m\u001b[1;33m,\u001b[0m \u001b[1;33m**\u001b[0m\u001b[0mkwargs\u001b[0m\u001b[1;33m)\u001b[0m\u001b[1;33m\u001b[0m\u001b[0m\n\u001b[0m\u001b[0;32m   1091\u001b[0m             \u001b[1;32melif\u001b[0m \u001b[0msrc\u001b[0m\u001b[1;33m.\u001b[0m\u001b[0mtype\u001b[0m \u001b[1;32min\u001b[0m \u001b[1;33m[\u001b[0m\u001b[0mmem_object_type\u001b[0m\u001b[1;33m.\u001b[0m\u001b[0mIMAGE2D\u001b[0m\u001b[1;33m,\u001b[0m \u001b[0mmem_object_type\u001b[0m\u001b[1;33m.\u001b[0m\u001b[0mIMAGE3D\u001b[0m\u001b[1;33m]\u001b[0m\u001b[1;33m:\u001b[0m\u001b[1;33m\u001b[0m\u001b[0m\n\u001b[0;32m   1092\u001b[0m                 \u001b[0morigin\u001b[0m \u001b[1;33m=\u001b[0m \u001b[0mkwargs\u001b[0m\u001b[1;33m.\u001b[0m\u001b[0mpop\u001b[0m\u001b[1;33m(\u001b[0m\u001b[1;34m\"origin\"\u001b[0m\u001b[1;33m)\u001b[0m\u001b[1;33m\u001b[0m\u001b[0m\n",
        "\u001b[1;31mKeyboardInterrupt\u001b[0m: "
       ]
      }
     ],
     "prompt_number": 197
    },
    {
     "cell_type": "code",
     "collapsed": false,
     "input": [
      "%qtconsole --colors=linux"
     ],
     "language": "python",
     "metadata": {},
     "outputs": []
    },
    {
     "cell_type": "code",
     "collapsed": false,
     "input": [
      "%%cl_kernel \n",
      "__kernel void kernel_md5(__const ulong base, __global  uint * out_buffer)\n",
      "{\n",
      "    __private uint X[16]={0x77777777,0,0,0x80,0,0,0,0,0,0,0,0,0,0,0,0};\n",
      "\tuint id = get_global_id(0);\n",
      "    ulong code = base + id;\n",
      "    X[1] = code >> 32;\n",
      "    X[2] = code &0xffffffff;\t\t\n",
      "\t__private uint A, B, C, D;\n",
      "#define S(x,n)   rotate(x,n)\n",
      "#define P(a,b,c,d,k,s,t)\ta += F(b,c,d) + X[k] + t; a = S(a,s) + b;\t\t\n",
      "#define P0(a,b,c,d,k,s,t)\ta += F(b,c,d) + t; a = S(a,s) + b;\t\t\t\n",
      "#define P14(a,b,c,d,k,s,t) \ta += F(b,c,d) + 96 + t; a = S(a,s) + b;\t\n",
      "\n",
      "    A = 0x67452301;\n",
      "    B = 0xefcdab89;\n",
      "    C = 0x98badcfe;\n",
      "    D = 0x10325476;\n",
      "   \n",
      "#define F(x,y,z) bitselect(z, y,x)\n",
      "\n",
      "    P( A, B, C, D,  0,  7U, 0xD76AA478 );\n",
      "    P( D, A, B, C,  1, 12U, 0xE8C7B756 );\n",
      "    P( C, D, A, B,  2, 17U, 0x242070DB );\n",
      "    P( B, C, D, A,  3, 22U, 0xC1BDCEEE );\n",
      "    P0( A, B, C, D,  4,  7U, 0xF57C0FAF );\n",
      "    P0( D, A, B, C,  5, 12U, 0x4787C62A );\n",
      "    P0( C, D, A, B,  6, 17U, 0xA8304613 );\n",
      "    P0( B, C, D, A,  7, 22U, 0xFD469501 );\n",
      "    P0( A, B, C, D,  8,  7U, 0x698098D8 );\n",
      "    P0( D, A, B, C,  9, 12U, 0x8B44F7AF );\n",
      "    P0( C, D, A, B, 10, 17U, 0xFFFF5BB1 );\n",
      "    P0( B, C, D, A, 11, 22U, 0x895CD7BE );\n",
      "    P0( A, B, C, D, 12,  7U, 0x6B901122 );\n",
      "    P0( D, A, B, C, 13, 12U, 0xFD987193 );\n",
      "    P14( C, D, A, B, 14, 17U, 0xA679438E );\n",
      "    P0( B, C, D, A, 15, 22U, 0x49B40821 );\n",
      "\n",
      "#undef F\n",
      "#define F(x,y,z) bitselect(y,x, z)\n",
      "\n",
      "    P( A, B, C, D,  1,  5U, 0xF61E2562 );\n",
      "    P0( D, A, B, C,  6,  9U, 0xC040B340 );\n",
      "\tP0( C, D, A, B, 11, 14U, 0x265E5A51 );\n",
      "    P( B, C, D, A,  0, 20U, 0xE9B6C7AA );\n",
      "    P0( A, B, C, D,  5,  5U, 0xD62F105D );\n",
      "    P0( D, A, B, C, 10,  9U, 0x02441453 );\n",
      "    P0( C, D, A, B, 15, 14U, 0xD8A1E681 );\n",
      "    P0( B, C, D, A,  4, 20U, 0xE7D3FBC8 );\n",
      "    P0( A, B, C, D,  9,  5U, 0x21E1CDE6 );\n",
      "    P14( D, A, B, C, 14,  9U, 0xC33707D6 );\n",
      "    P( C, D, A, B,  3, 14U, 0xF4D50D87 );\n",
      "    P0( B, C, D, A,  8, 20U, 0x455A14ED );\n",
      "    P0( A, B, C, D, 13,  5U, 0xA9E3E905 );\n",
      "    P( D, A, B, C,  2,  9U, 0xFCEFA3F8 );\n",
      "    P0( C, D, A, B,  7, 14U, 0x676F02D9 );\n",
      "    P0( B, C, D, A, 12, 20U, 0x8D2A4C8A );\n",
      "\n",
      "#undef F\n",
      "    \n",
      "#define F(x,y,z) (x ^ y ^ z)\n",
      "\n",
      "    P( A, B, C, D,  5,  4U, 0xFFFA3942 );\n",
      "    P( D, A, B, C,  8, 11U, 0x8771F681 );\n",
      "    P( C, D, A, B, 11, 16U, 0x6D9D6122 );\n",
      "    P14( B, C, D, A, 14, 23U, 0xFDE5380C );\n",
      "    P( A, B, C, D,  1,  4U, 0xA4BEEA44 );\n",
      "    P( D, A, B, C,  4, 11U, 0x4BDECFA9 );\n",
      "    P( C, D, A, B,  7, 16U, 0xF6BB4B60 );\n",
      "    P( B, C, D, A, 10, 23U, 0xBEBFBC70 );\n",
      "    P( A, B, C, D, 13,  4U, 0x289B7EC6 );\n",
      "    P( D, A, B, C,  0, 11U, 0xEAA127FA );\n",
      "    P( C, D, A, B,  3, 16U, 0xD4EF3085 );\n",
      "    P( B, C, D, A,  6, 23U, 0x04881D05 );\n",
      "    P( A, B, C, D,  9,  4U, 0xD9D4D039 );\n",
      "    P( D, A, B, C, 12, 11U, 0xE6DB99E5 );\n",
      "    P( C, D, A, B, 15, 16U, 0x1FA27CF8 );\n",
      "    P( B, C, D, A,  2, 23U, 0xC4AC5665 );\n",
      "\n",
      "#undef F\n",
      "\n",
      "#define F(x,y,z) (y ^ (x | ~z))\n",
      "\n",
      "    P( A, B, C, D,  0,  6U, 0xF4292244 );\n",
      "    P( D, A, B, C,  7, 10U, 0x432AFF97 );\n",
      "    P14( C, D, A, B, 14, 15U, 0xAB9423A7 );\n",
      "    P( B, C, D, A,  5, 21U, 0xFC93A039 );\n",
      "    P( A, B, C, D, 12,  6U, 0x655B59C3 );\n",
      "    P( D, A, B, C,  3, 10U, 0x8F0CCC92 );\n",
      "    P( C, D, A, B, 10, 15U, 0xFFEFF47D );\n",
      "    P( B, C, D, A,  1, 21U, 0x85845DD1 );\n",
      "    P( A, B, C, D,  8,  6U, 0x6FA87E4F );\n",
      "    P( D, A, B, C, 15, 10U, 0xFE2CE6E0 );\n",
      "    P( C, D, A, B,  6, 15U, 0xA3014314 );\n",
      "    P( B, C, D, A, 13, 21U, 0x4E0811A1 );\n",
      "    P( A, B, C, D,  4,  6U, 0xF7537E82 );\n",
      "    \n",
      "    if( (A&0xFFFFFFFEU) == 2562383102U ) {        \n",
      "        P( D, A, B, C, 11, 10U, 0xBD3AF235 );\n",
      "        P( C, D, A, B,  2, 15U, 0x2AD7D2BB );\n",
      "        P( B, C, D, A,  9, 21U, 0xEB86D391 );\n",
      "        A+=0x67452301;\n",
      "        B += 0xefcdab89;\n",
      "    if( ( (B^A)&0xf0)==0)\n",
      "   out_buffer[id&0xf]=0x80000000|id; \n",
      "   }\n",
      "    \n",
      "#undef F\n",
      "\n",
      "}\n"
     ],
     "language": "python",
     "metadata": {},
     "outputs": []
    }
   ],
   "metadata": {}
  }
 ]
}