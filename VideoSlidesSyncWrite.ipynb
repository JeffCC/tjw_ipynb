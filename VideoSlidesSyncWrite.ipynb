{
 "metadata": {
  "name": "",
  "signature": "sha256:adb21e8a7226f3570080f3233341deb2cd7e0c049efe7996b8f67cb9ffcd60b5"
 },
 "nbformat": 3,
 "nbformat_minor": 0,
 "worksheets": [
  {
   "cells": [
    {
     "cell_type": "code",
     "collapsed": false,
     "input": [
      "%matplotlib inline\n",
      "import numpy as np\n",
      "import cv2\n",
      "import matplotlib.pyplot as plt\n",
      "import os\n",
      "import cv"
     ],
     "language": "python",
     "metadata": {},
     "outputs": []
    },
    {
     "cell_type": "code",
     "collapsed": false,
     "input": [
      "from io import BytesIO\n",
      "import PIL\n",
      "from IPython.display import display, Image\n",
      "\n",
      "def display_img_array(ima, cvt=None, **kwargs):\n",
      "    if cvt:\n",
      "        ima = cv2.cvtColor(ima, cvt)\n",
      "    im = PIL.Image.fromarray(ima)\n",
      "    bio = BytesIO()\n",
      "    im.save(bio, format='png')\n",
      "    display(Image(bio.getvalue(), format='png', **kwargs))"
     ],
     "language": "python",
     "metadata": {},
     "outputs": []
    },
    {
     "cell_type": "code",
     "collapsed": false,
     "input": [
      "def normalize(im):    \n",
      "    im=cv2.cvtColor(im, cv2.CV_32F)\n",
      "    im=cv2.cvtColor(im, cv2.COLOR_BGR2GRAY)\n",
      "    #im=cv2.equalizeHist(im)\n",
      "    return im"
     ],
     "language": "python",
     "metadata": {},
     "outputs": []
    },
    {
     "cell_type": "code",
     "collapsed": false,
     "input": [
      "def gray2vector(img):\n",
      "    v = img.reshape(-1).astype(float) \n",
      "    v = v - np.average(v) \n",
      "    return v/np.linalg.norm(v)"
     ],
     "language": "python",
     "metadata": {},
     "outputs": []
    },
    {
     "cell_type": "code",
     "collapsed": false,
     "input": [
      "def diff_i(gray, i):\n",
      "    v1 = gray2vector(gray)\n",
      "    return np.dot(v1, slides_v[i])\n",
      "\n",
      "def compare_slides(gray, slides_v):\n",
      "    v1 = gray2vector(gray)\n",
      "    r = np.dot(slides_v, v1)\n",
      "    i = np.argmax(r)\n",
      "    return r[i], i\n",
      "\n",
      "def compare_absdiff(gray):\n",
      "    return sorted( (cv2.absdiff(slides[i], gray).sum() , i)  for i in range(len(slides)))"
     ],
     "language": "python",
     "metadata": {},
     "outputs": []
    },
    {
     "cell_type": "code",
     "collapsed": false,
     "input": [
      "def sync_video( fn, slides, slides_v, threshold=0.8, step=10, dark=1000, STOP=-1, debug=False):\n",
      "    cap = cv2.VideoCapture(fn)\n",
      "    frame_index =-1\n",
      "    last_slide = -1\n",
      "    last_start = -1\n",
      "    frame_list = []\n",
      "    while cap.isOpened():\n",
      "        frame_index +=1\n",
      "        ret, frame = cap.read()\n",
      "        if not ret:\n",
      "            break        \n",
      "        if frame_index%step ==0:\n",
      "            if STOP!=-1 and frame_index > STOP:\n",
      "                break                        \n",
      "            gray = cv2.resize(normalize(frame)[p[0]:p[2],p[1]:p[3]], (256,256))        \n",
      "            darklevel = np.linalg.norm(gray.reshape(-1).astype(float)) \n",
      "            if darklevel < dark:\n",
      "                # too dark                \n",
      "                this_slide, v, i = -1, -1, 0\n",
      "            else:            \n",
      "                v, i = compare_slides(gray, slides_v)                \n",
      "            #debug\n",
      "                this_slide = i if v > threshold else -1 \n",
      "\n",
      "            if debug:\n",
      "                if i>=0:\n",
      "                    frame2 = frame.copy()            \n",
      "                    frame2[p[0]:p[2], p[1]:p[3]] = cv2.resize(original_slides[i][q[0]:q[2], q[1]:q[3]], (p[3]-p[1], p[2]-p[0]))\n",
      "                    outp = np.concatenate( (frame2, cv2.addWeighted(frame,0.5,frame2, 0.5,0), frame), axis = 1)\n",
      "                    display_img_array(outp, width=1200, cvt=cv2.COLOR_BGR2RGB)\n",
      "                else:\n",
      "                    display_img_array(frame, width=400, cvt=cv2.COLOR_BGR2RGB)\n",
      "                print v,i\n",
      "            if this_slide != last_slide:\n",
      "                # update\n",
      "                frame_list.append( (last_start,  frame_index-1, last_slide))\n",
      "                \n",
      "                # display information                \n",
      "                if last_slide >=0:\n",
      "                    print frame_list[-1],  \"v=\", v, \"dark=\", darklevel, \"good\" if last_slide >=0 else \"poor\"\n",
      "                last_start = frame_index                \n",
      "                if debug:\n",
      "                    p1 = cv2.resize(frame, (320,240))\n",
      "                    if i>=0:\n",
      "                        p2 = cv2.resize(original_slides[i], (320,240))\n",
      "                        p1 = np.concatenate( (p1, p2), axis =1)                \n",
      "                    if last_slide >= 0:\n",
      "                        display_img_array(cv2.cvtColor(p1, cv2.COLOR_BGR2RGB) , width=200)                 \n",
      "        last_slide = this_slide\n",
      "    # last update\n",
      "    frame_list.append( (last_start,  frame_index-1, last_slide))\n",
      "    cap.release()\n",
      "    return frame_list"
     ],
     "language": "python",
     "metadata": {},
     "outputs": []
    },
    {
     "cell_type": "code",
     "collapsed": false,
     "input": [
      "\n",
      "def write_file(fn, outfn, original_slides, sync_result, M=20):\n",
      "    W,H = 1440, 960\n",
      "    W,H = 1920, 1080\n",
      "    cap = cv2.VideoCapture(fn)\n",
      "    SW, SH = int(cap.get(cv.CV_CAP_PROP_FRAME_WIDTH)), int(cap.get(cv.CV_CAP_PROP_FRAME_HEIGHT))\n",
      "    p2 = ( p[0]*H/SH, p[1]*W/SW, p[2]*H/SH, p[3]*W/SW)\n",
      "    pw, ph = p2[3]-p2[1], p2[2]-p2[0]\n",
      "    print p2, q\n",
      "    fourcc = cv.FOURCC(*\"MP42\")\n",
      "    \n",
      "    frame_rate = cap.get(cv.CV_CAP_PROP_FPS)\n",
      "    print \"frame_rate\", frame_rate\n",
      "    out = cv2.VideoWriter(outfn, fourcc, frame_rate, (W, H))\n",
      "    frame_index =-1\n",
      "    last_slide = -1\n",
      "    last_start = -1\n",
      "    frame_list = []\n",
      "    result_index = 0\n",
      "    while cap.isOpened():\n",
      "        frame_index +=1\n",
      "        ret, frame = cap.read()\n",
      "        if not ret:\n",
      "            break\n",
      "        while result_index < len(sync_result) and sync_result[result_index][1] < frame_index:\n",
      "            result_index += 1            \n",
      "        the_slide = (-1,-1,-1) if result_index >= len(sync_result) else sync_result[result_index]        \n",
      "        original_frame = cv2.resize(frame, (W, H), interpolation = cv2.INTER_CUBIC)\n",
      "        if the_slide[2] >=0 and the_slide[1]-the_slide[0]>3*M:\n",
      "            slide = original_slides[the_slide[2]]\n",
      "            inner_frame = cv2.resize(slide[q[0]:q[2], q[1]:q[3]],  (pw, ph), interpolation = cv2.INTER_CUBIC )\n",
      "            d = min(frame_index-the_slide[0], the_slide[1]-frame_index)\n",
      "            out_frame = original_frame.copy()\n",
      "            out_frame[p2[0]:p2[2], p2[1]:p2[3]] = inner_frame\n",
      "            if d < M:\n",
      "                out_frame = cv2.addWeighted(out_frame, d*1.0/M , original_frame, 1- d*1.0/M, 0)\n",
      "        else:\n",
      "            out_frame = original_frame\n",
      "        out.write(out_frame)\n",
      "        if frame_index%1000 ==0:\n",
      "            print frame_index\n",
      "            if frame_index%10000 ==0:\n",
      "                disp_frame = np.concatenate((out_frame[:, :W/2], original_frame[:,W/2:]), axis=1)            \n",
      "                display_img_array(cv2.cvtColor(disp_frame, cv2.COLOR_BGR2RGB) , width=200) \n",
      "    cap.release()\n",
      "    out.release()\n",
      "            \n"
     ],
     "language": "python",
     "metadata": {},
     "outputs": []
    },
    {
     "cell_type": "code",
     "collapsed": false,
     "input": [
      "def load_original_slides(name):\n",
      "    original_slides = []\n",
      "    i = 0\n",
      "    while True:    \n",
      "        img = cv2.imread(\"%s/%s-%d.png\"%(name, name, i))\n",
      "        if img is None:\n",
      "            break        \n",
      "        original_slides.append(img)\n",
      "        i+=1\n",
      "    print \"load original slides\", len(original_slides)\n",
      "    return original_slides\n",
      "def prepare_slides(original_slides, blur_factor):\n",
      "    normalized_slides = (cv2.blur(normalize(s), (blur_factor, blur_factor))  for s in original_slides)\n",
      "    slides = [cv2.resize(s[q[0]:q[2], q[1]:q[3]], (256,256), interpolation = cv2.INTER_CUBIC)  for s in normalized_slides]\n",
      "    slides_v = np.array([gray2vector(s) for s in slides])\n",
      "    print \"slides prepared\"\n",
      "    return slides, slides_v\n",
      "    "
     ],
     "language": "python",
     "metadata": {},
     "outputs": []
    },
    {
     "cell_type": "code",
     "collapsed": false,
     "input": [
      "NAME = \"grs\"\n",
      "print \"convert slides\"\n",
      "#print os.system(\"convert -density 200 %s/%s.pdf  %s/%s.png\"%(NAME,NAME,NAME,NAME))\n",
      "print \"NAME=\", NAME\n",
      "original_slides = load_original_slides(NAME)"
     ],
     "language": "python",
     "metadata": {},
     "outputs": []
    },
    {
     "cell_type": "code",
     "collapsed": false,
     "input": [
      "p,q, blur_factor =(19, 108, 1080, 1688) , (0, 0, 2084, 2844), 26\n",
      "slides, slides_v = prepare_slides(original_slides, blur_factor)\n",
      "fn = \"%s/%s.avi\"%(NAME, NAME)\n",
      "result = sync_video(fn, slides, slides_v, threshold=0.7, step=1, dark=1500)\n",
      "print \"sync_video done\"\n",
      "write_file(fn, \"temp_out.avi\", original_slides, result)\n",
      "print \"write done\"\n",
      "retcode = os.system(\"avconv -y -i temp_out.avi -i %s -map 0:v -map 1:a -c:v copy -c:a copy %s/better_%s.avi\"%(fn, NAME,NAME))\n",
      "print \"covert done\", retcode"
     ],
     "language": "python",
     "metadata": {},
     "outputs": []
    },
    {
     "cell_type": "code",
     "collapsed": false,
     "input": [
      "NAME = \"StreetVoice\"\n",
      "print \"NAME=\", NAME\n",
      "print \"convert slides\"\n",
      "#print os.system(\"convert -density 200 %s/%s.pdf  %s/%s.png\"%(NAME,NAME,NAME,NAME))\n",
      "original_slides = load_original_slides(NAME)"
     ],
     "language": "python",
     "metadata": {},
     "outputs": []
    },
    {
     "cell_type": "code",
     "collapsed": false,
     "input": [
      "p,q, blur_factor = (19, 160, 1067, 1672) , (0, 80, 2070, 2844), 36\n",
      "slides, slides_v = prepare_slides(original_slides, blur_factor)\n",
      "fn = \"%s/%s.avi\"%(NAME, NAME)\n",
      "result = sync_video(fn, slides, slides_v, threshold=0.5, step=1, dark=1500)\n",
      "print \"sync_video done\"\n",
      "write_file(fn, \"temp_out.avi\", original_slides, result)\n",
      "print \"write done\"\n",
      "retcode = os.system(\"avconv -y -i temp_out.avi -i %s -map 0:v -map 1:a -c:v copy -c:a copy %s/better_%s.avi\"%(fn, NAME,NAME))\n",
      "print \"covert done\", retcode"
     ],
     "language": "python",
     "metadata": {},
     "outputs": []
    },
    {
     "cell_type": "code",
     "collapsed": false,
     "input": [
      "NAME = \"summly\"\n",
      "print \"NAME=\", NAME\n",
      "print \"convert slides\"\n",
      "print os.system(\"convert -density 200 %s/%s.pdf  %s/%s.png\"%(NAME,NAME,NAME,NAME))\n",
      "original_slides = load_original_slides(NAME)"
     ],
     "language": "python",
     "metadata": {},
     "outputs": []
    },
    {
     "cell_type": "code",
     "collapsed": false,
     "input": [
      "p,q, blur_factor = (11, 135, 1080, 1753) , (0, 0, 2113, 2844) , 16\n",
      "slides, slides_v = prepare_slides(original_slides, blur_factor)\n",
      "fn = \"%s/%s.avi\"%(NAME, NAME)\n",
      "result = sync_video(fn, slides, slides_v, threshold=0.935, step=1, dark=1500)\n",
      "print \"sync_video done\"\n",
      "write_file(fn, \"temp_out.avi\", original_slides, result)\n",
      "print \"write done\"\n",
      "retcode = os.system(\"avconv -y -i temp_out.avi -i %s -map 0:v -map 1:a -c:v copy -c:a copy %s/better_%s.avi\"%(fn, NAME,NAME))\n",
      "print \"covert done\", retcode"
     ],
     "language": "python",
     "metadata": {},
     "outputs": []
    },
    {
     "cell_type": "code",
     "collapsed": false,
     "input": [
      "NAME = \"mezz\"\n",
      "print \"NAME=\", NAME\n",
      "print \"convert slides\"\n",
      "#print os.system(\"convert -density 200 %s/%s.pdf  %s/%s.png\"%(NAME,NAME,NAME,NAME))\n",
      "original_slides = load_original_slides(NAME)"
     ],
     "language": "python",
     "metadata": {},
     "outputs": []
    },
    {
     "cell_type": "code",
     "collapsed": false,
     "input": [
      "p,q, blur_factor = (11, 144, 1080, 1752) , (0, 0, 1485, 2000) , 16\n",
      "slides, slides_v = prepare_slides(original_slides, blur_factor)\n",
      "fn = \"%s/%s.avi\"%(NAME, NAME)\n",
      "result = sync_video(fn, slides, slides_v, threshold=0.9, step=1, dark=1500)\n",
      "print \"sync_video done\"\n",
      "write_file(fn, \"temp_out.avi\", original_slides, result)\n",
      "print \"write done\"\n",
      "retcode = os.system(\"avconv -y -i temp_out.avi -i %s -map 0:v -map 1:a -c:v copy -c:a copy %s/better_%s.avi\"%(fn, NAME,NAME))\n",
      "print \"covert done\", retcode"
     ],
     "language": "python",
     "metadata": {},
     "outputs": []
    },
    {
     "cell_type": "code",
     "collapsed": false,
     "input": [
      "NAME = \"vote\"\n",
      "print \"NAME=\", NAME\n",
      "print \"convert slides\"\n",
      "print os.system(\"convert -density 200 %s/%s.pdf  %s/%s.png\"%(NAME,NAME,NAME,NAME))\n",
      "original_slides = load_original_slides(NAME)"
     ],
     "language": "python",
     "metadata": {},
     "outputs": []
    },
    {
     "cell_type": "code",
     "collapsed": false,
     "input": [
      "p,q, blur_factor = (145, 160, 954, 1751) , (0, 27, 1125, 2000) , 12\n",
      "slides, slides_v = prepare_slides(original_slides, blur_factor)\n",
      "fn = \"%s/%s.avi\"%(NAME, NAME)\n",
      "result = sync_video(fn, slides, slides_v, threshold=0.75, step=1, dark=1500)\n",
      "print \"sync_video done\"\n",
      "p=(0,0,1080,1920)\n",
      "q=(0,0)+tuple(original_slides[0].shape[:2])\n",
      "write_file(fn, \"temp_out.avi\", original_slides, result, M=2)\n",
      "print \"write done\"\n",
      "retcode = os.system(\"avconv -y -i temp_out.avi -i %s -map 0:v -map 1:a -c:v copy -c:a copy %s/better_%s.avi\"%(fn, NAME,NAME))\n",
      "print \"covert done\", retcode"
     ],
     "language": "python",
     "metadata": {},
     "outputs": []
    },
    {
     "cell_type": "code",
     "collapsed": false,
     "input": [
      "NAME = \"fabric\"\n",
      "print \"NAME=\", NAME\n",
      "print \"convert slides\"\n",
      "print os.system(\"convert -density 200 %s/%s.pdf  %s/%s.png\"%(NAME,NAME,NAME,NAME))\n",
      "original_slides = load_original_slides(NAME)"
     ],
     "language": "python",
     "metadata": {},
     "outputs": []
    },
    {
     "cell_type": "code",
     "collapsed": false,
     "input": [
      "p,q, blur_factor = (211, 281, 958, 1723) , (0, 68, 2133, 2838) , 18\n",
      "slides, slides_v = prepare_slides(original_slides, blur_factor)\n",
      "fn = \"%s/%s.avi\"%(NAME, NAME)\n",
      "result = sync_video(fn, slides, slides_v, threshold=0.8, step=1, dark=1500)\n",
      "print \"sync_video done\"\n",
      "p=(0,0,1080,1920)\n",
      "q=(0,0)+tuple(original_slides[0].shape[:2])\n",
      "write_file(fn, \"temp_out.avi\", original_slides, result, M=40)\n",
      "print \"write done\"\n",
      "retcode = os.system(\"avconv -y -i temp_out.avi -i %s -map 0:v -map 1:a -c:v copy -c:a copy %s/better_%s.avi\"%(fn, NAME,NAME))\n",
      "print \"covert done\", retcode"
     ],
     "language": "python",
     "metadata": {},
     "outputs": []
    },
    {
     "cell_type": "code",
     "collapsed": false,
     "input": [],
     "language": "python",
     "metadata": {},
     "outputs": []
    },
    {
     "cell_type": "code",
     "collapsed": false,
     "input": [],
     "language": "python",
     "metadata": {},
     "outputs": []
    }
   ],
   "metadata": {}
  }
 ]
}