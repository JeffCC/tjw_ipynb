{
 "metadata": {
  "name": "",
  "signature": "sha256:29806beb2d5a28aeb18c78b761cf63f7aac12794050681343616cb12d7caeb5a"
 },
 "nbformat": 3,
 "nbformat_minor": 0,
 "worksheets": [
  {
   "cells": [
    {
     "cell_type": "code",
     "collapsed": false,
     "input": [
      "%matplotlib inline\n",
      "import numpy as np\n",
      "import cv2\n",
      "import matplotlib.pyplot as plt\n",
      "import os\n",
      "import cv"
     ],
     "language": "python",
     "metadata": {},
     "outputs": [],
     "prompt_number": 2
    },
    {
     "cell_type": "code",
     "collapsed": false,
     "input": [
      "from io import BytesIO\n",
      "import PIL\n",
      "from IPython.display import display, Image\n",
      "\n",
      "def display_img_array(ima, cvt=None, **kwargs):\n",
      "    if cvt:\n",
      "        ima = cv2.cvtColor(ima, cvt)\n",
      "    im = PIL.Image.fromarray(ima)\n",
      "    bio = BytesIO()\n",
      "    im.save(bio, format='png')\n",
      "    display(Image(bio.getvalue(), format='png', **kwargs))"
     ],
     "language": "python",
     "metadata": {},
     "outputs": [],
     "prompt_number": 3
    },
    {
     "cell_type": "code",
     "collapsed": false,
     "input": [
      "def normalize(im):    \n",
      "    im=cv2.cvtColor(im, cv2.CV_32F)\n",
      "    im=cv2.cvtColor(im, cv2.COLOR_BGR2GRAY)\n",
      "    #im=cv2.equalizeHist(im)\n",
      "    return im"
     ],
     "language": "python",
     "metadata": {},
     "outputs": [],
     "prompt_number": 4
    },
    {
     "cell_type": "code",
     "collapsed": false,
     "input": [
      "def gray2vector(img):\n",
      "    v = img.reshape(-1).astype(float) \n",
      "    v = v - np.average(v) \n",
      "    return v/np.linalg.norm(v)"
     ],
     "language": "python",
     "metadata": {},
     "outputs": [],
     "prompt_number": 5
    },
    {
     "cell_type": "code",
     "collapsed": false,
     "input": [
      "def diff_i(gray, i):\n",
      "    v1 = gray2vector(gray)\n",
      "    return np.dot(v1, slides_v[i])\n",
      "\n",
      "def compare_slides(gray, slides_v):\n",
      "    v1 = gray2vector(gray)\n",
      "    r = np.dot(slides_v, v1)\n",
      "    i = np.argmax(r)\n",
      "    return r[i], i\n",
      "\n",
      "def compare_absdiff(gray):\n",
      "    return sorted( (cv2.absdiff(slides[i], gray).sum() , i)  for i in range(len(slides)))"
     ],
     "language": "python",
     "metadata": {},
     "outputs": [],
     "prompt_number": 6
    },
    {
     "cell_type": "code",
     "collapsed": false,
     "input": [
      "def frame_to_time(f, r):\n",
      "    s = f/r\n",
      "    m = int(s/60)\n",
      "    s = s -60*m\n",
      "    return \"%d:%04.1f\"%(m,s)\n",
      "def sync_video( fn, p, slides, slides_v, threshold=0.8, step=10, dark=1000, STOP=-1, debug=False, SKIP=None):\n",
      "    cap = cv2.VideoCapture(fn)\n",
      "    frame_rate = cap.get(cv.CV_CAP_PROP_FPS)\n",
      "    print \"frame_rate\", frame_rate\n",
      "    num_of_frames = cap.get(cv.CV_CAP_PROP_FRAME_COUNT)\n",
      "    frame_index =-1\n",
      "    last_slide = -1\n",
      "    last_start = -1\n",
      "    frame_list = []\n",
      "    while cap.isOpened():\n",
      "        frame_index +=1\n",
      "        if frame_index%3000 == 0:\n",
      "            print \"%d/%d\"%(frame_index, num_of_frames)\n",
      "        ret, frame = cap.read()\n",
      "        if not ret:\n",
      "            break        \n",
      "        if frame_index%step ==0:\n",
      "            if STOP!=-1 and frame_index > STOP:\n",
      "                break                        \n",
      "            gray = cv2.resize(normalize(frame)[p[0]:p[2],p[1]:p[3]], (256,256))        \n",
      "            darklevel = np.linalg.norm(gray.reshape(-1).astype(float)) \n",
      "            if darklevel < dark:\n",
      "                # too dark                \n",
      "                this_slide, v, i = -1, -1, 0\n",
      "            else:            \n",
      "                v, i = compare_slides(gray, slides_v)\n",
      "                if SKIP and i in SKIP:\n",
      "                    this_slide, v, i = -1, -1, 0\n",
      "                this_slide = i if v > threshold else -1 \n",
      "            if debug:\n",
      "                if i>=0:\n",
      "                    frame2 = frame.copy()            \n",
      "                    frame2[p[0]:p[2], p[1]:p[3]] = cv2.resize(original_slides[i][q[0]:q[2], q[1]:q[3]], (p[3]-p[1], p[2]-p[0]))\n",
      "                    outp = np.concatenate( (frame2, cv2.addWeighted(frame,0.5,frame2, 0.5,0), frame), axis = 1)\n",
      "                    display_img_array(outp, width=1200, cvt=cv2.COLOR_BGR2RGB)\n",
      "                else:\n",
      "                    display_img_array(frame, width=400, cvt=cv2.COLOR_BGR2RGB)\n",
      "                print v,i\n",
      "            if this_slide != last_slide:\n",
      "                # update\n",
      "                frame_list.append( (last_start,  frame_index-1, last_slide))\n",
      "                \n",
      "                # display information                \n",
      "                if last_slide >=0:                \n",
      "                    fl = frame_list[-1]\n",
      "                    t1, t2 = frame_to_time(fl[0], frame_rate), frame_to_time(fl[1], frame_rate)\n",
      "                    print fl, \"=(%s, %s)\"%(t1,t2), \"v=%f\"%v, \"dark=%d\"%darklevel\n",
      "                last_start = frame_index                \n",
      "                if debug:\n",
      "                    p1 = cv2.resize(frame, (320,240))\n",
      "                    if i>=0:\n",
      "                        p2 = cv2.resize(original_slides[i], (320,240))\n",
      "                        p1 = np.concatenate( (p1, p2), axis =1)                \n",
      "                    if last_slide >= 0:\n",
      "                        display_img_array(cv2.cvtColor(p1, cv2.COLOR_BGR2RGB) , width=200)                 \n",
      "        last_slide = this_slide\n",
      "    # last update\n",
      "    frame_list.append( (last_start,  frame_index-1, last_slide))\n",
      "    cap.release()\n",
      "    return frame_list"
     ],
     "language": "python",
     "metadata": {},
     "outputs": [],
     "prompt_number": 7
    },
    {
     "cell_type": "code",
     "collapsed": false,
     "input": [
      "\n",
      "def write_file(fn, p,q, outfn, original_slides, sync_result, M=20):\n",
      "    W,H = 1440, 960\n",
      "    W,H = 1920, 1080\n",
      "    cap = cv2.VideoCapture(fn)\n",
      "    SW, SH = int(cap.get(cv.CV_CAP_PROP_FRAME_WIDTH)), int(cap.get(cv.CV_CAP_PROP_FRAME_HEIGHT))\n",
      "    p2 = ( p[0]*H/SH, p[1]*W/SW, p[2]*H/SH, p[3]*W/SW)\n",
      "    pw, ph = p2[3]-p2[1], p2[2]-p2[0]\n",
      "    print p2, q\n",
      "    fourcc = cv.FOURCC(*\"MP42\")\n",
      "    \n",
      "    frame_rate = cap.get(cv.CV_CAP_PROP_FPS)\n",
      "    print \"frame_rate\", frame_rate\n",
      "    out = cv2.VideoWriter(outfn, fourcc, frame_rate, (W, H))\n",
      "    frame_index =-1\n",
      "    last_slide = -1\n",
      "    last_start = -1\n",
      "    frame_list = []\n",
      "    result_index = 0\n",
      "    while cap.isOpened():\n",
      "        frame_index +=1\n",
      "        ret, frame = cap.read()\n",
      "        if not ret:\n",
      "            break\n",
      "        while result_index < len(sync_result) and sync_result[result_index][1] < frame_index:\n",
      "            result_index += 1            \n",
      "        the_slide = (-1,-1,-1) if result_index >= len(sync_result) else sync_result[result_index]        \n",
      "        original_frame = cv2.resize(frame, (W, H), interpolation = cv2.INTER_CUBIC)\n",
      "        if the_slide[2] >=0 and the_slide[1]-the_slide[0]>3*M:\n",
      "            slide = original_slides[the_slide[2]]\n",
      "            inner_frame = cv2.resize(slide[q[0]:q[2], q[1]:q[3]],  (pw, ph), interpolation = cv2.INTER_CUBIC )\n",
      "            d = min(frame_index-the_slide[0], the_slide[1]-frame_index)\n",
      "            out_frame = original_frame.copy()\n",
      "            out_frame[p2[0]:p2[2], p2[1]:p2[3]] = inner_frame\n",
      "            if d < M:\n",
      "                out_frame = cv2.addWeighted(out_frame, d*1.0/M , original_frame, 1- d*1.0/M, 0)\n",
      "        else:\n",
      "            out_frame = original_frame\n",
      "        out.write(out_frame)\n",
      "        if frame_index%1000 ==0:\n",
      "            print frame_index\n",
      "            if frame_index%10000 ==0:\n",
      "                disp_frame = np.concatenate((out_frame[:, :W/2], original_frame[:,W/2:]), axis=1)            \n",
      "                display_img_array(cv2.cvtColor(disp_frame, cv2.COLOR_BGR2RGB) , width=200) \n",
      "    cap.release()\n",
      "    out.release()\n",
      "            \n"
     ],
     "language": "python",
     "metadata": {},
     "outputs": [],
     "prompt_number": 8
    },
    {
     "cell_type": "code",
     "collapsed": false,
     "input": [
      "def load_original_slides(name):\n",
      "    original_slides = []\n",
      "    i = 0\n",
      "    while True: \n",
      "        if i%10==0:\n",
      "            print \"loading\", i\n",
      "        img = cv2.imread(\"%s/%s-%d.png\"%(name, name, i))\n",
      "        if img is None:\n",
      "            break        \n",
      "        original_slides.append(img)\n",
      "        i+=1\n",
      "    print \"load original slides\", len(original_slides)\n",
      "    return original_slides\n",
      "def prepare_slides(original_slides, q, blur_factor):\n",
      "    normalized_slides = (cv2.blur(normalize(s), (blur_factor, blur_factor))  for s in original_slides)\n",
      "    slides = [cv2.resize(s[q[0]:q[2], q[1]:q[3]], (256,256), interpolation = cv2.INTER_CUBIC)  for s in normalized_slides]\n",
      "    slides_v = np.array([gray2vector(s) for s in slides])\n",
      "    print \"slides prepared\"\n",
      "    return slides, slides_v\n",
      "    "
     ],
     "language": "python",
     "metadata": {},
     "outputs": [],
     "prompt_number": 9
    },
    {
     "cell_type": "code",
     "collapsed": false,
     "input": [
      "def auto_sync(NAME, p1, q1, blur_factor, p2=None, q2=None,  threshold=0.8, step=10, dark=1500, STOP=-1, debug=False, SKIP=None, M=20, PASS=[1,2,3,4,5]):\n",
      "    print \"NAME=\", NAME\n",
      "    global original_slides, slides, slides_v\n",
      "    if 0 in PASS:\n",
      "        print \"extract slides\"\n",
      "        print os.system(\"convert -density 200 %s/%s.pdf  %s/%s.png\"%(NAME,NAME,NAME,NAME))\n",
      "    if 1 in PASS:\n",
      "        original_slides = load_original_slides(NAME)\n",
      "    if 2 in PASS:\n",
      "        slides, slides_v = prepare_slides(original_slides, q1, blur_factor)\n",
      "    fn = \"%s/%s.avi\"%(NAME, NAME)\n",
      "    if 3 in PASS:\n",
      "        print \"syncing video\"\n",
      "        result = sync_video(fn, p1, slides, slides_v, threshold=threshold, step=step, dark=dark, STOP=STOP, SKIP=SKIP, debug=debug)\n",
      "        print \"sync_video done\"\n",
      "    if p2 is None:   # full screen\n",
      "        p2 = (0,0,1080,1920)\n",
      "    if q2 is None:  # full screen\n",
      "        q2 = (0,0)+tuple(original_slides[0].shape[:2])\n",
      "    if 4 in PASS:\n",
      "        p,q = (10, 131, 1080, 1750) , (0, 0, 2115, 2844)\n",
      "    if 5 in PASS:\n",
      "        print \"start writing and converting\"\n",
      "        write_file(fn, p, q, \"temp_out.avi\", original_slides, result, M=M)\n",
      "        print \"write done\"    \n",
      "        retcode = os.system(\"avconv -y -i temp_out.avi -i %s -map 0:v -map 1:a -c:v copy -c:a copy %s/better_%s.avi\"%(fn, NAME,NAME))\n",
      "        print \"covert done\", retcode"
     ],
     "language": "python",
     "metadata": {},
     "outputs": []
    },
    {
     "cell_type": "code",
     "collapsed": false,
     "input": [
      "p1,q1,blur_factor = (10, 159, 1080, 1754) , (0, 39, 2112, 2844) , 16\n",
      "p2, q2 =  (10, 131, 1080, 1750) , (0, 0, 2115, 2844),\n",
      "auto_sync(\"graphtool\", p1,q1, blur_factor, p2, q2, threshold=0.9, SKIP=[90, 91,92,93,94,95,96,97] )"
     ],
     "language": "python",
     "metadata": {},
     "outputs": [
      {
       "output_type": "stream",
       "stream": "stdout",
       "text": [
        "NAME= graphtool\n",
        "loading 0\n",
        "loading"
       ]
      },
      {
       "output_type": "stream",
       "stream": "stdout",
       "text": [
        " 10\n",
        "loading"
       ]
      },
      {
       "output_type": "stream",
       "stream": "stdout",
       "text": [
        " 20\n",
        "loading"
       ]
      },
      {
       "output_type": "stream",
       "stream": "stdout",
       "text": [
        " 30\n",
        "loading"
       ]
      },
      {
       "output_type": "stream",
       "stream": "stdout",
       "text": [
        " 40\n",
        "loading"
       ]
      },
      {
       "output_type": "stream",
       "stream": "stdout",
       "text": [
        " 50\n",
        "loading"
       ]
      },
      {
       "output_type": "stream",
       "stream": "stdout",
       "text": [
        " 60\n",
        "loading"
       ]
      },
      {
       "output_type": "stream",
       "stream": "stdout",
       "text": [
        " 70\n",
        "loading"
       ]
      },
      {
       "output_type": "stream",
       "stream": "stdout",
       "text": [
        " 80\n",
        "loading"
       ]
      },
      {
       "output_type": "stream",
       "stream": "stdout",
       "text": [
        " 90\n",
        "loading"
       ]
      },
      {
       "output_type": "stream",
       "stream": "stdout",
       "text": [
        " 100\n",
        "load original slides"
       ]
      },
      {
       "output_type": "stream",
       "stream": "stdout",
       "text": [
        " 102\n",
        "slides prepared"
       ]
      },
      {
       "output_type": "stream",
       "stream": "stdout",
       "text": [
        "\n",
        "syncing video\n",
        "frame_rate"
       ]
      },
      {
       "output_type": "stream",
       "stream": "stdout",
       "text": [
        " 29.97002997\n",
        "0/60521\n",
        "(2180, 2619, 0)"
       ]
      },
      {
       "output_type": "stream",
       "stream": "stdout",
       "text": [
        " =(1:12.7, 1:27.4) v=0.972392 dark=53507\n",
        "3000/60521"
       ]
      },
      {
       "output_type": "stream",
       "stream": "stdout",
       "text": [
        "\n",
        "(2620, 3349, 1)"
       ]
      },
      {
       "output_type": "stream",
       "stream": "stdout",
       "text": [
        " =(1:27.4, 1:51.7) v=0.968968 dark=54104\n",
        "(3350, 3449, 2)"
       ]
      },
      {
       "output_type": "stream",
       "stream": "stdout",
       "text": [
        " =(1:51.8, 1:55.1) v=0.954579 dark=54057\n",
        "(3450, 3479, 3)"
       ]
      },
      {
       "output_type": "stream",
       "stream": "stdout",
       "text": [
        " =(1:55.1, 1:56.1) v=0.881083 dark=53886\n",
        "(5440, 5579, 8)"
       ]
      },
      {
       "output_type": "stream",
       "stream": "stdout",
       "text": [
        " =(3:01.5, 3:06.2) v=0.908819 dark=54032\n",
        "(5580, 5589, 9)"
       ]
      },
      {
       "output_type": "stream",
       "stream": "stdout",
       "text": [
        " =(3:06.2, 3:06.5) v=0.895935 dark=54025\n",
        "6000/60521"
       ]
      },
      {
       "output_type": "stream",
       "stream": "stdout",
       "text": [
        "\n",
        "(6130, 6169, 14)"
       ]
      },
      {
       "output_type": "stream",
       "stream": "stdout",
       "text": [
        " =(3:24.5, 3:25.8) v=0.990670 dark=52110\n",
        "(6170, 6239, 15)"
       ]
      },
      {
       "output_type": "stream",
       "stream": "stdout",
       "text": [
        " =(3:25.9, 3:28.2) v=0.989424 dark=52080\n",
        "(6240, 6299, 16)"
       ]
      },
      {
       "output_type": "stream",
       "stream": "stdout",
       "text": [
        " =(3:28.2, 3:30.2) v=-1.000000 dark=17119\n",
        "(6380, 6769, 17)"
       ]
      },
      {
       "output_type": "stream",
       "stream": "stdout",
       "text": [
        " =(3:32.9, 3:45.9) v=0.986116 dark=51903\n",
        "(6770, 7159, 18)"
       ]
      },
      {
       "output_type": "stream",
       "stream": "stdout",
       "text": [
        " =(3:45.9, 3:58.9) v=0.985376 dark=51697\n",
        "(7160, 7979, 19)"
       ]
      },
      {
       "output_type": "stream",
       "stream": "stdout",
       "text": [
        " =(3:58.9, 4:26.2) v=0.966091 dark=53950\n",
        "(7980, 8129, 20)"
       ]
      },
      {
       "output_type": "stream",
       "stream": "stdout",
       "text": [
        " =(4:26.3, 4:31.2) v=0.945892 dark=53685\n",
        "(8130, 8549, 21)"
       ]
      },
      {
       "output_type": "stream",
       "stream": "stdout",
       "text": [
        " =(4:31.3, 4:45.3) v=0.920593 dark=53104\n",
        "9000/60521"
       ]
      },
      {
       "output_type": "stream",
       "stream": "stdout",
       "text": [
        "\n",
        "(8550, 10239, 22)"
       ]
      },
      {
       "output_type": "stream",
       "stream": "stdout",
       "text": [
        " =(4:45.3, 5:41.6) v=0.963493 dark=53974\n",
        "(10240, 10389, 23)"
       ]
      },
      {
       "output_type": "stream",
       "stream": "stdout",
       "text": [
        " =(5:41.7, 5:46.6) v=0.968197 dark=53957\n",
        "(10390, 10589, 24)"
       ]
      },
      {
       "output_type": "stream",
       "stream": "stdout",
       "text": [
        " =(5:46.7, 5:53.3) v=0.962968 dark=53837\n",
        "(10590, 11539, 25)"
       ]
      },
      {
       "output_type": "stream",
       "stream": "stdout",
       "text": [
        " =(5:53.4, 6:25.0) v=0.906711 dark=53656\n",
        "12000/60521"
       ]
      },
      {
       "output_type": "stream",
       "stream": "stdout",
       "text": [
        "\n",
        "(11540, 12079, 26)"
       ]
      },
      {
       "output_type": "stream",
       "stream": "stdout",
       "text": [
        " =(6:25.1, 6:43.0) v=0.907502 dark=53552\n",
        "(12080, 12949, 27)"
       ]
      },
      {
       "output_type": "stream",
       "stream": "stdout",
       "text": [
        " =(6:43.1, 7:12.1) v=0.965947 dark=53996\n",
        "(12950, 13139, 28)"
       ]
      },
      {
       "output_type": "stream",
       "stream": "stdout",
       "text": [
        " =(7:12.1, 7:18.4) v=0.906949 dark=53825\n",
        "(13140, 13149, 29)"
       ]
      },
      {
       "output_type": "stream",
       "stream": "stdout",
       "text": [
        " =(7:18.4, 7:18.7) v=0.899428 dark=53777\n",
        "(13500, 13509, 29)"
       ]
      },
      {
       "output_type": "stream",
       "stream": "stdout",
       "text": [
        " =(7:30.4, 7:30.8) v=0.898962 dark=53752\n",
        "(13560, 13569, 29)"
       ]
      },
      {
       "output_type": "stream",
       "stream": "stdout",
       "text": [
        " =(7:32.5, 7:32.8) v=0.898850 dark=53728\n",
        "(13620, 13629, 29)"
       ]
      },
      {
       "output_type": "stream",
       "stream": "stdout",
       "text": [
        " =(7:34.5, 7:34.8) v=0.899064 dark=53747\n",
        "(13680, 13689, 29)"
       ]
      },
      {
       "output_type": "stream",
       "stream": "stdout",
       "text": [
        " =(7:36.5, 7:36.8) v=0.898886 dark=53741\n",
        "15000/60521"
       ]
      },
      {
       "output_type": "stream",
       "stream": "stdout",
       "text": [
        "\n",
        "(14500, 16199, 31)"
       ]
      },
      {
       "output_type": "stream",
       "stream": "stdout",
       "text": [
        " =(8:03.8, 9:00.5) v=0.968510 dark=54010\n",
        "(16200, 16469, 32)"
       ]
      },
      {
       "output_type": "stream",
       "stream": "stdout",
       "text": [
        " =(9:00.5, 9:09.5) v=0.960511 dark=53954\n",
        "18000/60521"
       ]
      },
      {
       "output_type": "stream",
       "stream": "stdout",
       "text": [
        "\n",
        "(16470, 18059, 33)"
       ]
      },
      {
       "output_type": "stream",
       "stream": "stdout",
       "text": [
        " =(9:09.5, 10:02.6) v=0.958350 dark=53952\n",
        "(18060, 18939, 34)"
       ]
      },
      {
       "output_type": "stream",
       "stream": "stdout",
       "text": [
        " =(10:02.6, 10:31.9) v=0.940944 dark=53702\n",
        "(18940, 19879, 35)"
       ]
      },
      {
       "output_type": "stream",
       "stream": "stdout",
       "text": [
        " =(10:32.0, 11:03.3) v=0.230723 dark=29926\n",
        "21000/60521"
       ]
      },
      {
       "output_type": "stream",
       "stream": "stdout",
       "text": [
        "\n",
        "(19890, 21519, 35)"
       ]
      },
      {
       "output_type": "stream",
       "stream": "stdout",
       "text": [
        " =(11:03.7, 11:58.0) v=0.842215 dark=55614\n",
        "(22200, 22239, 37)"
       ]
      },
      {
       "output_type": "stream",
       "stream": "stdout",
       "text": [
        " =(12:20.7, 12:22.0) v=0.842099 dark=55515\n",
        "24000/60521"
       ]
      },
      {
       "output_type": "stream",
       "stream": "stdout",
       "text": [
        "\n",
        "(22870, 26189, 37)"
       ]
      },
      {
       "output_type": "stream",
       "stream": "stdout",
       "text": [
        " =(12:43.1, 14:33.8) v=0.755160 dark=55900\n",
        "27000/60521"
       ]
      },
      {
       "output_type": "stream",
       "stream": "stdout",
       "text": [
        "\n",
        "(26200, 27169, 38)"
       ]
      },
      {
       "output_type": "stream",
       "stream": "stdout",
       "text": [
        " =(14:34.2, 15:06.5) v=0.845968 dark=55260\n",
        "(28400, 28439, 41)"
       ]
      },
      {
       "output_type": "stream",
       "stream": "stdout",
       "text": [
        " =(15:47.6, 15:48.9) v=0.966205 dark=53885\n",
        "(28440, 28449, 40)"
       ]
      },
      {
       "output_type": "stream",
       "stream": "stdout",
       "text": [
        " =(15:48.9, 15:49.2) v=0.845808 dark=55231\n",
        "30000/60521"
       ]
      },
      {
       "output_type": "stream",
       "stream": "stdout",
       "text": [
        "\n",
        "(29770, 30809, 40)"
       ]
      },
      {
       "output_type": "stream",
       "stream": "stdout",
       "text": [
        " =(16:33.3, 17:08.0) v=0.947213 dark=55813\n",
        "(30810, 31789, 41)"
       ]
      },
      {
       "output_type": "stream",
       "stream": "stdout",
       "text": [
        " =(17:08.0, 17:40.7) v=0.995547 dark=51470\n",
        "(31790, 32299, 42)"
       ]
      },
      {
       "output_type": "stream",
       "stream": "stdout",
       "text": [
        " =(17:40.7, 17:57.7) v=0.933562 dark=55391\n",
        "33000/60521"
       ]
      },
      {
       "output_type": "stream",
       "stream": "stdout",
       "text": [
        "\n",
        "(32300, 33539, 43)"
       ]
      },
      {
       "output_type": "stream",
       "stream": "stdout",
       "text": [
        " =(17:57.7, 18:39.1) v=0.991792 dark=52808\n",
        "(33540, 33549, 44)"
       ]
      },
      {
       "output_type": "stream",
       "stream": "stdout",
       "text": [
        " =(18:39.1, 18:39.4) v=0.941626 dark=55616\n",
        "(33550, 33569, 45)"
       ]
      },
      {
       "output_type": "stream",
       "stream": "stdout",
       "text": [
        " =(18:39.5, 18:40.1) v=0.991805 dark=52876\n",
        "(33570, 33589, 44)"
       ]
      },
      {
       "output_type": "stream",
       "stream": "stdout",
       "text": [
        " =(18:40.1, 18:40.8) v=0.933533 dark=55374\n",
        "(33590, 34339, 43)"
       ]
      },
      {
       "output_type": "stream",
       "stream": "stdout",
       "text": [
        " =(18:40.8, 19:05.8) v=0.991873 dark=52864\n",
        "(34340, 34529, 44)"
       ]
      },
      {
       "output_type": "stream",
       "stream": "stdout",
       "text": [
        " =(19:05.8, 19:12.1) v=0.941682 dark=55556\n",
        "(34530, 35509, 45)"
       ]
      },
      {
       "output_type": "stream",
       "stream": "stdout",
       "text": [
        " =(19:12.2, 19:44.8) v=0.984982 dark=53262\n",
        "36000/60521"
       ]
      },
      {
       "output_type": "stream",
       "stream": "stdout",
       "text": [
        "\n",
        "(35510, 36129, 46)"
       ]
      },
      {
       "output_type": "stream",
       "stream": "stdout",
       "text": [
        " =(19:44.9, 20:05.5) v=0.942489 dark=56147\n",
        "(36130, 36329, 47)"
       ]
      },
      {
       "output_type": "stream",
       "stream": "stdout",
       "text": [
        " =(20:05.5, 20:12.2) v=0.982622 dark=53363\n",
        "(36330, 36839, 48)"
       ]
      },
      {
       "output_type": "stream",
       "stream": "stdout",
       "text": [
        " =(20:12.2, 20:29.2) v=0.966541 dark=53874\n",
        "(36840, 36989, 49)"
       ]
      },
      {
       "output_type": "stream",
       "stream": "stdout",
       "text": [
        " =(20:29.2, 20:34.2) v=0.968081 dark=53838\n",
        "(36990, 37249, 50)"
       ]
      },
      {
       "output_type": "stream",
       "stream": "stdout",
       "text": [
        " =(20:34.2, 20:42.9) v=0.963186 dark=53730\n",
        "(37250, 37439, 51)"
       ]
      },
      {
       "output_type": "stream",
       "stream": "stdout",
       "text": [
        " =(20:42.9, 20:49.2) v=0.956137 dark=53548\n",
        "(37440, 37569, 52)"
       ]
      },
      {
       "output_type": "stream",
       "stream": "stdout",
       "text": [
        " =(20:49.2, 20:53.6) v=0.945425 dark=53362\n",
        "(37570, 38359, 53)"
       ]
      },
      {
       "output_type": "stream",
       "stream": "stdout",
       "text": [
        " =(20:53.6, 21:19.9) v=0.843092 dark=53760\n",
        "(38370, 38389, 54)"
       ]
      },
      {
       "output_type": "stream",
       "stream": "stdout",
       "text": [
        " =(21:20.3, 21:20.9) v=0.945268 dark=54053\n",
        "(38390, 38689, 55)"
       ]
      },
      {
       "output_type": "stream",
       "stream": "stdout",
       "text": [
        " =(21:20.9, 21:30.9) v=0.938617 dark=53902\n",
        "(38690, 38969, 56)"
       ]
      },
      {
       "output_type": "stream",
       "stream": "stdout",
       "text": [
        " =(21:31.0, 21:40.3) v=0.936096 dark=53760\n",
        "39000/60521"
       ]
      },
      {
       "output_type": "stream",
       "stream": "stdout",
       "text": [
        "\n",
        "(38970, 39139, 57)"
       ]
      },
      {
       "output_type": "stream",
       "stream": "stdout",
       "text": [
        " =(21:40.3, 21:45.9) v=0.966391 dark=54018\n",
        "(39140, 39189, 64)"
       ]
      },
      {
       "output_type": "stream",
       "stream": "stdout",
       "text": [
        " =(21:46.0, 21:47.6) v=0.948184 dark=53772\n",
        "(39190, 39339, 65)"
       ]
      },
      {
       "output_type": "stream",
       "stream": "stdout",
       "text": [
        " =(21:47.6, 21:52.6) v=0.943081 dark=53603\n",
        "(39340, 39639, 66)"
       ]
      },
      {
       "output_type": "stream",
       "stream": "stdout",
       "text": [
        " =(21:52.6, 22:02.6) v=0.967429 dark=53885\n",
        "(39640, 39849, 58)"
       ]
      },
      {
       "output_type": "stream",
       "stream": "stdout",
       "text": [
        " =(22:02.7, 22:09.6) v=0.951659 dark=53571\n",
        "(39850, 40769, 59)"
       ]
      },
      {
       "output_type": "stream",
       "stream": "stdout",
       "text": [
        " =(22:09.7, 22:40.3) v=0.933880 dark=53275\n",
        "42000/60521"
       ]
      },
      {
       "output_type": "stream",
       "stream": "stdout",
       "text": [
        "\n",
        "(40770, 42169, 60)"
       ]
      },
      {
       "output_type": "stream",
       "stream": "stdout",
       "text": [
        " =(22:40.4, 23:27.0) v=0.817575 dark=53597\n",
        "(42180, 42209, 61)"
       ]
      },
      {
       "output_type": "stream",
       "stream": "stdout",
       "text": [
        " =(23:27.4, 23:28.4) v=0.939299 dark=53668\n",
        "(42210, 43279, 62)"
       ]
      },
      {
       "output_type": "stream",
       "stream": "stdout",
       "text": [
        " =(23:28.4, 24:04.1) v=0.914629 dark=53316\n",
        "(43280, 43859, 63)"
       ]
      },
      {
       "output_type": "stream",
       "stream": "stdout",
       "text": [
        " =(24:04.1, 24:23.4) v=0.943381 dark=55176\n",
        "45000/60521"
       ]
      },
      {
       "output_type": "stream",
       "stream": "stdout",
       "text": [
        "\n",
        "(43860, 47139, 67)"
       ]
      },
      {
       "output_type": "stream",
       "stream": "stdout",
       "text": [
        " =(24:23.5, 26:12.9) v=0.691266 dark=55534\n",
        "48000/60521"
       ]
      }
     ]
    },
    {
     "cell_type": "code",
     "collapsed": false,
     "input": [
      "p1,q1, blur_factor = (10, 159, 1080, 1750) , (0, 35, 2115, 2844), 16\n",
      "p2,q2 = (10, 138, 1080, 1750) , (0, 0, 2115, 2844)\n",
      "auto_sync(\"ls\",  p1,q1, blur_factor, p2,q2, threshold=0.8, SKIP=[4,35,36] )"
     ],
     "language": "python",
     "metadata": {},
     "outputs": []
    },
    {
     "cell_type": "code",
     "collapsed": false,
     "input": [
      "p1,q1, blur_factor = (211, 281, 958, 1723) , (0, 68, 2133, 2838) , 18\n",
      "p2,q2 = None, None \n",
      "auto_sync(\"fabric\",  p1,q1, blur_factor, p2,q2, threshold=0.8, SKIP=[19], M=40)"
     ],
     "language": "python",
     "metadata": {},
     "outputs": []
    },
    {
     "cell_type": "code",
     "collapsed": false,
     "input": [
      "p1,q1, blur_factor = (145, 160, 954, 1751) , (0, 27, 1125, 2000) , 12\n",
      "p2, q2 = None, None\n",
      "auto_sync(\"vote\",  p1,q1, blur_factor, p2,q2, threshold=0.75, M=2)"
     ],
     "language": "python",
     "metadata": {},
     "outputs": []
    },
    {
     "cell_type": "code",
     "collapsed": false,
     "input": [
      "p1,q1, blur_factor = (11, 144, 1080, 1752) , (0, 0, 1485, 2000) , 16\n",
      "p2, q2 = p1, q1\n",
      "auto_sync(\"mezz\",  p1,q1, blur_factor, p2,q2, threshold=0.9, M=20)"
     ],
     "language": "python",
     "metadata": {},
     "outputs": []
    },
    {
     "cell_type": "code",
     "collapsed": false,
     "input": [
      "p1,q1, blur_factor = (11, 135, 1080, 1753) , (0, 0, 2113, 2844) , 16\n",
      "p2, q2 = p1, q1\n",
      "auto_sync(\"summly\",  p1,q1, blur_factor, p2,q2, threshold=0.935, M=20)"
     ],
     "language": "python",
     "metadata": {},
     "outputs": []
    },
    {
     "cell_type": "code",
     "collapsed": false,
     "input": [
      "p1,q1, blur_factor = (19, 160, 1067, 1672) , (0, 80, 2070, 2844), 36\n",
      "p2, q2 = p1, q1\n",
      "auto_sync(\"StreetVoice\",  p1,q1, blur_factor, p2,q2, threshold=0.5, M=20)"
     ],
     "language": "python",
     "metadata": {},
     "outputs": []
    },
    {
     "cell_type": "code",
     "collapsed": false,
     "input": [
      "p1,q1, blur_factor = (19, 108, 1080, 1688) , (0, 0, 2084, 2844), 26\n",
      "p2, q2 = p1, q1\n",
      "auto_sync(\"grs\",  p1,q1, blur_factor, p2,q2, threshold=0.7, M=20)"
     ],
     "language": "python",
     "metadata": {},
     "outputs": []
    }
   ],
   "metadata": {}
  }
 ]
}