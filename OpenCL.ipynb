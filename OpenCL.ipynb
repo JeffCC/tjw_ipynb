{
 "metadata": {
  "name": "",
  "signature": "sha256:de3610d4d0cdd2d41d4fc835053e40586ba90c863f17fde51deeb089b0c9336d"
 },
 "nbformat": 3,
 "nbformat_minor": 0,
 "worksheets": [
  {
   "cells": [
    {
     "cell_type": "code",
     "collapsed": false,
     "input": [
      "%qtconsole --colors=linux"
     ],
     "language": "python",
     "metadata": {},
     "outputs": [],
     "prompt_number": 3
    },
    {
     "cell_type": "code",
     "collapsed": false,
     "input": [
      "from __future__ import division\n",
      "import numpy as np\n",
      "import pyopencl as cl\n",
      "import pyopencl.array"
     ],
     "language": "python",
     "metadata": {},
     "outputs": [],
     "prompt_number": 11
    },
    {
     "cell_type": "code",
     "collapsed": false,
     "input": [
      "%load_ext pyopencl.ipython_ext"
     ],
     "language": "python",
     "metadata": {},
     "outputs": [],
     "prompt_number": 8
    },
    {
     "cell_type": "code",
     "collapsed": false,
     "input": [
      "ctx = cl.create_some_context()\n",
      "queue = cl.CommandQueue(ctx)"
     ],
     "language": "python",
     "metadata": {},
     "outputs": [],
     "prompt_number": 2
    },
    {
     "cell_type": "code",
     "collapsed": false,
     "input": [
      "device=ctx.devices[0]\n",
      "print device.max_mem_alloc_size\n",
      "print device.max_work_group_size"
     ],
     "language": "python",
     "metadata": {},
     "outputs": [
      {
       "output_type": "stream",
       "stream": "stdout",
       "text": [
        "1073741824\n",
        "256\n"
       ]
      }
     ],
     "prompt_number": 48
    },
    {
     "cell_type": "code",
     "collapsed": false,
     "input": [
      "%%cl_kernel -o \"-cl-fast-relaxed-math\"\n",
      "\n",
      "__kernel void get_id(__global int *c, const int x)\n",
      "{\n",
      "  int gid = get_global_id(0);\n",
      "  c[gid] = gid+x;\n",
      "}"
     ],
     "language": "python",
     "metadata": {},
     "outputs": [],
     "prompt_number": 71
    },
    {
     "cell_type": "code",
     "collapsed": false,
     "input": [
      "c = cl.array.empty(queue, 100, dtype=np.int32)"
     ],
     "language": "python",
     "metadata": {},
     "outputs": [],
     "prompt_number": 60
    },
    {
     "cell_type": "code",
     "collapsed": false,
     "input": [],
     "language": "python",
     "metadata": {},
     "outputs": []
    },
    {
     "cell_type": "code",
     "collapsed": false,
     "input": [
      "get_id(queue, (100,), None, c.data, np.int32(33))"
     ],
     "language": "python",
     "metadata": {},
     "outputs": [
      {
       "metadata": {},
       "output_type": "pyout",
       "prompt_number": 81,
       "text": [
        "<pyopencl._cl.Event at 0x7fded83a61a0>"
       ]
      }
     ],
     "prompt_number": 81
    },
    {
     "cell_type": "code",
     "collapsed": false,
     "input": [
      "c.get()"
     ],
     "language": "python",
     "metadata": {},
     "outputs": [
      {
       "metadata": {},
       "output_type": "pyout",
       "prompt_number": 82,
       "text": [
        "array([ 33,  34,  35,  36,  37,  38,  39,  40,  41,  42,  43,  44,  45,\n",
        "        46,  47,  48,  49,  50,  51,  52,  53,  54,  55,  56,  57,  58,\n",
        "        59,  60,  61,  62,  63,  64,  65,  66,  67,  68,  69,  70,  71,\n",
        "        72,  73,  74,  75,  76,  77,  78,  79,  80,  81,  82,  83,  84,\n",
        "        85,  86,  87,  88,  89,  90,  91,  92,  93,  94,  95,  96,  97,\n",
        "        98,  99, 100, 101, 102, 103, 104, 105, 106, 107, 108, 109, 110,\n",
        "       111, 112, 113, 114, 115, 116, 117, 118, 119, 120, 121, 122, 123,\n",
        "       124, 125, 126, 127, 128, 129, 130, 131, 132], dtype=int32)"
       ]
      }
     ],
     "prompt_number": 82
    },
    {
     "cell_type": "code",
     "collapsed": false,
     "input": [
      "%%cl_kernel \n",
      "__kernel void ComputeHashes(__global uint4 * hashes,\n",
      "                            __constant char * charset,\n",
      "                            __constant char * base,\n",
      "\t\t\t\t\t\t\tconst uint charsetLength,\n",
      "                                                        const uint prefixLength,\n",
      "\t\t\t\t\t\t\tconst uint plainTextLength)\n",
      "{\n",
      "\tuint X[16];\n",
      "\tuint id = get_global_id(0);\n",
      "\tint counter = id;\n",
      "\t\n",
      "\tint oc, a = 0, carry = 0;    \n",
      "\tX[0] = 0; X[1] = 0; X[2] = 0; X[3] = 0; \n",
      "    X[4] = 0; X[5] = 0; X[6] = 0; X[7] = 0; \n",
      "    X[8] = 0; X[9] = 0; X[10] = 0; X[11] = 0; \n",
      "    X[12] = 0; X[13] = 0; X[14] = 0; X[15] = 0; \n",
      "        for (int i = 0; i < prefixLength; ++i)\n",
      "        {               \n",
      "                X[i >> 2] |= base[i] << ((i & 3) << 3);               \n",
      "        }\n",
      "\t\n",
      "\tfor (int i = prefixLength; i < plainTextLength; ++i)\n",
      "\t{\n",
      "\t\toc = counter / charsetLength;\n",
      "        a = base[i] + carry + counter - oc * charsetLength;\n",
      "\t\tif (a >= charsetLength) { a -= charsetLength; carry = 1; }\n",
      "\t\telse carry = 0;\n",
      "        X[i >> 2] |= charset[a] << ((i & 3) << 3);\n",
      "\t\tcounter = oc;\n",
      "\t}\n",
      "\tX[plainTextLength >> 2] |= ((uint)(0x00000080) << ((plainTextLength & 3) << 3));\n",
      "\t\n",
      "\tuint A, B, C, D;\n",
      "\t\n",
      "#define S(x,n) ((x << n) | ((x & 0xFFFFFFFF) >> (32 - n)))\n",
      "\n",
      "#define P(a,b,c,d,k,s,t)\t\t\t\t\t\t\t\t\t\t\\\n",
      "{\t\t\t\t\t\t\t\t\t\t\t\t\t\t\t\t\\\n",
      "\ta += F(b,c,d) + X[k] + t; a = S(a,s) + b;\t\t\t\t\t\\\n",
      "}\t\t\t\t\t\t\t\t\t\t\t\t\t\t\t\t\\\n",
      "\n",
      "#define P0(a,b,c,d,k,s,t)\t\t\t\t\t\t\t\t\t\t\\\n",
      "{\t\t\t\t\t\t\t\t\t\t\t\t\t\t\t\t\\\n",
      "\ta += F(b,c,d) + t; a = S(a,s) + b;\t\t\t\t\t\t\t\\\n",
      "}\t\t\t\t\t\t\t\t\t\t\t\t\t\t\t\t\\\n",
      "\n",
      "#define P14(a,b,c,d,k,s,t)\t\t\t\t\t\t\t\t\t\t\\\n",
      "{\t\t\t\t\t\t\t\t\t\t\t\t\t\t\t\t\\\n",
      "\ta += F(b,c,d) + (plainTextLength << 3) + t; a = S(a,s) + b;\t\\\n",
      "}\t\t\t\t\t\t\t\t\t\t\t\t\t\t\t\t\\\n",
      "\n",
      "    A = 0x67452301;\n",
      "    B = 0xefcdab89;\n",
      "    C = 0x98badcfe;\n",
      "    D = 0x10325476;\n",
      "\t\n",
      "#define F(x,y,z) (z ^ (x & (y ^ z)))\n",
      "\n",
      "    P( A, B, C, D,  0,  7, 0xD76AA478 );\n",
      "    P( D, A, B, C,  1, 12, 0xE8C7B756 );\n",
      "    P( C, D, A, B,  2, 17, 0x242070DB );\n",
      "    P( B, C, D, A,  3, 22, 0xC1BDCEEE );\n",
      "    P( A, B, C, D,  4,  7, 0xF57C0FAF );\n",
      "    P( D, A, B, C,  5, 12, 0x4787C62A );\n",
      "    P( C, D, A, B,  6, 17, 0xA8304613 );\n",
      "    P( B, C, D, A,  7, 22, 0xFD469501 );\n",
      "    P( A, B, C, D,  8,  7, 0x698098D8 );\n",
      "    P( D, A, B, C,  9, 12, 0x8B44F7AF );\n",
      "    P( C, D, A, B, 10, 17, 0xFFFF5BB1 );\n",
      "    P( B, C, D, A, 11, 22, 0x895CD7BE );\n",
      "    P( A, B, C, D, 12,  7, 0x6B901122 );\n",
      "    P( D, A, B, C, 13, 12, 0xFD987193 );\n",
      "    P14( C, D, A, B, 14, 17, 0xA679438E );\n",
      "    P( B, C, D, A, 15, 22, 0x49B40821 );\n",
      "\n",
      "#undef F\n",
      "\n",
      "#define F(x,y,z) (y ^ (z & (x ^ y)))\n",
      "\n",
      "    P( A, B, C, D,  1,  5, 0xF61E2562 );\n",
      "    P( D, A, B, C,  6,  9, 0xC040B340 );\n",
      "\tP( C, D, A, B, 11, 14, 0x265E5A51 );\n",
      "    P( B, C, D, A,  0, 20, 0xE9B6C7AA );\n",
      "    P( A, B, C, D,  5,  5, 0xD62F105D );\n",
      "    P( D, A, B, C, 10,  9, 0x02441453 );\n",
      "    P( C, D, A, B, 15, 14, 0xD8A1E681 );\n",
      "    P( B, C, D, A,  4, 20, 0xE7D3FBC8 );\n",
      "    P( A, B, C, D,  9,  5, 0x21E1CDE6 );\n",
      "    P14( D, A, B, C, 14,  9, 0xC33707D6 );\n",
      "    P( C, D, A, B,  3, 14, 0xF4D50D87 );\n",
      "    P( B, C, D, A,  8, 20, 0x455A14ED );\n",
      "    P( A, B, C, D, 13,  5, 0xA9E3E905 );\n",
      "    P( D, A, B, C,  2,  9, 0xFCEFA3F8 );\n",
      "    P( C, D, A, B,  7, 14, 0x676F02D9 );\n",
      "    P( B, C, D, A, 12, 20, 0x8D2A4C8A );\n",
      "\n",
      "#undef F\n",
      "    \n",
      "#define F(x,y,z) (x ^ y ^ z)\n",
      "\n",
      "    P( A, B, C, D,  5,  4, 0xFFFA3942 );\n",
      "    P( D, A, B, C,  8, 11, 0x8771F681 );\n",
      "    P( C, D, A, B, 11, 16, 0x6D9D6122 );\n",
      "    P14( B, C, D, A, 14, 23, 0xFDE5380C );\n",
      "    P( A, B, C, D,  1,  4, 0xA4BEEA44 );\n",
      "    P( D, A, B, C,  4, 11, 0x4BDECFA9 );\n",
      "    P( C, D, A, B,  7, 16, 0xF6BB4B60 );\n",
      "    P( B, C, D, A, 10, 23, 0xBEBFBC70 );\n",
      "    P( A, B, C, D, 13,  4, 0x289B7EC6 );\n",
      "    P( D, A, B, C,  0, 11, 0xEAA127FA );\n",
      "    P( C, D, A, B,  3, 16, 0xD4EF3085 );\n",
      "    P( B, C, D, A,  6, 23, 0x04881D05 );\n",
      "    P( A, B, C, D,  9,  4, 0xD9D4D039 );\n",
      "    P( D, A, B, C, 12, 11, 0xE6DB99E5 );\n",
      "    P( C, D, A, B, 15, 16, 0x1FA27CF8 );\n",
      "    P( B, C, D, A,  2, 23, 0xC4AC5665 );\n",
      "\n",
      "#undef F\n",
      "\n",
      "#define F(x,y,z) (y ^ (x | ~z))\n",
      "\n",
      "    P( A, B, C, D,  0,  6, 0xF4292244 );\n",
      "    P( D, A, B, C,  7, 10, 0x432AFF97 );\n",
      "    P14( C, D, A, B, 14, 15, 0xAB9423A7 );\n",
      "    P( B, C, D, A,  5, 21, 0xFC93A039 );\n",
      "    P( A, B, C, D, 12,  6, 0x655B59C3 );\n",
      "    P( D, A, B, C,  3, 10, 0x8F0CCC92 );\n",
      "    P( C, D, A, B, 10, 15, 0xFFEFF47D );\n",
      "    P( B, C, D, A,  1, 21, 0x85845DD1 );\n",
      "    P( A, B, C, D,  8,  6, 0x6FA87E4F );\n",
      "    P( D, A, B, C, 15, 10, 0xFE2CE6E0 );\n",
      "    P( C, D, A, B,  6, 15, 0xA3014314 );\n",
      "    P( B, C, D, A, 13, 21, 0x4E0811A1 );\n",
      "    P( A, B, C, D,  4,  6, 0xF7537E82 );\n",
      "    P( D, A, B, C, 11, 10, 0xBD3AF235 );\n",
      "    P( C, D, A, B,  2, 15, 0x2AD7D2BB );\n",
      "    P( B, C, D, A,  9, 21, 0xEB86D391 );\n",
      "\n",
      "#undef F\n",
      "\t\n",
      "\thashes[id].x = A + 0x67452301;\n",
      "\thashes[id].y = B + 0xefcdab89;\n",
      "\thashes[id].z = C + 0x98badcfe;\n",
      "\thashes[id].w = D + 0x10325476;\n",
      "}\n"
     ],
     "language": "python",
     "metadata": {},
     "outputs": [],
     "prompt_number": 185
    },
    {
     "cell_type": "code",
     "collapsed": false,
     "input": [
      "hashes = cl.array.empty(queue, 20, dtype=cl.array.vec.uint4)\n",
      "charset_host = np.array(map(ord, \"abc\"), dtype=np.uint8)\n",
      "charset = cl.array.to_device(queue, charset_host)\n",
      "prefixLength = np.uint32(17)\n",
      "base = cl.array.to_device(queue, np.array([ord('x')]*prefixLength+[0, 0, 0], dtype=np.uint8))\n",
      "charsetLength = np.uint32(charset.shape[0])\n",
      "plainTextLength = np.uint32(base.shape[0])\n",
      "\n",
      "ComputeHashes(queue, (20,), None, hashes.data, charset.data, base.data, charsetLength, prefixLength, plainTextLength)"
     ],
     "language": "python",
     "metadata": {},
     "outputs": [
      {
       "metadata": {},
       "output_type": "pyout",
       "prompt_number": 186,
       "text": [
        "<pyopencl._cl.Event at 0x7fded14da750>"
       ]
      }
     ],
     "prompt_number": 186
    },
    {
     "cell_type": "code",
     "collapsed": false,
     "input": [
      "from itertools import product\n",
      "def hd(n):\n",
      "    return \"\".join(\"%02x\"%((x>>i)&0xff) for x in n for i in range(0,32,8))\n",
      "h = ['x'*prefixLength+\"\".join(reversed(s)) for s in product(*[\"abc\"]*3)]\n",
      "a= map(hd, hashes.get()) \n",
      "b = map(lambda x:md5(x).hexdigest(), h)[:len(a)]\n",
      "a == b"
     ],
     "language": "python",
     "metadata": {},
     "outputs": [
      {
       "metadata": {},
       "output_type": "pyout",
       "prompt_number": 188,
       "text": [
        "True"
       ]
      }
     ],
     "prompt_number": 188
    },
    {
     "cell_type": "code",
     "collapsed": false,
     "input": [
      "from hashlib import md5"
     ],
     "language": "python",
     "metadata": {},
     "outputs": [],
     "prompt_number": 121
    },
    {
     "cell_type": "code",
     "collapsed": false,
     "input": [
      "md5('xxaaa').hexdigest()"
     ],
     "language": "python",
     "metadata": {},
     "outputs": [
      {
       "metadata": {},
       "output_type": "pyout",
       "prompt_number": 144,
       "text": [
        "'c98328ae4e6cabe2d0f7d4bfc53eec41'"
       ]
      }
     ],
     "prompt_number": 144
    },
    {
     "cell_type": "code",
     "collapsed": false,
     "input": [],
     "language": "python",
     "metadata": {},
     "outputs": []
    }
   ],
   "metadata": {}
  }
 ]
}