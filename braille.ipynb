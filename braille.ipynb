{
 "cells": [
  {
   "cell_type": "code",
   "execution_count": 1,
   "metadata": {
    "collapsed": false
   },
   "outputs": [],
   "source": [
    "import numpy as np\n",
    "from PIL import Image, ImageDraw, ImageFont"
   ]
  },
  {
   "cell_type": "code",
   "execution_count": 2,
   "metadata": {
    "collapsed": false
   },
   "outputs": [
    {
     "data": {
      "image/png": "[encoded data removed]",
      "text/plain": [
       "<PIL.Image.Image image mode=L size=20x20 at 0x7F518C0F4860>"
      ]
     },
     "execution_count": 2,
     "metadata": {},
     "output_type": "execute_result"
    }
   ],
   "source": [
    "img = Image.new('L', (20,20))\n",
    "fnt = ImageFont.truetype('uming.ttc', 18)\n",
    "ImageDraw.Draw(img).text((0,0), \"郭\", font=fnt, fill=255)\n",
    "img"
   ]
  },
  {
   "cell_type": "code",
   "execution_count": 3,
   "metadata": {
    "collapsed": true
   },
   "outputs": [],
   "source": [
    "def b(a):\n",
    "    a = a.T.flatten() >= 128\n",
    "    n = a @ 2**(np.array([1,2,3,7,4,5,6,8])-1)\n",
    "    return chr(0x2800 + n)"
   ]
  },
  {
   "cell_type": "code",
   "execution_count": 4,
   "metadata": {
    "collapsed": false
   },
   "outputs": [
    {
     "name": "stdout",
     "output_type": "stream",
     "text": [
      "⢀⣀⣀⣆⣠⢠⠤⢤⠄⢸⠀⠠⡤⠤⡄⣄⣰⣀⣀⡀\n",
      "⠀⢰⣒⣒⡆⢸⠀⠂⠀⢸⠀⠀⠐⠀⡇⢰⣒⣒⡆⠀\n",
      "⠀⠒⠒⡒⠒⢸⠀⠐⡄⢸⠀⢠⠂⠀⡇⠒⢒⠒⠒⠀\n",
      "⠀⠒⠒⡇⠁⢸⠐⠖⠃⢸⠀⠘⠲⠂⡇⠈⢸⠒⠒⠀\n",
      "⣀⣀⣙⣁⣀⣈⣀⣀⣀⣸⣀⣀⣀⣀⣁⣀⣈⣋⣀⣀\n",
      "⠀⠀⣠⡀⠀⢀⠀⠀⠀⢸⠀⠀⠀⠀⡀⠀⢀⣄⠀⠀\n",
      "⠀⠤⠤⡇⡀⢸⠠⠦⡄⢸⠀⢠⠴⠄⡇⢀⢸⠤⠤⠀\n",
      "⠀⠤⠤⠥⠤⢸⠀⠠⠃⢸⠀⠘⠄⠀⡇⠤⠬⠤⠤⠀\n",
      "⠀⠸⠭⠭⠇⢸⠀⠄⠀⢸⠀⠀⠠⠀⡇⠸⠭⠭⠇⠀\n",
      "⠈⠉⠉⠏⠙⠘⠒⠚⠂⢸⠀⠐⠓⠒⠃⠋⠹⠉⠉⠁\n"
     ]
    }
   ],
   "source": [
    "img = np.array(img)\n",
    "img = np.concatenate([img, img[:, ::-1]], axis=1)\n",
    "img = np.concatenate([img, img[::-1]])\n",
    "img[19]=255\n",
    "img[:,19]=255\n",
    "for i in range(0,img.shape[0],4):\n",
    "    print (\"\".join(b(img[i:i+4,j:j+2]) for j in range(0,img.shape[1],2)))"
   ]
  }
 ],
 "metadata": {
  "kernelspec": {
   "display_name": "Python 3",
   "language": "python",
   "name": "python3"
  },
  "language_info": {
   "codemirror_mode": {
    "name": "ipython",
    "version": 3
   },
   "file_extension": ".py",
   "mimetype": "text/x-python",
   "name": "python",
   "nbconvert_exporter": "python",
   "pygments_lexer": "ipython3",
   "version": "3.5.2+"
  }
 },
 "nbformat": 4,
 "nbformat_minor": 1
}
